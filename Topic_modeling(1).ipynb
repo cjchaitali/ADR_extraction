{
  "nbformat": 4,
  "nbformat_minor": 0,
  "metadata": {
    "colab": {
      "name": "Topic modeling(1).ipynb",
      "provenance": [],
      "collapsed_sections": [],
      "authorship_tag": "ABX9TyOzWRmN9HisLhYpJucrYBZy",
      "include_colab_link": true
    },
    "kernelspec": {
      "name": "python3",
      "display_name": "Python 3"
    }
  },
  "cells": [
    {
      "cell_type": "markdown",
      "metadata": {
        "id": "view-in-github",
        "colab_type": "text"
      },
      "source": [
        "<a href=\"https://colab.research.google.com/github/cjchaitali/ADR_extraction/blob/main/Topic_modeling(1).ipynb\" target=\"_parent\"><img src=\"https://colab.research.google.com/assets/colab-badge.svg\" alt=\"Open In Colab\"/></a>"
      ]
    },
    {
      "cell_type": "code",
      "metadata": {
        "colab": {
          "base_uri": "https://localhost:8080/"
        },
        "id": "UjqaVxo_cKZM",
        "outputId": "3601097b-2b9f-4351-9766-34a1e8083d17"
      },
      "source": [
        "import nltk; \n",
        "nltk.download('stopwords')"
      ],
      "execution_count": null,
      "outputs": [
        {
          "output_type": "stream",
          "text": [
            "[nltk_data] Downloading package stopwords to /root/nltk_data...\n",
            "[nltk_data]   Unzipping corpora/stopwords.zip.\n"
          ],
          "name": "stdout"
        },
        {
          "output_type": "execute_result",
          "data": {
            "text/plain": [
              "True"
            ]
          },
          "metadata": {
            "tags": []
          },
          "execution_count": 2
        }
      ]
    },
    {
      "cell_type": "code",
      "metadata": {
        "colab": {
          "base_uri": "https://localhost:8080/"
        },
        "id": "ltW06CnOk1RR",
        "outputId": "29898957-0c23-4a11-dd2c-fcf0d9a83d72"
      },
      "source": [
        "pip install pyLDAvis"
      ],
      "execution_count": null,
      "outputs": [
        {
          "output_type": "stream",
          "text": [
            "Requirement already satisfied: pyLDAvis in /usr/local/lib/python3.7/dist-packages (3.2.2)\n",
            "Requirement already satisfied: numpy>=1.9.2 in /usr/local/lib/python3.7/dist-packages (from pyLDAvis) (1.19.5)\n",
            "Requirement already satisfied: future in /usr/local/lib/python3.7/dist-packages (from pyLDAvis) (0.16.0)\n",
            "Requirement already satisfied: pandas>=0.17.0; python_version > \"3.5\" in /usr/local/lib/python3.7/dist-packages (from pyLDAvis) (1.1.5)\n",
            "Requirement already satisfied: funcy in /usr/local/lib/python3.7/dist-packages (from pyLDAvis) (1.15)\n",
            "Requirement already satisfied: wheel>=0.23.0 in /usr/local/lib/python3.7/dist-packages (from pyLDAvis) (0.36.2)\n",
            "Requirement already satisfied: jinja2>=2.7.2 in /usr/local/lib/python3.7/dist-packages (from pyLDAvis) (2.11.3)\n",
            "Requirement already satisfied: numexpr in /usr/local/lib/python3.7/dist-packages (from pyLDAvis) (2.7.3)\n",
            "Requirement already satisfied: scipy>=0.18.0 in /usr/local/lib/python3.7/dist-packages (from pyLDAvis) (1.4.1)\n",
            "Requirement already satisfied: joblib>=0.8.4 in /usr/local/lib/python3.7/dist-packages (from pyLDAvis) (1.0.1)\n",
            "Requirement already satisfied: pytz>=2017.2 in /usr/local/lib/python3.7/dist-packages (from pandas>=0.17.0; python_version > \"3.5\"->pyLDAvis) (2018.9)\n",
            "Requirement already satisfied: python-dateutil>=2.7.3 in /usr/local/lib/python3.7/dist-packages (from pandas>=0.17.0; python_version > \"3.5\"->pyLDAvis) (2.8.1)\n",
            "Requirement already satisfied: MarkupSafe>=0.23 in /usr/local/lib/python3.7/dist-packages (from jinja2>=2.7.2->pyLDAvis) (1.1.1)\n",
            "Requirement already satisfied: six>=1.5 in /usr/local/lib/python3.7/dist-packages (from python-dateutil>=2.7.3->pandas>=0.17.0; python_version > \"3.5\"->pyLDAvis) (1.15.0)\n"
          ],
          "name": "stdout"
        }
      ]
    },
    {
      "cell_type": "code",
      "metadata": {
        "colab": {
          "base_uri": "https://localhost:8080/"
        },
        "id": "7qWaR93AlIAa",
        "outputId": "b952f6da-e772-4f3a-9555-0993f7ec3cd8"
      },
      "source": [
        "pip install gensim"
      ],
      "execution_count": null,
      "outputs": [
        {
          "output_type": "stream",
          "text": [
            "Requirement already satisfied: gensim in /usr/local/lib/python3.7/dist-packages (3.6.0)\n",
            "Requirement already satisfied: numpy>=1.11.3 in /usr/local/lib/python3.7/dist-packages (from gensim) (1.19.5)\n",
            "Requirement already satisfied: six>=1.5.0 in /usr/local/lib/python3.7/dist-packages (from gensim) (1.15.0)\n",
            "Requirement already satisfied: smart-open>=1.2.1 in /usr/local/lib/python3.7/dist-packages (from gensim) (4.2.0)\n",
            "Requirement already satisfied: scipy>=0.18.1 in /usr/local/lib/python3.7/dist-packages (from gensim) (1.4.1)\n"
          ],
          "name": "stdout"
        }
      ]
    },
    {
      "cell_type": "code",
      "metadata": {
        "colab": {
          "base_uri": "https://localhost:8080/"
        },
        "id": "rQbXllMYlNpn",
        "outputId": "7f246459-8288-4ba7-c4f9-575c94ce66b9"
      },
      "source": [
        "pip install spacy==2.2.2"
      ],
      "execution_count": null,
      "outputs": [
        {
          "output_type": "stream",
          "text": [
            "Collecting spacy==2.2.2\n",
            "\u001b[?25l  Downloading https://files.pythonhosted.org/packages/b9/01/fcb8ae3e836fea5c11fdb4c074d27b52bdf74b47bd9bb28a811b7ab37d49/spacy-2.2.2-cp37-cp37m-manylinux1_x86_64.whl (10.3MB)\n",
            "\u001b[K     |████████████████████████████████| 10.3MB 11.4MB/s \n",
            "\u001b[?25hRequirement already satisfied: blis<0.5.0,>=0.4.0 in /usr/local/lib/python3.7/dist-packages (from spacy==2.2.2) (0.4.1)\n",
            "Requirement already satisfied: numpy>=1.15.0 in /usr/local/lib/python3.7/dist-packages (from spacy==2.2.2) (1.19.5)\n",
            "Requirement already satisfied: murmurhash<1.1.0,>=0.28.0 in /usr/local/lib/python3.7/dist-packages (from spacy==2.2.2) (1.0.5)\n",
            "Requirement already satisfied: requests<3.0.0,>=2.13.0 in /usr/local/lib/python3.7/dist-packages (from spacy==2.2.2) (2.23.0)\n",
            "Requirement already satisfied: srsly<1.1.0,>=0.1.0 in /usr/local/lib/python3.7/dist-packages (from spacy==2.2.2) (1.0.5)\n",
            "Requirement already satisfied: cymem<2.1.0,>=2.0.2 in /usr/local/lib/python3.7/dist-packages (from spacy==2.2.2) (2.0.5)\n",
            "Requirement already satisfied: plac<1.2.0,>=0.9.6 in /usr/local/lib/python3.7/dist-packages (from spacy==2.2.2) (0.9.6)\n",
            "Requirement already satisfied: importlib-metadata>=0.20; python_version < \"3.8\" in /usr/local/lib/python3.7/dist-packages (from spacy==2.2.2) (3.7.0)\n",
            "Collecting thinc<7.4.0,>=7.3.0\n",
            "\u001b[?25l  Downloading https://files.pythonhosted.org/packages/32/53/d11d2faa6921e55c37ad2cd56b0866a9e6df647fb547cfb69a50059d759c/thinc-7.3.1-cp37-cp37m-manylinux1_x86_64.whl (2.2MB)\n",
            "\u001b[K     |████████████████████████████████| 2.2MB 25.9MB/s \n",
            "\u001b[?25hRequirement already satisfied: preshed<3.1.0,>=3.0.2 in /usr/local/lib/python3.7/dist-packages (from spacy==2.2.2) (3.0.5)\n",
            "Requirement already satisfied: wasabi<1.1.0,>=0.3.0 in /usr/local/lib/python3.7/dist-packages (from spacy==2.2.2) (0.8.2)\n",
            "Requirement already satisfied: setuptools in /usr/local/lib/python3.7/dist-packages (from spacy==2.2.2) (54.0.0)\n",
            "Requirement already satisfied: certifi>=2017.4.17 in /usr/local/lib/python3.7/dist-packages (from requests<3.0.0,>=2.13.0->spacy==2.2.2) (2020.12.5)\n",
            "Requirement already satisfied: urllib3!=1.25.0,!=1.25.1,<1.26,>=1.21.1 in /usr/local/lib/python3.7/dist-packages (from requests<3.0.0,>=2.13.0->spacy==2.2.2) (1.24.3)\n",
            "Requirement already satisfied: idna<3,>=2.5 in /usr/local/lib/python3.7/dist-packages (from requests<3.0.0,>=2.13.0->spacy==2.2.2) (2.10)\n",
            "Requirement already satisfied: chardet<4,>=3.0.2 in /usr/local/lib/python3.7/dist-packages (from requests<3.0.0,>=2.13.0->spacy==2.2.2) (3.0.4)\n",
            "Requirement already satisfied: typing-extensions>=3.6.4; python_version < \"3.8\" in /usr/local/lib/python3.7/dist-packages (from importlib-metadata>=0.20; python_version < \"3.8\"->spacy==2.2.2) (3.7.4.3)\n",
            "Requirement already satisfied: zipp>=0.5 in /usr/local/lib/python3.7/dist-packages (from importlib-metadata>=0.20; python_version < \"3.8\"->spacy==2.2.2) (3.4.1)\n",
            "Requirement already satisfied: tqdm<5.0.0,>=4.10.0 in /usr/local/lib/python3.7/dist-packages (from thinc<7.4.0,>=7.3.0->spacy==2.2.2) (4.41.1)\n",
            "Installing collected packages: thinc, spacy\n",
            "  Found existing installation: thinc 7.1.1\n",
            "    Uninstalling thinc-7.1.1:\n",
            "      Successfully uninstalled thinc-7.1.1\n",
            "  Found existing installation: spacy 2.2.0\n",
            "    Uninstalling spacy-2.2.0:\n",
            "      Successfully uninstalled spacy-2.2.0\n",
            "Successfully installed spacy-2.2.2 thinc-7.3.1\n"
          ],
          "name": "stdout"
        }
      ]
    },
    {
      "cell_type": "code",
      "metadata": {
        "colab": {
          "base_uri": "https://localhost:8080/"
        },
        "id": "Zljfj-wQlPWH",
        "outputId": "f1e2be82-57ab-47ba-da62-ab4833650138"
      },
      "source": [
        "import re\n",
        "import numpy as np\n",
        "import pandas as pd\n",
        "from pprint import pprint\n",
        "\n",
        "# Gensim\n",
        "import gensim\n",
        "import gensim.corpora as corpora\n",
        "from gensim.utils import simple_preprocess\n",
        "from gensim.models import CoherenceModel\n",
        "\n",
        "# spacy for lemmatization\n",
        "import spacy\n",
        "\n",
        "# Plotting tools\n",
        "import pyLDAvis\n",
        "import pyLDAvis.gensim  # don't skip this\n",
        "import matplotlib.pyplot as plt\n",
        "%matplotlib inline\n",
        "\n",
        "# Enable logging for gensim - optional\n",
        "import logging\n",
        "logging.basicConfig(format='%(asctime)s : %(levelname)s : %(message)s', level=logging.ERROR)\n",
        "\n",
        "import warnings\n",
        "warnings.filterwarnings(\"ignore\",category=DeprecationWarning)"
      ],
      "execution_count": null,
      "outputs": [
        {
          "output_type": "stream",
          "text": [
            "/usr/local/lib/python3.7/dist-packages/past/types/oldstr.py:5: DeprecationWarning: Using or importing the ABCs from 'collections' instead of from 'collections.abc' is deprecated since Python 3.3,and in 3.9 it will stop working\n",
            "  from collections import Iterable\n"
          ],
          "name": "stderr"
        }
      ]
    },
    {
      "cell_type": "code",
      "metadata": {
        "id": "JlQNoDTYldF-"
      },
      "source": [
        "# NLTK Stop words\n",
        "from nltk.corpus import stopwords\n",
        "stop_words = stopwords.words('english')\n",
        "stop_words.extend(['from', 'subject', 're', 'edu', 'use'])"
      ],
      "execution_count": null,
      "outputs": []
    },
    {
      "cell_type": "code",
      "metadata": {
        "colab": {
          "base_uri": "https://localhost:8080/",
          "height": 196
        },
        "id": "wKxBU9M5mGeJ",
        "outputId": "2fc52359-609f-4d45-d439-16a79075ff4a"
      },
      "source": [
        "# Import Dataset\n",
        "df = pd.read_csv('Mirena_IUD.csv', encoding='cp1252',error_bad_lines=False)\n",
        "df.head()"
      ],
      "execution_count": null,
      "outputs": [
        {
          "output_type": "execute_result",
          "data": {
            "text/html": [
              "<div>\n",
              "<style scoped>\n",
              "    .dataframe tbody tr th:only-of-type {\n",
              "        vertical-align: middle;\n",
              "    }\n",
              "\n",
              "    .dataframe tbody tr th {\n",
              "        vertical-align: top;\n",
              "    }\n",
              "\n",
              "    .dataframe thead th {\n",
              "        text-align: right;\n",
              "    }\n",
              "</style>\n",
              "<table border=\"1\" class=\"dataframe\">\n",
              "  <thead>\n",
              "    <tr style=\"text-align: right;\">\n",
              "      <th></th>\n",
              "      <th>Title</th>\n",
              "      <th>Time</th>\n",
              "      <th>reporttype</th>\n",
              "      <th>Reviews</th>\n",
              "      <th>Unnamed: 4</th>\n",
              "    </tr>\n",
              "  </thead>\n",
              "  <tbody>\n",
              "    <tr>\n",
              "      <th>0</th>\n",
              "      <td>Rated  for Birth Control Report</td>\n",
              "      <td>Posted 6 months ago (8/19/2020)</td>\n",
              "      <td>Report</td>\n",
              "      <td>I got the Mirena in Feb 2020. The insertion wa...</td>\n",
              "      <td>NaN</td>\n",
              "    </tr>\n",
              "    <tr>\n",
              "      <th>1</th>\n",
              "      <td>Rated  for Birth Control Report</td>\n",
              "      <td>Posted 6 months ago (8/19/2020)</td>\n",
              "      <td>Report</td>\n",
              "      <td>This is 2nd time I have had the Mirena. Total ...</td>\n",
              "      <td>NaN</td>\n",
              "    </tr>\n",
              "    <tr>\n",
              "      <th>2</th>\n",
              "      <td>Rated  for Birth Control Report</td>\n",
              "      <td>Posted 6 months ago (8/19/2020)</td>\n",
              "      <td>Report</td>\n",
              "      <td>The biggest joke known to mankind. Doctor gave...</td>\n",
              "      <td>NaN</td>\n",
              "    </tr>\n",
              "    <tr>\n",
              "      <th>3</th>\n",
              "      <td>Rated  for Birth Control Report</td>\n",
              "      <td>Posted 6 months ago (8/14/2020)</td>\n",
              "      <td>Report</td>\n",
              "      <td>I’ve had mirena for exactly one month now and ...</td>\n",
              "      <td>NaN</td>\n",
              "    </tr>\n",
              "    <tr>\n",
              "      <th>4</th>\n",
              "      <td>Rated  for Endometriosis Report</td>\n",
              "      <td>Posted 7 months ago (8/6/2020)</td>\n",
              "      <td>Report</td>\n",
              "      <td>I have a history of gushing, painful periods w...</td>\n",
              "      <td>NaN</td>\n",
              "    </tr>\n",
              "  </tbody>\n",
              "</table>\n",
              "</div>"
            ],
            "text/plain": [
              "                             Title  ... Unnamed: 4\n",
              "0  Rated  for Birth Control Report  ...        NaN\n",
              "1  Rated  for Birth Control Report  ...        NaN\n",
              "2  Rated  for Birth Control Report  ...        NaN\n",
              "3  Rated  for Birth Control Report  ...        NaN\n",
              "4  Rated  for Endometriosis Report  ...        NaN\n",
              "\n",
              "[5 rows x 5 columns]"
            ]
          },
          "metadata": {
            "tags": []
          },
          "execution_count": 9
        }
      ]
    },
    {
      "cell_type": "code",
      "metadata": {
        "colab": {
          "base_uri": "https://localhost:8080/",
          "height": 196
        },
        "id": "bawqCiRRme7D",
        "outputId": "24522bb3-8ecf-48f7-99ca-7863f2da8b51"
      },
      "source": [
        "df.drop(columns = ['Title','Time','reporttype','Unnamed: 4'],inplace = True)\n",
        "df.head()"
      ],
      "execution_count": null,
      "outputs": [
        {
          "output_type": "execute_result",
          "data": {
            "text/html": [
              "<div>\n",
              "<style scoped>\n",
              "    .dataframe tbody tr th:only-of-type {\n",
              "        vertical-align: middle;\n",
              "    }\n",
              "\n",
              "    .dataframe tbody tr th {\n",
              "        vertical-align: top;\n",
              "    }\n",
              "\n",
              "    .dataframe thead th {\n",
              "        text-align: right;\n",
              "    }\n",
              "</style>\n",
              "<table border=\"1\" class=\"dataframe\">\n",
              "  <thead>\n",
              "    <tr style=\"text-align: right;\">\n",
              "      <th></th>\n",
              "      <th>Reviews</th>\n",
              "    </tr>\n",
              "  </thead>\n",
              "  <tbody>\n",
              "    <tr>\n",
              "      <th>0</th>\n",
              "      <td>I got the Mirena in Feb 2020. The insertion wa...</td>\n",
              "    </tr>\n",
              "    <tr>\n",
              "      <th>1</th>\n",
              "      <td>This is 2nd time I have had the Mirena. Total ...</td>\n",
              "    </tr>\n",
              "    <tr>\n",
              "      <th>2</th>\n",
              "      <td>The biggest joke known to mankind. Doctor gave...</td>\n",
              "    </tr>\n",
              "    <tr>\n",
              "      <th>3</th>\n",
              "      <td>I’ve had mirena for exactly one month now and ...</td>\n",
              "    </tr>\n",
              "    <tr>\n",
              "      <th>4</th>\n",
              "      <td>I have a history of gushing, painful periods w...</td>\n",
              "    </tr>\n",
              "  </tbody>\n",
              "</table>\n",
              "</div>"
            ],
            "text/plain": [
              "                                             Reviews\n",
              "0  I got the Mirena in Feb 2020. The insertion wa...\n",
              "1  This is 2nd time I have had the Mirena. Total ...\n",
              "2  The biggest joke known to mankind. Doctor gave...\n",
              "3  I’ve had mirena for exactly one month now and ...\n",
              "4  I have a history of gushing, painful periods w..."
            ]
          },
          "metadata": {
            "tags": []
          },
          "execution_count": 10
        }
      ]
    },
    {
      "cell_type": "code",
      "metadata": {
        "colab": {
          "base_uri": "https://localhost:8080/"
        },
        "id": "FLbRWeZTnFBN",
        "outputId": "b079870e-5a7a-45b8-f1a4-e4d0d46c212e"
      },
      "source": [
        "# Convert to list\n",
        "data = df.Reviews.values.tolist()\n",
        "\n",
        "# Remove Emails\n",
        "data = [re.sub('\\S*@\\S*\\s?', '', sent) for sent in data]\n",
        "\n",
        "# Remove new line characters\n",
        "data = [re.sub('\\s+', ' ', sent) for sent in data]\n",
        "\n",
        "# Remove distracting single quotes\n",
        "data = [re.sub(\"\\'\",\" \", sent) for sent in data]\n",
        "\n",
        "pprint(data[:2])"
      ],
      "execution_count": null,
      "outputs": [
        {
          "output_type": "stream",
          "text": [
            "['I got the Mirena in Feb 2020. The insertion wasn t pleasant by any means. It '\n",
            " 'was like instant contractions and my hands were gripping the table. I was '\n",
            " 'pretty uncomfortable for the rest of that evening and the next day but I was '\n",
            " 'able to manage any discomfort with ibuprofen. For the next couple of months '\n",
            " 'I just went about my life...my job changed, covid hit so I thought I was '\n",
            " 'feeling out of control because of those things. Until I really started '\n",
            " 'paying attention.....I noticed my emotions were all over the map. I couldn t '\n",
            " 'keep myself under control, I was crying all of the time. Some days my '\n",
            " 'boyfriend was looking at me like....what is wrong????? Then I noticed the '\n",
            " 'severe change in my appetite, I was hungry ALL OF THE TIME. All I wanted was '\n",
            " 'salt and sugar ALL DAY LONG. My skin was a mess, broken out all of the time '\n",
            " 'on my face, chest and back. I was having no period, just like they said I '\n",
            " 'would. BUT I was having PMS everyday. 24 hours a day, 7 days a week with no '\n",
            " 'period to show for it. Which I think messed me up mentally. Its like my body '\n",
            " 'wanted to have a period so bad but it just couldn t. The weight gain '\n",
            " 'happened slowly, at first it was 2lb, then 5lb.....which I was able to deal '\n",
            " 'with.',\n",
            " 'This is 2nd time I have had the Mirena. Total of 6 years total. I have never '\n",
            " 'had any issues surf it. I got it for birth control. Only down side is I get '\n",
            " 'random periods.']\n"
          ],
          "name": "stdout"
        }
      ]
    },
    {
      "cell_type": "code",
      "metadata": {
        "colab": {
          "base_uri": "https://localhost:8080/"
        },
        "id": "AaxV7BMyn5YS",
        "outputId": "2f6ac17f-8d72-46e6-de49-465a8d0d82d3"
      },
      "source": [
        "def sent_to_words(sentences):\n",
        "    for sentence in sentences:\n",
        "        yield(gensim.utils.simple_preprocess(str(sentence).encode('utf-8'), deacc=True))  # deacc=True removes punctuations\n",
        "\n",
        "data_words = list(sent_to_words(data))\n",
        "print(data_words[:1])\n"
      ],
      "execution_count": null,
      "outputs": [
        {
          "output_type": "stream",
          "text": [
            "[['got', 'the', 'mirena', 'in', 'feb', 'the', 'insertion', 'wasn', 'pleasant', 'by', 'any', 'means', 'it', 'was', 'like', 'instant', 'contractions', 'and', 'my', 'hands', 'were', 'gripping', 'the', 'table', 'was', 'pretty', 'uncomfortable', 'for', 'the', 'rest', 'of', 'that', 'evening', 'and', 'the', 'next', 'day', 'but', 'was', 'able', 'to', 'manage', 'any', 'discomfort', 'with', 'ibuprofen', 'for', 'the', 'next', 'couple', 'of', 'months', 'just', 'went', 'about', 'my', 'life', 'my', 'job', 'changed', 'covid', 'hit', 'so', 'thought', 'was', 'feeling', 'out', 'of', 'control', 'because', 'of', 'those', 'things', 'until', 'really', 'started', 'paying', 'attention', 'noticed', 'my', 'emotions', 'were', 'all', 'over', 'the', 'map', 'couldn', 'keep', 'myself', 'under', 'control', 'was', 'crying', 'all', 'of', 'the', 'time', 'some', 'days', 'my', 'boyfriend', 'was', 'looking', 'at', 'me', 'like', 'what', 'is', 'wrong', 'then', 'noticed', 'the', 'severe', 'change', 'in', 'my', 'appetite', 'was', 'hungry', 'all', 'of', 'the', 'time', 'all', 'wanted', 'was', 'salt', 'and', 'sugar', 'all', 'day', 'long', 'my', 'skin', 'was', 'mess', 'broken', 'out', 'all', 'of', 'the', 'time', 'on', 'my', 'face', 'chest', 'and', 'back', 'was', 'having', 'no', 'period', 'just', 'like', 'they', 'said', 'would', 'but', 'was', 'having', 'pms', 'everyday', 'hours', 'day', 'days', 'week', 'with', 'no', 'period', 'to', 'show', 'for', 'it', 'which', 'think', 'messed', 'me', 'up', 'mentally', 'its', 'like', 'my', 'body', 'wanted', 'to', 'have', 'period', 'so', 'bad', 'but', 'it', 'just', 'couldn', 'the', 'weight', 'gain', 'happened', 'slowly', 'at', 'first', 'it', 'was', 'lb', 'then', 'lb', 'which', 'was', 'able', 'to', 'deal', 'with']]\n"
          ],
          "name": "stdout"
        }
      ]
    },
    {
      "cell_type": "code",
      "metadata": {
        "colab": {
          "base_uri": "https://localhost:8080/"
        },
        "id": "OZ68vtMKoXzs",
        "outputId": "6318605c-7308-4727-d88b-bdd750796f6a"
      },
      "source": [
        "# Build the bigram and trigram models\n",
        "bigram = gensim.models.Phrases(data_words, min_count=5, threshold=100) # higher threshold fewer phrases.\n",
        "trigram = gensim.models.Phrases(bigram[data_words], threshold=100)  \n",
        "\n",
        "# Faster way to get a sentence clubbed as a trigram/bigram\n",
        "bigram_mod = gensim.models.phrases.Phraser(bigram)\n",
        "trigram_mod = gensim.models.phrases.Phraser(trigram)\n",
        "\n",
        "# See trigram example\n",
        "print(bigram_mod[bigram_mod[data_words[801]]])"
      ],
      "execution_count": null,
      "outputs": [
        {
          "output_type": "stream",
          "text": [
            "/usr/local/lib/python3.7/dist-packages/gensim/models/phrases.py:598: UserWarning: For a faster implementation, use the gensim.models.phrases.Phraser class\n",
            "  warnings.warn(\"For a faster implementation, use the gensim.models.phrases.Phraser class\")\n"
          ],
          "name": "stderr"
        },
        {
          "output_type": "stream",
          "text": [
            "['chills', 'itching', 'mood_swings', 'abnormal', 'bleeding', 'cramps', 'nauseous', 'breasts', 'are', 'very', 'tender', 'and', 'back', 'pain']\n"
          ],
          "name": "stdout"
        }
      ]
    },
    {
      "cell_type": "code",
      "metadata": {
        "id": "UERR8XMAopc5"
      },
      "source": [
        "# Define functions for stopwords, bigrams, trigrams and lemmatization\n",
        "def remove_stopwords(texts):\n",
        "    return [[word for word in simple_preprocess(str(doc)) if word not in stop_words] for doc in texts]\n",
        "\n",
        "def make_bigrams(texts):\n",
        "    return [bigram_mod[doc] for doc in texts]\n",
        "\n",
        "def make_trigrams(texts):\n",
        "    return [trigram_mod[bigram_mod[doc]] for doc in texts]\n",
        "\n",
        "def lemmatization(texts, allowed_postags=['NOUN', 'ADJ', 'VERB', 'ADV']):\n",
        "    \"\"\"https://spacy.io/api/annotation\"\"\"\n",
        "    texts_out = []\n",
        "    for sent in texts:\n",
        "        doc = nlp(\" \".join(sent)) \n",
        "        texts_out.append([token.lemma_ for token in doc if token.pos_ in allowed_postags])\n",
        "    return texts_out"
      ],
      "execution_count": null,
      "outputs": []
    },
    {
      "cell_type": "code",
      "metadata": {
        "id": "SY9a2lHxpHhZ"
      },
      "source": [
        "# Remove Stop Words\n",
        "data_words_nostops = remove_stopwords(data_words)\n",
        "\n",
        "# Form Bigrams\n",
        "data_words_bigrams = make_bigrams(data_words_nostops)\n"
      ],
      "execution_count": null,
      "outputs": []
    },
    {
      "cell_type": "code",
      "metadata": {
        "id": "MUb1YBbrpWKc"
      },
      "source": [
        "# Initialize spacy 'en' model, keeping only tagger component (for efficiency)\n",
        "# python3 -m spacy download en\n",
        "nlp = spacy.load('en_core_web_sm', disable=['parser', 'ner'])"
      ],
      "execution_count": null,
      "outputs": []
    },
    {
      "cell_type": "code",
      "metadata": {
        "colab": {
          "base_uri": "https://localhost:8080/"
        },
        "id": "oMFsH6BCpZ7O",
        "outputId": "3d733e0b-6209-4a1b-f2a0-874ba1c361cb"
      },
      "source": [
        "# Do lemmatization keeping only noun, adj, vb, adv\n",
        "data_lemmatized = lemmatization(data_words_bigrams, allowed_postags=['NOUN', 'ADJ', 'VERB', 'ADV'])\n",
        "print(data_lemmatized[:1])"
      ],
      "execution_count": null,
      "outputs": [
        {
          "output_type": "stream",
          "text": [
            "[['get', 'pleasant', 'mean', 'instant', 'contraction', 'hand', 'grip', 'table', 'pretty', 'uncomfortable', 'rest', 'evening', 'next', 'day', 'able', 'manage', 'discomfort', 'ibuprofen', 'next', 'couple', 'month', 'go', 'life', 'job', 'change', 'hit', 'think', 'feel', 'control', 'thing', 'really', 'start', 'pay', 'attention', 'notice', 'emotion', 'map', 'keep', 'control', 'cry', 'time', 'day', 'boyfriend', 'look', 'wrong', 'notice', 'severe', 'change', 'appetite', 'hungry', 'time', 'want', 'salt', 'sugar', 'day', 'long', 'skin', 'mess', 'break', 'time', 'face', 'chest', 'back', 'period', 'say', 'would', 'pms', 'everyday', 'hour', 'day', 'day', 'week', 'period', 'show', 'think', 'mess', 'mentally', 'body', 'want', 'period', 'bad', 'happen', 'slowly', 'first']]\n"
          ],
          "name": "stdout"
        }
      ]
    },
    {
      "cell_type": "code",
      "metadata": {
        "colab": {
          "base_uri": "https://localhost:8080/"
        },
        "id": "u6kQx1nAprY-",
        "outputId": "f49f073d-5857-47e0-b478-48c715fae5ff"
      },
      "source": [
        "# Create Dictionary\n",
        "id2word = corpora.Dictionary(data_lemmatized)\n",
        "\n",
        "# Create Corpus\n",
        "texts = data_lemmatized\n",
        "\n",
        "# Term Document Frequency\n",
        "corpus = [id2word.doc2bow(text) for text in texts]\n",
        "\n",
        "# View\n",
        "print(corpus[:1]) #term documnet matrix considering dictionary of words\n",
        "#word 0 appeared 1 time in 1st document"
      ],
      "execution_count": null,
      "outputs": [
        {
          "output_type": "stream",
          "text": [
            "[[(0, 1), (1, 1), (2, 1), (3, 1), (4, 1), (5, 1), (6, 1), (7, 1), (8, 2), (9, 1), (10, 1), (11, 2), (12, 1), (13, 1), (14, 5), (15, 1), (16, 1), (17, 1), (18, 1), (19, 1), (20, 1), (21, 1), (22, 1), (23, 1), (24, 1), (25, 1), (26, 1), (27, 1), (28, 1), (29, 1), (30, 1), (31, 1), (32, 1), (33, 1), (34, 1), (35, 1), (36, 1), (37, 1), (38, 1), (39, 1), (40, 1), (41, 2), (42, 1), (43, 2), (44, 2), (45, 1), (46, 3), (47, 1), (48, 1), (49, 1), (50, 1), (51, 1), (52, 1), (53, 1), (54, 1), (55, 1), (56, 1), (57, 1), (58, 1), (59, 1), (60, 1), (61, 1), (62, 2), (63, 3), (64, 1), (65, 2), (66, 1), (67, 1), (68, 1)]]\n"
          ],
          "name": "stdout"
        }
      ]
    },
    {
      "cell_type": "code",
      "metadata": {
        "colab": {
          "base_uri": "https://localhost:8080/",
          "height": 35
        },
        "id": "5_qtAS1YsUo0",
        "outputId": "2e1c1c03-d9fc-45d8-a4e5-4db286ec0426"
      },
      "source": [
        "id2word[2]"
      ],
      "execution_count": null,
      "outputs": [
        {
          "output_type": "execute_result",
          "data": {
            "application/vnd.google.colaboratory.intrinsic+json": {
              "type": "string"
            },
            "text/plain": [
              "'attention'"
            ]
          },
          "metadata": {
            "tags": []
          },
          "execution_count": 19
        }
      ]
    },
    {
      "cell_type": "code",
      "metadata": {
        "colab": {
          "base_uri": "https://localhost:8080/"
        },
        "id": "EmRjSui7tsLi",
        "outputId": "7c00af7d-00fa-40d0-f9a5-5a1d2840a5be"
      },
      "source": [
        "corpus[:1][0][:10] #here word id 8 appeared 2 times in 1st document"
      ],
      "execution_count": null,
      "outputs": [
        {
          "output_type": "execute_result",
          "data": {
            "text/plain": [
              "[(0, 1),\n",
              " (1, 1),\n",
              " (2, 1),\n",
              " (3, 1),\n",
              " (4, 1),\n",
              " (5, 1),\n",
              " (6, 1),\n",
              " (7, 1),\n",
              " (8, 2),\n",
              " (9, 1)]"
            ]
          },
          "metadata": {
            "tags": []
          },
          "execution_count": 20
        }
      ]
    },
    {
      "cell_type": "code",
      "metadata": {
        "colab": {
          "base_uri": "https://localhost:8080/"
        },
        "id": "7hAPH5zRtyNy",
        "outputId": "8fdbfc25-15ff-4357-8fb0-c134bfa13166"
      },
      "source": [
        "# Human readable format of corpus (term-frequency)\n",
        "[[(id2word[id], freq) for id, freq in cp] for cp in corpus[:1]]"
      ],
      "execution_count": null,
      "outputs": [
        {
          "output_type": "execute_result",
          "data": {
            "text/plain": [
              "[[('able', 1),\n",
              "  ('appetite', 1),\n",
              "  ('attention', 1),\n",
              "  ('back', 1),\n",
              "  ('bad', 1),\n",
              "  ('body', 1),\n",
              "  ('boyfriend', 1),\n",
              "  ('break', 1),\n",
              "  ('change', 2),\n",
              "  ('chest', 1),\n",
              "  ('contraction', 1),\n",
              "  ('control', 2),\n",
              "  ('couple', 1),\n",
              "  ('cry', 1),\n",
              "  ('day', 5),\n",
              "  ('discomfort', 1),\n",
              "  ('emotion', 1),\n",
              "  ('evening', 1),\n",
              "  ('everyday', 1),\n",
              "  ('face', 1),\n",
              "  ('feel', 1),\n",
              "  ('first', 1),\n",
              "  ('get', 1),\n",
              "  ('go', 1),\n",
              "  ('grip', 1),\n",
              "  ('hand', 1),\n",
              "  ('happen', 1),\n",
              "  ('hit', 1),\n",
              "  ('hour', 1),\n",
              "  ('hungry', 1),\n",
              "  ('ibuprofen', 1),\n",
              "  ('instant', 1),\n",
              "  ('job', 1),\n",
              "  ('keep', 1),\n",
              "  ('life', 1),\n",
              "  ('long', 1),\n",
              "  ('look', 1),\n",
              "  ('manage', 1),\n",
              "  ('map', 1),\n",
              "  ('mean', 1),\n",
              "  ('mentally', 1),\n",
              "  ('mess', 2),\n",
              "  ('month', 1),\n",
              "  ('next', 2),\n",
              "  ('notice', 2),\n",
              "  ('pay', 1),\n",
              "  ('period', 3),\n",
              "  ('pleasant', 1),\n",
              "  ('pms', 1),\n",
              "  ('pretty', 1),\n",
              "  ('really', 1),\n",
              "  ('rest', 1),\n",
              "  ('salt', 1),\n",
              "  ('say', 1),\n",
              "  ('severe', 1),\n",
              "  ('show', 1),\n",
              "  ('skin', 1),\n",
              "  ('slowly', 1),\n",
              "  ('start', 1),\n",
              "  ('sugar', 1),\n",
              "  ('table', 1),\n",
              "  ('thing', 1),\n",
              "  ('think', 2),\n",
              "  ('time', 3),\n",
              "  ('uncomfortable', 1),\n",
              "  ('want', 2),\n",
              "  ('week', 1),\n",
              "  ('would', 1),\n",
              "  ('wrong', 1)]]"
            ]
          },
          "metadata": {
            "tags": []
          },
          "execution_count": 21
        }
      ]
    },
    {
      "cell_type": "code",
      "metadata": {
        "id": "hdV2oYwvt9xm"
      },
      "source": [
        "# Build LDA model\n",
        "lda_model = gensim.models.ldamodel.LdaModel(corpus=corpus,\n",
        "                                           id2word=id2word,\n",
        "                                           num_topics=20, \n",
        "                                           random_state=100,\n",
        "                                           update_every=1,\n",
        "                                           chunksize=100,\n",
        "                                           passes=10,\n",
        "                                           alpha='auto',\n",
        "                                           per_word_topics=True)"
      ],
      "execution_count": null,
      "outputs": []
    },
    {
      "cell_type": "code",
      "metadata": {
        "colab": {
          "base_uri": "https://localhost:8080/"
        },
        "id": "NcN48he5vlFS",
        "outputId": "8058525a-df35-4cfb-817c-864e271fa84e"
      },
      "source": [
        "# Print the Keyword in the 10 topics\n",
        "pprint(lda_model.print_topics())\n",
        "doc_lda = lda_model[corpus]"
      ],
      "execution_count": null,
      "outputs": [
        {
          "output_type": "stream",
          "text": [
            "[(0,\n",
            "  '0.059*\"need\" + 0.048*\"bleeding\" + 0.036*\"yesterday\" + 0.033*\"bloat\" + '\n",
            "  '0.025*\"actually\" + 0.021*\"pelvic\" + 0.020*\"literally\" + 0.019*\"ultrasound\" '\n",
            "  '+ 0.019*\"warn\" + 0.018*\"discharge\"'),\n",
            " (1,\n",
            "  '0.086*\"feel\" + 0.054*\"pain\" + 0.035*\"get\" + 0.030*\"ever\" + 0.026*\"doctor\" + '\n",
            "  '0.025*\"bad\" + 0.025*\"even\" + 0.025*\"go\" + 0.024*\"tell\" + 0.023*\"thing\"'),\n",
            " (2,\n",
            "  '0.057*\"get\" + 0.037*\"bad\" + 0.034*\"week\" + 0.033*\"say\" + 0.033*\"would\" + '\n",
            "  '0.026*\"try\" + 0.026*\"doctor\" + 0.022*\"never\" + 0.022*\"also\" + '\n",
            "  '0.021*\"still\"'),\n",
            " (3,\n",
            "  '0.022*\"choice\" + 0.021*\"product\" + 0.019*\"case\" + 0.016*\"fun\" + 0.015*\"son\" '\n",
            "  '+ 0.014*\"convince\" + 0.013*\"fear\" + 0.013*\"sick\" + 0.013*\"mirror\" + '\n",
            "  '0.012*\"obviously\"'),\n",
            " (4,\n",
            "  '0.079*\"maybe\" + 0.068*\"regular\" + 0.040*\"other\" + 0.036*\"research\" + '\n",
            "  '0.026*\"close\" + 0.026*\"fatigue\" + 0.023*\"wish\" + 0.021*\"suggest\" + '\n",
            "  '0.020*\"size\" + 0.019*\"turn\"'),\n",
            " (5,\n",
            "  '0.059*\"headache\" + 0.048*\"level\" + 0.042*\"thought\" + 0.035*\"inserted\" + '\n",
            "  '0.028*\"concern\" + 0.026*\"forget\" + 0.026*\"risk\" + 0.023*\"girl\" + '\n",
            "  '0.022*\"bipolar\" + 0.019*\"age\"'),\n",
            " (6,\n",
            "  '0.081*\"cramp\" + 0.079*\"insertion\" + 0.054*\"painful\" + 0.036*\"pain\" + '\n",
            "  '0.032*\"take\" + 0.025*\"procedure\" + 0.023*\"extremely\" + 0.021*\"experience\" + '\n",
            "  '0.020*\"hour\" + 0.018*\"insert\"'),\n",
            " (7,\n",
            "  '0.040*\"test\" + 0.035*\"depress\" + 0.033*\"slow\" + 0.032*\"drug\" + '\n",
            "  '0.023*\"assume\" + 0.022*\"dose\" + 0.018*\"luckily\" + 0.018*\"blame\" + '\n",
            "  '0.017*\"contraceptive\" + 0.016*\"chemistry\"'),\n",
            " (8,\n",
            "  '0.061*\"completely\" + 0.037*\"slight\" + 0.031*\"suffer\" + 0.029*\"early\" + '\n",
            "  '0.025*\"share\" + 0.025*\"plan\" + 0.022*\"positive\" + 0.021*\"vaginal\" + '\n",
            "  '0.020*\"often\" + 0.017*\"fact\"'),\n",
            " (9,\n",
            "  '0.067*\"consider\" + 0.041*\"scream\" + 0.030*\"increase\" + 0.024*\"type\" + '\n",
            "  '0.023*\"course\" + 0.022*\"removed\" + 0.021*\"implant\" + 0.019*\"episode\" + '\n",
            "  '0.017*\"sexually\" + 0.017*\"arm\"'),\n",
            " (10,\n",
            "  '0.040*\"body\" + 0.027*\"anxiety\" + 0.027*\"cause\" + 0.026*\"begin\" + '\n",
            "  '0.026*\"decision\" + 0.025*\"pregnant\" + 0.025*\"make\" + 0.024*\"let\" + '\n",
            "  '0.024*\"get\" + 0.023*\"hope\"'),\n",
            " (11,\n",
            "  '0.117*\"lose\" + 0.117*\"weight\" + 0.083*\"gain\" + 0.040*\"believe\" + '\n",
            "  '0.020*\"hair\" + 0.020*\"wonder\" + 0.019*\"health\" + 0.018*\"diet\" + '\n",
            "  '0.018*\"actually\" + 0.017*\"surgery\"'),\n",
            " (12,\n",
            "  '0.047*\"lay\" + 0.033*\"nauseous\" + 0.026*\"area\" + 0.025*\"hair\" + 0.023*\"sort\" '\n",
            "  '+ 0.023*\"receive\" + 0.021*\"position\" + 0.016*\"sexual\" + 0.016*\"suffice\" + '\n",
            "  '0.014*\"necessary\"'),\n",
            " (13,\n",
            "  '0.037*\"little\" + 0.027*\"cramping\" + 0.026*\"far\" + 0.025*\"cramp\" + '\n",
            "  '0.025*\"today\" + 0.023*\"place\" + 0.020*\"review\" + 0.020*\"read\" + '\n",
            "  '0.019*\"cervix\" + 0.019*\"mild\"'),\n",
            " (14,\n",
            "  '0.062*\"period\" + 0.058*\"month\" + 0.050*\"year\" + 0.045*\"day\" + 0.031*\"go\" + '\n",
            "  '0.026*\"bleed\" + 0.025*\"time\" + 0.024*\"remove\" + 0.022*\"get\" + '\n",
            "  '0.021*\"first\"'),\n",
            " (15,\n",
            "  '0.049*\"nausea\" + 0.045*\"extreme\" + 0.033*\"bed\" + 0.030*\"belly\" + '\n",
            "  '0.030*\"cold\" + 0.028*\"move\" + 0.024*\"dizzy\" + 0.019*\"felt\" + '\n",
            "  '0.019*\"certainly\" + 0.014*\"dosage\"'),\n",
            " (16,\n",
            "  '0.052*\"cyst\" + 0.040*\"improve\" + 0.030*\"properly\" + 0.026*\"exactly\" + '\n",
            "  '0.021*\"higher\" + 0.017*\"forget\" + 0.016*\"initially\" + 0.013*\"fiance\" + '\n",
            "  '0.012*\"ovarian_cyst\" + 0.012*\"overnight\"'),\n",
            " (17,\n",
            "  '0.062*\"tampon\" + 0.044*\"pad\" + 0.033*\"wear\" + 0.022*\"state\" + 0.021*\"sign\" '\n",
            "  '+ 0.019*\"addition\" + 0.018*\"hospital\" + 0.018*\"abdoman\" + 0.018*\"bleeding\" '\n",
            "  '+ 0.016*\"numb\"'),\n",
            " (18,\n",
            "  '0.077*\"husband\" + 0.074*\"friend\" + 0.047*\"past\" + 0.022*\"aware\" + '\n",
            "  '0.018*\"low\" + 0.017*\"stupid\" + 0.017*\"exhaust\" + 0.017*\"carefree\" + '\n",
            "  '0.015*\"quit\" + 0.015*\"stre\"'),\n",
            " (19,\n",
            "  '0.072*\"night\" + 0.058*\"morning\" + 0.054*\"walk\" + 0.039*\"honestly\" + '\n",
            "  '0.026*\"smell\" + 0.026*\"pressure\" + 0.024*\"ultimately\" + 0.023*\"nice\" + '\n",
            "  '0.021*\"weird\" + 0.016*\"normally\"')]\n"
          ],
          "name": "stdout"
        }
      ]
    },
    {
      "cell_type": "code",
      "metadata": {
        "colab": {
          "base_uri": "https://localhost:8080/"
        },
        "id": "Bl-ohiNLvuXK",
        "outputId": "0dc2e932-0af3-4bba-8a7e-f7bd10b80dd3"
      },
      "source": [
        "# Perplexity Score\n",
        "print('\\nPerplexity Score: ', lda_model.log_perplexity(corpus)) \n",
        "\n",
        "# Coherence Score\n",
        "coherence_model_lda = CoherenceModel(model=lda_model, texts=data_lemmatized, dictionary=id2word, coherence='c_v')\n",
        "coherence_lda = coherence_model_lda.get_coherence()\n",
        "print('\\nCoherence Score: ', coherence_lda)"
      ],
      "execution_count": null,
      "outputs": [
        {
          "output_type": "stream",
          "text": [
            "\n",
            "Perplexity:  -6.775518041984831\n",
            "\n",
            "Coherence Score:  0.4867293255905139\n"
          ],
          "name": "stdout"
        }
      ]
    },
    {
      "cell_type": "code",
      "metadata": {
        "colab": {
          "base_uri": "https://localhost:8080/",
          "height": 880
        },
        "id": "UrJLpuIYB8Pu",
        "outputId": "e5e08901-2c61-489b-d677-52a374f73019"
      },
      "source": [
        "# Visualize the topics\n",
        "pyLDAvis.enable_notebook()\n",
        "vis = pyLDAvis.gensim.prepare(lda_model, corpus, id2word)\n",
        "vis"
      ],
      "execution_count": null,
      "outputs": [
        {
          "output_type": "execute_result",
          "data": {
            "text/html": [
              "\n",
              "<link rel=\"stylesheet\" type=\"text/css\" href=\"https://cdn.jsdelivr.net/gh/bmabey/pyLDAvis@3.2.2/pyLDAvis/js/ldavis.v1.0.0.css\">\n",
              "\n",
              "\n",
              "<div id=\"ldavis_el601407024967998246880523603\"></div>\n",
              "<script type=\"text/javascript\">\n",
              "\n",
              "var ldavis_el601407024967998246880523603_data = {\"mdsDat\": {\"x\": [0.33357373582320027, 0.3015545395036449, 0.26503731090751487, 0.29827012734291075, 0.24792785950485974, 0.144741593543895, -0.10938342162694739, -0.04286668542560206, -0.05380463559447671, -0.09466887674629161, -0.11338210852008758, -0.12232118200219741, -0.12226817002545884, -0.13484320152192195, -0.12112326263538825, -0.12670405734063597, -0.1282563893335401, -0.13120589095771293, -0.1395429920948918, -0.1507342928008725], \"y\": [-0.009017725874032413, -0.07041613495122022, 0.1957725734791507, -0.0748202601212473, 0.19490324804329792, -0.2964182028612567, 0.04194053898887516, -0.07160578059426972, 0.022279194041762526, 0.018960211582158635, -0.007895873222952255, 0.024362647386052903, 0.005036928322652284, -0.0012553063934148414, 0.020622672902877455, -0.012005276515284507, -0.006218588547010157, 0.015514802643577439, 0.00524247234664958, 0.005017859343632542], \"topics\": [1, 2, 3, 4, 5, 6, 7, 8, 9, 10, 11, 12, 13, 14, 15, 16, 17, 18, 19, 20], \"cluster\": [1, 1, 1, 1, 1, 1, 1, 1, 1, 1, 1, 1, 1, 1, 1, 1, 1, 1, 1, 1], \"Freq\": [27.000237651297066, 14.534797045088862, 12.392956574860962, 10.838119266355056, 9.31245230155139, 6.102279959352621, 2.8359591971259963, 2.73432706012174, 2.2128967703789097, 1.9481827579206523, 1.453568779850627, 1.1680321381909855, 1.12877991210707, 1.0816372369501104, 1.0377490882448797, 1.0159894161613092, 0.9416383891430905, 0.9201734015803641, 0.8205165869537161, 0.5197064667645912]}, \"tinfo\": {\"Term\": [\"feel\", \"insertion\", \"cramp\", \"year\", \"period\", \"pain\", \"month\", \"painful\", \"get\", \"lose\", \"weight\", \"week\", \"body\", \"would\", \"ever\", \"doctor\", \"bleed\", \"little\", \"bad\", \"gain\", \"day\", \"procedure\", \"say\", \"bleeding\", \"tell\", \"completely\", \"even\", \"extremely\", \"far\", \"remove\", \"normal\", \"removal\", \"issue\", \"birth\", \"however\", \"control\", \"later\", \"cycle\", \"able\", \"constant\", \"become\", \"call\", \"everyday\", \"new\", \"copper\", \"year\", \"ibuprofen\", \"one\", \"well\", \"change\", \"replace\", \"mean\", \"medication\", \"major\", \"finger\", \"irregular\", \"clot\", \"cross\", \"strong\", \"ache\", \"give\", \"back\", \"problem\", \"half\", \"decide\", \"heavy\", \"month\", \"period\", \"discomfort\", \"stop\", \"time\", \"almost\", \"away\", \"remove\", \"day\", \"mirena\", \"bleed\", \"next\", \"first\", \"side_effect\", \"go\", \"recommend\", \"light\", \"week\", \"spot\", \"think\", \"would\", \"come\", \"get\", \"pill\", \"start\", \"iud\", \"take\", \"ever\", \"string\", \"awful\", \"straight\", \"eat\", \"follow\", \"partner\", \"office\", \"stay\", \"reason\", \"nervous\", \"can\", \"constantly\", \"emotional\", \"lie\", \"pound\", \"talk\", \"boyfriend\", \"job\", \"find\", \"effect\", \"entire\", \"relationship\", \"feeling\", \"infection\", \"due\", \"nurse\", \"live\", \"miserable\", \"must\", \"even\", \"feel\", \"always\", \"cry\", \"deal\", \"thing\", \"tell\", \"hurt\", \"sex\", \"option\", \"keep\", \"pain\", \"much\", \"woman\", \"doctor\", \"want\", \"bad\", \"work\", \"get\", \"go\", \"could\", \"great\", \"never\", \"ago\", \"take\", \"would\", \"make\", \"painful\", \"day\", \"insert\", \"procedure\", \"pass\", \"quite\", \"overall\", \"afterwards\", \"post\", \"drive\", \"experienced\", \"write\", \"extremely\", \"horror_storie\", \"point\", \"result\", \"home\", \"quickly\", \"total\", \"third\", \"part\", \"switch\", \"highly_recommend\", \"noticeable\", \"beforehand\", \"mostly\", \"tolerable\", \"med\", \"vaginally\", \"like\", \"explain\", \"apparently\", \"ahead\", \"insertion\", \"device\", \"pretty\", \"rest\", \"minute\", \"several\", \"hour\", \"process\", \"low\", \"painful\", \"cramp\", \"less\", \"love\", \"appointment\", \"lot\", \"help\", \"pain\", \"take\", \"experience\", \"use\", \"really\", \"insert\", \"review\", \"pill\", \"child\", \"good\", \"people\", \"day\", \"week\", \"bad\", \"way\", \"worry\", \"terrible\", \"be\", \"already\", \"uterus\", \"scare\", \"have\", \"sometimes\", \"suck\", \"chance\", \"random\", \"least\", \"incredibly\", \"breastfeed\", \"glad\", \"react\", \"short\", \"minimal\", \"fairly\", \"inconvenient\", \"stand\", \"handle\", \"instantly\", \"daughter\", \"difference\", \"bearable\", \"drop\", \"hopeful\", \"decrease\", \"continue\", \"right\", \"adjust\", \"unbearable\", \"different\", \"end\", \"try\", \"usually\", \"may\", \"say\", \"know\", \"also\", \"bad\", \"get\", \"week\", \"still\", \"would\", \"never\", \"doctor\", \"horrible\", \"body\", \"put\", \"start\", \"cramp\", \"bleed\", \"period\", \"make\", \"month\", \"far\", \"cervix\", \"enough\", \"quick\", \"today\", \"totally\", \"barely\", \"pinch\", \"menstrual\", \"flow\", \"relief\", \"mild\", \"moderate\", \"easy\", \"scared\", \"twice\", \"negative\", \"tylenol\", \"form\", \"method\", \"complaint\", \"hold\", \"personally\", \"measure\", \"guess\", \"fast\", \"online\", \"snip\", \"highly\", \"breath\", \"super\", \"many\", \"place\", \"little\", \"cramping\", \"do\", \"old\", \"side\", \"small\", \"bit\", \"check\", \"read\", \"uncomfortable\", \"review\", \"sure\", \"second\", \"last\", \"cramp\", \"put\", \"child\", \"insert\", \"spot\", \"take\", \"good\", \"ago\", \"light\", \"get\", \"bad\", \"anxiety\", \"decision\", \"let\", \"hope\", \"begin\", \"breast\", \"tolerance\", \"hormone\", \"listen\", \"depressed\", \"push\", \"bring\", \"actual\", \"panty_liner\", \"sad\", \"lady\", \"extra\", \"libido\", \"possibly\", \"lasted\", \"kind\", \"sleep\", \"idea\", \"story\", \"high\", \"multiple\", \"yeast_infection\", \"complete\", \"sensitive\", \"active\", \"notice\", \"cause\", \"hormonal\", \"seem\", \"definitely\", \"migraine\", \"pregnant\", \"body\", \"soon\", \"painless\", \"make\", \"really\", \"depression\", \"also\", \"get\", \"iud\", \"use\", \"could\", \"good\", \"choice\", \"product\", \"case\", \"son\", \"fun\", \"convince\", \"fear\", \"sick\", \"mirror\", \"obviously\", \"prescribe\", \"diagnose\", \"annoying\", \"outburst\", \"recognize\", \"liner\", \"touch\", \"save\", \"white\", \"burn\", \"scale\", \"ill\", \"feminine\", \"emotionally\", \"ride\", \"excruciating\", \"abortion\", \"endo\", \"ovary\", \"water\", \"free\", \"completely\", \"early\", \"plan\", \"share\", \"vaginal\", \"positive\", \"fact\", \"clear\", \"agree\", \"likely\", \"trust\", \"especially\", \"swell\", \"afterward\", \"visit\", \"heavily\", \"numerous\", \"swear\", \"contraception\", \"update\", \"family\", \"together\", \"unfortunately\", \"badly\", \"endometriosis\", \"admit\", \"stick\", \"culture\", \"miss\", \"double\", \"dizziness\", \"suffer\", \"face\", \"often\", \"slight\", \"suggest\", \"full\", \"sweat\", \"experience\", \"nearly\", \"bleeding\", \"yesterday\", \"pelvic\", \"literally\", \"warn\", \"section\", \"usual\", \"open\", \"thank\", \"basically\", \"uterine\", \"purpose\", \"labor\", \"horribly\", \"need\", \"ultrasound\", \"kill\", \"torture\", \"relieve\", \"intermittent\", \"withdrawal\", \"negative_reviews\", \"tender\", \"clouded\", \"puberty\", \"slur\", \"speach\", \"tall\", \"truthfully\", \"unbeatable\", \"abnormal\", \"bloat\", \"actually\", \"bleeding\", \"discharge\", \"yet\", \"ask\", \"blood\", \"treat\", \"hate\", \"bleed\", \"lose\", \"weight\", \"gain\", \"believe\", \"wonder\", \"health\", \"care\", \"diet\", \"appt\", \"fibroid\", \"patch\", \"reccomend\", \"unstable\", \"insist\", \"imagine\", \"prepare\", \"shocking\", \"easily\", \"irritable\", \"altogether\", \"thinning\", \"surgery\", \"okay\", \"rate\", \"exam\", \"forward\", \"injection\", \"guarantee\", \"whenever\", \"provider\", \"hair\", \"fit\", \"actually\", \"bloated\", \"regular\", \"maybe\", \"other\", \"research\", \"close\", \"fatigue\", \"size\", \"speak\", \"fully\", \"schedule\", \"hubby\", \"favor\", \"sound\", \"comfortable\", \"book\", \"occur\", \"poison\", \"certain\", \"pmdd\", \"prevent\", \"mom\", \"world\", \"gyn\", \"system\", \"nuvaring\", \"site\", \"wipe\", \"sense\", \"expierence\", \"premenopausal\", \"turn\", \"stomach\", \"wish\", \"suggest\", \"many\", \"tampon\", \"pad\", \"state\", \"sign\", \"addition\", \"hospital\", \"abdoman\", \"numb\", \"similar\", \"caution\", \"eliminate\", \"emergency\", \"desire\", \"relax\", \"iron\", \"severely\", \"soak\", \"progesterone\", \"balance\", \"wear\", \"instal\", \"aside\", \"regret\", \"serve\", \"anemia\", \"relaxed\", \"fever\", \"gush\", \"sheet\", \"hysterectomy\", \"blood\", \"bleeding\", \"leave\", \"sweat\", \"side\", \"cause\", \"night\", \"morning\", \"walk\", \"honestly\", \"smell\", \"pressure\", \"ultimately\", \"nice\", \"weird\", \"normally\", \"goodness\", \"unable\", \"simple\", \"bet\", \"reluctant\", \"unpleasant\", \"important\", \"negative_review\", \"somewhat\", \"bladder\", \"luck\", \"preppe\", \"pmt\", \"accord\", \"cell\", \"beautiful\", \"pinche\", \"bvs\", \"accompany\", \"optimistic\", \"freak\", \"small\", \"soon\", \"test\", \"depress\", \"slow\", \"drug\", \"assume\", \"dose\", \"luckily\", \"blame\", \"contraceptive\", \"chemistry\", \"vision\", \"apprehensive\", \"oral\", \"tiny\", \"coil\", \"boy\", \"mistake\", \"spend\", \"treatment\", \"terrify\", \"confirm\", \"flooding\", \"apart\", \"insane\", \"sharing\", \"miscarriage\", \"sever\", \"lack\", \"around\", \"every_single\", \"happen\", \"husband\", \"friend\", \"past\", \"aware\", \"stupid\", \"exhaust\", \"carefree\", \"quit\", \"stre\", \"momma\", \"ugh\", \"relieved\", \"bacteria\", \"collect\", \"regulate\", \"postpartum\", \"convenient\", \"fail\", \"moment\", \"joke\", \"insurance\", \"track\", \"source\", \"possibility\", \"mid\", \"dislodge\", \"toilet\", \"maintenance\", \"particular\", \"big_deal\", \"sore\", \"large\", \"low\", \"wish\", \"need\", \"suffer\", \"headache\", \"level\", \"thought\", \"inserted\", \"concern\", \"risk\", \"girl\", \"bipolar\", \"blur\", \"regularly\", \"unpredictable\", \"suicidal\", \"reduce\", \"manageable\", \"discomforte\", \"hype\", \"naproxen\", \"reputation\", \"surround\", \"medicate\", \"psychiatrist\", \"rail\", \"upped\", \"irritated\", \"nowhere\", \"shot\", \"thyroid\", \"man\", \"situation\", \"endure\", \"forget\", \"age\", \"wish\", \"suffer\", \"consider\", \"scream\", \"increase\", \"type\", \"course\", \"removed\", \"implant\", \"episode\", \"sexually\", \"arm\", \"seriously\", \"blood_clot\", \"comparison\", \"itching\", \"send\", \"haemorrhage\", \"merina\", \"panadol\", \"resistant\", \"undiagnosed\", \"valium\", \"info\", \"park\", \"though\", \"word\", \"pattern\", \"antibiotic\", \"assure\", \"whack\", \"solution\", \"pull\", \"energy\", \"condom\", \"nausea\", \"extreme\", \"bed\", \"belly\", \"cold\", \"move\", \"felt\", \"certainly\", \"dosage\", \"bueno\", \"clotty\", \"foot\", \"faint\", \"discuss\", \"reassure\", \"occasionally\", \"mainly\", \"upset\", \"indeed\", \"absolute\", \"killer\", \"prep\", \"pm\", \"mentally\", \"hang\", \"respond\", \"numbness\", \"murder\", \"spell\", \"twist\", \"dizzy\", \"contraction\", \"lay\", \"nauseous\", \"area\", \"sort\", \"receive\", \"position\", \"sexual\", \"suffice\", \"necessary\", \"food\", \"burning\", \"milky\", \"outter\", \"purchase\", \"lower\", \"mad\", \"hip\", \"non\", \"therefore\", \"main\", \"couch\", \"doc\", \"weak\", \"shed\", \"abuse\", \"depo_shot\", \"adapt\", \"chunk\", \"significant\", \"function\", \"hair\", \"patience\", \"stomach\", \"cyst\", \"improve\", \"properly\", \"exactly\", \"higher\", \"initially\", \"fiance\", \"ovarian_cyst\", \"overnight\", \"pantyliner\", \"final\", \"tend\", \"worsen\", \"unprotected\", \"blood_pressure\", \"ideal\", \"college\", \"student\", \"commit\", \"biopsy\", \"release\", \"primary\", \"rd\", \"resolve\", \"fob\", \"cystic_acne\", \"brand\", \"asymptomatic\", \"danger\", \"freeze\", \"condition\", \"forget\", \"wear\", \"probably\"], \"Freq\": [718.0, 539.0, 760.0, 709.0, 1002.0, 678.0, 920.0, 472.0, 1009.0, 116.0, 116.0, 497.0, 223.0, 529.0, 222.0, 403.0, 466.0, 200.0, 527.0, 83.0, 795.0, 161.0, 317.0, 116.0, 236.0, 85.0, 191.0, 146.0, 124.0, 395.0, 133.84336251102476, 107.66929773306335, 92.00315558727235, 86.89031118393441, 86.97889977133897, 83.56408216941581, 84.84542539995586, 66.5171872491477, 63.349895830223815, 61.729847706705655, 76.1069402078776, 43.99814676157476, 42.59559858528745, 42.01882305554724, 33.788126597632164, 693.1105590001516, 31.37183322491363, 30.650621588312443, 224.74479507175968, 87.41118803130315, 24.31173946675961, 23.470026374493056, 23.070575112942727, 22.979429978626893, 22.94591507158866, 22.80977055464755, 21.982925085725544, 21.42960775253457, 20.740774246952903, 19.144779088871402, 180.01088402193494, 198.7331853398025, 102.91172861181451, 54.611097265290894, 104.58773617366575, 228.04454727774126, 790.495739877555, 855.3046229747277, 67.67746623195684, 193.75592905670456, 340.44187394397795, 131.29651097215185, 85.16975990917004, 323.7067914094662, 614.4462980419096, 132.3706635828431, 359.3630455126347, 96.28176947466939, 294.81847003459677, 156.88681968015126, 431.94546843336315, 159.6069600122897, 156.25154255473655, 254.9430917235025, 190.62409353790852, 156.75999960447754, 255.36830671046138, 121.35463564597264, 299.79518910708674, 154.73646794216688, 127.57078912621444, 119.36552383476011, 120.5996117178895, 221.96308825545947, 59.391635413715576, 57.56421525529181, 51.551425548890386, 44.875099042796336, 43.94941332484022, 43.92411937116655, 42.618070703737885, 38.861600127948364, 34.87055025156498, 34.04616773040318, 35.89510857814423, 33.03043319629236, 28.973519888885285, 28.575468041362473, 27.93389604695609, 27.322925019914408, 29.437066792170715, 27.56755717810009, 91.02258000836706, 26.054893023704143, 40.501768599927175, 24.711196060318162, 27.95925197029985, 21.943306974863184, 94.75718906165382, 20.741195215207522, 20.66073276273927, 19.9120720142841, 18.508245535737164, 183.12306045822012, 633.4605777231834, 71.02043679999184, 60.437545734399116, 36.30201176021108, 169.79203486089224, 179.68546514813946, 106.88906711521186, 113.6506811011423, 58.06870001118833, 92.36767301070972, 402.7436951844068, 136.026303986947, 71.8491985111731, 192.19179837595513, 123.2703431569848, 185.94072495979245, 107.74601814076361, 256.91933911799475, 181.95626796775437, 83.43201151672622, 64.3914310225278, 87.11318205784166, 71.7863612657053, 90.42570191713091, 84.98488193735028, 70.65878180536656, 75.143898647553, 65.14646259734381, 63.43554197592337, 160.55753028682722, 48.53610074508145, 43.56057173417101, 43.057863620152816, 55.078591979786445, 31.784347591342918, 31.236806561349134, 28.612550146836558, 27.881409328811, 142.05696757663046, 26.490587949848194, 65.11667394104373, 25.060214504503204, 67.75760950363286, 22.11056793069132, 21.675308800293188, 21.633744492445587, 43.47888735305055, 31.133408759193422, 23.06277497576224, 16.624039666420515, 15.580668249255316, 15.324033342652815, 14.54558210056004, 14.081830159390146, 13.739110652912036, 13.729962366220624, 13.6267876572106, 13.276333276536478, 12.859241560331556, 500.86416697684075, 76.87950075338583, 63.45485309878841, 41.96545867791355, 106.14436058104343, 40.25129900950457, 128.6827800690651, 44.9197843369127, 61.456901336443195, 337.9136221918823, 511.5824540684389, 80.07077188116214, 108.34256779600797, 42.184321860145204, 86.05811637086695, 71.10314367078254, 227.34950459282382, 199.77040115360532, 135.18215268249298, 70.60841700759508, 66.12800800831319, 115.79952664121043, 61.7130298803137, 73.70334125079398, 68.09921207666446, 55.29512736116897, 47.3579135528877, 56.85292808880955, 53.986897413090034, 52.84641002708201, 77.80710508386548, 81.43179575947904, 74.04981585817804, 73.88648336089044, 66.99425450483243, 47.33940236840358, 45.16811523028166, 42.79227226340217, 39.843992843176814, 31.5659715394842, 30.87941233109432, 30.78443539782779, 29.039847477558553, 27.690529129657726, 23.365165042364836, 23.150404783255233, 21.681934628974627, 23.909909623960395, 19.195584741051334, 17.95261196033251, 17.808208360453904, 17.311152483370215, 16.076958079906436, 15.613250794643676, 15.302102952084287, 15.202818337275438, 15.145365469029231, 14.897085902471428, 14.618721878229206, 14.547958325360273, 66.96518920660706, 90.09799872806786, 22.375212074906973, 28.808221027904825, 93.79557085718947, 61.19483157272399, 142.26544954224346, 28.77920450557297, 61.15763353604448, 184.2647695377564, 90.20990603068577, 119.2940984968987, 201.43589669947826, 312.456381693166, 187.68125902836084, 116.49629270814124, 184.15286223513849, 119.67698412662101, 142.0955245978756, 66.49138531138844, 93.46499352252457, 76.34740175465461, 79.43957776218133, 110.9752928447777, 81.88357862235559, 88.03120495675084, 63.624230470673744, 69.74414696325266, 124.11772471850752, 92.30506153370693, 54.427118097600285, 45.37731455833181, 119.10564162158917, 38.29882790478485, 35.030101171684116, 34.159912992702786, 32.6231387520132, 31.63754427670965, 34.037761427761424, 91.89131055054682, 28.125407753749318, 56.37272884843383, 25.589217633842665, 25.24322373421515, 31.951115447941895, 24.87485442423036, 24.858152274464462, 24.016120849545697, 23.858348178348454, 22.964895660542386, 22.918918427351628, 19.12506878242858, 17.922440105726317, 17.20445059735343, 17.063085604581126, 17.038845209064437, 16.21391076814402, 15.553844985715736, 32.833680246354874, 78.85390184133725, 106.95019994499931, 176.26278918367188, 129.46415961964075, 75.28625912493936, 77.18357216429983, 48.98503184643424, 43.29340153724973, 81.4283622066795, 35.41681373014397, 96.36375451171135, 91.14412536675113, 97.09646096979871, 56.97150488794145, 72.72875677959186, 70.33174241795636, 119.77647159985179, 66.28553855405319, 68.92064016363264, 84.099082716737, 72.53950986446836, 87.96541422131502, 61.29441475812211, 57.69822927654056, 57.33578027426466, 59.34468802584863, 52.530246213806805, 83.73138903526042, 80.39788400456675, 74.3759817408927, 72.47297762458098, 80.7418617102726, 47.577869414763065, 45.72055168941676, 61.81763004361933, 33.5033591562654, 27.56004650438494, 25.47611514488461, 25.01095749594416, 23.07197288955707, 21.87146641382383, 21.347661418850038, 21.06537074787027, 19.24816592818305, 18.55667939005884, 18.515590835389958, 17.604591942497102, 17.497095657300655, 29.448110904896275, 16.108750007171622, 15.773587832296505, 44.88849219655508, 15.149197037927511, 15.086930395419305, 15.186049107784962, 14.82585250202143, 14.691778092392177, 63.150652781378035, 83.02112811937585, 41.87678078119339, 42.42038639214526, 58.69428125504183, 37.363995061001816, 76.93502092382747, 124.90653508322177, 42.752954063357286, 24.598395278364436, 76.65815630674811, 53.4964049180125, 29.52440810286833, 49.73558585671096, 73.12143298245235, 40.36053549561266, 37.67779847229506, 28.963891242413307, 29.230025165790842, 32.08925644235171, 30.239081855118524, 28.110653322591038, 21.40194634870559, 23.637306960462855, 19.728913535660947, 18.871049405202637, 18.251190229390524, 18.134379621897605, 17.78490434941522, 17.42803999690465, 17.363209552206406, 17.069087893418843, 16.61585515918061, 16.381644161261615, 15.687962702091497, 15.589260714544029, 13.56866438554066, 13.500545128495324, 13.06744159172298, 12.939821431883367, 12.05371355061912, 12.046602568693809, 12.026474714697018, 11.863318453798193, 11.312658684184631, 11.237519129377965, 11.119461782563926, 10.839270554833144, 10.765669943875984, 17.677781497573807, 84.59538576663144, 40.718499534636884, 34.18876463389721, 34.691609122235086, 29.081004516850474, 30.030670762664265, 23.501371090538914, 23.086849513797652, 16.596634925626724, 16.412256022589656, 15.789243100383686, 15.144501130542817, 14.71548877252635, 14.198873702644114, 13.724078144111669, 13.446136746903726, 13.343676677281042, 13.019091984914525, 15.027137071525967, 12.82657197520769, 12.660056875206859, 11.844922902857187, 10.991860570221526, 10.736325027050226, 10.2265026323273, 9.577510706880464, 9.334440707072172, 8.8291979277241, 8.194878128808442, 7.683806394804213, 16.251929977110407, 42.758755424678256, 20.30967126965968, 27.12977360361097, 50.93256123474306, 18.588518263961525, 12.59137495015498, 11.852887845564013, 20.523845198252513, 14.640940328443863, 15.77820046961841, 40.52393940433085, 23.97674098853131, 22.13539864941378, 21.205063129346712, 17.375919354733007, 17.25553272407646, 17.021530483474194, 16.089918124387808, 15.657696584961156, 15.179213218011858, 12.992084422243506, 12.750510253696618, 11.101609988579598, 66.51842359853059, 21.839610189632783, 10.031643001471194, 9.29484503715767, 9.200493133138897, 8.704901905454138, 8.644882609236872, 8.494873942316842, 7.843593267214769, 7.7102411644802675, 7.710240640326319, 7.710240640326319, 7.710240640326319, 7.710240640326319, 7.710240640326319, 7.710240640326319, 7.572167482974816, 37.62332596358448, 28.219614151257378, 54.49032328325245, 19.981660556800907, 13.47727276650608, 16.766621838469383, 13.046161385143026, 8.007779774296367, 9.999273350208009, 11.04874696622554, 116.11153787138839, 115.53806632696751, 82.57593020983622, 39.33993604808995, 19.943639141066257, 19.062982076647312, 16.169033591240385, 17.84314050065651, 12.062347136157362, 10.08881357621021, 9.871602147367252, 9.180495177704685, 9.101607031599897, 9.012118388921026, 8.090091146944193, 7.957187167347501, 7.94940522523426, 7.84866082282898, 7.700476752554173, 7.254296997266197, 7.2151551758791355, 17.338916427848606, 6.804277492196183, 6.745429785135272, 6.186693816941978, 5.871773884481868, 5.602626851929174, 5.08208580372254, 4.744275037505942, 4.726803506890934, 19.99875876995278, 12.32513165579157, 17.643300005691092, 16.79124933094743, 50.38020965607959, 58.59983608246286, 29.76142757035665, 26.79164246480931, 19.14220086358182, 19.011909221965784, 14.649569276362358, 13.355484767964477, 11.175185178088988, 11.11637166850689, 10.766330373029925, 10.246925918834938, 10.178278597093493, 9.93886613907248, 9.929617631887258, 9.916996390862913, 8.354598442010019, 7.457301127292967, 7.311801885261053, 6.442397451234334, 6.013861938568922, 5.957910226013238, 5.615395952503491, 5.272124914091906, 4.723777473223602, 4.600341474339761, 4.414778795423243, 4.234649812448845, 3.802694052952295, 3.6820806012318985, 13.807418707713047, 9.246006900093311, 17.048070560590745, 15.772156672965975, 4.904899064574702, 36.85311038050517, 26.165176555737638, 13.168551072518767, 12.275913802416495, 11.460138191208857, 10.93703757646717, 10.905327466553171, 9.31106500499335, 9.212924571985978, 8.74491272029531, 7.9048659381993565, 7.405430047070461, 7.157290192409112, 6.678490108482225, 5.922768824057863, 5.6347871540435515, 5.362602439566595, 5.137679666322874, 5.040779794256858, 19.779972870947145, 3.9417562324163957, 3.6557607325622063, 5.785275717478154, 3.4667118609736516, 3.2908681574785144, 3.271584406770798, 3.1956938381759312, 3.133726103839039, 2.842613705097614, 2.6443148525738964, 8.108217226920894, 10.677775832902501, 6.617905140332865, 4.577955390748707, 4.890747726262318, 4.619894318486923, 41.51642087551728, 33.38661434777249, 31.249725085910793, 22.457384389172958, 15.096588062487317, 15.075735614986064, 14.046222753795092, 13.346110758981368, 11.852944829149978, 9.2090292367307, 8.070679497342795, 7.092466779845543, 6.82753599586107, 6.6584566342544615, 6.590835905111319, 6.52978811382553, 6.03933636688547, 5.27798995897403, 5.037508236551059, 4.849564029950176, 3.959698826845735, 3.6308650447995756, 3.6190268586008245, 3.377033178661447, 3.3130387412592457, 3.2751943510453145, 3.205974502909134, 2.7873734903937497, 2.7873734903937497, 2.7873734903937497, 6.351501719675159, 4.035455250996258, 3.093209208834471, 21.739726323717438, 19.116741246708635, 17.948040310609887, 17.586785836911613, 12.827323323248592, 12.21317370627323, 10.111109070393992, 9.810503315059735, 9.620377202380245, 9.043012799336323, 9.010715186792423, 8.298570559248095, 8.14894609951167, 7.706349623362159, 7.570332977059044, 6.309325697964349, 6.138405883847223, 5.899874856772115, 5.582793896206803, 5.522713429719784, 4.208811072840684, 4.178390894811965, 3.9484815143395937, 3.809382780534074, 3.7961541432855994, 3.667065404559585, 3.6593704338085695, 3.5395182219850216, 3.351629504996179, 3.3467606778228047, 4.397889839409632, 40.44681836147255, 39.15860543143068, 24.854189554529555, 11.716273001485895, 9.175372793660028, 9.061159178492531, 8.841169929660834, 7.77885195060628, 7.726893766902982, 7.422750843302331, 6.393793469282367, 6.393793469282367, 6.101867527640375, 6.101867527640375, 6.0646551639785224, 5.873608919284853, 5.389734629939488, 4.067742981179235, 3.9339994503632463, 3.799960462376232, 3.459929570486012, 3.3293733883694308, 3.2975367720705786, 2.985182253035279, 2.950875300156721, 2.9035736394550082, 2.775248626008475, 2.3144529338241604, 5.386539169687132, 2.065521664072976, 7.020671979059681, 3.6221252335843386, 9.433305429137462, 4.227134750808437, 3.6478422976952953, 3.3278594776237185, 30.59063577128552, 24.874524439123054, 21.85363208498884, 18.037039216804683, 14.254111437861537, 13.414985047537625, 12.039585230945427, 11.461505025423824, 8.310415901058489, 8.016473746230096, 7.688343327826135, 6.925055076160857, 6.844118033270112, 6.618472990905457, 5.74714659199775, 5.74714659199775, 5.74714659199775, 5.74714659199775, 5.74714659199775, 5.74714659199775, 5.74714659199775, 5.74714659199775, 5.74714659199775, 5.71882394536354, 5.314381306682234, 4.956324546259752, 4.77753272555673, 3.793275753361721, 3.3055887141448963, 3.1032242077163588, 13.539178067401425, 9.942374250663283, 7.344171142567703, 6.182401166787354, 32.3009146471892, 19.579369090100066, 14.481568418575735, 11.57795402617173, 11.210597196185748, 10.631554429959671, 10.058770153255093, 8.956547104251078, 8.36048552888571, 8.360412371916249, 8.220422050063432, 7.715751372717074, 7.633125928660819, 6.651756854967726, 6.0644990963661725, 6.037364551882687, 6.037364551882687, 6.037364551882687, 6.037364551882687, 6.037364551882687, 6.037364551882687, 6.037364551882687, 6.037364551882687, 4.8432746384790875, 4.1806727846779745, 3.308591747855787, 3.2979614602904204, 3.0178719732887562, 2.6482854170110266, 2.584772900344859, 7.207307758494535, 6.122238234512596, 4.527912340220579, 22.713750307367764, 21.152421598953044, 15.221011181909534, 14.197056432595064, 13.924124120216966, 13.26957827760779, 9.084257254792355, 9.050297207631862, 6.457347827003735, 6.275813751067439, 6.275810263783054, 5.945766695034726, 5.45075713846239, 4.944473627384474, 4.195355247722214, 4.014263185081693, 3.7932691785994903, 3.7151993430764794, 3.556227343244159, 3.3701434509620403, 3.352598269356178, 2.7528810375320942, 2.602921488281799, 2.5588908176837615, 2.387536342822034, 2.2996397758131426, 2.2361969187317197, 2.215704545910135, 2.1484777673159057, 2.0330007040180047, 11.132293167480245, 3.4592104377925876, 19.63948313757387, 13.752297315634472, 10.714303830731495, 9.628243617048428, 9.402398536837618, 8.582892781156781, 6.645200717815285, 6.624849138523348, 6.02760347860377, 5.996911300665905, 5.858149896711011, 5.858149896711011, 5.858149896711011, 5.858149896711011, 4.440602033844292, 4.131575441411941, 3.9497444704020817, 3.834630825738278, 3.5631142175156247, 3.458870581540064, 3.0827496233042075, 2.930112389914201, 2.7198646935272124, 2.5888018911127917, 2.569673163504502, 2.5132647567159365, 2.5055105710080245, 2.382311373484271, 2.3758886812418183, 2.3659325073623023, 10.605308331490647, 2.692930471748759, 3.1200018991012346, 13.876920997026863, 10.56839205042897, 7.905184465575052, 6.823820025465373, 5.617001078912533, 4.165796893649295, 3.556277752475304, 3.243513522299587, 3.150362752350632, 2.8288503423955635, 2.6018644609408534, 2.4444555740135843, 2.3878473442416412, 2.2158597990070437, 2.206165723673918, 2.193810486175059, 2.0894584122151527, 2.070253433410434, 2.006419886156868, 1.729565219201173, 1.659802837023552, 1.5870488939729708, 1.5437280101242987, 1.3911933658242097, 1.350094179392836, 1.250014638342925, 1.2260755039933, 1.1564599793632655, 1.1564599793632655, 1.1564599793632655, 3.0484066845149664, 4.512700271915625, 2.604601452318082, 1.466733170701635], \"Total\": [718.0, 539.0, 760.0, 709.0, 1002.0, 678.0, 920.0, 472.0, 1009.0, 116.0, 116.0, 497.0, 223.0, 529.0, 222.0, 403.0, 466.0, 200.0, 527.0, 83.0, 795.0, 161.0, 317.0, 116.0, 236.0, 85.0, 191.0, 146.0, 124.0, 395.0, 134.63722160780796, 108.44728810444307, 92.78123025922774, 87.66829750587043, 87.75871677770249, 84.34270963288601, 85.69329806517831, 67.29517583640589, 64.1278821521598, 62.53221518686611, 77.12274684729331, 44.77613458175907, 43.374274645923926, 42.797231084912006, 34.566112941353204, 709.5017574027167, 32.14981956313335, 31.428859030551223, 231.0713665454692, 90.14614478609616, 25.089725788695606, 24.251393776745036, 23.848561446419286, 23.7574166335208, 23.723901428952182, 23.600400988314167, 22.760911416292572, 22.207594112764724, 21.518760568888897, 19.922765416187037, 187.89580641553104, 208.234353934001, 107.7866384962711, 57.56256661604601, 111.91680249373005, 251.55564204831734, 920.9391457744057, 1002.1801828395736, 72.44932297437981, 217.46952256376161, 400.1334457097414, 146.08877458574779, 92.7341331875363, 395.79244158641524, 795.1069530818874, 149.9397159726999, 466.97156138379705, 107.4785521261721, 378.72196547041403, 188.15071539255177, 708.3774421198503, 218.62983269525859, 214.427935576459, 497.65477895086246, 314.69512107969433, 230.8741771128763, 529.3302641150038, 157.35247907415024, 1009.0194573280278, 277.26693207621287, 212.90859684173583, 186.897244380932, 568.4233769492695, 222.74902797769664, 60.17302180726522, 58.34560326799553, 52.33285313385292, 45.65648548221217, 44.73079971838987, 44.70550576471619, 43.39945720386211, 39.64298652149801, 35.65210319978389, 34.82755412395282, 36.72452983901898, 33.811916212429125, 29.754906288081045, 29.356854434912115, 28.715282444110834, 28.1043114304024, 30.279811324359517, 28.356934962036057, 93.74495074050844, 26.836392248528632, 41.74981963550285, 25.492628538964702, 28.904804530739852, 22.724693368412826, 98.20528280650791, 21.522657856143862, 21.44211917093749, 20.693458422334526, 19.289631954105626, 191.87804595259482, 718.9514013644, 75.80515060765082, 65.40947544754539, 38.52240247013559, 214.845231203456, 236.38182722804788, 132.07229171566826, 142.76837143660043, 66.73687450042213, 116.92400414444812, 678.9559291346394, 229.90848884027395, 99.57960460715594, 403.9464167013348, 222.53140271982866, 527.3347811290851, 229.34641743892578, 1009.0194573280278, 708.3774421198503, 165.14976557564998, 106.69774034834822, 291.70644650302035, 215.31101401352177, 568.4233769492695, 529.3302641150038, 266.04367224540096, 472.54261510704, 795.1069530818874, 429.62603703492823, 161.33920256323424, 49.31777634992047, 44.34917174593908, 43.83954164961245, 56.243550058247116, 32.56635093312265, 32.018479073093516, 29.394222460226317, 28.66308160521799, 146.11937313169852, 27.272260231269154, 67.09864234180115, 25.841886797691114, 70.11394495288411, 22.89224097866419, 22.456981517633274, 22.415416770776005, 45.1931915315018, 32.394816679072854, 24.133337951089814, 17.405711942827505, 16.36234054375561, 16.105712507690495, 15.327526592364793, 14.864927708662833, 14.52078295234365, 14.51163464262761, 14.408459933617587, 14.058005552943465, 13.640913858354303, 539.6021385222467, 82.27236033145316, 69.67042050625687, 45.51018914118458, 120.68434352109044, 44.114039879417625, 151.08189912502172, 50.23566377293144, 71.66954474459017, 472.54261510704, 760.8771721245587, 98.12378873238762, 151.34995934478457, 52.69024774072845, 137.1774214276937, 114.7848993819976, 678.9559291346394, 568.4233769492695, 394.85764606841434, 151.75489868692762, 137.4924073207195, 429.62603703492823, 159.7403588964243, 277.26693207621287, 238.81290991580227, 253.43940702500936, 85.25823371340371, 795.1069530818874, 497.65477895086246, 527.3347811290851, 78.58652818064166, 82.25471259558229, 74.8297555287656, 74.66585356939355, 67.77362680954658, 48.13108936669892, 45.947485074362994, 43.57164200304347, 40.6233629218285, 32.34534133040832, 31.658782074576315, 31.56380514376401, 29.819217330004808, 28.469898880651428, 24.144534789451935, 23.929984461401425, 22.461304378102742, 24.828420440796517, 19.974954480692634, 18.73198544899547, 18.587578149022892, 18.09053788583718, 16.856327822237557, 16.392620558761237, 16.081472691725583, 15.982393807364298, 15.924735265131698, 15.676455893131783, 15.398091647567943, 15.327332536490239, 71.02445505177114, 101.04504119172199, 23.964458149058007, 31.483562737258552, 114.87287782558052, 73.08490324943506, 206.40707681871768, 33.27267709131721, 81.25996859485515, 317.3871018644058, 145.4144190995644, 228.53837532740985, 527.3347811290851, 1009.0194573280278, 497.65477895086246, 252.76587377214761, 529.3302641150038, 291.70644650302035, 403.9464167013348, 121.33385999758333, 223.56088806301037, 192.90940383062778, 212.90859684173583, 760.8771721245587, 466.97156138379705, 1002.1801828395736, 266.04367224540096, 920.9391457744057, 124.90078570231563, 93.08677452953553, 55.21148976437138, 46.1590275541604, 121.38260970063524, 39.0805547087791, 35.81201949409223, 34.9416429618313, 33.40485174784179, 32.419257272538246, 34.89709445891676, 94.22846849192464, 28.907120825047684, 58.00492002011373, 26.370930645509592, 26.02493673823364, 32.94294954635326, 25.65656742274877, 25.63986527029305, 24.79804542417727, 24.640061204188733, 23.746608656370974, 23.700631437306296, 19.90823021818816, 18.704153101554905, 17.986163593182017, 17.844862022320086, 17.820558459264152, 17.00655298202488, 16.335558000484056, 34.61683001434079, 85.7123747054444, 119.27704004602595, 200.91261868669827, 145.69605509449386, 85.36843521629855, 88.2631319148785, 54.615929698887, 48.074317909442684, 98.23358247279482, 39.13666444531692, 131.4366596836021, 143.383203608838, 159.7403588964243, 78.04351107204818, 138.63849824580157, 202.26451768949912, 760.8771721245587, 192.90940383062778, 238.81290991580227, 429.62603703492823, 314.69512107969433, 568.4233769492695, 253.43940702500936, 215.31101401352177, 214.427935576459, 1009.0194573280278, 527.3347811290851, 84.5127635683823, 81.17909838089169, 75.15845956461919, 73.25752064536329, 81.90599069982326, 48.359096859660895, 46.50176604927475, 63.05460398518404, 34.28457352163598, 28.341262200238756, 26.257329517955235, 25.79274479502965, 23.858205409435648, 22.652680787234992, 22.128875787990218, 21.846585103633302, 20.029380290823504, 19.33834056616891, 19.29680522228376, 18.3864454044359, 18.278310013063688, 30.833464416584906, 16.901089472368167, 16.55480305989785, 47.11924971761767, 15.930411429977147, 15.868144755023032, 15.976201962051775, 15.607066860651095, 15.472992448155205, 68.20061810350346, 90.27156810190499, 44.95059880523898, 46.12690235851487, 64.81833955527927, 46.434094802796416, 113.03595854491756, 223.56088806301037, 68.37459234092404, 30.56069392067781, 266.04367224540096, 137.4924073207195, 47.110329935275736, 228.53837532740985, 1009.0194573280278, 186.897244380932, 151.75489868692762, 165.14976557564998, 253.43940702500936, 32.87244428478753, 31.022269662666123, 28.89384114405434, 22.185134156253188, 24.513180448202416, 20.51210143880235, 19.654237243196995, 19.03437805072327, 18.917567472451804, 18.568092182264483, 18.21122781498912, 18.146397362443825, 17.852275718969153, 17.39904305656939, 17.16483204868996, 16.47115055656282, 16.372448525128352, 14.351852239989793, 14.283732998857797, 13.850629410579852, 13.723009239430963, 12.836901399839716, 12.829790389846472, 12.809662556956024, 12.64650630449889, 12.095854966698743, 12.020706936925562, 11.902649624667744, 11.622458364304167, 11.548857751423581, 27.212637198083446, 85.38166713776896, 41.504765968996495, 34.97503590048811, 35.51055479019749, 29.867270965798298, 30.852928928891835, 24.287637508788432, 23.87311593204717, 17.382901343060706, 17.198522619509877, 16.575509526153606, 15.930767544614728, 15.501755193565431, 14.985140124596631, 14.5103445612203, 14.23240316776041, 14.129943095193651, 13.805358434214934, 15.93773626223823, 13.612838398377825, 13.446323323330628, 12.63118932626594, 11.778126984293436, 11.522592055402948, 11.015135795589503, 10.363777166458393, 10.120707121144083, 9.615464376409639, 8.98114454480378, 8.470072808876123, 17.989206012410424, 52.98768352198822, 24.725244525516135, 35.369468688669166, 75.18862535044096, 35.106144927227554, 21.279480159712577, 17.175546790114872, 394.85764606841434, 59.36297798379992, 116.7768115011687, 41.30933262769868, 24.762134204931975, 22.92412599819596, 21.9904563487841, 18.16131257544183, 18.040925964953388, 17.807206875299016, 16.87531134643459, 16.443089801361822, 15.964606442195224, 13.777477686471642, 13.541467419662256, 11.887003208342332, 71.48130840726292, 23.534326158216178, 10.817036225074625, 10.080238279522455, 9.98588637484122, 9.490295165288726, 9.43027587926734, 9.280267224550073, 8.628986483615433, 8.495634479204705, 8.495633904033575, 8.495633904033575, 8.495633904033575, 8.495633904033575, 8.495633904033575, 8.495633904033575, 8.35756070355308, 46.9430245012708, 46.60714472691549, 116.7768115011687, 35.0559967743603, 23.09488335175685, 38.61580698782797, 42.741276353299355, 9.758952971809396, 42.71165937371851, 466.97156138379705, 116.89975588184566, 116.32628404150437, 83.36414808937477, 40.12816077798658, 20.73185687007601, 19.851199790689677, 16.95725129948363, 18.768670918600677, 12.850564868074082, 10.877031279167957, 10.659819871795959, 9.968712898363787, 9.889824798778658, 9.800336157508367, 8.878308873551699, 8.745404896024903, 8.73762298263677, 8.636878526014646, 8.488694489356421, 8.042514713440323, 8.003372918753485, 19.238229141257502, 7.5924952026084505, 7.533647486864699, 6.974911524207881, 6.659991613717675, 6.390844583925353, 5.870303528759558, 5.5324927750014545, 5.515021248662315, 31.38224991436996, 20.322174427769173, 46.60714472691549, 57.250385723512515, 51.16879378076234, 59.846966228861895, 30.550011509788526, 27.580226404241188, 19.93078482397364, 19.800493168854683, 15.438153215794234, 14.144068707396354, 11.96376912404258, 11.904955610805404, 11.554914347136819, 11.035509889469406, 10.966862536525369, 10.727450081541079, 10.718201645258283, 10.705580333331511, 9.143182431156037, 8.245885066724842, 8.100385929128239, 7.2309813971379455, 6.802445878000795, 6.746494175094356, 6.403979891935364, 6.06070885352378, 5.512361433564162, 5.388925413771634, 5.203362765980336, 5.0232337736841615, 4.591278016959957, 4.47066455971788, 17.668406852555474, 13.12117182568021, 29.34036143881794, 35.106144927227554, 85.7123747054444, 37.640927871380946, 27.441628696200244, 13.956368600972585, 13.063731293292266, 12.247955691092816, 11.72485509742426, 11.693145012354957, 10.098882497792548, 10.000742062861748, 9.532730228659231, 8.69268348674608, 8.193247537946233, 7.945107692175481, 7.466307599357995, 6.710586314933633, 6.422604644919321, 6.150419930442365, 5.925497161039341, 5.828597288494698, 23.142696420565954, 4.729573723292165, 4.443578223437976, 7.077627753888278, 4.254529421238258, 4.078685648354285, 4.059401897646569, 3.98351152268947, 3.9215435988924123, 3.630431215792447, 3.432132343449668, 42.741276353299355, 116.7768115011687, 34.58560841737545, 17.175546790114872, 54.615929698887, 90.27156810190499, 42.309548940774484, 34.17974241302971, 32.04285315116801, 23.256650276696064, 15.889716140522319, 15.868863680243274, 14.839350942157234, 14.139238824238578, 12.646072894407189, 10.002157308459648, 8.863807597978083, 7.885594852305519, 7.620664061118279, 7.4515848111152225, 7.38396402768038, 7.322916182119462, 6.832464437102829, 6.071118028539399, 5.830636301808267, 5.642692138732855, 4.752826892102943, 4.423993121567712, 4.412154947730763, 4.170161249475114, 4.106166810611408, 4.068322443205695, 3.9991025681663452, 3.5805016381128882, 3.5805016919841517, 3.580501726268076, 9.932284844747667, 48.074317909442684, 68.37459234092404, 22.526696635275965, 19.903711609945933, 18.73607560215507, 18.37375614847014, 13.614293672385163, 13.000144043887703, 10.898079389833123, 10.59747367458618, 10.40734751393877, 9.829983157218631, 9.797686237786404, 9.085540972933947, 8.935916437627165, 8.493319949552502, 8.357303288617569, 7.096296009522872, 6.939823835412852, 6.686845168330638, 6.369764210802049, 6.309683753467072, 4.995781410713828, 4.965361227014396, 4.735451840163304, 4.596353095454667, 4.5831245956805775, 4.454035716118108, 4.446340756174961, 4.326488533543545, 4.138599816554703, 4.133731000640771, 41.69599307740897, 41.24138739604993, 39.95317446600806, 25.648758589106926, 12.510842036063266, 9.969941833883516, 9.855728250597997, 9.635738986453454, 8.57342102089863, 8.521462801480352, 8.217319939194319, 7.188362544498754, 7.188362570898256, 6.896436636345878, 6.896436636345878, 6.859224201592614, 6.668177953862221, 6.184303664516857, 4.862312015756604, 4.728568498941935, 4.594529509537115, 4.254498605063381, 4.123942425983524, 4.092105839753534, 3.77975130990736, 3.7454443740112104, 3.6981427320091504, 3.569817686219443, 3.109021987528121, 7.38698888136514, 2.860090712672503, 10.659767749689914, 7.658525229517544, 71.66954474459017, 29.34036143881794, 71.48130840726292, 52.98768352198822, 31.387228691176144, 25.67111716641807, 22.650224812283856, 18.8336319440997, 15.050704174265475, 14.21157777483264, 12.83617796208114, 12.258097769674773, 9.107008659825388, 8.813066527889776, 8.484936089131187, 7.721647803455871, 7.640710764742727, 7.415065718200471, 6.543739340489717, 6.543739340489717, 6.543739340489717, 6.543739340489717, 6.543739340489717, 6.543739370339688, 6.543739370339688, 6.543739370339688, 6.543739370339688, 6.515416672658554, 6.110974041546792, 5.752917273554766, 5.574125464620416, 4.589868480656735, 4.102181445280608, 3.8998169462540497, 18.818775676877713, 15.311394962311972, 29.34036143881794, 52.98768352198822, 33.09585167273424, 20.374306149801246, 15.27650544412077, 12.372891051716765, 12.005534221730784, 11.426491474363468, 10.853707178800128, 9.751484151367992, 9.15542342657745, 9.155349397461285, 9.01540122952069, 8.51068844327769, 8.428062957810956, 7.446693959066766, 6.859436121911206, 6.832301624315941, 6.832301624315941, 6.832301624315941, 6.832301624315941, 6.832301624315941, 6.832301624315941, 6.832301685317631, 6.832301685317631, 5.638211665947549, 4.975609810223008, 4.103528814447532, 4.092898489930407, 3.8128090021958605, 3.4432226351461583, 3.3797099258898937, 9.816381255570139, 14.110120822190527, 25.467064090194373, 23.507326973803323, 21.945998265388603, 16.01458784834509, 14.99063312145908, 14.717700811354996, 14.063162655895624, 9.877833949891645, 9.843873915453603, 7.250924935033433, 7.069390799484971, 7.069391216770128, 6.739343365075385, 6.244333804897948, 5.738050293820031, 4.988931945149459, 4.807839851517251, 4.586845850681165, 4.508776020172124, 4.349804012546354, 4.163720121002699, 4.146174935791736, 3.54645784933841, 3.396498170633865, 3.35246748411932, 3.181113038066596, 3.093216442248701, 3.029773609492831, 3.0092812229140398, 2.9420544613674844, 2.826577390241648, 17.05563548922104, 16.933596248441006, 20.435442608520642, 14.548256765892003, 11.510263280989026, 10.424203089183196, 10.198357991190102, 9.378852235722473, 7.441190157173419, 7.4208086195647445, 6.823563012287103, 6.792870771137029, 6.6541094142722, 6.6541094142722, 6.6541094142722, 6.6541094142722, 5.236561484101823, 4.927534908521483, 4.745703924754565, 4.630590275995808, 4.3590737003573645, 4.254830031797595, 3.8787090807645055, 3.7260718897521143, 3.515824143784743, 3.3847613636918883, 3.365632656821503, 3.309224206973467, 3.301470034615462, 3.1782708311876005, 3.171848131499349, 3.161891977211477, 31.38224991436996, 5.669564788577342, 13.12117182568021, 14.676605966655558, 11.368077037083037, 8.704869451343608, 7.6235049992716695, 6.4166861479533335, 4.96548186327799, 4.355962726426872, 4.0431984919282815, 3.9500477219793266, 3.6285353150609807, 3.401549434572675, 3.2441405532915226, 3.1875323181932096, 3.0155448462268013, 3.005850693302613, 2.993495512276224, 2.88914338488057, 2.8699384030391286, 2.8061048596262603, 2.529250193007469, 2.459487843671508, 2.386733890830884, 2.343413040589076, 2.190878370941457, 2.1497792177417514, 2.0496996354140453, 2.0257605020451055, 1.956145143370079, 1.956145143370079, 1.956145143370079, 8.006881467074983, 18.818775676877713, 23.142696420565954, 23.19555969699741], \"Category\": [\"Default\", \"Default\", \"Default\", \"Default\", \"Default\", \"Default\", \"Default\", \"Default\", \"Default\", \"Default\", \"Default\", \"Default\", \"Default\", \"Default\", \"Default\", \"Default\", \"Default\", \"Default\", \"Default\", \"Default\", \"Default\", \"Default\", \"Default\", \"Default\", \"Default\", \"Default\", \"Default\", \"Default\", \"Default\", \"Default\", \"Topic1\", \"Topic1\", \"Topic1\", \"Topic1\", \"Topic1\", \"Topic1\", \"Topic1\", \"Topic1\", \"Topic1\", \"Topic1\", \"Topic1\", \"Topic1\", \"Topic1\", \"Topic1\", \"Topic1\", \"Topic1\", \"Topic1\", \"Topic1\", \"Topic1\", \"Topic1\", \"Topic1\", \"Topic1\", \"Topic1\", \"Topic1\", \"Topic1\", \"Topic1\", \"Topic1\", \"Topic1\", \"Topic1\", \"Topic1\", \"Topic1\", \"Topic1\", \"Topic1\", \"Topic1\", \"Topic1\", \"Topic1\", \"Topic1\", \"Topic1\", \"Topic1\", \"Topic1\", \"Topic1\", \"Topic1\", \"Topic1\", \"Topic1\", \"Topic1\", \"Topic1\", \"Topic1\", \"Topic1\", \"Topic1\", \"Topic1\", \"Topic1\", \"Topic1\", \"Topic1\", \"Topic1\", \"Topic1\", \"Topic1\", \"Topic1\", \"Topic1\", \"Topic1\", \"Topic1\", \"Topic1\", \"Topic1\", \"Topic1\", \"Topic2\", \"Topic2\", \"Topic2\", \"Topic2\", \"Topic2\", \"Topic2\", \"Topic2\", \"Topic2\", \"Topic2\", \"Topic2\", \"Topic2\", \"Topic2\", \"Topic2\", \"Topic2\", \"Topic2\", \"Topic2\", \"Topic2\", \"Topic2\", \"Topic2\", \"Topic2\", \"Topic2\", \"Topic2\", \"Topic2\", \"Topic2\", \"Topic2\", \"Topic2\", \"Topic2\", \"Topic2\", \"Topic2\", \"Topic2\", \"Topic2\", \"Topic2\", \"Topic2\", \"Topic2\", \"Topic2\", \"Topic2\", \"Topic2\", \"Topic2\", \"Topic2\", \"Topic2\", \"Topic2\", \"Topic2\", \"Topic2\", \"Topic2\", \"Topic2\", \"Topic2\", \"Topic2\", \"Topic2\", \"Topic2\", \"Topic2\", \"Topic2\", \"Topic2\", \"Topic2\", \"Topic2\", \"Topic2\", \"Topic2\", \"Topic2\", \"Topic2\", \"Topic2\", \"Topic2\", \"Topic3\", \"Topic3\", \"Topic3\", \"Topic3\", \"Topic3\", \"Topic3\", \"Topic3\", \"Topic3\", \"Topic3\", \"Topic3\", \"Topic3\", \"Topic3\", \"Topic3\", \"Topic3\", \"Topic3\", \"Topic3\", \"Topic3\", \"Topic3\", \"Topic3\", \"Topic3\", \"Topic3\", \"Topic3\", \"Topic3\", \"Topic3\", \"Topic3\", \"Topic3\", \"Topic3\", \"Topic3\", \"Topic3\", \"Topic3\", \"Topic3\", \"Topic3\", \"Topic3\", \"Topic3\", \"Topic3\", \"Topic3\", \"Topic3\", \"Topic3\", \"Topic3\", \"Topic3\", \"Topic3\", \"Topic3\", \"Topic3\", \"Topic3\", \"Topic3\", \"Topic3\", \"Topic3\", \"Topic3\", \"Topic3\", \"Topic3\", \"Topic3\", \"Topic3\", \"Topic3\", \"Topic3\", \"Topic3\", \"Topic3\", \"Topic3\", \"Topic3\", \"Topic3\", \"Topic3\", \"Topic4\", \"Topic4\", \"Topic4\", \"Topic4\", \"Topic4\", \"Topic4\", \"Topic4\", \"Topic4\", \"Topic4\", \"Topic4\", \"Topic4\", \"Topic4\", \"Topic4\", \"Topic4\", \"Topic4\", \"Topic4\", \"Topic4\", \"Topic4\", \"Topic4\", \"Topic4\", \"Topic4\", \"Topic4\", \"Topic4\", \"Topic4\", \"Topic4\", \"Topic4\", \"Topic4\", \"Topic4\", \"Topic4\", \"Topic4\", \"Topic4\", \"Topic4\", \"Topic4\", \"Topic4\", \"Topic4\", \"Topic4\", \"Topic4\", \"Topic4\", \"Topic4\", \"Topic4\", \"Topic4\", \"Topic4\", \"Topic4\", \"Topic4\", \"Topic4\", \"Topic4\", \"Topic4\", \"Topic4\", \"Topic4\", \"Topic4\", \"Topic4\", \"Topic4\", \"Topic4\", \"Topic4\", \"Topic4\", \"Topic4\", \"Topic4\", \"Topic4\", \"Topic5\", \"Topic5\", \"Topic5\", \"Topic5\", \"Topic5\", \"Topic5\", \"Topic5\", \"Topic5\", \"Topic5\", \"Topic5\", \"Topic5\", \"Topic5\", \"Topic5\", \"Topic5\", \"Topic5\", \"Topic5\", \"Topic5\", \"Topic5\", \"Topic5\", \"Topic5\", \"Topic5\", \"Topic5\", \"Topic5\", \"Topic5\", \"Topic5\", \"Topic5\", \"Topic5\", \"Topic5\", \"Topic5\", \"Topic5\", \"Topic5\", \"Topic5\", \"Topic5\", \"Topic5\", \"Topic5\", \"Topic5\", \"Topic5\", \"Topic5\", \"Topic5\", \"Topic5\", \"Topic5\", \"Topic5\", \"Topic5\", \"Topic5\", \"Topic5\", \"Topic5\", \"Topic5\", \"Topic5\", \"Topic5\", \"Topic5\", \"Topic5\", \"Topic5\", \"Topic5\", \"Topic5\", \"Topic5\", \"Topic5\", \"Topic5\", \"Topic5\", \"Topic6\", \"Topic6\", \"Topic6\", \"Topic6\", \"Topic6\", \"Topic6\", \"Topic6\", \"Topic6\", \"Topic6\", \"Topic6\", \"Topic6\", \"Topic6\", \"Topic6\", \"Topic6\", \"Topic6\", \"Topic6\", \"Topic6\", \"Topic6\", \"Topic6\", \"Topic6\", \"Topic6\", \"Topic6\", \"Topic6\", \"Topic6\", \"Topic6\", \"Topic6\", \"Topic6\", \"Topic6\", \"Topic6\", \"Topic6\", \"Topic6\", \"Topic6\", \"Topic6\", \"Topic6\", \"Topic6\", \"Topic6\", \"Topic6\", \"Topic6\", \"Topic6\", \"Topic6\", \"Topic6\", \"Topic6\", \"Topic6\", \"Topic6\", \"Topic6\", \"Topic6\", \"Topic6\", \"Topic6\", \"Topic6\", \"Topic7\", \"Topic7\", \"Topic7\", \"Topic7\", \"Topic7\", \"Topic7\", \"Topic7\", \"Topic7\", \"Topic7\", \"Topic7\", \"Topic7\", \"Topic7\", \"Topic7\", \"Topic7\", \"Topic7\", \"Topic7\", \"Topic7\", \"Topic7\", \"Topic7\", \"Topic7\", \"Topic7\", \"Topic7\", \"Topic7\", \"Topic7\", \"Topic7\", \"Topic7\", \"Topic7\", \"Topic7\", \"Topic7\", \"Topic7\", \"Topic7\", \"Topic8\", \"Topic8\", \"Topic8\", \"Topic8\", \"Topic8\", \"Topic8\", \"Topic8\", \"Topic8\", \"Topic8\", \"Topic8\", \"Topic8\", \"Topic8\", \"Topic8\", \"Topic8\", \"Topic8\", \"Topic8\", \"Topic8\", \"Topic8\", \"Topic8\", \"Topic8\", \"Topic8\", \"Topic8\", \"Topic8\", \"Topic8\", \"Topic8\", \"Topic8\", \"Topic8\", \"Topic8\", \"Topic8\", \"Topic8\", \"Topic8\", \"Topic8\", \"Topic8\", \"Topic8\", \"Topic8\", \"Topic8\", \"Topic8\", \"Topic8\", \"Topic8\", \"Topic8\", \"Topic8\", \"Topic9\", \"Topic9\", \"Topic9\", \"Topic9\", \"Topic9\", \"Topic9\", \"Topic9\", \"Topic9\", \"Topic9\", \"Topic9\", \"Topic9\", \"Topic9\", \"Topic9\", \"Topic9\", \"Topic9\", \"Topic9\", \"Topic9\", \"Topic9\", \"Topic9\", \"Topic9\", \"Topic9\", \"Topic9\", \"Topic9\", \"Topic9\", \"Topic9\", \"Topic9\", \"Topic9\", \"Topic9\", \"Topic9\", \"Topic9\", \"Topic9\", \"Topic9\", \"Topic9\", \"Topic9\", \"Topic9\", \"Topic9\", \"Topic9\", \"Topic9\", \"Topic9\", \"Topic9\", \"Topic10\", \"Topic10\", \"Topic10\", \"Topic10\", \"Topic10\", \"Topic10\", \"Topic10\", \"Topic10\", \"Topic10\", \"Topic10\", \"Topic10\", \"Topic10\", \"Topic10\", \"Topic10\", \"Topic10\", \"Topic10\", \"Topic10\", \"Topic10\", \"Topic10\", \"Topic10\", \"Topic10\", \"Topic10\", \"Topic10\", \"Topic10\", \"Topic10\", \"Topic10\", \"Topic10\", \"Topic10\", \"Topic10\", \"Topic10\", \"Topic10\", \"Topic10\", \"Topic10\", \"Topic10\", \"Topic11\", \"Topic11\", \"Topic11\", \"Topic11\", \"Topic11\", \"Topic11\", \"Topic11\", \"Topic11\", \"Topic11\", \"Topic11\", \"Topic11\", \"Topic11\", \"Topic11\", \"Topic11\", \"Topic11\", \"Topic11\", \"Topic11\", \"Topic11\", \"Topic11\", \"Topic11\", \"Topic11\", \"Topic11\", \"Topic11\", \"Topic11\", \"Topic11\", \"Topic11\", \"Topic11\", \"Topic11\", \"Topic11\", \"Topic11\", \"Topic11\", \"Topic11\", \"Topic11\", \"Topic11\", \"Topic11\", \"Topic12\", \"Topic12\", \"Topic12\", \"Topic12\", \"Topic12\", \"Topic12\", \"Topic12\", \"Topic12\", \"Topic12\", \"Topic12\", \"Topic12\", \"Topic12\", \"Topic12\", \"Topic12\", \"Topic12\", \"Topic12\", \"Topic12\", \"Topic12\", \"Topic12\", \"Topic12\", \"Topic12\", \"Topic12\", \"Topic12\", \"Topic12\", \"Topic12\", \"Topic12\", \"Topic12\", \"Topic12\", \"Topic12\", \"Topic12\", \"Topic12\", \"Topic12\", \"Topic12\", \"Topic12\", \"Topic12\", \"Topic12\", \"Topic13\", \"Topic13\", \"Topic13\", \"Topic13\", \"Topic13\", \"Topic13\", \"Topic13\", \"Topic13\", \"Topic13\", \"Topic13\", \"Topic13\", \"Topic13\", \"Topic13\", \"Topic13\", \"Topic13\", \"Topic13\", \"Topic13\", \"Topic13\", \"Topic13\", \"Topic13\", \"Topic13\", \"Topic13\", \"Topic13\", \"Topic13\", \"Topic13\", \"Topic13\", \"Topic13\", \"Topic13\", \"Topic13\", \"Topic13\", \"Topic13\", \"Topic13\", \"Topic13\", \"Topic14\", \"Topic14\", \"Topic14\", \"Topic14\", \"Topic14\", \"Topic14\", \"Topic14\", \"Topic14\", \"Topic14\", \"Topic14\", \"Topic14\", \"Topic14\", \"Topic14\", \"Topic14\", \"Topic14\", \"Topic14\", \"Topic14\", \"Topic14\", \"Topic14\", \"Topic14\", \"Topic14\", \"Topic14\", \"Topic14\", \"Topic14\", \"Topic14\", \"Topic14\", \"Topic14\", \"Topic14\", \"Topic14\", \"Topic14\", \"Topic14\", \"Topic15\", \"Topic15\", \"Topic15\", \"Topic15\", \"Topic15\", \"Topic15\", \"Topic15\", \"Topic15\", \"Topic15\", \"Topic15\", \"Topic15\", \"Topic15\", \"Topic15\", \"Topic15\", \"Topic15\", \"Topic15\", \"Topic15\", \"Topic15\", \"Topic15\", \"Topic15\", \"Topic15\", \"Topic15\", \"Topic15\", \"Topic15\", \"Topic15\", \"Topic15\", \"Topic15\", \"Topic15\", \"Topic15\", \"Topic15\", \"Topic15\", \"Topic15\", \"Topic15\", \"Topic15\", \"Topic15\", \"Topic15\", \"Topic16\", \"Topic16\", \"Topic16\", \"Topic16\", \"Topic16\", \"Topic16\", \"Topic16\", \"Topic16\", \"Topic16\", \"Topic16\", \"Topic16\", \"Topic16\", \"Topic16\", \"Topic16\", \"Topic16\", \"Topic16\", \"Topic16\", \"Topic16\", \"Topic16\", \"Topic16\", \"Topic16\", \"Topic16\", \"Topic16\", \"Topic16\", \"Topic16\", \"Topic16\", \"Topic16\", \"Topic16\", \"Topic16\", \"Topic16\", \"Topic16\", \"Topic16\", \"Topic16\", \"Topic16\", \"Topic17\", \"Topic17\", \"Topic17\", \"Topic17\", \"Topic17\", \"Topic17\", \"Topic17\", \"Topic17\", \"Topic17\", \"Topic17\", \"Topic17\", \"Topic17\", \"Topic17\", \"Topic17\", \"Topic17\", \"Topic17\", \"Topic17\", \"Topic17\", \"Topic17\", \"Topic17\", \"Topic17\", \"Topic17\", \"Topic17\", \"Topic17\", \"Topic17\", \"Topic17\", \"Topic17\", \"Topic17\", \"Topic17\", \"Topic17\", \"Topic17\", \"Topic17\", \"Topic17\", \"Topic18\", \"Topic18\", \"Topic18\", \"Topic18\", \"Topic18\", \"Topic18\", \"Topic18\", \"Topic18\", \"Topic18\", \"Topic18\", \"Topic18\", \"Topic18\", \"Topic18\", \"Topic18\", \"Topic18\", \"Topic18\", \"Topic18\", \"Topic18\", \"Topic18\", \"Topic18\", \"Topic18\", \"Topic18\", \"Topic18\", \"Topic18\", \"Topic18\", \"Topic18\", \"Topic18\", \"Topic18\", \"Topic18\", \"Topic18\", \"Topic18\", \"Topic18\", \"Topic19\", \"Topic19\", \"Topic19\", \"Topic19\", \"Topic19\", \"Topic19\", \"Topic19\", \"Topic19\", \"Topic19\", \"Topic19\", \"Topic19\", \"Topic19\", \"Topic19\", \"Topic19\", \"Topic19\", \"Topic19\", \"Topic19\", \"Topic19\", \"Topic19\", \"Topic19\", \"Topic19\", \"Topic19\", \"Topic19\", \"Topic19\", \"Topic19\", \"Topic19\", \"Topic19\", \"Topic19\", \"Topic19\", \"Topic19\", \"Topic19\", \"Topic19\", \"Topic19\", \"Topic20\", \"Topic20\", \"Topic20\", \"Topic20\", \"Topic20\", \"Topic20\", \"Topic20\", \"Topic20\", \"Topic20\", \"Topic20\", \"Topic20\", \"Topic20\", \"Topic20\", \"Topic20\", \"Topic20\", \"Topic20\", \"Topic20\", \"Topic20\", \"Topic20\", \"Topic20\", \"Topic20\", \"Topic20\", \"Topic20\", \"Topic20\", \"Topic20\", \"Topic20\", \"Topic20\", \"Topic20\", \"Topic20\", \"Topic20\", \"Topic20\", \"Topic20\", \"Topic20\", \"Topic20\"], \"logprob\": [30.0, 29.0, 28.0, 27.0, 26.0, 25.0, 24.0, 23.0, 22.0, 21.0, 20.0, 19.0, 18.0, 17.0, 16.0, 15.0, 14.0, 13.0, 12.0, 11.0, 10.0, 9.0, 8.0, 7.0, 6.0, 5.0, 4.0, 3.0, 2.0, 1.0, -4.631, -4.8486, -5.0058, -5.063, -5.062, -5.102, -5.0868, -5.3302, -5.379, -5.4049, -5.1955, -5.7435, -5.7759, -5.7895, -6.0075, -2.9864, -6.0817, -6.105, -4.1127, -5.057, -6.3367, -6.3719, -6.3891, -6.393, -6.3945, -6.4004, -6.4374, -6.4629, -6.4955, -6.5756, -4.3346, -4.2357, -4.8938, -5.5274, -4.8776, -4.0981, -2.855, -2.7762, -5.3129, -4.261, -3.6974, -4.6502, -5.083, -3.7478, -3.1069, -4.642, -3.6433, -4.9603, -3.8413, -4.4721, -3.4593, -4.4549, -4.4762, -3.9866, -4.2773, -4.4729, -3.9849, -4.7289, -3.8245, -4.4859, -4.679, -4.7454, -4.7351, -3.5058, -4.8242, -4.8554, -4.9657, -5.1044, -5.1253, -5.1259, -5.156, -5.2483, -5.3567, -5.3806, -5.3277, -5.4109, -5.5419, -5.5558, -5.5785, -5.6006, -5.5261, -5.5917, -4.3972, -5.6481, -5.207, -5.7011, -5.5776, -5.8199, -4.357, -5.8762, -5.8801, -5.917, -5.9901, -3.6982, -2.4571, -4.6454, -4.8067, -5.3165, -3.7738, -3.7171, -4.2365, -4.1752, -4.8467, -4.3825, -2.91, -3.9955, -4.6338, -3.6498, -4.0939, -3.6829, -4.2285, -3.3596, -3.7046, -4.4843, -4.7433, -4.4411, -4.6346, -4.4038, -4.4659, -4.6505, -4.5889, -4.7317, -4.7583, -3.6703, -4.8666, -4.9748, -4.9864, -4.7401, -5.2899, -5.3073, -5.3951, -5.4209, -3.7927, -5.4721, -4.5727, -5.5276, -4.533, -5.6529, -5.6727, -5.6747, -4.9766, -5.3106, -5.6107, -5.9381, -6.0029, -6.0195, -6.0716, -6.104, -6.1287, -6.1293, -6.1369, -6.1629, -6.1948, -2.5326, -4.4067, -4.5986, -5.0121, -4.0841, -5.0538, -3.8916, -4.944, -4.6306, -2.9261, -2.5114, -4.366, -4.0636, -5.0069, -4.2939, -4.4848, -3.3224, -3.4517, -3.8423, -4.4918, -4.5573, -3.997, -4.6264, -4.4489, -4.5279, -4.7362, -4.8912, -4.7084, -4.7602, -4.7815, -4.2606, -4.2151, -4.3101, -4.3123, -4.4102, -4.7575, -4.8045, -4.8585, -4.9299, -5.1628, -5.1848, -5.1878, -5.2462, -5.2938, -5.4636, -5.4728, -5.5384, -5.4406, -5.6602, -5.7271, -5.7352, -5.7635, -5.8375, -5.8667, -5.8869, -5.8934, -5.8972, -5.9137, -5.9325, -5.9374, -4.4107, -4.114, -5.5069, -5.2542, -4.0737, -4.5008, -3.6572, -5.2552, -4.5014, -3.3985, -4.1127, -3.8333, -3.3094, -2.8704, -3.3801, -3.857, -3.3991, -3.8301, -3.6583, -4.4178, -4.0773, -4.2796, -4.2399, -3.9055, -4.2096, -4.1372, -4.4619, -4.37, -3.6419, -3.938, -4.4663, -4.6481, -3.6831, -4.8177, -4.9069, -4.9321, -4.9781, -5.0088, -4.9357, -3.9425, -5.1265, -4.4311, -5.221, -5.2346, -4.9989, -5.2493, -5.2499, -5.2844, -5.291, -5.3292, -5.3312, -5.5121, -5.5771, -5.618, -5.6262, -5.6276, -5.6773, -5.7188, -4.9717, -4.0955, -3.7908, -3.2912, -3.5997, -4.1418, -4.1169, -4.5716, -4.6951, -4.0634, -4.8959, -3.895, -3.9507, -3.8874, -4.4206, -4.1764, -4.2099, -3.6775, -4.2692, -4.2302, -4.0311, -4.179, -3.9862, -4.3474, -4.4079, -4.4142, -4.3798, -4.5017, -3.6128, -3.6535, -3.7313, -3.7572, -3.6492, -4.1781, -4.2179, -3.9163, -4.5288, -4.7241, -4.8027, -4.8211, -4.9018, -4.9553, -4.9795, -4.9928, -5.083, -5.1196, -5.1218, -5.1723, -5.1784, -4.6578, -5.2611, -5.2821, -4.2363, -5.3225, -5.3266, -5.3201, -5.3441, -5.3532, -3.8949, -3.6213, -4.3057, -4.2928, -3.9681, -4.4197, -3.6975, -3.2129, -4.285, -4.8378, -3.7011, -4.0608, -4.6552, -4.1337, -3.7483, -4.3426, -4.4114, -4.6744, -4.6652, -3.8056, -3.865, -3.938, -4.2107, -4.1113, -4.2921, -4.3365, -4.3699, -4.3764, -4.3958, -4.4161, -4.4198, -4.4369, -4.4638, -4.478, -4.5213, -4.5276, -4.6664, -4.6714, -4.704, -4.7139, -4.7848, -4.7854, -4.787, -4.8007, -4.8482, -4.8549, -4.8655, -4.891, -4.8978, -4.4019, -2.7998, -3.531, -3.7058, -3.6912, -3.8676, -3.8354, -4.0806, -4.0984, -4.4285, -4.4396, -4.4783, -4.52, -4.5488, -4.5845, -4.6185, -4.639, -4.6466, -4.6712, -4.5278, -4.6861, -4.6992, -4.7658, -4.8405, -4.864, -4.9127, -4.9782, -5.004, -5.0596, -5.1342, -5.1986, -4.4495, -3.4821, -4.2266, -3.937, -3.3072, -4.3151, -4.7047, -4.7651, -4.2161, -4.5538, -4.479, -3.3242, -3.849, -3.9289, -3.9718, -4.171, -4.1779, -4.1916, -4.2479, -4.2751, -4.3062, -4.4617, -4.4805, -4.619, -2.8286, -3.9424, -4.7203, -4.7966, -4.8068, -4.8622, -4.8691, -4.8866, -4.9664, -4.9835, -4.9835, -4.9835, -4.9835, -4.9835, -4.9835, -4.9835, -5.0016, -3.3985, -3.6861, -3.0281, -4.0313, -4.4251, -4.2067, -4.4576, -4.9457, -4.7236, -4.6238, -2.1441, -2.1491, -2.485, -3.2264, -3.9058, -3.9509, -4.1156, -4.0171, -4.4086, -4.5872, -4.609, -4.6816, -4.6902, -4.7001, -4.808, -4.8246, -4.8256, -4.8383, -4.8574, -4.9171, -4.9225, -4.0457, -4.9811, -4.9898, -5.0763, -5.1285, -5.1754, -5.273, -5.3417, -5.3454, -3.903, -4.387, -4.0283, -4.0778, -2.6862, -2.5351, -3.2126, -3.3177, -3.6539, -3.6607, -3.9214, -4.0139, -4.1921, -4.1974, -4.2294, -4.2788, -4.2855, -4.3093, -4.3103, -4.3116, -4.483, -4.5966, -4.6163, -4.7429, -4.8117, -4.8211, -4.8803, -4.9434, -5.0532, -5.0797, -5.1208, -5.1625, -5.2701, -5.3023, -3.9806, -4.3816, -3.7698, -3.8476, -5.0156, -2.7802, -3.1227, -3.8093, -3.8795, -3.9482, -3.9949, -3.9978, -4.1559, -4.1665, -4.2186, -4.3196, -4.3849, -4.419, -4.4882, -4.6083, -4.6581, -4.7077, -4.7505, -4.7695, -3.4024, -5.0155, -5.0908, -4.6318, -5.1439, -5.1959, -5.2018, -5.2253, -5.2449, -5.3424, -5.4147, -4.2942, -4.0189, -4.4973, -4.8658, -4.7998, -4.8567, -2.6268, -2.8448, -2.9109, -3.2413, -3.6384, -3.6398, -3.7106, -3.7617, -3.8803, -4.1327, -4.2647, -4.3939, -4.432, -4.457, -4.4672, -4.4765, -4.5546, -4.6894, -4.736, -4.774, -4.9767, -5.0634, -5.0667, -5.1359, -5.1551, -5.1665, -5.1879, -5.3278, -5.3278, -5.3278, -4.5042, -4.9578, -5.2237, -3.2311, -3.3597, -3.4228, -3.4431, -3.7587, -3.8077, -3.9966, -4.0268, -4.0464, -4.1083, -4.1118, -4.1942, -4.2124, -4.2682, -4.286, -4.4682, -4.4957, -4.5353, -4.5906, -4.6014, -4.8731, -4.8803, -4.9369, -4.9728, -4.9763, -5.0109, -5.013, -5.0463, -5.1008, -5.1023, -4.8291, -2.5688, -2.6012, -3.0558, -3.8079, -4.0523, -4.0648, -4.0894, -4.2174, -4.2241, -4.2643, -4.4135, -4.4135, -4.4602, -4.4602, -4.4664, -4.4984, -4.5843, -4.8657, -4.8992, -4.9338, -5.0276, -5.066, -5.0757, -5.1752, -5.1867, -5.2029, -5.2481, -5.4297, -4.5849, -5.5435, -4.32, -4.9818, -4.0246, -4.8273, -4.9747, -5.0665, -2.8269, -3.0338, -3.1633, -3.3552, -3.5906, -3.6513, -3.7594, -3.8086, -4.1301, -4.1661, -4.2079, -4.3125, -4.3243, -4.3578, -4.4989, -4.4989, -4.4989, -4.4989, -4.4989, -4.4989, -4.4989, -4.4989, -4.4989, -4.5039, -4.5772, -4.647, -4.6837, -4.9144, -5.052, -5.1152, -3.6421, -3.9508, -4.2537, -4.4259, -2.6966, -3.1972, -3.4988, -3.7225, -3.7548, -3.8078, -3.8632, -3.9793, -4.0481, -4.0481, -4.065, -4.1284, -4.1391, -4.2768, -4.3692, -4.3737, -4.3737, -4.3737, -4.3737, -4.3737, -4.3737, -4.3737, -4.3737, -4.5941, -4.7412, -4.9751, -4.9783, -5.0671, -5.1977, -5.222, -4.1966, -4.3597, -4.6614, -3.0256, -3.0968, -3.4259, -3.4956, -3.515, -3.5631, -3.942, -3.9458, -4.2834, -4.3119, -4.3119, -4.3659, -4.4528, -4.5503, -4.7146, -4.7587, -4.8154, -4.8362, -4.8799, -4.9336, -4.9389, -5.1359, -5.192, -5.209, -5.2783, -5.3158, -5.3438, -5.353, -5.3838, -5.4391, -3.7387, -4.9075, -3.0564, -3.4128, -3.6624, -3.7693, -3.793, -3.8842, -4.1401, -4.1431, -4.2376, -4.2427, -4.2661, -4.2661, -4.2661, -4.2661, -4.5432, -4.6153, -4.6603, -4.6899, -4.7633, -4.793, -4.9081, -4.9589, -5.0334, -5.0828, -5.0902, -5.1124, -5.1155, -5.1659, -5.1686, -5.1728, -3.6726, -5.0433, -4.8961, -2.9471, -3.2194, -3.5098, -3.6569, -3.8515, -4.1504, -4.3086, -4.4006, -4.4298, -4.5374, -4.6211, -4.6835, -4.7069, -4.7816, -4.786, -4.7916, -4.8404, -4.8496, -4.8809, -5.0294, -5.0706, -5.1154, -5.1431, -5.2471, -5.2771, -5.3541, -5.3735, -5.4319, -5.4319, -5.4319, -4.4627, -4.0704, -4.62, -5.1943], \"loglift\": [30.0, 29.0, 28.0, 27.0, 26.0, 25.0, 24.0, 23.0, 22.0, 21.0, 20.0, 19.0, 18.0, 17.0, 16.0, 15.0, 14.0, 13.0, 12.0, 11.0, 10.0, 9.0, 8.0, 7.0, 6.0, 5.0, 4.0, 3.0, 2.0, 1.0, 1.3034, 1.3021, 1.3009, 1.3004, 1.3004, 1.3, 1.2994, 1.2977, 1.2971, 1.2964, 1.2961, 1.2918, 1.2912, 1.291, 1.2866, 1.286, 1.2848, 1.2843, 1.2816, 1.2785, 1.2778, 1.2766, 1.2762, 1.276, 1.276, 1.2752, 1.2745, 1.2737, 1.2725, 1.2695, 1.2665, 1.2626, 1.263, 1.2567, 1.2416, 1.2112, 1.1566, 1.1508, 1.2412, 1.1939, 1.1478, 1.2026, 1.2242, 1.1083, 1.0516, 1.1847, 1.0474, 1.1993, 1.0589, 1.1276, 0.8146, 0.9947, 0.9928, 0.6405, 0.808, 0.9222, 0.5804, 1.0496, 0.0957, 0.7261, 0.7971, 0.861, -0.2411, 1.9251, 1.9156, 1.9151, 1.9136, 1.9114, 1.911, 1.911, 1.9105, 1.9087, 1.9065, 1.9059, 1.9058, 1.9052, 1.902, 1.9016, 1.901, 1.9004, 1.9004, 1.9004, 1.8992, 1.8991, 1.8983, 1.8975, 1.8954, 1.8936, 1.8929, 1.8916, 1.8915, 1.8901, 1.8873, 1.8819, 1.802, 1.8634, 1.8496, 1.8693, 1.6933, 1.6544, 1.7171, 1.7005, 1.7895, 1.6929, 1.4064, 1.4038, 1.6022, 1.1858, 1.3379, 0.8862, 1.1732, 0.5607, 0.5694, 1.2458, 1.4236, 0.7201, 0.8302, 0.0903, 0.0995, 0.6028, 0.0899, -0.5732, 0.0157, 2.0832, 2.0721, 2.0701, 2.0701, 2.0671, 2.0637, 2.0633, 2.0611, 2.0604, 2.0598, 2.059, 2.0581, 2.0573, 2.0539, 2.0533, 2.0526, 2.0525, 2.0494, 2.0483, 2.0427, 2.0421, 2.0391, 2.0383, 2.0357, 2.0339, 2.0327, 2.0327, 2.0323, 2.0308, 2.029, 2.0135, 2.0202, 1.9946, 2.007, 1.9597, 1.9964, 1.9276, 1.9762, 1.9343, 1.7527, 1.6911, 1.8847, 1.7537, 1.8657, 1.6218, 1.6091, 0.994, 1.0423, 1.0161, 1.3229, 1.3561, 0.777, 1.137, 0.7631, 0.8333, 0.5656, 1.5001, -0.55, -0.1331, -0.2124, 2.2121, 2.212, 2.2116, 2.2116, 2.2105, 2.2055, 2.205, 2.2041, 2.2027, 2.1977, 2.1972, 2.1971, 2.1956, 2.1943, 2.1893, 2.189, 2.1868, 2.1844, 2.1823, 2.1796, 2.1793, 2.1781, 2.1748, 2.1734, 2.1724, 2.1721, 2.1719, 2.1711, 2.1702, 2.1699, 2.1632, 2.1074, 2.1535, 2.1333, 2.0194, 2.0445, 1.8499, 2.077, 1.9379, 1.6784, 1.7447, 1.572, 1.2597, 1.0498, 1.2469, 1.4475, 1.1663, 1.3311, 1.1773, 1.6206, 1.35, 1.2952, 1.2362, 0.2969, 0.4811, -0.2101, 0.7914, -0.3585, 2.3675, 2.3654, 2.3595, 2.3567, 2.3549, 2.3536, 2.3517, 2.3512, 2.3501, 2.3494, 2.3489, 2.3487, 2.3464, 2.3453, 2.3437, 2.3433, 2.3432, 2.3429, 2.3429, 2.3418, 2.3416, 2.3403, 2.3403, 2.3337, 2.3311, 2.3294, 2.329, 2.329, 2.3261, 2.3248, 2.3209, 2.2904, 2.2647, 2.2429, 2.2557, 2.2481, 2.2397, 2.265, 2.2691, 2.1862, 2.2739, 2.0634, 1.9207, 1.876, 2.0591, 1.7287, 1.3175, 0.525, 1.3056, 1.1311, 0.7429, 0.9063, 0.5079, 0.9544, 1.057, 1.0548, -0.4596, 0.0674, 2.7872, 2.7868, 2.786, 2.7857, 2.7822, 2.7802, 2.7796, 2.7767, 2.7735, 2.7686, 2.7663, 2.7657, 2.763, 2.7614, 2.7606, 2.7601, 2.7567, 2.7552, 2.7552, 2.7531, 2.7528, 2.7505, 2.7485, 2.7482, 2.748, 2.7462, 2.746, 2.7458, 2.7452, 2.7447, 2.7196, 2.7128, 2.7257, 2.7127, 2.6973, 2.5792, 2.4118, 2.2144, 2.3269, 2.5795, 1.5522, 1.8526, 2.3292, 1.2715, 0.1719, 1.2638, 1.4033, 1.0557, 0.6366, 3.5387, 3.5372, 3.5353, 3.5268, 3.5264, 3.5239, 3.5221, 3.5208, 3.5205, 3.5197, 3.5188, 3.5187, 3.5179, 3.5167, 3.5161, 3.5141, 3.5138, 3.5067, 3.5064, 3.5046, 3.504, 3.4998, 3.4998, 3.4997, 3.4989, 3.4958, 3.4954, 3.4947, 3.493, 3.4926, 3.1314, 3.59, 3.5802, 3.5765, 3.576, 3.5726, 3.5723, 3.5664, 3.5658, 3.553, 3.5525, 3.5507, 3.5487, 3.5472, 3.5454, 3.5436, 3.5425, 3.542, 3.5406, 3.5405, 3.5398, 3.539, 3.535, 3.5302, 3.5286, 3.525, 3.5204, 3.5184, 3.514, 3.5077, 3.5019, 3.4977, 3.3848, 3.4026, 3.3341, 3.2098, 2.9635, 3.0746, 3.2284, 0.6423, 2.1994, 1.5976, 3.7917, 3.7786, 3.7759, 3.7745, 3.7667, 3.7664, 3.7657, 3.7632, 3.7619, 3.7604, 3.7522, 3.7507, 3.7425, 3.7389, 3.7361, 3.7355, 3.7298, 3.729, 3.7245, 3.7239, 3.7224, 3.7154, 3.7139, 3.7139, 3.7139, 3.7139, 3.7139, 3.7139, 3.7139, 3.7122, 3.5896, 3.3091, 3.0486, 3.2487, 3.2723, 2.9766, 2.6242, 3.6131, 2.3589, 0.0669, 3.9315, 3.9315, 3.9288, 3.9184, 3.8995, 3.8978, 3.8907, 3.8877, 3.875, 3.863, 3.8615, 3.8559, 3.8552, 3.8544, 3.8453, 3.8438, 3.8437, 3.8426, 3.8408, 3.8351, 3.8346, 3.8343, 3.8287, 3.8278, 3.8184, 3.8123, 3.8066, 3.7941, 3.7846, 3.784, 3.4877, 3.4382, 2.9669, 2.7117, 4.2156, 4.2101, 4.205, 4.2021, 4.1908, 4.1905, 4.1787, 4.1738, 4.163, 4.1626, 4.1605, 4.157, 4.1565, 4.1548, 4.1547, 4.1546, 4.141, 4.1306, 4.1287, 4.1157, 4.1079, 4.1068, 4.0997, 4.0918, 4.0768, 4.0729, 4.0668, 4.0604, 4.0427, 4.0371, 3.9846, 3.8811, 3.6882, 3.431, 1.3704, 4.4287, 4.4022, 4.3917, 4.3876, 4.3834, 4.3803, 4.3801, 4.3686, 4.3678, 4.3636, 4.3548, 4.3488, 4.3454, 4.3383, 4.325, 4.319, 4.3128, 4.3072, 4.3046, 4.2928, 4.2676, 4.2547, 4.2482, 4.2451, 4.2352, 4.2341, 4.2295, 4.2256, 4.2052, 4.1891, 2.7876, 2.0577, 2.7962, 3.1276, 2.0369, 1.4774, 4.4651, 4.4606, 4.459, 4.4491, 4.4328, 4.4328, 4.4291, 4.4263, 4.4193, 4.4014, 4.3903, 4.378, 4.3741, 4.3715, 4.3704, 4.3694, 4.3606, 4.344, 4.3378, 4.3326, 4.3015, 4.2865, 4.2859, 4.2731, 4.2694, 4.2672, 4.263, 4.2336, 4.2336, 4.2336, 4.0369, 2.0064, 1.3882, 4.4911, 4.4864, 4.4837, 4.4829, 4.4672, 4.4642, 4.4517, 4.4495, 4.4481, 4.4432, 4.443, 4.4361, 4.4345, 4.4295, 4.4278, 4.4092, 4.404, 4.4015, 4.3948, 4.3935, 4.3553, 4.3541, 4.3449, 4.3389, 4.3383, 4.3323, 4.3319, 4.3259, 4.3158, 4.3155, 2.2774, 4.5487, 4.548, 4.5366, 4.5025, 4.4851, 4.4841, 4.4821, 4.4709, 4.4702, 4.4664, 4.451, 4.451, 4.4457, 4.4457, 4.445, 4.4412, 4.4306, 4.3897, 4.3842, 4.3782, 4.3614, 4.3541, 4.3522, 4.3321, 4.3297, 4.3262, 4.3163, 4.273, 4.2523, 4.2426, 4.1505, 3.8194, 2.5403, 2.6307, 1.5928, 1.8004, 4.5636, 4.5578, 4.5535, 4.5461, 4.5349, 4.5316, 4.5252, 4.5221, 4.4978, 4.4946, 4.4907, 4.4804, 4.4792, 4.4757, 4.4595, 4.4595, 4.4595, 4.4595, 4.4595, 4.4595, 4.4595, 4.4595, 4.4595, 4.4589, 4.4496, 4.4403, 4.4351, 4.3987, 4.3734, 4.3608, 4.26, 4.1575, 3.2043, 2.441, 4.641, 4.6255, 4.6119, 4.5989, 4.5968, 4.5932, 4.5892, 4.5803, 4.5745, 4.5745, 4.573, 4.5672, 4.5662, 4.5524, 4.5421, 4.5416, 4.5416, 4.5416, 4.5416, 4.5416, 4.5416, 4.5416, 4.5416, 4.5133, 4.4912, 4.45, 4.4494, 4.4315, 4.4028, 4.3972, 4.3563, 3.8303, 2.9382, 4.654, 4.6515, 4.6375, 4.634, 4.6329, 4.6303, 4.6046, 4.6043, 4.5725, 4.5693, 4.5693, 4.5631, 4.5524, 4.5395, 4.5151, 4.508, 4.4984, 4.4948, 4.4869, 4.4769, 4.4759, 4.4351, 4.4223, 4.4182, 4.4014, 4.3919, 4.3847, 4.3822, 4.374, 4.3588, 4.2617, 3.1001, 4.7633, 4.7467, 4.7313, 4.7236, 4.7217, 4.7143, 4.6899, 4.6895, 4.679, 4.6784, 4.6756, 4.6756, 4.6756, 4.6756, 4.6381, 4.6268, 4.6194, 4.6144, 4.6014, 4.5959, 4.5733, 4.5627, 4.5463, 4.5349, 4.5332, 4.5279, 4.5271, 4.5147, 4.514, 4.513, 3.7181, 4.0585, 3.3666, 5.2036, 5.1867, 5.1633, 5.1488, 5.1266, 5.0841, 5.0568, 5.0393, 5.0335, 5.0107, 4.9917, 4.9766, 4.9708, 4.9515, 4.9504, 4.9489, 4.9356, 4.933, 4.9242, 4.8796, 4.8664, 4.8516, 4.8423, 4.8055, 4.7945, 4.7651, 4.7575, 4.734, 4.734, 4.734, 4.294, 3.8317, 3.0753, 2.4987]}, \"token.table\": {\"Topic\": [12, 1, 9, 7, 18, 19, 13, 13, 1, 6, 6, 9, 10, 19, 12, 4, 8, 8, 8, 3, 10, 16, 1, 2, 4, 5, 8, 3, 1, 2, 3, 4, 1, 2, 3, 4, 5, 6, 10, 2, 4, 12, 7, 17, 6, 14, 3, 3, 6, 9, 14, 10, 19, 17, 14, 12, 5, 8, 9, 14, 17, 20, 15, 1, 3, 2, 1, 2, 15, 1, 2, 3, 4, 5, 6, 8, 12, 5, 9, 4, 4, 13, 1, 18, 3, 6, 10, 18, 13, 15, 20, 16, 1, 3, 5, 13, 14, 1, 2, 3, 4, 9, 3, 5, 8, 9, 12, 4, 9, 2, 10, 2, 9, 12, 17, 20, 16, 1, 4, 6, 8, 11, 14, 2, 20, 6, 4, 5, 6, 18, 7, 19, 13, 1, 2, 10, 15, 7, 6, 8, 12, 12, 13, 11, 18, 5, 4, 1, 10, 5, 15, 14, 1, 2, 3, 5, 7, 19, 8, 11, 1, 18, 9, 14, 18, 15, 20, 1, 2, 3, 11, 20, 17, 5, 6, 8, 16, 7, 20, 4, 15, 17, 14, 17, 1, 2, 2, 4, 8, 14, 1, 18, 1, 15, 7, 1, 19, 1, 2, 4, 5, 6, 8, 12, 19, 17, 1, 2, 3, 4, 5, 1, 3, 4, 5, 1, 2, 9, 8, 1, 20, 20, 20, 4, 1, 2, 3, 4, 5, 2, 8, 1, 5, 6, 6, 4, 6, 8, 20, 19, 14, 6, 2, 6, 12, 2, 3, 7, 10, 4, 1, 4, 5, 4, 9, 1, 2, 4, 16, 18, 15, 8, 18, 7, 18, 2, 5, 19, 1, 2, 4, 9, 18, 14, 8, 3, 4, 14, 2, 8, 13, 8, 10, 2, 5, 2, 2, 12, 12, 2, 7, 2, 4, 6, 7, 8, 16, 6, 17, 5, 2, 9, 17, 8, 2, 6, 8, 2, 14, 1, 20, 10, 7, 15, 1, 2, 3, 4, 5, 8, 3, 11, 3, 6, 18, 3, 12, 1, 8, 8, 15, 18, 4, 8, 5, 5, 11, 11, 7, 1, 2, 3, 4, 5, 6, 2, 18, 7, 12, 20, 10, 20, 2, 11, 1, 1, 3, 4, 5, 1, 10, 14, 5, 20, 2, 19, 18, 16, 20, 5, 10, 8, 13, 5, 7, 20, 15, 6, 8, 11, 11, 7, 19, 10, 1, 2, 3, 4, 5, 6, 16, 1, 4, 8, 9, 4, 1, 2, 3, 4, 5, 6, 9, 1, 2, 3, 4, 5, 6, 13, 1, 2, 10, 5, 12, 11, 17, 10, 19, 1, 2, 4, 18, 1, 14, 4, 9, 4, 16, 10, 8, 1, 2, 4, 5, 9, 12, 2, 3, 4, 5, 6, 8, 20, 5, 3, 19, 5, 3, 18, 13, 6, 4, 6, 11, 6, 1, 4, 6, 9, 3, 12, 1, 2, 3, 1, 11, 2, 5, 15, 16, 12, 1, 6, 20, 7, 10, 17, 13, 20, 4, 17, 4, 18, 2, 17, 20, 10, 14, 1, 2, 3, 4, 5, 16, 1, 2, 3, 4, 5, 10, 12, 4, 15, 9, 12, 1, 10, 16, 1, 17, 1, 5, 6, 2, 15, 1, 2, 5, 9, 18, 6, 2, 3, 4, 6, 9, 14, 6, 12, 15, 1, 2, 5, 6, 1, 19, 4, 3, 12, 1, 3, 5, 6, 16, 6, 2, 1, 5, 3, 8, 7, 6, 9, 3, 5, 2, 10, 2, 3, 10, 2, 3, 15, 3, 15, 19, 13, 14, 19, 19, 18, 15, 1, 2, 3, 4, 5, 6, 16, 16, 5, 8, 11, 3, 4, 11, 1, 5, 3, 16, 1, 5, 18, 17, 5, 15, 3, 6, 10, 3, 5, 19, 4, 3, 5, 1, 2, 5, 7, 14, 2, 8, 14, 5, 11, 15, 15, 1, 2, 3, 4, 6, 13, 3, 18, 1, 2, 5, 6, 6, 18, 2, 16, 18, 19, 2, 8, 19, 9, 12, 15, 5, 13, 9, 2, 1, 2, 3, 4, 5, 6, 1, 1, 2, 13, 13, 19, 1, 13, 1, 6, 3, 16, 12, 18, 8, 2, 11, 7, 18, 11, 2, 6, 8, 10, 2, 5, 1, 5, 9, 13, 2, 8, 11, 14, 11, 7, 19, 20, 7, 3, 20, 12, 20, 1, 2, 3, 4, 5, 9, 1, 2, 3, 5, 6, 8, 17, 6, 20, 17, 3, 11, 14, 15, 2, 3, 15, 10, 8, 19, 17, 9, 2, 3, 1, 2, 3, 4, 5, 5, 1, 2, 3, 5, 8, 5, 13, 4, 5, 8, 18, 11, 13, 3, 8, 11, 19, 8, 15, 6, 3, 15, 2, 2, 5, 6, 11, 18, 10, 13, 7, 13, 2, 3, 6, 11, 20, 3, 20, 1, 5, 3, 3, 5, 7, 12, 20, 10, 16, 9, 14, 17, 19, 9, 6, 1, 4, 5, 5, 3, 15, 3, 16, 4, 10, 20, 4, 3, 5, 6, 1, 2, 3, 6, 2, 18, 10, 19, 7, 1, 2, 3, 4, 6, 16, 12, 16, 11, 16, 15, 2, 12, 12, 20, 5, 9, 15, 13, 1, 1, 2, 6, 17, 1, 16, 11, 17, 20, 18, 2, 3, 3, 3, 5, 7, 4, 6, 16, 6, 7, 1, 2, 3, 4, 5, 6, 9, 7, 4, 5, 11, 17, 1, 3, 5, 9, 3, 6, 15, 17, 11, 6, 17, 12, 14, 3, 6, 12, 1, 2, 4, 15, 19, 17, 8, 14, 19, 12, 10, 4, 16, 7, 5, 12, 1, 4, 16, 12, 19, 12, 13, 11, 16, 11, 6, 18, 5, 8, 14, 9, 5, 13, 13, 5, 12, 17, 4, 13, 7, 3, 6, 8, 13, 7, 15, 19, 11, 15, 9, 11, 18, 14, 1, 3, 4, 5, 4, 1, 4, 6, 12, 2, 8, 1, 2, 4, 11, 19, 1, 2, 4, 9, 6, 2, 15, 2, 1, 20, 15, 4, 8, 15, 16, 19, 8, 11, 16, 5, 12, 5, 6, 10, 14, 16, 8, 8, 12, 8, 3, 19, 11, 1, 2, 3, 4, 5, 6, 9, 2, 9, 12, 2, 4, 20, 9, 4, 14, 14, 9, 19, 1, 2, 6, 1, 2, 3, 6, 10, 3, 17, 16, 16, 1, 2, 4, 14, 5, 6, 8, 15, 3, 6, 9, 3, 5, 7, 15, 8, 9, 14, 8, 9, 2, 3, 4, 6, 11, 14, 5, 18, 5, 17, 15, 13, 9, 14, 13, 4, 18, 9, 1, 3, 4, 5, 17, 8, 13, 16, 20, 10, 8, 16, 18, 1, 2, 3, 4, 6, 9, 3, 4, 9, 4, 8, 3, 17, 14, 8, 13, 1, 2, 4, 5, 6, 8, 9, 7, 4, 19, 12, 20, 1, 3, 4, 10, 13, 1, 5, 6, 17, 10, 7, 11, 11, 15, 16, 9, 1, 2, 6, 14, 10, 17, 1, 2, 6, 8, 11, 4, 20, 1, 2, 3, 4, 6, 3, 1, 2, 5, 10, 6, 9, 3, 9], \"Freq\": [0.9407221058472651, 0.9824119850163832, 0.9572170976393783, 0.9150876115455303, 0.7205095234108929, 0.8913628746499014, 0.8378714096731892, 0.7193966421268725, 0.9536828649582302, 0.9694310942282145, 0.9640289202516364, 0.6007662594235273, 0.3862068810579819, 0.9086861211961369, 0.8981090622331058, 0.9180261812372659, 0.04172846278351209, 0.9648991713527254, 0.9342588646882507, 0.9778899081413022, 0.3265541782644353, 0.6531083565288706, 0.3901333166111266, 0.33439998566667994, 0.004644444245370555, 0.2693777662314922, 0.9779725297000802, 0.9530153283709963, 0.896715030784988, 0.0410709174405338, 0.05476122325404507, 0.9885851348678656, 0.08751265502499304, 0.12251771703499026, 0.04813196026374617, 0.5207002973987086, 0.004375632751249652, 0.21878163756248262, 0.8703745345099444, 0.9366118189973512, 0.052766863042104296, 0.7355310653103346, 0.9522595476125457, 0.7329768884766575, 0.9939327085432793, 0.844692361998989, 0.9247399960855799, 0.7971114542233378, 0.1708095973335724, 0.01897884414817471, 0.8805199408414094, 0.9338110910449373, 0.9556688436630459, 0.8738060834923838, 0.7248828427430407, 0.9001754439477873, 0.440234228572733, 0.10358452437005482, 0.440234228572733, 0.9548787702713378, 0.7868214742129096, 0.5112095098818606, 0.9591680532300917, 0.9165988517745073, 0.07548461132260648, 0.9940766184830057, 0.9556540322980146, 0.04322053412403081, 0.8700145185672494, 0.04930454225744598, 0.3527171099955751, 0.10050541306325526, 0.3811620382210247, 0.10050541306325526, 0.015170628386906455, 0.9546463110999487, 0.857839331234927, 0.9773255039630985, 0.9730531301163894, 0.9910822211551534, 0.9419308861506496, 0.7374046776971065, 0.9854420791116737, 0.9366460218674978, 0.9778552131471258, 0.9889386515921207, 0.9718860581667759, 0.9339165255107879, 0.9393974808631833, 0.6992785197820444, 0.7907481851852107, 0.8973659866878225, 0.9923769763428373, 0.16287708945595158, 0.8245652653707549, 0.8861018600817765, 0.9436211220775209, 0.7687834328415198, 0.025697496362390635, 0.004282916060398439, 0.17559955847633602, 0.023556038332191415, 0.042816719652856425, 0.2569003179171386, 0.13701350288914058, 0.4624205722508494, 0.09419678323628414, 0.19172177539937504, 0.8094919405751391, 0.6986852489200287, 0.2969412307910122, 0.49132833157377, 0.30415563383138144, 0.18717269774238857, 0.9399944614726126, 0.6653690432649346, 0.8784443167701333, 0.008946108674592054, 0.41599405336853046, 0.5591317921620033, 0.01341916301188808, 0.9329923368650175, 0.8455115164232583, 0.9577338408535613, 0.49364177008607407, 0.99257436794771, 0.9525965275606821, 0.9794584304696471, 0.9692648145310067, 0.84872942664835, 0.9385855050074406, 0.9016984282120128, 0.8378714222795768, 0.9826663335500325, 0.980271229007017, 0.9435491470535216, 0.9340228095274045, 0.969064648081992, 0.9194478587798949, 0.022155370091081802, 0.055388425227704506, 0.9441156713889134, 0.7306084088564585, 0.8489082667726666, 0.9142742051857419, 0.9883251457038001, 0.9791911744101693, 0.9650995082090142, 0.02218619559101182, 0.8943020693269145, 0.0766544630851641, 0.9155661669054708, 0.38942618316902883, 0.033499026509163775, 0.28474172532789205, 0.2889291036415375, 0.9734597075523443, 0.6292729934700609, 0.9634268130506122, 0.9532991383834495, 0.9665693784235766, 0.848729376550374, 0.9416600984402165, 0.9572465810706898, 0.9512355346426613, 0.8700145185672494, 0.692246708995606, 0.7689742208826617, 0.0826170650535091, 0.13981349470593848, 0.9321879779433497, 0.7127317402765826, 0.9492098053901892, 0.9740235546135768, 0.9388964933987098, 0.9955298701634262, 0.9301890355361561, 0.49957027794758296, 0.3746777084606872, 0.7067952527331397, 0.07853280585923775, 0.19633201464809438, 0.8006755442545384, 0.9668885489465422, 0.991488943974307, 0.9759872759849479, 0.04223897244707109, 0.9433370513179209, 0.9411625185152526, 0.9608596221666278, 0.7677046156806087, 0.177162603618602, 0.9959367011757423, 0.8084984617893306, 0.9750341796850898, 0.983622314076399, 0.7734532127912751, 0.0605511001795477, 0.5025741314902459, 0.03027555008977385, 0.20587374061046218, 0.17559819052068834, 0.00605511001795477, 0.00605511001795477, 0.00605511001795477, 0.9162441084953385, 0.01839981604508979, 0.005257090298597083, 0.6729075582204266, 0.14588425578606903, 0.15771270895791248, 0.0068636038179031795, 0.04804522672532226, 0.054908830543225436, 0.8854048925095102, 0.9456224701049174, 0.9172982903389361, 0.06115321935592907, 0.9359922358071853, 0.9956137147613158, 0.9538990166941342, 0.48787636135671997, 0.5112095098818606, 0.9327503946649094, 0.7722231551618247, 0.08175000828260359, 0.07168846880166777, 0.021380771396988633, 0.05156538983979612, 0.9345211537081293, 0.025958920936336925, 0.9381969253980648, 0.026805626439944708, 0.03574083525325961, 0.985475345200813, 0.9786438680239403, 0.9102362140838676, 0.0617109297683978, 0.01542773244209945, 0.9065568883722521, 0.954595824755904, 0.9879588213881356, 0.3396282730768855, 0.6368030120191602, 0.8810453264080682, 0.060773751717543394, 0.9359157764501682, 0.9368250711396614, 0.9590449999398261, 0.9385327492736641, 0.00870527507388097, 0.8182958569448111, 0.16540022640373842, 0.39936105911099057, 0.5705157987299866, 0.9385871007248305, 0.013802751481247507, 0.05521100592499003, 0.9169069377312599, 0.8713761197571024, 0.8112180133107358, 0.8894222451486682, 0.05558889032179176, 0.2931582351862492, 0.6449481174097482, 0.10542538324846464, 0.878544860403872, 0.8051374446775856, 0.15101012777420297, 0.4753105661089667, 0.3515317728514233, 0.019804606921206946, 0.8274806391954924, 0.9230666952218932, 0.9445019163963365, 0.9681908978009706, 0.9568489269677241, 0.9796581523423963, 0.9673614013940246, 0.020365503187242624, 0.010182751593621312, 0.9878383612770266, 0.9262605669286258, 0.017239916883830562, 0.9654353454945114, 0.9856211998081207, 0.9688336554040907, 0.9203141943679153, 0.8543620789656577, 0.9746291828052761, 0.9367928270275665, 0.06841358170695327, 0.8346456968248299, 0.08209629804834392, 0.9241639758262699, 0.9078417357327573, 0.7692668762008523, 0.4960978072555784, 0.42522669193335294, 0.9780572889892718, 0.9820401706630314, 0.023952199284464182, 0.9229364330902831, 0.9415742184418875, 0.9537307881757967, 0.010423287302467724, 0.03126986190740317, 0.9966373456957502, 0.7257366286134654, 0.991371045418529, 0.9182128168957405, 0.8602259654729314, 0.9094024382967756, 0.9131745286761458, 0.22539768670094226, 0.1544860549298593, 0.3418953674677214, 0.12916047215447252, 0.09370465626893106, 0.05318372382831222, 0.9865884372087153, 0.8712171175921378, 0.971651381514788, 0.9486064832822054, 0.9568942704747885, 0.9718081658618553, 0.02053115843370117, 0.16177797537541241, 0.808889876877062, 0.9881570404414859, 0.8226539117682633, 0.8007259310958177, 0.9609232320306589, 0.9668070361987938, 0.9927879901055023, 0.9451709872384436, 0.95957205903771, 0.9061656507183653, 0.96671266174812, 0.011127316790561767, 0.8804489410531998, 0.022254633581123534, 0.0027818291976404418, 0.04868201095870773, 0.0333819503716853, 0.9686970887563828, 0.9111309266439659, 0.935323153018683, 0.7531043861458566, 0.9182815031296507, 0.9193685062901606, 0.8819510219397648, 0.9707189483932139, 0.021334482382268437, 0.9694864088387778, 0.7789355434760109, 0.11618021665404908, 0.010561837877640826, 0.09241608142935723, 0.3444513295011813, 0.5904879934305965, 0.8055808665516054, 0.987067647200746, 0.4651640464970426, 0.9836622702256446, 0.8832789850049931, 0.8902944508055771, 0.7439378756823987, 0.2656920984579995, 0.975044125093964, 0.9009020353181405, 0.3020453044685325, 0.604090608937065, 0.33072869543984734, 0.6614573908796947, 0.5112095098818606, 0.9761427100913092, 0.3289554043360874, 0.6109171794813051, 0.04699362919086963, 0.9194426844876358, 0.97906512175004, 0.6325326780340649, 0.9956318381735951, 0.2973183498308609, 0.2547027196884375, 0.006937428162720088, 0.30921108382409535, 0.05847260880006931, 0.07234746512550949, 0.9348577150806681, 0.957977740077554, 0.021288394223945645, 0.005322098555986411, 0.010644197111972823, 0.961137272658849, 0.6098443771829057, 0.2569251774242797, 0.008470060794207025, 0.05929042555944917, 0.060702102358483674, 0.002823353598069008, 0.001411676799034504, 0.32749445310929715, 0.003945716302521652, 0.21701439663869088, 0.090751474957998, 0.2406886944538208, 0.11442577277312792, 0.9025466664940781, 0.3842630581129708, 0.5998252614446373, 0.8517447139665264, 0.9623531149615981, 0.765004882477224, 0.9369173703302687, 0.8781813698982776, 0.6373029357223359, 0.35051661464728473, 0.9554820647046742, 0.034744802352897244, 0.9491984356694906, 0.6287107613175393, 0.8873754351241661, 0.09593247947288282, 0.7492099456967095, 0.23412810803022172, 0.9868804117365249, 0.9876628581966841, 0.9571209901837322, 0.9134086384966891, 0.9063601123929754, 0.015901054603385534, 0.0477031638101566, 0.015901054603385534, 0.0039752636508463834, 0.007950527301692767, 0.1306792102511747, 0.6185482618555603, 0.20037478905180123, 0.04355973675039157, 0.955023695616586, 0.021222748791479687, 0.9350620961746369, 0.9408138155281227, 0.953038491675428, 0.8428675836971581, 0.9685593565306571, 0.9698498643272082, 0.02852499600962377, 0.9459659812679356, 0.9828342450811174, 0.9741466892989418, 0.9343590767717406, 0.044493289370082886, 0.9832747504776679, 0.37911923350098814, 0.5439536828492438, 0.07417550220671507, 0.9253804181932221, 0.9533496593065492, 0.9381779057053338, 0.13899745847530218, 0.006618926594062009, 0.8538415306339991, 0.9913545137672836, 0.9519759012948182, 0.8101623634301347, 0.1817186609562919, 0.9698994753952233, 0.9169069377312599, 0.8740921677235418, 0.9642355826950935, 0.9466845333348852, 0.6681152491453779, 0.934805030141451, 0.9010725031015576, 0.9213441854717048, 0.8781604434584047, 0.9676218734371382, 0.9683886655748221, 0.9164399575027128, 0.9834948876137113, 0.9195816612570596, 0.9681098725221902, 0.8781813620575014, 0.8055612949836409, 0.9388430466751719, 0.8702551603260419, 0.2723298634493328, 0.14663915724194843, 0.2700022577788257, 0.11405267785484878, 0.1955188763225979, 0.9557370587588198, 0.02038538992844724, 0.005559651798667429, 0.9284618503774607, 0.005559651798667429, 0.038917562590672, 0.9183358463785752, 0.8457421818589768, 0.9760489448679762, 0.705135969824888, 0.9483372058772199, 0.894109652780666, 0.9745597124128756, 0.9424299590509269, 0.9208927535177511, 0.9915798674252863, 0.9400144599036608, 0.6367135074365006, 0.13911387557436147, 0.21402134703747916, 0.9874127805944501, 0.8706005678485647, 0.1881564026221781, 0.7868358655109265, 0.00855256375555355, 0.9244676445493748, 0.7235584717139131, 0.9300641026358527, 0.33696795890956305, 0.02063069136180998, 0.6189207408542995, 0.013753794241206655, 0.9600141252877776, 0.924537293693891, 0.9612486299521243, 0.3917203260540787, 0.5222937680721049, 0.5290102348265461, 0.11865650126950565, 0.34608146203605816, 0.9789820492250957, 0.9919095415763904, 0.9786917946010584, 0.9725272021415368, 0.7806715346501027, 0.20239632379817477, 0.06114725162482017, 0.8152966883309356, 0.11210329464550364, 0.9845864381557318, 0.9738571110066063, 0.9825041572201488, 0.9878442550545289, 0.727517147337245, 0.26582357306553184, 0.9647431419528235, 0.930312466598132, 0.9713954070819241, 0.9916996627810933, 0.9596876234989858, 0.1194549160569423, 0.8760027177509102, 0.9793808080529308, 0.992303184253395, 0.34991181129105003, 0.6269253285631313, 0.01457965880379375, 0.27089534861783127, 0.7135779914811164, 0.006607203624825152, 0.8511286100307546, 0.12557635229961953, 0.7638600276429451, 0.8416043947752858, 0.91759287506467, 0.8117649238938033, 0.7050810437973124, 0.87205895515455, 0.6432891140760741, 0.9681187291865684, 0.266873477578933, 0.1766627245945049, 0.24056200795847477, 0.030070250994809346, 0.28942616582504, 0.871484666032885, 0.9440240000595435, 0.9216872157782132, 0.011666926782002698, 0.05833463391001349, 0.23381746668805573, 0.7506771298932315, 0.9858478001103181, 0.9483990986965453, 0.9543791583564069, 0.941814200135075, 0.9169069335486901, 0.9644187575705245, 0.9878804506932756, 0.8948632654040753, 0.8781813698982776, 0.9678182126644868, 0.800973048970189, 0.15075129664374198, 0.796828282259779, 0.043071799041069135, 0.021225008025800605, 0.9763503691868278, 0.9016984282120128, 0.9511911538204002, 0.8783243700660787, 0.11600510548042547, 0.8803538084868304, 0.1000402055098671, 0.00666934703399114, 0.9514965402508548, 0.8980619498682825, 0.9664890030374974, 0.8907550658037855, 0.8645752604529994, 0.968619468174026, 0.8820356835772973, 0.8459219742497207, 0.8518592499498476, 0.857819980424113, 0.05537825190079716, 0.007600936535403532, 0.07600936535403532, 0.002171696152972438, 0.9654841631404462, 0.9313465637013876, 0.9244008846438307, 0.28707073989709303, 0.591539706454616, 0.1174380299579017, 0.00434955666510747, 0.9415952667596306, 0.6646105338281739, 0.984985096926954, 0.9169069377312599, 0.9784183469958668, 0.9623146075358406, 0.7412027073845173, 0.25268274115381273, 0.879306014936167, 0.9373079689346091, 0.013989671178128493, 0.05595868471251397, 0.9713762866003708, 0.8235715359997555, 0.8620441423105526, 0.9762385230668935, 0.229682959712398, 0.29824503723848694, 0.006856207752608895, 0.4113724651565337, 0.006856207752608895, 0.047993454268262264, 0.981371900361258, 0.8932014629979653, 0.09304181906228805, 0.9194271460861382, 0.9926837097410848, 0.8638207575253029, 0.9952671215270309, 0.8998058841154157, 0.05865049483759034, 0.9237452936920478, 0.9766908734236125, 0.8182001700557731, 0.8911877132907778, 0.6601153280012859, 0.9200320137468915, 0.9757159241373776, 0.9070522788211147, 0.9694049244969226, 0.8319744674394023, 0.9340922853911331, 0.9907958018464211, 0.2261837764773337, 0.7633702456110013, 0.9219630455077673, 0.1132975885066492, 0.8723914315011988, 0.9863546102601326, 0.9526551664415591, 0.9546696525203668, 0.8378714016504253, 0.8690847516335685, 0.10488953899025827, 0.014984219855751182, 0.8952635195102957, 0.9819963567080066, 0.9770652296639543, 0.9016984282120128, 0.7419868220640438, 0.9464434851222258, 0.9808496709130199, 0.759484495163702, 0.947465629239424, 0.036440985739977845, 0.023565594338932627, 0.5935584074118655, 0.33433686968360665, 0.013255646815649603, 0.025038443985115916, 0.007364248230916446, 0.10581056269110044, 0.15871584403665065, 0.715279403791839, 0.01904590128439808, 0.8180442520346253, 0.16360885040692505, 0.8781813698982776, 0.9711874813685282, 0.8267798821050147, 0.8781813620575014, 0.9514707535100051, 0.02212722682581407, 0.1353731562426823, 0.6768657812134115, 0.9842188170640714, 0.9935565555984159, 0.9747060433021326, 0.9381021555962941, 0.35276076287715513, 0.5291411443157327, 0.7310780880684268, 0.9692217884522983, 0.4339756805703461, 0.551266405048818, 0.85313999881483, 0.00399129824006938, 0.04789557888083257, 0.08780856128152636, 0.0069847719201214156, 0.9704382797074572, 0.5590280775256491, 0.09737908447220983, 0.26689082410901954, 0.0649193896481399, 0.010819898274689982, 0.9730509820943478, 0.7501683062296524, 0.1006061182887294, 0.8970712214078371, 0.9721219471150135, 0.8832626573857776, 0.8641563576407696, 0.9065864747241615, 0.9687230282378793, 0.014903431203659681, 0.8749688700008258, 0.9596056930847585, 0.9723550094431028, 0.7937030121893202, 0.9846189450085234, 0.9826093216803536, 0.8997960224688948, 0.9750905307825892, 0.2742490124298048, 0.03538696934578127, 0.6811991599062894, 0.8947215669100477, 0.8459144666162178, 0.9147661080433548, 0.9041605377954424, 0.9334900520001077, 0.9452472654784344, 0.02870658717813231, 0.9042574961111678, 0.043059880767198466, 0.8297628870093383, 0.8379652242268818, 0.9053456900511171, 0.04311169952624367, 0.9555915411868356, 0.037110351114051865, 0.9978975812583349, 0.895777951763572, 0.09953088352928578, 0.9670472317537625, 0.8438110531678986, 0.9190258446397711, 0.9066148206070404, 0.9169069335486901, 0.9416601621924579, 0.20374106790780297, 0.7130937376773104, 0.9016984282120128, 0.9435689388025603, 0.9521151030573978, 0.25918902348534245, 0.3939673156977206, 0.3421295110006521, 0.9748905552050362, 0.9610243060303372, 0.9331164281445113, 0.9921267583543755, 0.9169069335486901, 0.9821376053617097, 0.9291647919822184, 0.853456034151474, 0.9794622622828413, 0.17498923097533234, 0.7303898336361697, 0.08369050177081112, 0.1018238044762946, 0.0218193866734917, 0.4800265068168174, 0.3854758312316867, 0.9817092642156426, 0.8017748175316445, 0.9028246767420911, 0.8824950063308908, 0.9321384534736032, 0.7318305925020722, 0.10520064767217287, 0.027443647218827708, 0.12349641248472468, 0.013721823609413854, 0.9161451356463824, 0.847741673995746, 0.141290278999291, 0.9771580743964738, 0.9077430624951315, 0.8747344923653153, 0.9806756475421224, 0.9375450859541212, 0.7390251262727262, 0.8131774284415297, 0.974293147529148, 0.9012720215478222, 0.8346824385696284, 0.9480002846383042, 0.9958755252227949, 0.8186108827681075, 0.12632883993334992, 0.05305811277200697, 0.9626752030297011, 0.9565668513927486, 0.9169069377312599, 0.9789622320086552, 0.8781813698982776, 0.45643793524251336, 0.6465761570005245, 0.06591930415171887, 0.9228702581240642, 0.9674216203993923, 0.388129840375536, 0.6072353954262418, 0.9488786634875672, 0.8906919027251894, 0.09896576696946549, 0.9147471312454674, 0.9489863019339246, 0.9754838445863178, 0.2552088585962918, 0.02205508654535855, 0.08506961953209727, 0.5797337034779962, 0.0441101730907171, 0.0063014532986738715, 0.0063014532986738715, 0.9473140892922007, 0.9793789568062419, 0.9859341086404642, 0.9239849655563578, 0.9816285203997046, 0.18753809604820473, 0.2813071440723071, 0.5265492696738057, 0.9360556914255094, 0.04335864534009418, 0.9105315521419778, 0.02167932267004709, 0.8747074676931686, 0.7962997901780515, 0.9611030781074151, 0.8873703783481333, 0.7051308624225863, 0.8996161606473605, 0.9067408042731284, 0.06800556032048463, 0.9342004267297337, 0.09105658255528219, 0.7984961854847823, 0.09105658255528219, 0.014008705008504953, 0.9407097321994782, 0.8737990180526933, 0.9856224496290206, 0.8727670209467684, 0.8863254089877065, 0.8263481172566887, 0.9155808182497047, 0.9666341867066457, 0.8691242655242402, 0.9456573759349093, 0.8971741444327835, 0.09154838208497791, 0.8344374331633027, 0.15413175517029157, 0.005314888109320399, 0.918573700774261, 0.6305472131966765, 0.8999332192979905, 0.9185551211626036, 0.927828762896269, 0.7313182120335944, 0.9716188063643536, 0.9405365419917358, 0.032432294551439166, 0.3191972175065074, 0.6782940872013282, 0.9607134590089718, 0.9416601621924579, 0.894448467911679, 0.08320450864294689, 0.9440067945422043, 0.9539543914328017, 0.8129526205603945, 0.8876501432915388, 0.9846550635645789, 0.8575393389653441, 0.9465798066441198, 0.2632556829041087, 0.6288885758264819, 0.058501262867579715, 0.04387594715068479, 0.28143202276496765, 0.6566747197849245, 0.9593059454469594, 0.9118378174883461, 0.7331188677614185, 0.9416601621924579, 0.9191131822770285, 0.6797970691101306, 0.897284122625781, 0.6069366418668772, 0.1207517926227295, 0.04130982379198641, 0.23197054898576983, 0.9397177744122829, 0.601196954461862, 0.37105124533193046, 0.023484256033666485, 0.9314743950725164, 0.983780573112237, 0.8892659270020064, 0.42727286871547837, 0.11077444744475365, 0.4589227108425508, 0.685914346642849, 0.22863811554761634, 0.8920790265823093, 0.08736856445909215, 0.004598345497846955, 0.013795036493540865, 0.9664868825143684, 0.9936396906738186, 0.9388059522609471, 0.9805058517582443, 0.9758926371605758, 0.6968790681647017, 0.9027133909059426, 0.9893233054219261, 0.8115093384325125, 0.05661693058831482, 0.11323386117662965, 0.9432934278273536, 0.5412157911210587, 0.4557606662072073, 0.9065422534380689, 0.9532935276375397, 0.028887682655683023, 0.730361809931626, 0.2562673017303951, 0.8836572158059242, 0.05197983622387789, 0.9169069377312599, 0.9416633448488415, 0.6986677132693335, 0.29111154719555565, 0.9676323624454021, 0.9569432143144706, 0.03086913594562808, 0.8249860075513991, 0.2128694999305051, 0.15833268589872282, 0.3518504131082729, 0.10555512393248187, 0.15481418176764009, 0.01583326858987228, 0.0017592520655413646, 0.9607066896786595, 0.9416601621924579, 0.9829725804429955, 0.7614798570210989, 0.2369048444065641, 0.6164961003217907, 0.9271077217689769, 0.9889114226967288, 0.9509192907969586, 0.9766190026081686, 0.9481306549867285, 0.9176261460484306, 0.10239929402559673, 0.7912672720159748, 0.10239929402559673, 0.6800240804897006, 0.09962136210995615, 0.10395272567995424, 0.11261545281995042, 0.8746312424849798, 0.9814673635103853, 0.8868060115936971, 0.9712927877019913, 0.897001696810656, 0.8497165224389603, 0.11746081339597393, 0.029989994909610365, 0.9419167119003337, 0.9803710786371174, 0.01647682485104399, 0.9500293036576206, 0.8403790511714061, 0.9786314777931655, 0.9892097420828477, 0.892836037247561, 0.9796508040372901, 0.9723505790326881, 0.977251507338275, 0.727459234420453, 0.1024700091176473, 0.8197600729411784, 0.9419500944516924, 0.9652795272902145, 0.9416601621924579, 0.03391356589070795, 0.21801578072597969, 0.6879609080686471, 0.05329274639968393, 0.7923747804106688, 0.16979459580228617, 0.9606171285431833, 0.7075695174328899, 0.9744093817411205, 0.9698622536836267, 0.8346824416350276, 0.9434374895890686, 0.9348047550670779, 0.042491125230321725, 0.8876946040352813, 0.9211155751976116, 0.0635252120825939, 0.9416601621924579, 0.2371267982877199, 0.09066612875706938, 0.027897270386790577, 0.6346629012994857, 0.8781813698982776, 0.933934573355246, 0.9559033349435387, 0.9428474081552166, 0.6632300635497094, 0.9100262323263253, 0.954980851131616, 0.9169069335486901, 0.8871587282455647, 0.11202274290381378, 0.03294786555994523, 0.46785969095122226, 0.13838103535176996, 0.25040377825558374, 0.9423019657097697, 0.12021876054703858, 0.8715860139660296, 0.9395784389870255, 0.9764998178603141, 0.9709624971497587, 0.9641353393923159, 0.8781813698982776, 0.9185842230066529, 0.9648289150497347, 0.9674544227928717, 0.1617749205730065, 0.5527309786244388, 0.017974991174778496, 0.17974991174778499, 0.07639371249280862, 0.008987495587389248, 0.9549597182943925, 0.9524751483447854, 0.99253653018882, 0.8532849987117204, 0.8642035325765597, 0.12963052988648394, 0.5124033984714899, 0.10850895497043316, 0.37777191730447096, 0.9971950961539531, 0.948911183748362, 0.9737251454551185, 0.00865533462626772, 0.01298300193940158, 0.8712768002213879, 0.9037517450709524, 0.9801359351312093, 0.7687336401282763, 0.5794066319001997, 0.1363309722118117, 0.23857920137067046, 0.9543729277090068, 0.15063325526522603, 0.723039625273085, 0.1104643871944991, 0.010042217017681735, 0.9646989232724078, 0.8039215598822688, 0.46654314985536566, 0.47090336620915413, 0.05232259624546157, 0.008720432707576928, 0.8893508012131478, 0.9847460096085768, 0.6274446187054382, 0.4817408285285535, 0.1605802761761845, 0.003778359439439635, 0.34760906842844647, 0.003778359439439635, 0.9768663532291909, 0.9767417666967804, 0.0014094397787832327, 0.01973215690296526, 0.0014094397787832327, 0.9452900910329658, 0.992511797987962, 0.389696707401441, 0.5628952440243037], \"Term\": [\"abdoman\", \"able\", \"abnormal\", \"abortion\", \"absolute\", \"abuse\", \"accompany\", \"accord\", \"ache\", \"active\", \"actual\", \"actually\", \"actually\", \"adapt\", \"addition\", \"adjust\", \"adjust\", \"admit\", \"afterward\", \"afterwards\", \"age\", \"age\", \"ago\", \"ago\", \"ago\", \"ago\", \"agree\", \"ahead\", \"almost\", \"almost\", \"almost\", \"already\", \"also\", \"also\", \"also\", \"also\", \"also\", \"also\", \"altogether\", \"always\", \"always\", \"anemia\", \"annoying\", \"antibiotic\", \"anxiety\", \"apart\", \"apparently\", \"appointment\", \"appointment\", \"appointment\", \"apprehensive\", \"appt\", \"area\", \"arm\", \"around\", \"aside\", \"ask\", \"ask\", \"ask\", \"assume\", \"assure\", \"asymptomatic\", \"aware\", \"away\", \"away\", \"awful\", \"back\", \"back\", \"bacteria\", \"bad\", \"bad\", \"bad\", \"bad\", \"bad\", \"bad\", \"badly\", \"balance\", \"barely\", \"basically\", \"be\", \"bearable\", \"beautiful\", \"become\", \"bed\", \"beforehand\", \"begin\", \"believe\", \"belly\", \"bet\", \"big_deal\", \"biopsy\", \"bipolar\", \"birth\", \"bit\", \"bit\", \"bladder\", \"blame\", \"bleed\", \"bleed\", \"bleed\", \"bleed\", \"bleed\", \"bleeding\", \"bleeding\", \"bleeding\", \"bleeding\", \"bleeding\", \"bloat\", \"bloat\", \"bloated\", \"bloated\", \"blood\", \"blood\", \"blood\", \"blood_clot\", \"blood_pressure\", \"blur\", \"body\", \"body\", \"body\", \"body\", \"book\", \"boy\", \"boyfriend\", \"brand\", \"breast\", \"breastfeed\", \"breath\", \"bring\", \"bueno\", \"burn\", \"burning\", \"bvs\", \"call\", \"can\", \"care\", \"carefree\", \"case\", \"cause\", \"cause\", \"cause\", \"caution\", \"cell\", \"certain\", \"certainly\", \"cervix\", \"chance\", \"change\", \"change\", \"check\", \"check\", \"chemistry\", \"child\", \"child\", \"child\", \"child\", \"choice\", \"chunk\", \"clear\", \"close\", \"clot\", \"clotty\", \"clouded\", \"coil\", \"cold\", \"collect\", \"college\", \"come\", \"come\", \"come\", \"comfortable\", \"commit\", \"comparison\", \"complaint\", \"complete\", \"completely\", \"concern\", \"condition\", \"condition\", \"condom\", \"condom\", \"condom\", \"confirm\", \"consider\", \"constant\", \"constantly\", \"continue\", \"continue\", \"contraception\", \"contraceptive\", \"contraction\", \"contraction\", \"control\", \"convenient\", \"convince\", \"copper\", \"couch\", \"could\", \"could\", \"could\", \"could\", \"could\", \"could\", \"could\", \"could\", \"course\", \"cramp\", \"cramp\", \"cramp\", \"cramp\", \"cramp\", \"cramping\", \"cramping\", \"cramping\", \"cramping\", \"cross\", \"cry\", \"cry\", \"culture\", \"cycle\", \"cyst\", \"cystic_acne\", \"danger\", \"daughter\", \"day\", \"day\", \"day\", \"day\", \"day\", \"deal\", \"deal\", \"decide\", \"decide\", \"decide\", \"decision\", \"decrease\", \"definitely\", \"definitely\", \"definitely\", \"depo_shot\", \"depress\", \"depressed\", \"depression\", \"depression\", \"desire\", \"device\", \"device\", \"diagnose\", \"diet\", \"difference\", \"different\", \"different\", \"different\", \"discharge\", \"discharge\", \"discomfort\", \"discomfort\", \"discomfort\", \"discomforte\", \"discuss\", \"dislodge\", \"dizziness\", \"dizziness\", \"dizzy\", \"dizzy\", \"do\", \"do\", \"doc\", \"doctor\", \"doctor\", \"doctor\", \"doctor\", \"dosage\", \"dose\", \"double\", \"drive\", \"drop\", \"drug\", \"due\", \"due\", \"due\", \"early\", \"easily\", \"easy\", \"easy\", \"eat\", \"effect\", \"eliminate\", \"emergency\", \"emotional\", \"emotionally\", \"end\", \"end\", \"end\", \"endo\", \"endometriosis\", \"endure\", \"energy\", \"energy\", \"enough\", \"entire\", \"entire\", \"episode\", \"especially\", \"even\", \"even\", \"even\", \"ever\", \"every_single\", \"everyday\", \"exactly\", \"exam\", \"excruciating\", \"exhaust\", \"experience\", \"experience\", \"experience\", \"experience\", \"experience\", \"experience\", \"experienced\", \"expierence\", \"explain\", \"extra\", \"extreme\", \"extremely\", \"extremely\", \"face\", \"face\", \"fact\", \"fail\", \"faint\", \"fairly\", \"family\", \"far\", \"fast\", \"fatigue\", \"favor\", \"fear\", \"feel\", \"feel\", \"feel\", \"feel\", \"feel\", \"feel\", \"feeling\", \"felt\", \"feminine\", \"fever\", \"fiance\", \"fibroid\", \"final\", \"find\", \"find\", \"finger\", \"first\", \"first\", \"first\", \"first\", \"fit\", \"fit\", \"flooding\", \"flow\", \"fob\", \"follow\", \"food\", \"foot\", \"forget\", \"forget\", \"form\", \"forward\", \"freak\", \"freak\", \"free\", \"free\", \"freeze\", \"friend\", \"full\", \"full\", \"full\", \"fully\", \"fun\", \"function\", \"gain\", \"get\", \"get\", \"get\", \"get\", \"get\", \"get\", \"girl\", \"give\", \"give\", \"give\", \"give\", \"glad\", \"go\", \"go\", \"go\", \"go\", \"go\", \"go\", \"go\", \"good\", \"good\", \"good\", \"good\", \"good\", \"good\", \"goodness\", \"great\", \"great\", \"guarantee\", \"guess\", \"gush\", \"gyn\", \"haemorrhage\", \"hair\", \"hair\", \"half\", \"half\", \"handle\", \"hang\", \"happen\", \"happen\", \"hate\", \"hate\", \"have\", \"headache\", \"health\", \"heavily\", \"heavy\", \"heavy\", \"heavy\", \"heavy\", \"heavy\", \"heavy\", \"help\", \"help\", \"help\", \"help\", \"high\", \"high\", \"higher\", \"highly\", \"highly_recommend\", \"hip\", \"hold\", \"home\", \"home\", \"honestly\", \"hope\", \"hopeful\", \"hormonal\", \"hormonal\", \"hormone\", \"horrible\", \"horrible\", \"horrible\", \"horribly\", \"horror_storie\", \"hospital\", \"hour\", \"hour\", \"hour\", \"however\", \"hubby\", \"hurt\", \"hurt\", \"husband\", \"hype\", \"hysterectomy\", \"ibuprofen\", \"idea\", \"ideal\", \"ill\", \"imagine\", \"implant\", \"important\", \"improve\", \"inconvenient\", \"increase\", \"incredibly\", \"indeed\", \"infection\", \"info\", \"initially\", \"injection\", \"insane\", \"insert\", \"insert\", \"insert\", \"insert\", \"insert\", \"inserted\", \"insertion\", \"insertion\", \"insertion\", \"insertion\", \"insertion\", \"insist\", \"instal\", \"instantly\", \"insurance\", \"intermittent\", \"iron\", \"irregular\", \"irritable\", \"irritated\", \"issue\", \"itching\", \"iud\", \"iud\", \"iud\", \"job\", \"joke\", \"keep\", \"keep\", \"keep\", \"kill\", \"killer\", \"kind\", \"know\", \"know\", \"know\", \"know\", \"labor\", \"lack\", \"lady\", \"large\", \"large\", \"last\", \"last\", \"last\", \"lasted\", \"later\", \"lay\", \"least\", \"leave\", \"leave\", \"less\", \"less\", \"less\", \"let\", \"level\", \"libido\", \"lie\", \"light\", \"light\", \"like\", \"likely\", \"liner\", \"listen\", \"literally\", \"little\", \"little\", \"live\", \"lose\", \"lot\", \"lot\", \"lot\", \"love\", \"love\", \"love\", \"low\", \"low\", \"lower\", \"luck\", \"luckily\", \"mad\", \"main\", \"mainly\", \"maintenance\", \"major\", \"make\", \"make\", \"make\", \"make\", \"make\", \"man\", \"manageable\", \"many\", \"many\", \"many\", \"may\", \"may\", \"maybe\", \"mean\", \"measure\", \"med\", \"medicate\", \"medication\", \"menstrual\", \"mentally\", \"merina\", \"method\", \"mid\", \"migraine\", \"migraine\", \"migraine\", \"mild\", \"mild\", \"milky\", \"minimal\", \"minute\", \"minute\", \"mirena\", \"mirena\", \"mirena\", \"mirror\", \"miscarriage\", \"miserable\", \"miss\", \"mistake\", \"moderate\", \"mom\", \"moment\", \"momma\", \"month\", \"month\", \"month\", \"month\", \"month\", \"morning\", \"mostly\", \"move\", \"much\", \"much\", \"much\", \"much\", \"multiple\", \"murder\", \"must\", \"naproxen\", \"nausea\", \"nauseous\", \"nearly\", \"nearly\", \"necessary\", \"need\", \"need\", \"need\", \"negative\", \"negative_review\", \"negative_reviews\", \"nervous\", \"never\", \"never\", \"never\", \"never\", \"never\", \"never\", \"new\", \"next\", \"next\", \"nice\", \"night\", \"non\", \"normal\", \"normally\", \"notice\", \"notice\", \"noticeable\", \"nowhere\", \"numb\", \"numbness\", \"numerous\", \"nurse\", \"nuvaring\", \"obviously\", \"occasionally\", \"occur\", \"office\", \"often\", \"often\", \"okay\", \"old\", \"old\", \"one\", \"online\", \"open\", \"optimistic\", \"option\", \"option\", \"option\", \"oral\", \"other\", \"outburst\", \"outter\", \"ovarian_cyst\", \"ovary\", \"overall\", \"overnight\", \"pad\", \"pad\", \"pain\", \"pain\", \"pain\", \"pain\", \"pain\", \"pain\", \"painful\", \"painful\", \"painful\", \"painful\", \"painless\", \"painless\", \"panadol\", \"panty_liner\", \"pantyliner\", \"park\", \"part\", \"part\", \"particular\", \"particular\", \"partner\", \"pass\", \"past\", \"patch\", \"patience\", \"patience\", \"pattern\", \"pelvic\", \"people\", \"people\", \"period\", \"period\", \"period\", \"period\", \"period\", \"personally\", \"pill\", \"pill\", \"pill\", \"pill\", \"pill\", \"pinch\", \"pinche\", \"place\", \"place\", \"plan\", \"pm\", \"pmdd\", \"pmt\", \"point\", \"point\", \"poison\", \"position\", \"positive\", \"possibility\", \"possibly\", \"post\", \"postpartum\", \"pound\", \"pregnant\", \"pregnant\", \"pregnant\", \"premenopausal\", \"prep\", \"prepare\", \"preppe\", \"prescribe\", \"pressure\", \"pretty\", \"pretty\", \"pretty\", \"prevent\", \"primary\", \"probably\", \"probably\", \"problem\", \"problem\", \"procedure\", \"process\", \"process\", \"product\", \"progesterone\", \"properly\", \"provider\", \"psychiatrist\", \"puberty\", \"pull\", \"pull\", \"purchase\", \"purpose\", \"push\", \"put\", \"put\", \"put\", \"quick\", \"quickly\", \"quit\", \"quite\", \"rail\", \"random\", \"rate\", \"rd\", \"react\", \"read\", \"read\", \"read\", \"really\", \"really\", \"really\", \"really\", \"reason\", \"reassure\", \"reccomend\", \"receive\", \"recognize\", \"recommend\", \"recommend\", \"recommend\", \"recommend\", \"recommend\", \"reduce\", \"regret\", \"regret\", \"regular\", \"regularly\", \"regulate\", \"relationship\", \"relax\", \"relaxed\", \"release\", \"relief\", \"relieve\", \"relieved\", \"reluctant\", \"removal\", \"remove\", \"remove\", \"remove\", \"removed\", \"replace\", \"reputation\", \"research\", \"resistant\", \"resolve\", \"respond\", \"rest\", \"rest\", \"result\", \"review\", \"review\", \"ride\", \"right\", \"right\", \"risk\", \"sad\", \"save\", \"say\", \"say\", \"say\", \"say\", \"say\", \"say\", \"say\", \"scale\", \"scare\", \"scared\", \"schedule\", \"scream\", \"second\", \"second\", \"second\", \"section\", \"seem\", \"seem\", \"seem\", \"send\", \"sense\", \"sensitive\", \"seriously\", \"serve\", \"sever\", \"several\", \"several\", \"severely\", \"sex\", \"sex\", \"sex\", \"sex\", \"sexual\", \"sexually\", \"share\", \"sharing\", \"shed\", \"sheet\", \"shocking\", \"short\", \"shot\", \"sick\", \"side\", \"side\", \"side_effect\", \"side_effect\", \"side_effect\", \"sign\", \"significant\", \"similar\", \"simple\", \"site\", \"situation\", \"size\", \"sleep\", \"sleep\", \"slight\", \"slight\", \"slow\", \"slur\", \"small\", \"small\", \"smell\", \"snip\", \"soak\", \"solution\", \"sometimes\", \"somewhat\", \"son\", \"soon\", \"soon\", \"soon\", \"soon\", \"sore\", \"sore\", \"sort\", \"sound\", \"source\", \"speach\", \"speak\", \"spell\", \"spend\", \"spot\", \"spot\", \"spot\", \"spot\", \"stand\", \"start\", \"start\", \"start\", \"state\", \"stay\", \"stick\", \"still\", \"still\", \"still\", \"stomach\", \"stomach\", \"stop\", \"stop\", \"stop\", \"stop\", \"story\", \"straight\", \"stre\", \"string\", \"strong\", \"student\", \"stupid\", \"suck\", \"suffer\", \"suffer\", \"suffer\", \"suffice\", \"suggest\", \"suggest\", \"suicidal\", \"super\", \"super\", \"sure\", \"sure\", \"surgery\", \"surgery\", \"surround\", \"swear\", \"sweat\", \"sweat\", \"swell\", \"switch\", \"switch\", \"system\", \"take\", \"take\", \"take\", \"take\", \"take\", \"take\", \"take\", \"talk\", \"tall\", \"tampon\", \"tell\", \"tell\", \"tend\", \"tender\", \"terrible\", \"terrify\", \"test\", \"thank\", \"therefore\", \"thing\", \"thing\", \"thing\", \"think\", \"think\", \"think\", \"think\", \"thinning\", \"third\", \"though\", \"thought\", \"thyroid\", \"time\", \"time\", \"time\", \"tiny\", \"today\", \"today\", \"together\", \"toilet\", \"tolerable\", \"tolerance\", \"torture\", \"total\", \"totally\", \"touch\", \"track\", \"treat\", \"treat\", \"treatment\", \"trust\", \"truthfully\", \"try\", \"try\", \"try\", \"try\", \"turn\", \"turn\", \"twice\", \"twist\", \"tylenol\", \"type\", \"ugh\", \"ultimately\", \"ultrasound\", \"ultrasound\", \"unable\", \"unbearable\", \"unbearable\", \"unbeatable\", \"uncomfortable\", \"uncomfortable\", \"uncomfortable\", \"uncomfortable\", \"undiagnosed\", \"unfortunately\", \"unpleasant\", \"unpredictable\", \"unprotected\", \"unstable\", \"update\", \"upped\", \"upset\", \"use\", \"use\", \"use\", \"use\", \"use\", \"usual\", \"usually\", \"usually\", \"uterine\", \"uterus\", \"vaginal\", \"vaginally\", \"valium\", \"vision\", \"visit\", \"walk\", \"want\", \"want\", \"want\", \"want\", \"want\", \"want\", \"warn\", \"water\", \"way\", \"weak\", \"wear\", \"wear\", \"week\", \"week\", \"week\", \"weight\", \"weird\", \"well\", \"well\", \"well\", \"whack\", \"whenever\", \"white\", \"wipe\", \"wish\", \"wish\", \"wish\", \"withdrawal\", \"woman\", \"woman\", \"woman\", \"woman\", \"wonder\", \"word\", \"work\", \"work\", \"work\", \"work\", \"world\", \"worry\", \"worsen\", \"would\", \"would\", \"would\", \"would\", \"would\", \"write\", \"year\", \"year\", \"year\", \"year\", \"yeast_infection\", \"yesterday\", \"yet\", \"yet\"]}, \"R\": 30, \"lambda.step\": 0.01, \"plot.opts\": {\"xlab\": \"PC1\", \"ylab\": \"PC2\"}, \"topic.order\": [15, 2, 7, 3, 14, 11, 4, 9, 1, 12, 5, 18, 20, 8, 19, 6, 10, 16, 13, 17]};\n",
              "\n",
              "function LDAvis_load_lib(url, callback){\n",
              "  var s = document.createElement('script');\n",
              "  s.src = url;\n",
              "  s.async = true;\n",
              "  s.onreadystatechange = s.onload = callback;\n",
              "  s.onerror = function(){console.warn(\"failed to load library \" + url);};\n",
              "  document.getElementsByTagName(\"head\")[0].appendChild(s);\n",
              "}\n",
              "\n",
              "if(typeof(LDAvis) !== \"undefined\"){\n",
              "   // already loaded: just create the visualization\n",
              "   !function(LDAvis){\n",
              "       new LDAvis(\"#\" + \"ldavis_el601407024967998246880523603\", ldavis_el601407024967998246880523603_data);\n",
              "   }(LDAvis);\n",
              "}else if(typeof define === \"function\" && define.amd){\n",
              "   // require.js is available: use it to load d3/LDAvis\n",
              "   require.config({paths: {d3: \"https://d3js.org/d3.v5\"}});\n",
              "   require([\"d3\"], function(d3){\n",
              "      window.d3 = d3;\n",
              "      LDAvis_load_lib(\"https://cdn.jsdelivr.net/gh/bmabey/pyLDAvis@3.2.2/pyLDAvis/js/ldavis.v3.0.0.js\", function(){\n",
              "        new LDAvis(\"#\" + \"ldavis_el601407024967998246880523603\", ldavis_el601407024967998246880523603_data);\n",
              "      });\n",
              "    });\n",
              "}else{\n",
              "    // require.js not available: dynamically load d3 & LDAvis\n",
              "    LDAvis_load_lib(\"https://d3js.org/d3.v5.js\", function(){\n",
              "         LDAvis_load_lib(\"https://cdn.jsdelivr.net/gh/bmabey/pyLDAvis@3.2.2/pyLDAvis/js/ldavis.v3.0.0.js\", function(){\n",
              "                 new LDAvis(\"#\" + \"ldavis_el601407024967998246880523603\", ldavis_el601407024967998246880523603_data);\n",
              "            })\n",
              "         });\n",
              "}\n",
              "</script>"
            ],
            "text/plain": [
              "PreparedData(topic_coordinates=              x         y  topics  cluster       Freq\n",
              "topic                                                \n",
              "14     0.333574 -0.009018       1        1  27.000238\n",
              "1      0.301555 -0.070416       2        1  14.534797\n",
              "6      0.265037  0.195773       3        1  12.392957\n",
              "2      0.298270 -0.074820       4        1  10.838119\n",
              "13     0.247928  0.194903       5        1   9.312452\n",
              "10     0.144742 -0.296418       6        1   6.102280\n",
              "3     -0.109383  0.041941       7        1   2.835959\n",
              "8     -0.042867 -0.071606       8        1   2.734327\n",
              "0     -0.053805  0.022279       9        1   2.212897\n",
              "11    -0.094669  0.018960      10        1   1.948183\n",
              "4     -0.113382 -0.007896      11        1   1.453569\n",
              "17    -0.122321  0.024363      12        1   1.168032\n",
              "19    -0.122268  0.005037      13        1   1.128780\n",
              "7     -0.134843 -0.001255      14        1   1.081637\n",
              "18    -0.121123  0.020623      15        1   1.037749\n",
              "5     -0.126704 -0.012005      16        1   1.015989\n",
              "9     -0.128256 -0.006219      17        1   0.941638\n",
              "15    -0.131206  0.015515      18        1   0.920173\n",
              "12    -0.139543  0.005242      19        1   0.820517\n",
              "16    -0.150734  0.005018      20        1   0.519706, topic_info=           Term         Freq        Total Category  logprob  loglift\n",
              "20         feel   718.000000   718.000000  Default  30.0000  30.0000\n",
              "118   insertion   539.000000   539.000000  Default  29.0000  29.0000\n",
              "150       cramp   760.000000   760.000000  Default  28.0000  28.0000\n",
              "75         year   709.000000   709.000000  Default  27.0000  27.0000\n",
              "46       period  1002.000000  1002.000000  Default  26.0000  26.0000\n",
              "...         ...          ...          ...      ...      ...      ...\n",
              "3528     freeze     1.156460     1.956145  Topic20  -5.4319   4.7340\n",
              "1401  condition     3.048407     8.006881  Topic20  -4.4627   4.2940\n",
              "397      forget     4.512700    18.818776  Topic20  -4.0704   3.8317\n",
              "498        wear     2.604601    23.142696  Topic20  -4.6200   3.0753\n",
              "657    probably     1.466733    23.195560  Topic20  -5.1943   2.4987\n",
              "\n",
              "[861 rows x 6 columns], token_table=      Topic      Freq             Term\n",
              "term                                  \n",
              "1911     12  0.940722          abdoman\n",
              "0         1  0.982412             able\n",
              "617       9  0.957217         abnormal\n",
              "1159      7  0.915088         abortion\n",
              "964      18  0.720510         absolute\n",
              "...     ...       ...              ...\n",
              "75       10  0.001409             year\n",
              "460       6  0.945290  yeast_infection\n",
              "189       9  0.992512        yesterday\n",
              "890       3  0.389697              yet\n",
              "890       9  0.562895              yet\n",
              "\n",
              "[1135 rows x 3 columns], R=30, lambda_step=0.01, plot_opts={'xlab': 'PC1', 'ylab': 'PC2'}, topic_order=[15, 2, 7, 3, 14, 11, 4, 9, 1, 12, 5, 18, 20, 8, 19, 6, 10, 16, 13, 17])"
            ]
          },
          "metadata": {
            "tags": []
          },
          "execution_count": 25
        }
      ]
    },
    {
      "cell_type": "code",
      "metadata": {
        "id": "bhE_QAFafU3b"
      },
      "source": [
        ""
      ],
      "execution_count": null,
      "outputs": []
    }
  ]
}