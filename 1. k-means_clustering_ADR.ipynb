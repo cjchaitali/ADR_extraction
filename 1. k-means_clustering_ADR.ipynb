{
 "cells": [
  {
   "cell_type": "code",
   "execution_count": 6,
   "metadata": {},
   "outputs": [
    {
     "data": {
      "text/html": [
       "<div>\n",
       "<style scoped>\n",
       "    .dataframe tbody tr th:only-of-type {\n",
       "        vertical-align: middle;\n",
       "    }\n",
       "\n",
       "    .dataframe tbody tr th {\n",
       "        vertical-align: top;\n",
       "    }\n",
       "\n",
       "    .dataframe thead th {\n",
       "        text-align: right;\n",
       "    }\n",
       "</style>\n",
       "<table border=\"1\" class=\"dataframe\">\n",
       "  <thead>\n",
       "    <tr style=\"text-align: right;\">\n",
       "      <th></th>\n",
       "      <th>Sr No.</th>\n",
       "      <th>Reported_Event</th>\n",
       "      <th>EVENT Preferred Term (Seriousness) (Event)</th>\n",
       "      <th>EVENT_Lower_Level_Term(Seriousness)</th>\n",
       "      <th>EVENT Onset Date (Event)</th>\n",
       "      <th>EVENT Seriousness Criteria (Event)</th>\n",
       "      <th>EVENT Company Causality (Event Assessment)</th>\n",
       "      <th>EVENT Reporter Causality (Event Assessment)</th>\n",
       "      <th>SUSPECT PRODUCT Product (as reported)</th>\n",
       "      <th>SUSPECT PRODUCT Product Name (Suspect)</th>\n",
       "    </tr>\n",
       "  </thead>\n",
       "  <tbody>\n",
       "    <tr>\n",
       "      <th>0</th>\n",
       "      <td>1</td>\n",
       "      <td>1) IUD migrated to lower uterine segment/ IUS ...</td>\n",
       "      <td>1) Device dislocation (s); \\n2) Genital haemor...</td>\n",
       "      <td>1) IUD migration (s); \\n2) Genital bleeding (s...</td>\n",
       "      <td>1) Device dislocation : 2016; \\n2) Genital hae...</td>\n",
       "      <td>1) Device dislocation :  Medically Significan...</td>\n",
       "      <td>1) SAG0224B.282 - 1) Device dislocation : rela...</td>\n",
       "      <td>1) SAG0224B.282 - 1) Device dislocation : not ...</td>\n",
       "      <td>1) --</td>\n",
       "      <td>1) Mirena</td>\n",
       "    </tr>\n",
       "    <tr>\n",
       "      <th>1</th>\n",
       "      <td>2</td>\n",
       "      <td>1) Patient removed the IUD by herself;</td>\n",
       "      <td>1) Intentional medical device removal by patie...</td>\n",
       "      <td>1) Intentional medical device removal by patie...</td>\n",
       "      <td>1) Intentional medical device removal by patie...</td>\n",
       "      <td>NaN</td>\n",
       "      <td>1) Study Drug - 1) Intentional medical device ...</td>\n",
       "      <td>1) Study Drug - 1) Intentional medical device ...</td>\n",
       "      <td>1) Mirena</td>\n",
       "      <td>1) Mirena</td>\n",
       "    </tr>\n",
       "    <tr>\n",
       "      <th>2</th>\n",
       "      <td>3</td>\n",
       "      <td>1) Patient was perforated during insertion pro...</td>\n",
       "      <td>1) Uterine perforation (s); \\n2) Complication ...</td>\n",
       "      <td>1) Uterine perforation post procedural (s); \\n...</td>\n",
       "      <td>1) Uterine perforation : --; \\n2) Complication...</td>\n",
       "      <td>1) Uterine perforation :  Medically Significa...</td>\n",
       "      <td>1) SAG0224B.282 - 1) Uterine perforation : rel...</td>\n",
       "      <td>1) SAG0224B.282 - 1) Uterine perforation : not...</td>\n",
       "      <td>1) --</td>\n",
       "      <td>1) Mirena</td>\n",
       "    </tr>\n",
       "    <tr>\n",
       "      <th>3</th>\n",
       "      <td>4</td>\n",
       "      <td>1) one to the arms of the T body was embeded i...</td>\n",
       "      <td>1) Embedded device (s); \\n2) Abdominal pain (n);</td>\n",
       "      <td>1) IUD embedded (s); \\n2) Abdominal pain (n);</td>\n",
       "      <td>1) Embedded device : 2016; \\n2) Abdominal pain...</td>\n",
       "      <td>1) Embedded device :  Medically Significant /</td>\n",
       "      <td>1) SAG0224B.282 - 1) Embedded device : related</td>\n",
       "      <td>1) SAG0224B.282 - 1) Embedded device : not rep...</td>\n",
       "      <td>1) --</td>\n",
       "      <td>1) Mirena</td>\n",
       "    </tr>\n",
       "    <tr>\n",
       "      <th>4</th>\n",
       "      <td>5</td>\n",
       "      <td>1) Mirena was partially expelled;</td>\n",
       "      <td>1) Device expulsion (n);</td>\n",
       "      <td>1) Partial expulsion of IUD (n);</td>\n",
       "      <td>1) Device expulsion : --;</td>\n",
       "      <td>NaN</td>\n",
       "      <td>1) Study Drug - 1) Device expulsion : related</td>\n",
       "      <td>1) Study Drug - 1) Device expulsion : not repo...</td>\n",
       "      <td>1) Mirena</td>\n",
       "      <td>1) Mirena</td>\n",
       "    </tr>\n",
       "  </tbody>\n",
       "</table>\n",
       "</div>"
      ],
      "text/plain": [
       "   Sr No.                                     Reported_Event  \\\n",
       "0       1  1) IUD migrated to lower uterine segment/ IUS ...   \n",
       "1       2             1) Patient removed the IUD by herself;   \n",
       "2       3  1) Patient was perforated during insertion pro...   \n",
       "3       4  1) one to the arms of the T body was embeded i...   \n",
       "4       5                  1) Mirena was partially expelled;   \n",
       "\n",
       "          EVENT Preferred Term (Seriousness) (Event)  \\\n",
       "0  1) Device dislocation (s); \\n2) Genital haemor...   \n",
       "1  1) Intentional medical device removal by patie...   \n",
       "2  1) Uterine perforation (s); \\n2) Complication ...   \n",
       "3   1) Embedded device (s); \\n2) Abdominal pain (n);   \n",
       "4                           1) Device expulsion (n);   \n",
       "\n",
       "                 EVENT_Lower_Level_Term(Seriousness)  \\\n",
       "0  1) IUD migration (s); \\n2) Genital bleeding (s...   \n",
       "1  1) Intentional medical device removal by patie...   \n",
       "2  1) Uterine perforation post procedural (s); \\n...   \n",
       "3      1) IUD embedded (s); \\n2) Abdominal pain (n);   \n",
       "4                   1) Partial expulsion of IUD (n);   \n",
       "\n",
       "                            EVENT Onset Date (Event)  \\\n",
       "0  1) Device dislocation : 2016; \\n2) Genital hae...   \n",
       "1  1) Intentional medical device removal by patie...   \n",
       "2  1) Uterine perforation : --; \\n2) Complication...   \n",
       "3  1) Embedded device : 2016; \\n2) Abdominal pain...   \n",
       "4                          1) Device expulsion : --;   \n",
       "\n",
       "                  EVENT Seriousness Criteria (Event)  \\\n",
       "0   1) Device dislocation :  Medically Significan...   \n",
       "1                                                NaN   \n",
       "2   1) Uterine perforation :  Medically Significa...   \n",
       "3      1) Embedded device :  Medically Significant /   \n",
       "4                                                NaN   \n",
       "\n",
       "          EVENT Company Causality (Event Assessment)  \\\n",
       "0  1) SAG0224B.282 - 1) Device dislocation : rela...   \n",
       "1  1) Study Drug - 1) Intentional medical device ...   \n",
       "2  1) SAG0224B.282 - 1) Uterine perforation : rel...   \n",
       "3     1) SAG0224B.282 - 1) Embedded device : related   \n",
       "4      1) Study Drug - 1) Device expulsion : related   \n",
       "\n",
       "         EVENT Reporter Causality (Event Assessment)  \\\n",
       "0  1) SAG0224B.282 - 1) Device dislocation : not ...   \n",
       "1  1) Study Drug - 1) Intentional medical device ...   \n",
       "2  1) SAG0224B.282 - 1) Uterine perforation : not...   \n",
       "3  1) SAG0224B.282 - 1) Embedded device : not rep...   \n",
       "4  1) Study Drug - 1) Device expulsion : not repo...   \n",
       "\n",
       "  SUSPECT PRODUCT Product (as reported) SUSPECT PRODUCT Product Name (Suspect)  \n",
       "0                                 1) --                              1) Mirena  \n",
       "1                             1) Mirena                              1) Mirena  \n",
       "2                                 1) --                              1) Mirena  \n",
       "3                                 1) --                              1) Mirena  \n",
       "4                             1) Mirena                              1) Mirena  "
      ]
     },
     "execution_count": 6,
     "metadata": {},
     "output_type": "execute_result"
    }
   ],
   "source": [
    "import numpy as np \n",
    "import pandas as pd \n",
    "import matplotlib.pyplot as plt\n",
    "import seaborn as sns\n",
    "from sklearn.feature_extraction import text\n",
    "from sklearn.feature_extraction.text import TfidfVectorizer\n",
    "from sklearn.cluster import KMeans\n",
    "from nltk.tokenize import RegexpTokenizer\n",
    "from nltk.stem.snowball import SnowballStemmer\n",
    "%matplotlib inline\n",
    "import re\n",
    "\n",
    "df = pd.read_csv(\"Mirena_TCS_Train.csv\", encoding='cp1252', error_bad_lines=False)\n",
    "df.head() "
   ]
  },
  {
   "cell_type": "code",
   "execution_count": 7,
   "metadata": {},
   "outputs": [
    {
     "data": {
      "text/plain": [
       "Index(['Sr No.', 'Reported_Event',\n",
       "       'EVENT Preferred Term (Seriousness) (Event)',\n",
       "       'EVENT_Lower_Level_Term(Seriousness)', 'EVENT Onset Date (Event)',\n",
       "       'EVENT Seriousness Criteria (Event)',\n",
       "       'EVENT Company Causality (Event Assessment)',\n",
       "       'EVENT Reporter Causality (Event Assessment)',\n",
       "       'SUSPECT PRODUCT Product (as reported)',\n",
       "       'SUSPECT PRODUCT Product Name (Suspect)'],\n",
       "      dtype='object')"
      ]
     },
     "execution_count": 7,
     "metadata": {},
     "output_type": "execute_result"
    }
   ],
   "source": [
    "df.columns"
   ]
  },
  {
   "cell_type": "code",
   "execution_count": 8,
   "metadata": {},
   "outputs": [
    {
     "data": {
      "text/html": [
       "<div>\n",
       "<style scoped>\n",
       "    .dataframe tbody tr th:only-of-type {\n",
       "        vertical-align: middle;\n",
       "    }\n",
       "\n",
       "    .dataframe tbody tr th {\n",
       "        vertical-align: top;\n",
       "    }\n",
       "\n",
       "    .dataframe thead th {\n",
       "        text-align: right;\n",
       "    }\n",
       "</style>\n",
       "<table border=\"1\" class=\"dataframe\">\n",
       "  <thead>\n",
       "    <tr style=\"text-align: right;\">\n",
       "      <th></th>\n",
       "      <th>Reported_Event</th>\n",
       "    </tr>\n",
       "  </thead>\n",
       "  <tbody>\n",
       "    <tr>\n",
       "      <th>0</th>\n",
       "      <td>1) IUD migrated to lower uterine segment/ IUS ...</td>\n",
       "    </tr>\n",
       "    <tr>\n",
       "      <th>1</th>\n",
       "      <td>1) Patient removed the IUD by herself;</td>\n",
       "    </tr>\n",
       "    <tr>\n",
       "      <th>2</th>\n",
       "      <td>1) Patient was perforated during insertion pro...</td>\n",
       "    </tr>\n",
       "    <tr>\n",
       "      <th>3</th>\n",
       "      <td>1) one to the arms of the T body was embeded i...</td>\n",
       "    </tr>\n",
       "    <tr>\n",
       "      <th>4</th>\n",
       "      <td>1) Mirena was partially expelled;</td>\n",
       "    </tr>\n",
       "  </tbody>\n",
       "</table>\n",
       "</div>"
      ],
      "text/plain": [
       "                                      Reported_Event\n",
       "0  1) IUD migrated to lower uterine segment/ IUS ...\n",
       "1             1) Patient removed the IUD by herself;\n",
       "2  1) Patient was perforated during insertion pro...\n",
       "3  1) one to the arms of the T body was embeded i...\n",
       "4                  1) Mirena was partially expelled;"
      ]
     },
     "execution_count": 8,
     "metadata": {},
     "output_type": "execute_result"
    }
   ],
   "source": [
    "df.drop(columns = ['Sr No.','EVENT Preferred Term (Seriousness) (Event)',\n",
    "                   'EVENT_Lower_Level_Term(Seriousness)',\n",
    "                   'EVENT Onset Date (Event)',\n",
    "                   'EVENT Seriousness Criteria (Event)',\n",
    "                   'EVENT Company Causality (Event Assessment)',\n",
    "                   'EVENT Reporter Causality (Event Assessment)',\n",
    "                   'SUSPECT PRODUCT Product (as reported)',\n",
    "                   'SUSPECT PRODUCT Product Name (Suspect)'],inplace = True)\n",
    "df.head()"
   ]
  },
  {
   "cell_type": "code",
   "execution_count": 9,
   "metadata": {},
   "outputs": [],
   "source": [
    "df['Reported_Event']=df['Reported_Event'].apply(lambda x: re.sub('\\w*\\d\\w*','', x))"
   ]
  },
  {
   "cell_type": "code",
   "execution_count": 10,
   "metadata": {},
   "outputs": [],
   "source": [
    "punc = ['.', ',', '\"', \"'\", '?', '!', ':', ';', '(', ')', '[', ']', '{', '}',\"%\"]\n",
    "stop_words = text.ENGLISH_STOP_WORDS.union(punc)\n",
    "desc = df['Reported_Event'].values\n",
    "vectorizer = TfidfVectorizer(stop_words = stop_words)\n",
    "X = vectorizer.fit_transform(desc)"
   ]
  },
  {
   "cell_type": "code",
   "execution_count": 11,
   "metadata": {},
   "outputs": [
    {
     "name": "stdout",
     "output_type": "stream",
     "text": [
      "2891\n",
      "['anterior', 'anteriorly', 'antibiotics', 'anxiety', 'anxious', 'anymore', 'apart', 'apetite', 'apex', 'app', 'apparently', 'appear', 'appeared', 'appearing', 'appears', 'appendicitis', 'appendix', 'appered', 'appetite', 'appointment', 'approaching', 'appropriate', 'approx', 'approximately', 'appt', 'apr', 'april', 'ar', 'area', 'areas', 'arm', 'arms', 'arthritis', 'asap', 'aside', 'asked', 'asleep', 'aspect', 'ass', 'associated', 'assume', 'assymptomatic', 'astronomical', 'ate', 'atelectasis', 'atm', 'attached', 'attack', 'attacks', 'attampted', 'attempt', 'attempted', 'attempting', 'attempts', 'attending', 'attributes', 'atypical', 'aug', 'august', 'aunt', 'aura', 'auras', 'auro', 'autistic', 'avoid', 'avulsed', 'awaiting', 'awake', 'awakens', 'away', 'awful', 'awhile', 'awol', 'babies', 'baby', 'babymomma', 'bacne', 'bacteria', 'bacterial', 'bad', 'badly', 'bae', 'bag', 'balance', 'bald', 'balled', 'bared', 'barely', 'base', 'based', 'basically', 'bath', 'bathroom', 'bawling', 'bc', 'bcp', 'bearable', 'beard', 'beasts', 'beautiful', 'bed', 'beeding', 'began', 'begin', 'beginning', 'believe', 'believes', 'belly', 'bench', 'bending']\n"
     ]
    }
   ],
   "source": [
    "word_features = vectorizer.get_feature_names()\n",
    "print(len(word_features))\n",
    "print(word_features[100:210])"
   ]
  },
  {
   "cell_type": "code",
   "execution_count": 12,
   "metadata": {},
   "outputs": [],
   "source": [
    "stemmer = SnowballStemmer('english')\n",
    "tokenizer = RegexpTokenizer(r'[a-zA-Z\\']+')\n",
    "\n",
    "def tokenize(text):\n",
    "    return [stemmer.stem(word) for word in tokenizer.tokenize(text.lower())]"
   ]
  },
  {
   "cell_type": "code",
   "execution_count": 13,
   "metadata": {},
   "outputs": [
    {
     "name": "stderr",
     "output_type": "stream",
     "text": [
      "C:\\Users\\HP\\anaconda3\\lib\\site-packages\\sklearn\\feature_extraction\\text.py:383: UserWarning: Your stop_words may be inconsistent with your preprocessing. Tokenizing the stop words generated tokens ['abov', 'afterward', 'alon', 'alreadi', 'alway', 'ani', 'anoth', 'anyon', 'anyth', 'anywher', 'becam', 'becaus', 'becom', 'befor', 'besid', 'cri', 'describ', 'dure', 'els', 'elsewher', 'empti', 'everi', 'everyon', 'everyth', 'everywher', 'fifti', 'forti', 'henc', 'hereaft', 'herebi', 'howev', 'hundr', 'inde', 'mani', 'meanwhil', 'moreov', 'nobodi', 'noon', 'noth', 'nowher', 'onc', 'onli', 'otherwis', 'ourselv', 'perhap', 'pleas', 'sever', 'sinc', 'sincer', 'sixti', 'someon', 'someth', 'sometim', 'somewher', 'themselv', 'thenc', 'thereaft', 'therebi', 'therefor', 'togeth', 'twelv', 'twenti', 'veri', 'whatev', 'whenc', 'whenev', 'wherea', 'whereaft', 'wherebi', 'wherev', 'whi', 'yourselv'] not in stop_words.\n",
      "  warnings.warn('Your stop_words may be inconsistent with '\n"
     ]
    },
    {
     "name": "stdout",
     "output_type": "stream",
     "text": [
      "2275\n",
      "[\"'s\", 'abdomen', 'abdomin', 'abdomini', 'abl', 'abnorm', 'abolish', 'abort', 'abov', 'abscess', 'absenc', 'absolut', 'abus', 'access', 'accid', 'accident', 'accord', 'acen', 'ach', 'achi', 'acn', 'actinomycet', 'actinomycosi', 'activ', 'actual', 'acut', 'addit', 'adenomyosi', 'adher', 'adhes', 'adjust', 'admit', 'adnex', 'adnexa', 'adren', 'advanc', 'advers', 'advil', 'ae', 'af', 'afer', 'affect', 'afraid', 'afternoon', 'afterward', 'afterword', 'ag', 'aggress', 'agit', 'ago']\n"
     ]
    }
   ],
   "source": [
    "vectorizer2 = TfidfVectorizer(stop_words = stop_words, tokenizer = tokenize)\n",
    "X2 = vectorizer2.fit_transform(desc)\n",
    "word_features2 = vectorizer2.get_feature_names()\n",
    "print(len(word_features2))\n",
    "print(word_features2[:50]) "
   ]
  },
  {
   "cell_type": "code",
   "execution_count": 14,
   "metadata": {},
   "outputs": [],
   "source": [
    "vectorizer3 = TfidfVectorizer(stop_words = stop_words, tokenizer = tokenize, max_features = 1000)\n",
    "X3 = vectorizer3.fit_transform(desc)\n",
    "words = vectorizer3.get_feature_names()"
   ]
  },
  {
   "cell_type": "code",
   "execution_count": 15,
   "metadata": {},
   "outputs": [
    {
     "data": {
      "image/png": "[encoded data removed]",
      "text/plain": [
       "<Figure size 432x288 with 1 Axes>"
      ]
     },
     "metadata": {
      "needs_background": "light"
     },
     "output_type": "display_data"
    }
   ],
   "source": [
    "from sklearn.cluster import KMeans\n",
    "wcss = []\n",
    "for i in range(1,11):\n",
    "    kmeans = KMeans(n_clusters=i,init='k-means++',max_iter=300,n_init=10,random_state=0)\n",
    "    kmeans.fit(X3)\n",
    "    wcss.append(kmeans.inertia_)\n",
    "plt.plot(range(1,11),wcss)\n",
    "plt.title('The Elbow Method')\n",
    "plt.xlabel('Number of clusters')\n",
    "plt.ylabel('WCSS')\n",
    "plt.savefig('elbow.png')\n",
    "plt.show()"
   ]
  },
  {
   "cell_type": "code",
   "execution_count": 16,
   "metadata": {},
   "outputs": [
    {
     "name": "stderr",
     "output_type": "stream",
     "text": [
      "C:\\Users\\HP\\anaconda3\\lib\\site-packages\\sklearn\\cluster\\_kmeans.py:938: FutureWarning: 'n_jobs' was deprecated in version 0.23 and will be removed in 0.25.\n",
      "  warnings.warn(\"'n_jobs' was deprecated in version 0.23 and will be\"\n"
     ]
    },
    {
     "name": "stdout",
     "output_type": "stream",
     "text": [
      "0 : expel, mirena, iud, home, patient, partial, devic, unit, insert, day, offic, cervix, tampon, bleed, heavi, ius, cramp, remov, left, thread, week, fell, place, cut, pt\n",
      "1 : expuls, partial, mirena, spontan, offic, ius, iud, insert, home, cervix, patient, day, confirm, period, expel, came, canal, vagin, cervic, week, fundal, posit, fall, unit, remov\n",
      "2 : mirena, iud, pain, insert, bleed, period, cramp, patient, remov, lower, posit, cervix, injuri, uterin, segment, ius, fell, spot, fundal, uterus, string, year, feel, perfor, heavi\n"
     ]
    }
   ],
   "source": [
    "#3\n",
    "\n",
    "kmeans = KMeans(n_clusters = 3, n_init = 20, n_jobs = 1) # n_init(number of iterations for clsutering) n_jobs(number of cpu cores to use)\n",
    "kmeans.fit(X3)\n",
    "# We look at 3 the clusters generated by k-means.\n",
    "common_words = kmeans.cluster_centers_.argsort()[:,-1:-26:-1]\n",
    "for num, centroid in enumerate(common_words):\n",
    "    print(str(num) + ' : ' + ', '.join(words[word] for word in centroid))"
   ]
  },
  {
   "cell_type": "code",
   "execution_count": 17,
   "metadata": {},
   "outputs": [
    {
     "name": "stderr",
     "output_type": "stream",
     "text": [
      "C:\\Users\\HP\\anaconda3\\lib\\site-packages\\sklearn\\cluster\\_kmeans.py:938: FutureWarning: 'n_jobs' was deprecated in version 0.23 and will be removed in 0.25.\n",
      "  warnings.warn(\"'n_jobs' was deprecated in version 0.23 and will be\"\n"
     ]
    },
    {
     "name": "stdout",
     "output_type": "stream",
     "text": [
      "0 : expuls, partial, mirena, spontan, offic, iud, insert, ius, home, expel, day, patient, came, cervix, confirm, period, canal, devic, vagin, experienc, cervic, week, cramp, fall, unit\n",
      "1 : expel, mirena, iud, home, partial, patient, unit, devic, insert, day, cervix, tampon, bleed, heavi, offic, cramp, remov, place, cut, left, week, ius, fell, thread, period\n",
      "2 : lower, segment, fundal, posit, uterin, ius, iud, mirena, ultrasound, cervix, pain, insert, bleed, caviti, expel, canal, partial, string, uterus, low, correct, patient, cervic, arm, locat\n",
      "3 : mirena, iud, pain, insert, bleed, period, cramp, patient, remov, cervix, fell, spot, year, string, uterus, feel, perfor, devic, heavi, came, day, month, dure, effect, like\n",
      "4 : injuri, abdomen, iud, remov, signific, emot, migrat, pregnanc, drug, lack, effect, mirena, perfor, ius, uterus, finger, flare, flash, floater, flow, fluid, flush, fit, fibroid, fine\n"
     ]
    }
   ],
   "source": [
    "kmeans = KMeans(n_clusters = 5, n_init = 20, n_jobs = 1)\n",
    "kmeans.fit(X3)\n",
    "# We look at 5 the clusters generated by k-means.\n",
    "common_words = kmeans.cluster_centers_.argsort()[:,-1:-26:-1]\n",
    "for num, centroid in enumerate(common_words):\n",
    "    print(str(num) + ' : ' + ', '.join(words[word] for word in centroid))\n"
   ]
  },
  {
   "cell_type": "code",
   "execution_count": 18,
   "metadata": {},
   "outputs": [
    {
     "name": "stderr",
     "output_type": "stream",
     "text": [
      "C:\\Users\\HP\\anaconda3\\lib\\site-packages\\sklearn\\cluster\\_kmeans.py:938: FutureWarning: 'n_jobs' was deprecated in version 0.23 and will be removed in 0.25.\n",
      "  warnings.warn(\"'n_jobs' was deprecated in version 0.23 and will be\"\n"
     ]
    },
    {
     "name": "stdout",
     "output_type": "stream",
     "text": [
      "0 : period, mirena, pain, cramp, year, spot, effect, feel, like, got, day, lack, drug, month, pregnanc, pregnant, bleed, bad, week, stop, string, hair, gain, i'm, weight\n",
      "1 : injuri, signific, emot, migrat, pregnanc, drug, lack, effect, perfor, ius, uterus, iud, fealt, foggi, fog, flush, fluid, flow, floater, fals, flash, flare, far, fit, finger\n",
      "2 : segment, lower, uterin, iud, mirena, ultrasound, bleed, ius, pain, cervix, insert, caviti, posit, string, arm, partial, migrat, myometrium, fundal, heavi, patient, locat, expel, displac, reveal\n",
      "3 : mirena, iud, remov, cervix, patient, uterus, came, perfor, string, cervic, pain, expel, place, thread, embed, canal, ultrasound, partial, os, locat, devic, insert, hcp, dure, bleed\n",
      "4 : fell, mirena, iud, patient, home, expel, expuls, devic, day, cramp, month, week, string, later, came, insert, placement, ius, bathroom, displac, period, hair, night, today, pregnant\n",
      "5 : insert, bleed, pain, fail, mirena, patient, cramp, heavi, iud, irregular, toler, devic, sinc, day, expel, dure, spot, remov, week, month, post, perfor, procedur, start, sever\n",
      "6 : expuls, partial, mirena, spontan, offic, ius, iud, insert, home, period, expel, came, cervix, vagin, week, confirm, unit, devic, heavi, canal, day, month, hcp, place, year\n",
      "7 : vision, cerebri, pseudotumor, headach, blur, papilledema, dizzi, iih, ptc, loss, intens, doubl, intracrani, neck, hypertens, sever, blurri, idiopath, pain, nausea, tinnitus, shoulder, diminish, memori, floater\n",
      "8 : expel, mirena, iud, home, partial, patient, unit, devic, insert, day, cervix, cramp, ius, bleed, heavi, dislodg, offic, week, pull, expuls, pt, place, uterus, period, mens\n",
      "9 : fundal, posit, ius, lower, iud, mirena, uterin, segment, cervix, canal, insert, pain, correct, expel, cervic, partial, uterus, ultrasound, low, bleed, cramp, patient, caviti, experienc, note\n"
     ]
    }
   ],
   "source": [
    "kmeans = KMeans(n_clusters = 10, n_init = 20, n_jobs = 1)\n",
    "kmeans.fit(X3)\n",
    "# Finally, we look at 8 the clusters generated by k-means.\n",
    "common_words = kmeans.cluster_centers_.argsort()[:,-1:-26:-1]\n",
    "for num, centroid in enumerate(common_words):\n",
    "    print(str(num) + ' : ' + ', '.join(words[word] for word in centroid))"
   ]
  },
  {
   "cell_type": "code",
   "execution_count": null,
   "metadata": {},
   "outputs": [],
   "source": []
  }
 ],
 "metadata": {
  "kernelspec": {
   "display_name": "Python 3",
   "language": "python",
   "name": "python3"
  },
  "language_info": {
   "codemirror_mode": {
    "name": "ipython",
    "version": 3
   },
   "file_extension": ".py",
   "mimetype": "text/x-python",
   "name": "python",
   "nbconvert_exporter": "python",
   "pygments_lexer": "ipython3",
   "version": "3.8.5"
  }
 },
 "nbformat": 4,
 "nbformat_minor": 4
}
