{
 "cells": [
  {
   "cell_type": "markdown",
   "metadata": {},
   "source": [
    "\n",
    "# Adverse drug reaction identification and extraction from natural language text using Topic modeling"
   ]
  },
  {
   "cell_type": "markdown",
   "metadata": {},
   "source": [
    "## Install required packages"
   ]
  },
  {
   "cell_type": "code",
   "execution_count": 1,
   "metadata": {
    "colab": {
     "base_uri": "https://localhost:8080/"
    },
    "id": "t5T9ylYgLEEv",
    "outputId": "5fefff2a-4f36-402a-8da0-aa86c0e5d55f",
    "scrolled": true
   },
   "outputs": [
    {
     "name": "stderr",
     "output_type": "stream",
     "text": [
      "[nltk_data] Downloading package stopwords to\n",
      "[nltk_data]     C:\\Users\\HP\\AppData\\Roaming\\nltk_data...\n",
      "[nltk_data]   Package stopwords is already up-to-date!\n"
     ]
    },
    {
     "data": {
      "text/plain": [
       "True"
      ]
     },
     "execution_count": 1,
     "metadata": {},
     "output_type": "execute_result"
    }
   ],
   "source": [
    "# Run in python console\n",
    "import nltk; \n",
    "nltk.download('stopwords')\n",
    "\n",
    "# Run in terminal or command prompt\n",
    "#python3 -m spacy download en"
   ]
  },
  {
   "cell_type": "code",
   "execution_count": 2,
   "metadata": {},
   "outputs": [
    {
     "name": "stdout",
     "output_type": "stream",
     "text": [
      "Requirement already satisfied: pyLDAvis in c:\\users\\hp\\anaconda3\\lib\\site-packages (3.2.2)\n",
      "Requirement already satisfied: joblib>=0.8.4 in c:\\users\\hp\\anaconda3\\lib\\site-packages (from pyLDAvis) (0.17.0)\n",
      "Requirement already satisfied: funcy in c:\\users\\hp\\anaconda3\\lib\\site-packages (from pyLDAvis) (1.15)\n",
      "Requirement already satisfied: scipy>=0.18.0 in c:\\users\\hp\\anaconda3\\lib\\site-packages (from pyLDAvis) (1.5.2)\n",
      "Requirement already satisfied: jinja2>=2.7.2 in c:\\users\\hp\\anaconda3\\lib\\site-packages (from pyLDAvis) (2.11.2)\n",
      "Requirement already satisfied: pandas>=0.17.0; python_version > \"3.5\" in c:\\users\\hp\\anaconda3\\lib\\site-packages (from pyLDAvis) (1.1.3)\n",
      "Requirement already satisfied: numexpr in c:\\users\\hp\\anaconda3\\lib\\site-packages (from pyLDAvis) (2.7.1)\n",
      "Requirement already satisfied: wheel>=0.23.0 in c:\\users\\hp\\anaconda3\\lib\\site-packages (from pyLDAvis) (0.35.1)\n",
      "Requirement already satisfied: future in c:\\users\\hp\\anaconda3\\lib\\site-packages (from pyLDAvis) (0.18.2)\n",
      "Requirement already satisfied: numpy>=1.9.2 in c:\\users\\hp\\anaconda3\\lib\\site-packages (from pyLDAvis) (1.19.2)\n",
      "Requirement already satisfied: MarkupSafe>=0.23 in c:\\users\\hp\\anaconda3\\lib\\site-packages (from jinja2>=2.7.2->pyLDAvis) (1.1.1)\n",
      "Requirement already satisfied: python-dateutil>=2.7.3 in c:\\users\\hp\\anaconda3\\lib\\site-packages (from pandas>=0.17.0; python_version > \"3.5\"->pyLDAvis) (2.8.1)\n",
      "Requirement already satisfied: pytz>=2017.2 in c:\\users\\hp\\anaconda3\\lib\\site-packages (from pandas>=0.17.0; python_version > \"3.5\"->pyLDAvis) (2020.1)\n",
      "Requirement already satisfied: six>=1.5 in c:\\users\\hp\\anaconda3\\lib\\site-packages (from python-dateutil>=2.7.3->pandas>=0.17.0; python_version > \"3.5\"->pyLDAvis) (1.15.0)\n",
      "Note: you may need to restart the kernel to use updated packages.\n"
     ]
    }
   ],
   "source": [
    "pip install pyLDAvis"
   ]
  },
  {
   "cell_type": "code",
   "execution_count": 3,
   "metadata": {},
   "outputs": [
    {
     "name": "stdout",
     "output_type": "stream",
     "text": [
      "Collecting spacy==2.2.0Note: you may need to restart the kernel to use updated packages.\n",
      "\n"
     ]
    },
    {
     "name": "stderr",
     "output_type": "stream",
     "text": [
      "  ERROR: Command errored out with exit status 1:\n",
      "   command: 'C:\\Users\\HP\\anaconda3\\python.exe' 'C:\\Users\\HP\\anaconda3\\lib\\site-packages\\pip' install --ignore-installed --no-user --prefix 'C:\\Users\\HP\\AppData\\Local\\Temp\\pip-build-env-uwa46p02\\normal' --no-warn-script-location --no-binary :none: --only-binary :none: -i https://pypi.org/simple -- 'preshed<3.1.0,>=3.0.2' 'cymem<2.1.0,>=2.0.2' 'cython>=0.25' 'thinc<7.2.0,>=7.1.1' 'murmurhash<1.1.0,>=0.28.0' wheel\n",
      "       cwd: None\n",
      "  Complete output (215 lines):\n",
      "  Collecting preshed<3.1.0,>=3.0.2\n",
      "    Using cached preshed-3.0.5-cp38-cp38-win_amd64.whl (112 kB)\n",
      "  Collecting cymem<2.1.0,>=2.0.2\n",
      "    Using cached cymem-2.0.5-cp38-cp38-win_amd64.whl (36 kB)\n",
      "  Collecting cython>=0.25\n",
      "    Using cached Cython-0.29.22-cp38-cp38-win_amd64.whl (1.7 MB)\n",
      "  Collecting thinc<7.2.0,>=7.1.1\n",
      "    Using cached thinc-7.1.1.tar.gz (1.9 MB)\n",
      "  Collecting murmurhash<1.1.0,>=0.28.0\n",
      "    Using cached murmurhash-1.0.5-cp38-cp38-win_amd64.whl (21 kB)\n",
      "  Collecting wheel\n",
      "    Using cached wheel-0.36.2-py2.py3-none-any.whl (35 kB)\n",
      "  Collecting blis<0.5.0,>=0.4.0\n",
      "    Using cached blis-0.4.1-cp38-cp38-win_amd64.whl (5.0 MB)\n",
      "  Collecting wasabi<1.1.0,>=0.0.9\n",
      "    Using cached wasabi-0.8.2-py3-none-any.whl (23 kB)\n",
      "  Collecting srsly<1.1.0,>=0.0.6\n",
      "    Using cached srsly-1.0.5-cp38-cp38-win_amd64.whl (178 kB)\n",
      "  Collecting numpy>=1.7.0\n",
      "    Using cached numpy-1.20.1-cp38-cp38-win_amd64.whl (13.7 MB)\n",
      "  Collecting plac<1.0.0,>=0.9.6\n",
      "    Using cached plac-0.9.6-py2.py3-none-any.whl (20 kB)\n",
      "  Collecting tqdm<5.0.0,>=4.10.0\n",
      "    Using cached tqdm-4.59.0-py2.py3-none-any.whl (74 kB)\n",
      "  Building wheels for collected packages: thinc\n",
      "    Building wheel for thinc (setup.py): started\n",
      "    Building wheel for thinc (setup.py): finished with status 'error'\n",
      "    ERROR: Command errored out with exit status 1:\n",
      "     command: 'C:\\Users\\HP\\anaconda3\\python.exe' -u -c 'import sys, setuptools, tokenize; sys.argv[0] = '\"'\"'C:\\\\Users\\\\HP\\\\AppData\\\\Local\\\\Temp\\\\pip-install-n9kw4wie\\\\thinc\\\\setup.py'\"'\"'; __file__='\"'\"'C:\\\\Users\\\\HP\\\\AppData\\\\Local\\\\Temp\\\\pip-install-n9kw4wie\\\\thinc\\\\setup.py'\"'\"';f=getattr(tokenize, '\"'\"'open'\"'\"', open)(__file__);code=f.read().replace('\"'\"'\\r\\n'\"'\"', '\"'\"'\\n'\"'\"');f.close();exec(compile(code, __file__, '\"'\"'exec'\"'\"'))' bdist_wheel -d 'C:\\Users\\HP\\AppData\\Local\\Temp\\pip-wheel-wv0rk8lk'\n",
      "         cwd: C:\\Users\\HP\\AppData\\Local\\Temp\\pip-install-n9kw4wie\\thinc\\\n",
      "    Complete output (166 lines):\n",
      "    running bdist_wheel\n",
      "    running build\n",
      "    running build_py\n",
      "    creating build\n",
      "    creating build\\lib.win-amd64-3.8\n",
      "    creating build\\lib.win-amd64-3.8\\thinc\n",
      "    copying thinc\\about.py -> build\\lib.win-amd64-3.8\\thinc\n",
      "    copying thinc\\api.py -> build\\lib.win-amd64-3.8\\thinc\n",
      "    copying thinc\\check.py -> build\\lib.win-amd64-3.8\\thinc\n",
      "    copying thinc\\compat.py -> build\\lib.win-amd64-3.8\\thinc\n",
      "    copying thinc\\describe.py -> build\\lib.win-amd64-3.8\\thinc\n",
      "    copying thinc\\exceptions.py -> build\\lib.win-amd64-3.8\\thinc\n",
      "    copying thinc\\i2v.py -> build\\lib.win-amd64-3.8\\thinc\n",
      "    copying thinc\\loss.py -> build\\lib.win-amd64-3.8\\thinc\n",
      "    copying thinc\\misc.py -> build\\lib.win-amd64-3.8\\thinc\n",
      "    copying thinc\\rates.py -> build\\lib.win-amd64-3.8\\thinc\n",
      "    copying thinc\\t2t.py -> build\\lib.win-amd64-3.8\\thinc\n",
      "    copying thinc\\t2v.py -> build\\lib.win-amd64-3.8\\thinc\n",
      "    copying thinc\\v2v.py -> build\\lib.win-amd64-3.8\\thinc\n",
      "    copying thinc\\__init__.py -> build\\lib.win-amd64-3.8\\thinc\n",
      "    creating build\\lib.win-amd64-3.8\\thinc\\tests\n",
      "    copying thinc\\tests\\conftest.py -> build\\lib.win-amd64-3.8\\thinc\\tests\n",
      "    copying thinc\\tests\\strategies.py -> build\\lib.win-amd64-3.8\\thinc\\tests\n",
      "    copying thinc\\tests\\test_api_funcs.py -> build\\lib.win-amd64-3.8\\thinc\\tests\n",
      "    copying thinc\\tests\\test_util.py -> build\\lib.win-amd64-3.8\\thinc\\tests\n",
      "    copying thinc\\tests\\util.py -> build\\lib.win-amd64-3.8\\thinc\\tests\n",
      "    copying thinc\\tests\\__init__.py -> build\\lib.win-amd64-3.8\\thinc\\tests\n",
      "    creating build\\lib.win-amd64-3.8\\thinc\\tests\\unit\n",
      "    copying thinc\\tests\\unit\\test_about.py -> build\\lib.win-amd64-3.8\\thinc\\tests\\unit\n",
      "    copying thinc\\tests\\unit\\test_affine.py -> build\\lib.win-amd64-3.8\\thinc\\tests\\unit\n",
      "    copying thinc\\tests\\unit\\test_beam_search.py -> build\\lib.win-amd64-3.8\\thinc\\tests\\unit\n",
      "    copying thinc\\tests\\unit\\test_check_exceptions.py -> build\\lib.win-amd64-3.8\\thinc\\tests\\unit\n",
      "    copying thinc\\tests\\unit\\test_difference.py -> build\\lib.win-amd64-3.8\\thinc\\tests\\unit\n",
      "    copying thinc\\tests\\unit\\test_feature_extracter.py -> build\\lib.win-amd64-3.8\\thinc\\tests\\unit\n",
      "    copying thinc\\tests\\unit\\test_hash_embed.py -> build\\lib.win-amd64-3.8\\thinc\\tests\\unit\n",
      "    copying thinc\\tests\\unit\\test_imports.py -> build\\lib.win-amd64-3.8\\thinc\\tests\\unit\n",
      "    copying thinc\\tests\\unit\\test_linear.py -> build\\lib.win-amd64-3.8\\thinc\\tests\\unit\n",
      "    copying thinc\\tests\\unit\\test_loss.py -> build\\lib.win-amd64-3.8\\thinc\\tests\\unit\n",
      "    copying thinc\\tests\\unit\\test_mem.py -> build\\lib.win-amd64-3.8\\thinc\\tests\\unit\n",
      "    copying thinc\\tests\\unit\\test_model.py -> build\\lib.win-amd64-3.8\\thinc\\tests\\unit\n",
      "    copying thinc\\tests\\unit\\test_ops.py -> build\\lib.win-amd64-3.8\\thinc\\tests\\unit\n",
      "    copying thinc\\tests\\unit\\test_pickle.py -> build\\lib.win-amd64-3.8\\thinc\\tests\\unit\n",
      "    copying thinc\\tests\\unit\\test_pooling.py -> build\\lib.win-amd64-3.8\\thinc\\tests\\unit\n",
      "    copying thinc\\tests\\unit\\test_pytorch_wrapper.py -> build\\lib.win-amd64-3.8\\thinc\\tests\\unit\n",
      "    copying thinc\\tests\\unit\\test_rates.py -> build\\lib.win-amd64-3.8\\thinc\\tests\\unit\n",
      "    copying thinc\\tests\\unit\\test_rnn.py -> build\\lib.win-amd64-3.8\\thinc\\tests\\unit\n",
      "    copying thinc\\tests\\unit\\__init__.py -> build\\lib.win-amd64-3.8\\thinc\\tests\\unit\n",
      "    creating build\\lib.win-amd64-3.8\\thinc\\tests\\integration\n",
      "    copying thinc\\tests\\integration\\test_affine_learns.py -> build\\lib.win-amd64-3.8\\thinc\\tests\\integration\n",
      "    copying thinc\\tests\\integration\\test_basic_tagger.py -> build\\lib.win-amd64-3.8\\thinc\\tests\\integration\n",
      "    copying thinc\\tests\\integration\\test_batch_norm.py -> build\\lib.win-amd64-3.8\\thinc\\tests\\integration\n",
      "    copying thinc\\tests\\integration\\test_feed_forward.py -> build\\lib.win-amd64-3.8\\thinc\\tests\\integration\n",
      "    copying thinc\\tests\\integration\\test_mnist.py -> build\\lib.win-amd64-3.8\\thinc\\tests\\integration\n",
      "    copying thinc\\tests\\integration\\test_pickle.py -> build\\lib.win-amd64-3.8\\thinc\\tests\\integration\n",
      "    copying thinc\\tests\\integration\\test_roundtrip_bytes.py -> build\\lib.win-amd64-3.8\\thinc\\tests\\integration\n",
      "    copying thinc\\tests\\integration\\test_shape_check.py -> build\\lib.win-amd64-3.8\\thinc\\tests\\integration\n",
      "    copying thinc\\tests\\integration\\__init__.py -> build\\lib.win-amd64-3.8\\thinc\\tests\\integration\n",
      "    creating build\\lib.win-amd64-3.8\\thinc\\tests\\linear\n",
      "    copying thinc\\tests\\linear\\test_avgtron.py -> build\\lib.win-amd64-3.8\\thinc\\tests\\linear\n",
      "    copying thinc\\tests\\linear\\test_linear.py -> build\\lib.win-amd64-3.8\\thinc\\tests\\linear\n",
      "    copying thinc\\tests\\linear\\test_sparse_array.py -> build\\lib.win-amd64-3.8\\thinc\\tests\\linear\n",
      "    copying thinc\\tests\\linear\\__init__.py -> build\\lib.win-amd64-3.8\\thinc\\tests\\linear\n",
      "    creating build\\lib.win-amd64-3.8\\thinc\\linear\n",
      "    copying thinc\\linear\\__init__.py -> build\\lib.win-amd64-3.8\\thinc\\linear\n",
      "    creating build\\lib.win-amd64-3.8\\thinc\\neural\n",
      "    copying thinc\\neural\\mem.py -> build\\lib.win-amd64-3.8\\thinc\\neural\n",
      "    copying thinc\\neural\\pooling.py -> build\\lib.win-amd64-3.8\\thinc\\neural\n",
      "    copying thinc\\neural\\train.py -> build\\lib.win-amd64-3.8\\thinc\\neural\n",
      "    copying thinc\\neural\\util.py -> build\\lib.win-amd64-3.8\\thinc\\neural\n",
      "    copying thinc\\neural\\vec2vec.py -> build\\lib.win-amd64-3.8\\thinc\\neural\n",
      "    copying thinc\\neural\\vecs2vec.py -> build\\lib.win-amd64-3.8\\thinc\\neural\n",
      "    copying thinc\\neural\\vecs2vecs.py -> build\\lib.win-amd64-3.8\\thinc\\neural\n",
      "    copying thinc\\neural\\_lsuv.py -> build\\lib.win-amd64-3.8\\thinc\\neural\n",
      "    copying thinc\\neural\\__init__.py -> build\\lib.win-amd64-3.8\\thinc\\neural\n",
      "    creating build\\lib.win-amd64-3.8\\thinc\\extra\n",
      "    copying thinc\\extra\\datasets.py -> build\\lib.win-amd64-3.8\\thinc\\extra\n",
      "    copying thinc\\extra\\hpbff.py -> build\\lib.win-amd64-3.8\\thinc\\extra\n",
      "    copying thinc\\extra\\load_nlp.py -> build\\lib.win-amd64-3.8\\thinc\\extra\n",
      "    copying thinc\\extra\\visualizer.py -> build\\lib.win-amd64-3.8\\thinc\\extra\n",
      "    copying thinc\\extra\\wrappers.py -> build\\lib.win-amd64-3.8\\thinc\\extra\n",
      "    copying thinc\\extra\\__init__.py -> build\\lib.win-amd64-3.8\\thinc\\extra\n",
      "    creating build\\lib.win-amd64-3.8\\thinc\\neural\\_classes\n",
      "    copying thinc\\neural\\_classes\\affine.py -> build\\lib.win-amd64-3.8\\thinc\\neural\\_classes\n",
      "    copying thinc\\neural\\_classes\\attention.py -> build\\lib.win-amd64-3.8\\thinc\\neural\\_classes\n",
      "    copying thinc\\neural\\_classes\\batchnorm.py -> build\\lib.win-amd64-3.8\\thinc\\neural\\_classes\n",
      "    copying thinc\\neural\\_classes\\convolution.py -> build\\lib.win-amd64-3.8\\thinc\\neural\\_classes\n",
      "    copying thinc\\neural\\_classes\\difference.py -> build\\lib.win-amd64-3.8\\thinc\\neural\\_classes\n",
      "    copying thinc\\neural\\_classes\\elu.py -> build\\lib.win-amd64-3.8\\thinc\\neural\\_classes\n",
      "    copying thinc\\neural\\_classes\\embed.py -> build\\lib.win-amd64-3.8\\thinc\\neural\\_classes\n",
      "    copying thinc\\neural\\_classes\\encoder_decoder.py -> build\\lib.win-amd64-3.8\\thinc\\neural\\_classes\n",
      "    copying thinc\\neural\\_classes\\feature_extracter.py -> build\\lib.win-amd64-3.8\\thinc\\neural\\_classes\n",
      "    copying thinc\\neural\\_classes\\feed_forward.py -> build\\lib.win-amd64-3.8\\thinc\\neural\\_classes\n",
      "    copying thinc\\neural\\_classes\\function_layer.py -> build\\lib.win-amd64-3.8\\thinc\\neural\\_classes\n",
      "    copying thinc\\neural\\_classes\\hash_embed.py -> build\\lib.win-amd64-3.8\\thinc\\neural\\_classes\n",
      "    copying thinc\\neural\\_classes\\layernorm.py -> build\\lib.win-amd64-3.8\\thinc\\neural\\_classes\n",
      "    copying thinc\\neural\\_classes\\maxout.py -> build\\lib.win-amd64-3.8\\thinc\\neural\\_classes\n",
      "    copying thinc\\neural\\_classes\\model.py -> build\\lib.win-amd64-3.8\\thinc\\neural\\_classes\n",
      "    copying thinc\\neural\\_classes\\multiheaded_attention.py -> build\\lib.win-amd64-3.8\\thinc\\neural\\_classes\n",
      "    copying thinc\\neural\\_classes\\relu.py -> build\\lib.win-amd64-3.8\\thinc\\neural\\_classes\n",
      "    copying thinc\\neural\\_classes\\resnet.py -> build\\lib.win-amd64-3.8\\thinc\\neural\\_classes"
     ]
    },
    {
     "name": "stdout",
     "output_type": "stream",
     "text": [
      "  Using cached spacy-2.2.0.tar.gz (5.8 MB)\n",
      "  Installing build dependencies: started\n",
      "  Installing build dependencies: finished with status 'done'\n",
      "  Getting requirements to build wheel: started\n",
      "  Getting requirements to build wheel: finished with status 'done'\n",
      "  Installing backend dependencies: started"
     ]
    },
    {
     "name": "stderr",
     "output_type": "stream",
     "text": [
      "\n",
      "    copying thinc\\neural\\_classes\\rnn.py -> build\\lib.win-amd64-3.8\\thinc\\neural\\_classes\n",
      "    copying thinc\\neural\\_classes\\selu.py -> build\\lib.win-amd64-3.8\\thinc\\neural\\_classes\n",
      "    copying thinc\\neural\\_classes\\softmax.py -> build\\lib.win-amd64-3.8\\thinc\\neural\\_classes\n",
      "    copying thinc\\neural\\_classes\\static_vectors.py -> build\\lib.win-amd64-3.8\\thinc\\neural\\_classes\n",
      "    copying thinc\\neural\\_classes\\__init__.py -> build\\lib.win-amd64-3.8\\thinc\\neural\\_classes\n",
      "    creating build\\lib.win-amd64-3.8\\thinc\\extra\\_vendorized\n",
      "    copying thinc\\extra\\_vendorized\\keras_datasets.py -> build\\lib.win-amd64-3.8\\thinc\\extra\\_vendorized\n",
      "    copying thinc\\extra\\_vendorized\\keras_data_utils.py -> build\\lib.win-amd64-3.8\\thinc\\extra\\_vendorized\n",
      "    copying thinc\\extra\\_vendorized\\keras_generic_utils.py -> build\\lib.win-amd64-3.8\\thinc\\extra\\_vendorized\n",
      "    copying thinc\\extra\\_vendorized\\__init__.py -> build\\lib.win-amd64-3.8\\thinc\\extra\\_vendorized\n",
      "    creating build\\lib.win-amd64-3.8\\thinc\\extra\\wrapt\n",
      "    copying thinc\\extra\\wrapt\\decorators.py -> build\\lib.win-amd64-3.8\\thinc\\extra\\wrapt\n",
      "    copying thinc\\extra\\wrapt\\importer.py -> build\\lib.win-amd64-3.8\\thinc\\extra\\wrapt\n",
      "    copying thinc\\extra\\wrapt\\wrappers.py -> build\\lib.win-amd64-3.8\\thinc\\extra\\wrapt\n",
      "    copying thinc\\extra\\wrapt\\__init__.py -> build\\lib.win-amd64-3.8\\thinc\\extra\\wrapt\n",
      "    copying thinc\\linalg.pyx -> build\\lib.win-amd64-3.8\\thinc\n",
      "    copying thinc\\structs.pyx -> build\\lib.win-amd64-3.8\\thinc\n",
      "    copying thinc\\typedefs.pyx -> build\\lib.win-amd64-3.8\\thinc\n",
      "    copying thinc\\cpu.pxd -> build\\lib.win-amd64-3.8\\thinc\n",
      "    copying thinc\\linalg.pxd -> build\\lib.win-amd64-3.8\\thinc\n",
      "    copying thinc\\structs.pxd -> build\\lib.win-amd64-3.8\\thinc\n",
      "    copying thinc\\typedefs.pxd -> build\\lib.win-amd64-3.8\\thinc\n",
      "    copying thinc\\__init__.pxd -> build\\lib.win-amd64-3.8\\thinc\n",
      "    copying thinc\\compile_time_constants.pxi -> build\\lib.win-amd64-3.8\\thinc\n",
      "    copying thinc\\linalg.cpp -> build\\lib.win-amd64-3.8\\thinc\n",
      "    copying thinc\\structs.cpp -> build\\lib.win-amd64-3.8\\thinc\n",
      "    copying thinc\\typedefs.cpp -> build\\lib.win-amd64-3.8\\thinc\n",
      "    copying thinc\\linear\\avgtron.pyx -> build\\lib.win-amd64-3.8\\thinc\\linear\n",
      "    copying thinc\\linear\\features.pyx -> build\\lib.win-amd64-3.8\\thinc\\linear\n",
      "    copying thinc\\linear\\linear.pyx -> build\\lib.win-amd64-3.8\\thinc\\linear\n",
      "    copying thinc\\linear\\serialize.pyx -> build\\lib.win-amd64-3.8\\thinc\\linear\n",
      "    copying thinc\\linear\\sparse.pyx -> build\\lib.win-amd64-3.8\\thinc\\linear\n",
      "    copying thinc\\linear\\avgtron.pxd -> build\\lib.win-amd64-3.8\\thinc\\linear\n",
      "    copying thinc\\linear\\features.pxd -> build\\lib.win-amd64-3.8\\thinc\\linear\n",
      "    copying thinc\\linear\\serialize.pxd -> build\\lib.win-amd64-3.8\\thinc\\linear\n",
      "    copying thinc\\linear\\sparse.pxd -> build\\lib.win-amd64-3.8\\thinc\\linear\n",
      "    copying thinc\\linear\\__init__.pxd -> build\\lib.win-amd64-3.8\\thinc\\linear\n",
      "    copying thinc\\linear\\avgtron.cpp -> build\\lib.win-amd64-3.8\\thinc\\linear\n",
      "    copying thinc\\linear\\features.cpp -> build\\lib.win-amd64-3.8\\thinc\\linear\n",
      "    copying thinc\\linear\\linear.cpp -> build\\lib.win-amd64-3.8\\thinc\\linear\n",
      "    copying thinc\\linear\\serialize.cpp -> build\\lib.win-amd64-3.8\\thinc\\linear\n",
      "    copying thinc\\linear\\sparse.cpp -> build\\lib.win-amd64-3.8\\thinc\\linear\n",
      "    copying thinc\\neural\\ops.pyx -> build\\lib.win-amd64-3.8\\thinc\\neural\n",
      "    copying thinc\\neural\\optimizers.pyx -> build\\lib.win-amd64-3.8\\thinc\\neural\n",
      "    copying thinc\\neural\\_aligned_alloc.pyx -> build\\lib.win-amd64-3.8\\thinc\\neural\n",
      "    copying thinc\\neural\\cpu.pxd -> build\\lib.win-amd64-3.8\\thinc\\neural\n",
      "    copying thinc\\neural\\ops.pxd -> build\\lib.win-amd64-3.8\\thinc\\neural\n",
      "    copying thinc\\neural\\__init__.pxd -> build\\lib.win-amd64-3.8\\thinc\\neural\n",
      "    copying thinc\\neural\\ops.cpp -> build\\lib.win-amd64-3.8\\thinc\\neural\n",
      "    copying thinc\\neural\\optimizers.cpp -> build\\lib.win-amd64-3.8\\thinc\\neural\n",
      "    copying thinc\\neural\\_aligned_alloc.cpp -> build\\lib.win-amd64-3.8\\thinc\\neural\n",
      "    copying thinc\\extra\\cache.pyx -> build\\lib.win-amd64-3.8\\thinc\\extra\n",
      "    copying thinc\\extra\\eg.pyx -> build\\lib.win-amd64-3.8\\thinc\\extra\n",
      "    copying thinc\\extra\\mb.pyx -> build\\lib.win-amd64-3.8\\thinc\\extra\n",
      "    copying thinc\\extra\\search.pyx -> build\\lib.win-amd64-3.8\\thinc\\extra\n",
      "    copying thinc\\extra\\cache.pxd -> build\\lib.win-amd64-3.8\\thinc\\extra\n",
      "    copying thinc\\extra\\eg.pxd -> build\\lib.win-amd64-3.8\\thinc\\extra\n",
      "    copying thinc\\extra\\mb.pxd -> build\\lib.win-amd64-3.8\\thinc\\extra\n",
      "    copying thinc\\extra\\search.pxd -> build\\lib.win-amd64-3.8\\thinc\\extra\n",
      "    copying thinc\\extra\\__init__.pxd -> build\\lib.win-amd64-3.8\\thinc\\extra\n",
      "    copying thinc\\extra\\cache.cpp -> build\\lib.win-amd64-3.8\\thinc\\extra\n",
      "    copying thinc\\extra\\eg.cpp -> build\\lib.win-amd64-3.8\\thinc\\extra\n",
      "    copying thinc\\extra\\mb.cpp -> build\\lib.win-amd64-3.8\\thinc\\extra\n",
      "    copying thinc\\extra\\search.cpp -> build\\lib.win-amd64-3.8\\thinc\\extra\n",
      "    running build_ext\n",
      "    error: Microsoft Visual C++ 14.0 or greater is required. Get it with \"Microsoft C++ Build Tools\": https://visualstudio.microsoft.com/visual-cpp-build-tools/\n",
      "    ----------------------------------------\n",
      "    ERROR: Failed building wheel for thinc\n",
      "    Running setup.py clean for thinc\n",
      "  Failed to build thinc\n",
      "  Installing collected packages: cymem, murmurhash, preshed, cython, numpy, blis, wasabi, srsly, plac, tqdm, thinc, wheel\n",
      "      Running setup.py install for thinc: started\n",
      "      Running setup.py install for thinc: finished with status 'error'\n",
      "      ERROR: Command errored out with exit status 1:\n",
      "       command: 'C:\\Users\\HP\\anaconda3\\python.exe' -u -c 'import sys, setuptools, tokenize; sys.argv[0] = '\"'\"'C:\\\\Users\\\\HP\\\\AppData\\\\Local\\\\Temp\\\\pip-install-n9kw4wie\\\\thinc\\\\setup.py'\"'\"'; __file__='\"'\"'C:\\\\Users\\\\HP\\\\AppData\\\\Local\\\\Temp\\\\pip-install-n9kw4wie\\\\thinc\\\\setup.py'\"'\"';f=getattr(tokenize, '\"'\"'open'\"'\"', open)(__file__);code=f.read().replace('\"'\"'\\r\\n'\"'\"', '\"'\"'\\n'\"'\"');f.close();exec(compile(code, __file__, '\"'\"'exec'\"'\"'))' install --record 'C:\\Users\\HP\\AppData\\Local\\Temp\\pip-record-vikald3v\\install-record.txt' --single-version-externally-managed --prefix 'C:\\Users\\HP\\AppData\\Local\\Temp\\pip-build-env-uwa46p02\\normal' --compile --install-headers 'C:\\Users\\HP\\AppData\\Local\\Temp\\pip-build-env-uwa46p02\\normal\\Include\\thinc'\n",
      "           cwd: C:\\Users\\HP\\AppData\\Local\\Temp\\pip-install-n9kw4wie\\thinc\\\n",
      "      Complete output (5 lines):\n",
      "      running install\n",
      "      running build\n",
      "      running build_py\n",
      "      running build_ext\n",
      "      error: Microsoft Visual C++ 14.0 or greater is required. Get it with \"Microsoft C++ Build Tools\": https://visualstudio.microsoft.com/visual-cpp-build-tools/\n",
      "      ----------------------------------------\n",
      "  ERROR: Command errored out with exit status 1: 'C:\\Users\\HP\\anaconda3\\python.exe' -u -c 'import sys, setuptools, tokenize; sys.argv[0] = '\"'\"'C:\\\\Users\\\\HP\\\\AppData\\\\Local\\\\Temp\\\\pip-install-n9kw4wie\\\\thinc\\\\setup.py'\"'\"'; __file__='\"'\"'C:\\\\Users\\\\HP\\\\AppData\\\\Local\\\\Temp\\\\pip-install-n9kw4wie\\\\thinc\\\\setup.py'\"'\"';f=getattr(tokenize, '\"'\"'open'\"'\"', open)(__file__);code=f.read().replace('\"'\"'\\r\\n'\"'\"', '\"'\"'\\n'\"'\"');f.close();exec(compile(code, __file__, '\"'\"'exec'\"'\"'))' install --record 'C:\\Users\\HP\\AppData\\Local\\Temp\\pip-record-vikald3v\\install-record.txt' --single-version-externally-managed --prefix 'C:\\Users\\HP\\AppData\\Local\\Temp\\pip-build-env-uwa46p02\\normal' --compile --install-headers 'C:\\Users\\HP\\AppData\\Local\\Temp\\pip-build-env-uwa46p02\\normal\\Include\\thinc' Check the logs for full command output.\n",
      "  ----------------------------------------\n",
      "ERROR: Command errored out with exit status 1: 'C:\\Users\\HP\\anaconda3\\python.exe' 'C:\\Users\\HP\\anaconda3\\lib\\site-packages\\pip' install --ignore-installed --no-user --prefix 'C:\\Users\\HP\\AppData\\Local\\Temp\\pip-build-env-uwa46p02\\normal' --no-warn-script-location --no-binary :none: --only-binary :none: -i https://pypi.org/simple -- 'preshed<3.1.0,>=3.0.2' 'cymem<2.1.0,>=2.0.2' 'cython>=0.25' 'thinc<7.2.0,>=7.1.1' 'murmurhash<1.1.0,>=0.28.0' wheel Check the logs for full command output.\n"
     ]
    }
   ],
   "source": [
    "pip install spacy==2.2.0"
   ]
  },
  {
   "cell_type": "code",
   "execution_count": 4,
   "metadata": {},
   "outputs": [
    {
     "name": "stdout",
     "output_type": "stream",
     "text": [
      "\n",
      "  Installing backend dependencies: finished with status 'error'\n",
      "Requirement already satisfied: gensim in c:\\users\\hp\\anaconda3\\lib\\site-packages (3.8.3)\n",
      "Requirement already satisfied: six>=1.5.0 in c:\\users\\hp\\anaconda3\\lib\\site-packages (from gensim) (1.15.0)\n",
      "Requirement already satisfied: smart-open>=1.8.1 in c:\\users\\hp\\anaconda3\\lib\\site-packages (from gensim) (3.0.0)\n",
      "Requirement already satisfied: Cython==0.29.14 in c:\\users\\hp\\anaconda3\\lib\\site-packages (from gensim) (0.29.14)\n",
      "Requirement already satisfied: scipy>=0.18.1 in c:\\users\\hp\\anaconda3\\lib\\site-packages (from gensim) (1.5.2)\n",
      "Requirement already satisfied: numpy>=1.11.3 in c:\\users\\hp\\anaconda3\\lib\\site-packages (from gensim) (1.19.2)\n",
      "Requirement already satisfied: requests in c:\\users\\hp\\anaconda3\\lib\\site-packages (from smart-open>=1.8.1->gensim) (2.24.0)\n",
      "Requirement already satisfied: chardet<4,>=3.0.2 in c:\\users\\hp\\anaconda3\\lib\\site-packages (from requests->smart-open>=1.8.1->gensim) (3.0.4)\n",
      "Requirement already satisfied: certifi>=2017.4.17 in c:\\users\\hp\\anaconda3\\lib\\site-packages (from requests->smart-open>=1.8.1->gensim) (2020.6.20)\n",
      "Requirement already satisfied: urllib3!=1.25.0,!=1.25.1,<1.26,>=1.21.1 in c:\\users\\hp\\anaconda3\\lib\\site-packages (from requests->smart-open>=1.8.1->gensim) (1.25.11)\n",
      "Requirement already satisfied: idna<3,>=2.5 in c:\\users\\hp\\anaconda3\\lib\\site-packages (from requests->smart-open>=1.8.1->gensim) (2.10)\n",
      "Note: you may need to restart the kernel to use updated packages.\n"
     ]
    }
   ],
   "source": [
    "pip install gensim"
   ]
  },
  {
   "cell_type": "markdown",
   "metadata": {},
   "source": [
    "## Importing libaries"
   ]
  },
  {
   "cell_type": "code",
   "execution_count": 5,
   "metadata": {
    "id": "2bHmxbxeJMEx"
   },
   "outputs": [],
   "source": [
    "import re\n",
    "import numpy as np\n",
    "import pandas as pd\n",
    "from pprint import pprint\n",
    "\n",
    "# Gensim\n",
    "import gensim\n",
    "import gensim.corpora as corpora\n",
    "from gensim.utils import simple_preprocess\n",
    "from gensim.models import CoherenceModel\n",
    "\n",
    "# spacy for lemmatization\n",
    "import spacy\n",
    "\n",
    "# Plotting tools\n",
    "import pyLDAvis\n",
    "import pyLDAvis.gensim  # don't skip this\n",
    "import matplotlib.pyplot as plt\n",
    "%matplotlib inline\n",
    "\n",
    "# Enable logging for gensim - optional\n",
    "import logging\n",
    "logging.basicConfig(format='%(asctime)s : %(levelname)s : %(message)s', level=logging.ERROR)\n",
    "\n",
    "import warnings\n",
    "warnings.filterwarnings(\"ignore\",category=DeprecationWarning)"
   ]
  },
  {
   "cell_type": "markdown",
   "metadata": {},
   "source": [
    "## Import dataset"
   ]
  },
  {
   "cell_type": "code",
   "execution_count": 84,
   "metadata": {
    "colab": {
     "base_uri": "https://localhost:8080/",
     "height": 296
    },
    "id": "5LK_zPh8ZzXn",
    "outputId": "7d505b12-30d0-49df-ac79-b5d5ffa45a67",
    "scrolled": false
   },
   "outputs": [
    {
     "data": {
      "text/html": [
       "<div>\n",
       "<style scoped>\n",
       "    .dataframe tbody tr th:only-of-type {\n",
       "        vertical-align: middle;\n",
       "    }\n",
       "\n",
       "    .dataframe tbody tr th {\n",
       "        vertical-align: top;\n",
       "    }\n",
       "\n",
       "    .dataframe thead th {\n",
       "        text-align: right;\n",
       "    }\n",
       "</style>\n",
       "<table border=\"1\" class=\"dataframe\">\n",
       "  <thead>\n",
       "    <tr style=\"text-align: right;\">\n",
       "      <th></th>\n",
       "      <th>Title</th>\n",
       "      <th>Time</th>\n",
       "      <th>reporttype</th>\n",
       "      <th>Reviews</th>\n",
       "      <th>Unnamed: 4</th>\n",
       "    </tr>\n",
       "  </thead>\n",
       "  <tbody>\n",
       "    <tr>\n",
       "      <th>0</th>\n",
       "      <td>Rated  for Birth Control Report</td>\n",
       "      <td>Posted 6 months ago (8/19/2020)</td>\n",
       "      <td>Report</td>\n",
       "      <td>I got the Mirena in Feb 2020. The insertion wa...</td>\n",
       "      <td>NaN</td>\n",
       "    </tr>\n",
       "    <tr>\n",
       "      <th>1</th>\n",
       "      <td>Rated  for Birth Control Report</td>\n",
       "      <td>Posted 6 months ago (8/19/2020)</td>\n",
       "      <td>Report</td>\n",
       "      <td>This is 2nd time I have had the Mirena. Total ...</td>\n",
       "      <td>NaN</td>\n",
       "    </tr>\n",
       "    <tr>\n",
       "      <th>2</th>\n",
       "      <td>Rated  for Birth Control Report</td>\n",
       "      <td>Posted 6 months ago (8/19/2020)</td>\n",
       "      <td>Report</td>\n",
       "      <td>The biggest joke known to mankind. Doctor gave...</td>\n",
       "      <td>NaN</td>\n",
       "    </tr>\n",
       "    <tr>\n",
       "      <th>3</th>\n",
       "      <td>Rated  for Birth Control Report</td>\n",
       "      <td>Posted 6 months ago (8/14/2020)</td>\n",
       "      <td>Report</td>\n",
       "      <td>I’ve had mirena for exactly one month now and ...</td>\n",
       "      <td>NaN</td>\n",
       "    </tr>\n",
       "    <tr>\n",
       "      <th>4</th>\n",
       "      <td>Rated  for Endometriosis Report</td>\n",
       "      <td>Posted 7 months ago (8/6/2020)</td>\n",
       "      <td>Report</td>\n",
       "      <td>I have a history of gushing, painful periods w...</td>\n",
       "      <td>NaN</td>\n",
       "    </tr>\n",
       "  </tbody>\n",
       "</table>\n",
       "</div>"
      ],
      "text/plain": [
       "                             Title                             Time  \\\n",
       "0  Rated  for Birth Control Report  Posted 6 months ago (8/19/2020)   \n",
       "1  Rated  for Birth Control Report  Posted 6 months ago (8/19/2020)   \n",
       "2  Rated  for Birth Control Report  Posted 6 months ago (8/19/2020)   \n",
       "3  Rated  for Birth Control Report  Posted 6 months ago (8/14/2020)   \n",
       "4  Rated  for Endometriosis Report   Posted 7 months ago (8/6/2020)   \n",
       "\n",
       "  reporttype                                            Reviews Unnamed: 4  \n",
       "0     Report  I got the Mirena in Feb 2020. The insertion wa...        NaN  \n",
       "1     Report  This is 2nd time I have had the Mirena. Total ...        NaN  \n",
       "2     Report  The biggest joke known to mankind. Doctor gave...        NaN  \n",
       "3     Report  I’ve had mirena for exactly one month now and ...        NaN  \n",
       "4     Report  I have a history of gushing, painful periods w...        NaN  "
      ]
     },
     "execution_count": 84,
     "metadata": {},
     "output_type": "execute_result"
    }
   ],
   "source": [
    "# Import Dataset\n",
    "df = pd.read_csv('Mirena_IUD.csv', encoding='cp1252',error_bad_lines=False)\n",
    "df.head()"
   ]
  },
  {
   "cell_type": "markdown",
   "metadata": {},
   "source": [
    "# Data pre-processing steps-"
   ]
  },
  {
   "cell_type": "markdown",
   "metadata": {},
   "source": [
    "### Drop unwanted columns"
   ]
  },
  {
   "cell_type": "code",
   "execution_count": 85,
   "metadata": {
    "scrolled": false
   },
   "outputs": [
    {
     "data": {
      "text/html": [
       "<div>\n",
       "<style scoped>\n",
       "    .dataframe tbody tr th:only-of-type {\n",
       "        vertical-align: middle;\n",
       "    }\n",
       "\n",
       "    .dataframe tbody tr th {\n",
       "        vertical-align: top;\n",
       "    }\n",
       "\n",
       "    .dataframe thead th {\n",
       "        text-align: right;\n",
       "    }\n",
       "</style>\n",
       "<table border=\"1\" class=\"dataframe\">\n",
       "  <thead>\n",
       "    <tr style=\"text-align: right;\">\n",
       "      <th></th>\n",
       "      <th>Reviews</th>\n",
       "    </tr>\n",
       "  </thead>\n",
       "  <tbody>\n",
       "    <tr>\n",
       "      <th>0</th>\n",
       "      <td>I got the Mirena in Feb 2020. The insertion wa...</td>\n",
       "    </tr>\n",
       "    <tr>\n",
       "      <th>1</th>\n",
       "      <td>This is 2nd time I have had the Mirena. Total ...</td>\n",
       "    </tr>\n",
       "    <tr>\n",
       "      <th>2</th>\n",
       "      <td>The biggest joke known to mankind. Doctor gave...</td>\n",
       "    </tr>\n",
       "    <tr>\n",
       "      <th>3</th>\n",
       "      <td>I’ve had mirena for exactly one month now and ...</td>\n",
       "    </tr>\n",
       "    <tr>\n",
       "      <th>4</th>\n",
       "      <td>I have a history of gushing, painful periods w...</td>\n",
       "    </tr>\n",
       "  </tbody>\n",
       "</table>\n",
       "</div>"
      ],
      "text/plain": [
       "                                             Reviews\n",
       "0  I got the Mirena in Feb 2020. The insertion wa...\n",
       "1  This is 2nd time I have had the Mirena. Total ...\n",
       "2  The biggest joke known to mankind. Doctor gave...\n",
       "3  I’ve had mirena for exactly one month now and ...\n",
       "4  I have a history of gushing, painful periods w..."
      ]
     },
     "execution_count": 85,
     "metadata": {},
     "output_type": "execute_result"
    }
   ],
   "source": [
    "df.drop(columns = ['Title','Time','reporttype','Unnamed: 4'],inplace = True)\n",
    "df.head()"
   ]
  },
  {
   "cell_type": "markdown",
   "metadata": {},
   "source": [
    "## Prepare stopwords list"
   ]
  },
  {
   "cell_type": "code",
   "execution_count": 86,
   "metadata": {
    "scrolled": true
   },
   "outputs": [
    {
     "name": "stdout",
     "output_type": "stream",
     "text": [
      "['i', 'me', 'my', 'myself', 'we', 'our', 'ours', 'ourselves', 'you', \"you're\", \"you've\", \"you'll\", \"you'd\", 'your', 'yours', 'yourself', 'yourselves', 'he', 'him', 'his', 'himself', 'she', \"she's\", 'her', 'hers', 'herself', 'it', \"it's\", 'its', 'itself', 'they', 'them', 'their', 'theirs', 'themselves', 'what', 'which', 'who', 'whom', 'this', 'that', \"that'll\", 'these', 'those', 'am', 'is', 'are', 'was', 'were', 'be', 'been', 'being', 'have', 'has', 'had', 'having', 'do', 'does', 'did', 'doing', 'a', 'an', 'the', 'and', 'but', 'if', 'or', 'because', 'as', 'until', 'while', 'of', 'at', 'by', 'for', 'with', 'about', 'against', 'between', 'into', 'through', 'during', 'before', 'after', 'above', 'below', 'to', 'from', 'up', 'down', 'in', 'out', 'on', 'off', 'over', 'under', 'again', 'further', 'then', 'once', 'here', 'there', 'when', 'where', 'why', 'how', 'all', 'any', 'both', 'each', 'few', 'more', 'most', 'other', 'some', 'such', 'no', 'nor', 'not', 'only', 'own', 'same', 'so', 'than', 'too', 'very', 's', 't', 'can', 'will', 'just', 'don', \"don't\", 'should', \"should've\", 'now', 'd', 'll', 'm', 'o', 're', 've', 'y', 'ain', 'aren', \"aren't\", 'couldn', \"couldn't\", 'didn', \"didn't\", 'doesn', \"doesn't\", 'hadn', \"hadn't\", 'hasn', \"hasn't\", 'haven', \"haven't\", 'isn', \"isn't\", 'ma', 'mightn', \"mightn't\", 'mustn', \"mustn't\", 'needn', \"needn't\", 'shan', \"shan't\", 'shouldn', \"shouldn't\", 'wasn', \"wasn't\", 'weren', \"weren't\", 'won', \"won't\", 'wouldn', \"wouldn't\", 'from', 'use', 'day', 'months', 'get', 'years', 'go', 'time', 'would', 'like']\n"
     ]
    }
   ],
   "source": [
    "# NLTK Stop words\n",
    "from nltk.corpus import stopwords\n",
    "stop_words = stopwords.words('english')\n",
    "stop_words.extend(['from','use','day','months','get','years','go','time','would','like'])\n",
    "print(stop_words)"
   ]
  },
  {
   "cell_type": "markdown",
   "metadata": {},
   "source": [
    "### Lowercasing the text"
   ]
  },
  {
   "cell_type": "code",
   "execution_count": 87,
   "metadata": {
    "scrolled": true
   },
   "outputs": [
    {
     "data": {
      "text/html": [
       "<div>\n",
       "<style scoped>\n",
       "    .dataframe tbody tr th:only-of-type {\n",
       "        vertical-align: middle;\n",
       "    }\n",
       "\n",
       "    .dataframe tbody tr th {\n",
       "        vertical-align: top;\n",
       "    }\n",
       "\n",
       "    .dataframe thead th {\n",
       "        text-align: right;\n",
       "    }\n",
       "</style>\n",
       "<table border=\"1\" class=\"dataframe\">\n",
       "  <thead>\n",
       "    <tr style=\"text-align: right;\">\n",
       "      <th></th>\n",
       "      <th>Reviews</th>\n",
       "    </tr>\n",
       "  </thead>\n",
       "  <tbody>\n",
       "    <tr>\n",
       "      <th>0</th>\n",
       "      <td>i got the mirena in feb 2020. the insertion wa...</td>\n",
       "    </tr>\n",
       "    <tr>\n",
       "      <th>1</th>\n",
       "      <td>this is 2nd time i have had the mirena. total ...</td>\n",
       "    </tr>\n",
       "    <tr>\n",
       "      <th>2</th>\n",
       "      <td>the biggest joke known to mankind. doctor gave...</td>\n",
       "    </tr>\n",
       "    <tr>\n",
       "      <th>3</th>\n",
       "      <td>i’ve had mirena for exactly one month now and ...</td>\n",
       "    </tr>\n",
       "    <tr>\n",
       "      <th>4</th>\n",
       "      <td>i have a history of gushing, painful periods w...</td>\n",
       "    </tr>\n",
       "  </tbody>\n",
       "</table>\n",
       "</div>"
      ],
      "text/plain": [
       "                                             Reviews\n",
       "0  i got the mirena in feb 2020. the insertion wa...\n",
       "1  this is 2nd time i have had the mirena. total ...\n",
       "2  the biggest joke known to mankind. doctor gave...\n",
       "3  i’ve had mirena for exactly one month now and ...\n",
       "4  i have a history of gushing, painful periods w..."
      ]
     },
     "execution_count": 87,
     "metadata": {},
     "output_type": "execute_result"
    }
   ],
   "source": [
    "df[\"Reviews\"]=df[\"Reviews\"].str.lower()\n",
    "df.head()"
   ]
  },
  {
   "cell_type": "markdown",
   "metadata": {},
   "source": [
    "### Remove digits & words+digits"
   ]
  },
  {
   "cell_type": "code",
   "execution_count": 88,
   "metadata": {},
   "outputs": [
    {
     "data": {
      "text/html": [
       "<div>\n",
       "<style scoped>\n",
       "    .dataframe tbody tr th:only-of-type {\n",
       "        vertical-align: middle;\n",
       "    }\n",
       "\n",
       "    .dataframe tbody tr th {\n",
       "        vertical-align: top;\n",
       "    }\n",
       "\n",
       "    .dataframe thead th {\n",
       "        text-align: right;\n",
       "    }\n",
       "</style>\n",
       "<table border=\"1\" class=\"dataframe\">\n",
       "  <thead>\n",
       "    <tr style=\"text-align: right;\">\n",
       "      <th></th>\n",
       "      <th>Reviews</th>\n",
       "    </tr>\n",
       "  </thead>\n",
       "  <tbody>\n",
       "    <tr>\n",
       "      <th>0</th>\n",
       "      <td>i got the mirena in feb . the insertion wasn't...</td>\n",
       "    </tr>\n",
       "    <tr>\n",
       "      <th>1</th>\n",
       "      <td>this is  time i have had the mirena. total of ...</td>\n",
       "    </tr>\n",
       "    <tr>\n",
       "      <th>2</th>\n",
       "      <td>the biggest joke known to mankind. doctor gave...</td>\n",
       "    </tr>\n",
       "    <tr>\n",
       "      <th>3</th>\n",
       "      <td>i’ve had mirena for exactly one month now and ...</td>\n",
       "    </tr>\n",
       "    <tr>\n",
       "      <th>4</th>\n",
       "      <td>i have a history of gushing, painful periods w...</td>\n",
       "    </tr>\n",
       "  </tbody>\n",
       "</table>\n",
       "</div>"
      ],
      "text/plain": [
       "                                             Reviews\n",
       "0  i got the mirena in feb . the insertion wasn't...\n",
       "1  this is  time i have had the mirena. total of ...\n",
       "2  the biggest joke known to mankind. doctor gave...\n",
       "3  i’ve had mirena for exactly one month now and ...\n",
       "4  i have a history of gushing, painful periods w..."
      ]
     },
     "execution_count": 88,
     "metadata": {},
     "output_type": "execute_result"
    }
   ],
   "source": [
    "df['Reviews']=df['Reviews'].apply(lambda x: re.sub('\\w*\\d\\w*','', x))\n",
    "df.head()"
   ]
  },
  {
   "cell_type": "markdown",
   "metadata": {},
   "source": [
    "### Remove punctuations"
   ]
  },
  {
   "cell_type": "code",
   "execution_count": 89,
   "metadata": {},
   "outputs": [
    {
     "data": {
      "text/html": [
       "<div>\n",
       "<style scoped>\n",
       "    .dataframe tbody tr th:only-of-type {\n",
       "        vertical-align: middle;\n",
       "    }\n",
       "\n",
       "    .dataframe tbody tr th {\n",
       "        vertical-align: top;\n",
       "    }\n",
       "\n",
       "    .dataframe thead th {\n",
       "        text-align: right;\n",
       "    }\n",
       "</style>\n",
       "<table border=\"1\" class=\"dataframe\">\n",
       "  <thead>\n",
       "    <tr style=\"text-align: right;\">\n",
       "      <th></th>\n",
       "      <th>Reviews</th>\n",
       "    </tr>\n",
       "  </thead>\n",
       "  <tbody>\n",
       "    <tr>\n",
       "      <th>0</th>\n",
       "      <td>i got the mirena in feb  the insertion wasnt p...</td>\n",
       "    </tr>\n",
       "    <tr>\n",
       "      <th>1</th>\n",
       "      <td>this is  time i have had the mirena total of  ...</td>\n",
       "    </tr>\n",
       "    <tr>\n",
       "      <th>2</th>\n",
       "      <td>the biggest joke known to mankind doctor gave ...</td>\n",
       "    </tr>\n",
       "    <tr>\n",
       "      <th>3</th>\n",
       "      <td>i’ve had mirena for exactly one month now and ...</td>\n",
       "    </tr>\n",
       "    <tr>\n",
       "      <th>4</th>\n",
       "      <td>i have a history of gushing painful periods wh...</td>\n",
       "    </tr>\n",
       "    <tr>\n",
       "      <th>...</th>\n",
       "      <td>...</td>\n",
       "    </tr>\n",
       "    <tr>\n",
       "      <th>113</th>\n",
       "      <td>i had it in twice in  years first one for  and...</td>\n",
       "    </tr>\n",
       "    <tr>\n",
       "      <th>114</th>\n",
       "      <td>woah big difference just in one day taking it ...</td>\n",
       "    </tr>\n",
       "    <tr>\n",
       "      <th>115</th>\n",
       "      <td>the reason my girlfriend had to use the mirena...</td>\n",
       "    </tr>\n",
       "    <tr>\n",
       "      <th>116</th>\n",
       "      <td>have the mirena a little over  years now and i...</td>\n",
       "    </tr>\n",
       "    <tr>\n",
       "      <th>117</th>\n",
       "      <td>i don’t recommend it at all the worst experien...</td>\n",
       "    </tr>\n",
       "  </tbody>\n",
       "</table>\n",
       "<p>118 rows × 1 columns</p>\n",
       "</div>"
      ],
      "text/plain": [
       "                                               Reviews\n",
       "0    i got the mirena in feb  the insertion wasnt p...\n",
       "1    this is  time i have had the mirena total of  ...\n",
       "2    the biggest joke known to mankind doctor gave ...\n",
       "3    i’ve had mirena for exactly one month now and ...\n",
       "4    i have a history of gushing painful periods wh...\n",
       "..                                                 ...\n",
       "113  i had it in twice in  years first one for  and...\n",
       "114  woah big difference just in one day taking it ...\n",
       "115  the reason my girlfriend had to use the mirena...\n",
       "116  have the mirena a little over  years now and i...\n",
       "117  i don’t recommend it at all the worst experien...\n",
       "\n",
       "[118 rows x 1 columns]"
      ]
     },
     "execution_count": 89,
     "metadata": {},
     "output_type": "execute_result"
    }
   ],
   "source": [
    "#the string.punctuation in python contains the following punctuation symbols\n",
    "#     !\"#$%&\\'()*+,-./:;<=>?@[\\\\]^_{|}~`\n",
    "\n",
    "\n",
    "#import spacy\n",
    "import string\n",
    "df[\"Reviews\"] = df[\"Reviews\"].astype(str)\n",
    "PUNCT_TO_REMOVE = string.punctuation\n",
    "def remove_punctuation(Reviews):\n",
    "    return Reviews.translate(str.maketrans('', '', PUNCT_TO_REMOVE))\n",
    "\n",
    "df[\"Reviews\"]= df[\"Reviews\"].apply(lambda Reviews: remove_punctuation(Reviews))\n",
    "df.head(118)"
   ]
  },
  {
   "cell_type": "code",
   "execution_count": 90,
   "metadata": {
    "colab": {
     "base_uri": "https://localhost:8080/"
    },
    "id": "H9UFTq4GJME5",
    "outputId": "f85bd407-2e06-4416-f0da-4a62dbebc92c",
    "scrolled": true
   },
   "outputs": [
    {
     "name": "stdout",
     "output_type": "stream",
     "text": [
      "['i got the mirena in feb the insertion wasnt pleasant by any means it was '\n",
      " 'like instant contractions and my hands were gripping the table i was pretty '\n",
      " 'uncomfortable for the rest of that evening and the next day but i was able '\n",
      " 'to manage any discomfort with ibuprofen for the next couple of months i just '\n",
      " 'went about my lifemy job changed covid hit so i thought i was feeling out of '\n",
      " 'control because of those things until i really started paying attentioni '\n",
      " 'noticed my emotions were all over the map i couldnt keep myself under '\n",
      " 'control i was crying all of the time some days my boyfriend was looking at '\n",
      " 'me likewhat is wrong then i noticed the severe change in my appetite i was '\n",
      " 'hungry all of the time all i wanted was salt and sugar all day long my skin '\n",
      " 'was a mess broken out all of the time on my face chest and back i was having '\n",
      " 'no period just like they said i would but i was having pms everyday hours a '\n",
      " 'day days a week with no period to show for it which i think messed me up '\n",
      " 'mentally its like my body wanted to have a period so bad but it just couldnt '\n",
      " 'the weight gain happened slowly at first it was then which i was able to '\n",
      " 'deal with',\n",
      " 'this is time i have had the mirena total of years total i have never had any '\n",
      " 'issues surf it i got it for birth control only down side is i get random '\n",
      " 'periods']\n"
     ]
    }
   ],
   "source": [
    "# Convert to list\n",
    "data = df.Reviews.values.tolist()\n",
    "\n",
    "# Remove Emails\n",
    "data = [re.sub('\\S*@\\S*\\s?', '', sent) for sent in data]\n",
    "\n",
    "# Remove new line characters\n",
    "data = [re.sub('\\s+', ' ', sent) for sent in data]\n",
    "\n",
    "# Remove quotes\n",
    "data = [re.sub(\"\\'\",\" \", sent) for sent in data]\n",
    "\n",
    "pprint(data[:2])"
   ]
  },
  {
   "cell_type": "markdown",
   "metadata": {},
   "source": [
    "## Word Tokenization\n",
    "\n",
    "Tokenizing each sentence into a list of words."
   ]
  },
  {
   "cell_type": "code",
   "execution_count": 91,
   "metadata": {
    "colab": {
     "base_uri": "https://localhost:8080/",
     "height": 212
    },
    "id": "hEawaeOJJME6",
    "outputId": "932f8566-a89c-4c10-a074-1f1fec6840e9"
   },
   "outputs": [
    {
     "name": "stdout",
     "output_type": "stream",
     "text": [
      "[['got', 'the', 'mirena', 'in', 'feb', 'the', 'insertion', 'wasnt', 'pleasant', 'by', 'any', 'means', 'it', 'was', 'like', 'instant', 'contractions', 'and', 'my', 'hands', 'were', 'gripping', 'the', 'table', 'was', 'pretty', 'uncomfortable', 'for', 'the', 'rest', 'of', 'that', 'evening', 'and', 'the', 'next', 'day', 'but', 'was', 'able', 'to', 'manage', 'any', 'discomfort', 'with', 'ibuprofen', 'for', 'the', 'next', 'couple', 'of', 'months', 'just', 'went', 'about', 'my', 'lifemy', 'job', 'changed', 'covid', 'hit', 'so', 'thought', 'was', 'feeling', 'out', 'of', 'control', 'because', 'of', 'those', 'things', 'until', 'really', 'started', 'paying', 'attentioni', 'noticed', 'my', 'emotions', 'were', 'all', 'over', 'the', 'map', 'couldnt', 'keep', 'myself', 'under', 'control', 'was', 'crying', 'all', 'of', 'the', 'time', 'some', 'days', 'my', 'boyfriend', 'was', 'looking', 'at', 'me', 'likewhat', 'is', 'wrong', 'then', 'noticed', 'the', 'severe', 'change', 'in', 'my', 'appetite', 'was', 'hungry', 'all', 'of', 'the', 'time', 'all', 'wanted', 'was', 'salt', 'and', 'sugar', 'all', 'day', 'long', 'my', 'skin', 'was', 'mess', 'broken', 'out', 'all', 'of', 'the', 'time', 'on', 'my', 'face', 'chest', 'and', 'back', 'was', 'having', 'no', 'period', 'just', 'like', 'they', 'said', 'would', 'but', 'was', 'having', 'pms', 'everyday', 'hours', 'day', 'days', 'week', 'with', 'no', 'period', 'to', 'show', 'for', 'it', 'which', 'think', 'messed', 'me', 'up', 'mentally', 'its', 'like', 'my', 'body', 'wanted', 'to', 'have', 'period', 'so', 'bad', 'but', 'it', 'just', 'couldnt', 'the', 'weight', 'gain', 'happened', 'slowly', 'at', 'first', 'it', 'was', 'then', 'which', 'was', 'able', 'to', 'deal', 'with'], ['this', 'is', 'time', 'have', 'had', 'the', 'mirena', 'total', 'of', 'years', 'total', 'have', 'never', 'had', 'any', 'issues', 'surf', 'it', 'got', 'it', 'for', 'birth', 'control', 'only', 'down', 'side', 'is', 'get', 'random', 'periods']]\n"
     ]
    }
   ],
   "source": [
    "def sent_to_words(sentences):\n",
    "    for sentence in sentences:\n",
    "        yield(gensim.utils.simple_preprocess(str(sentence).encode('utf-8'), deacc=True))  # deacc=True removes punctuations\n",
    "\n",
    "data_words = list(sent_to_words(data))\n",
    "print(data_words[:2])\n"
   ]
  },
  {
   "cell_type": "markdown",
   "metadata": {},
   "source": [
    "## Creating phrase model"
   ]
  },
  {
   "cell_type": "code",
   "execution_count": 92,
   "metadata": {
    "id": "yrwK3tkBJME7",
    "scrolled": false
   },
   "outputs": [
    {
     "name": "stdout",
     "output_type": "stream",
     "text": [
      "['chills', 'itching', 'mood_swings', 'abnormal', 'bleeding', 'cramps', 'nauseous', 'breasts', 'are', 'very', 'tender', 'and', 'back', 'pain']\n"
     ]
    }
   ],
   "source": [
    "# Build the bigram and trigram models\n",
    "bigram = gensim.models.Phrases(data_words, min_count=3, threshold=100)\n",
    "trigram = gensim.models.Phrases(bigram[data_words], threshold=100)  \n",
    "\n",
    "# Faster way to get a sentence clubbed as a trigram/bigram\n",
    "\n",
    "bigram_mod = gensim.models.phrases.Phraser(bigram)\n",
    "\n",
    "\n",
    "\n",
    "\n",
    "trigram_mod = gensim.models.phrases.Phraser(trigram)\n",
    "\n",
    "# See bigram example\n",
    "print(bigram_mod[bigram_mod[data_words[801]]])"
   ]
  },
  {
   "cell_type": "code",
   "execution_count": 93,
   "metadata": {},
   "outputs": [
    {
     "name": "stdout",
     "output_type": "stream",
     "text": [
      "['the', 'insertion', 'was', 'simple', 'had', 'no', 'spotting', 'or', 'bleeding', 'since', 'got', 'it', 'in', 'about', 'three', 'weeks', 'ago', 'love', 'it', 'am', 'really', 'looking_forward', 'to', 'not', 'having', 'to', 'worry', 'about', 'taking', 'pill', 'every', 'day', 'and', 'it', 'is', 'agreeing', 'with', 'my', 'body', 'great']\n"
     ]
    }
   ],
   "source": [
    "# See trigram example\n",
    "print(bigram_mod[trigram_mod[data_words[525]]])"
   ]
  },
  {
   "cell_type": "markdown",
   "metadata": {},
   "source": [
    "## Creating Bigrams and Lemmatization"
   ]
  },
  {
   "cell_type": "code",
   "execution_count": 94,
   "metadata": {
    "id": "pIAmYQLkJME7"
   },
   "outputs": [],
   "source": [
    "# Define functions for stopwords, bigrams, trigrams and lemmatization\n",
    "def remove_stopwords(texts):\n",
    "    return [[word for word in simple_preprocess(str(doc)) if word not in stop_words] for doc in texts]\n",
    "\n",
    "def make_bigrams(texts):\n",
    "    return [bigram_mod[doc] for doc in texts]\n",
    "\n",
    "def make_trigrams(texts):\n",
    "    return [trigram_mod[bigram_mod[doc]] for doc in texts]\n",
    "\n",
    "def lemmatization(texts, allowed_postags=['NOUN', 'ADJ', 'VERB', 'ADV']):\n",
    "    \"\"\"https://spacy.io/api/annotation\"\"\"\n",
    "    texts_out = []\n",
    "    for sent in texts:\n",
    "        doc = nlp(\" \".join(sent)) \n",
    "        texts_out.append([token.lemma_ for token in doc if token.pos_ in allowed_postags])\n",
    "    return texts_out"
   ]
  },
  {
   "cell_type": "code",
   "execution_count": 95,
   "metadata": {
    "id": "MGC-N8_EJME7"
   },
   "outputs": [
    {
     "name": "stdout",
     "output_type": "stream",
     "text": [
      "[['get', 'mirena', 'feb', 'insertion', 'be', 'pleasant', 'mean', 'instant', 'contraction', 'hand', 'grip', 'table', 'pretty', 'uncomfortable', 'rest', 'evening', 'able', 'manage', 'discomfort', 'ibuprofen', 'next', 'couple', 'go', 'lifemy', 'job', 'change', 'covid', 'hit', 'think', 'feel', 'control', 'thing', 'really', 'start', 'pay', 'attentioni', 'notice', 'emotion', 'map', 'keep', 'control', 'crying', 'day', 'boyfriend', 'look', 'likewhat', 'wrong', 'notice', 'severe', 'change', 'appetite', 'hungry', 'want', 'salt', 'sugar', 'long', 'skin', 'mess', 'broken', 'face', 'chest', 'back', 'period', 'say', 'pm', 'everyday', 'hour', 'day', 'week', 'period', 'show', 'think', 'mess', 'mentally', 'body', 'want', 'period', 'bad', 'happen', 'slowly', 'first', 'able', 'deal'], ['mirena', 'total', 'total', 'never', 'issue', 'surf', 'get', 'side', 'random', 'period']]\n"
     ]
    }
   ],
   "source": [
    "# Remove Stop Words\n",
    "data_words_nostops = remove_stopwords(data_words)\n",
    "\n",
    "# Form Bigrams\n",
    "data_words_bigrams = make_bigrams(data_words_nostops)\n",
    "\n",
    "# Initialize spacy 'en' model, keeping only tagger component (for efficiency)\n",
    "# python3 -m spacy download en\n",
    "nlp = spacy.load('en_core_web_sm', disable=['parser', 'ner'])\n",
    "\n",
    "# Do lemmatization keeping only noun, adj, vb, adv\n",
    "data_lemmatized = lemmatization(data_words_bigrams, allowed_postags=['NOUN', 'ADJ', 'VERB', 'ADV'])\n",
    "\n",
    "print(data_lemmatized[:2])"
   ]
  },
  {
   "cell_type": "markdown",
   "metadata": {},
   "source": [
    "### Create the Dictionary and Corpus"
   ]
  },
  {
   "cell_type": "code",
   "execution_count": 96,
   "metadata": {
    "id": "DqlOgG27JME8",
    "scrolled": true
   },
   "outputs": [
    {
     "name": "stdout",
     "output_type": "stream",
     "text": [
      "[[(0, 2), (1, 1), (2, 1), (3, 1), (4, 1), (5, 1), (6, 1), (7, 1), (8, 1), (9, 2), (10, 1), (11, 1), (12, 2), (13, 1), (14, 1), (15, 1), (16, 2), (17, 1), (18, 1), (19, 1), (20, 1), (21, 1), (22, 1), (23, 1), (24, 1), (25, 1), (26, 1), (27, 1), (28, 1), (29, 1), (30, 1), (31, 1), (32, 1), (33, 1), (34, 1), (35, 1), (36, 1), (37, 1), (38, 1), (39, 1), (40, 1), (41, 1), (42, 1), (43, 1), (44, 1), (45, 1), (46, 1), (47, 2), (48, 1), (49, 1), (50, 2), (51, 1), (52, 3), (53, 1), (54, 1), (55, 1), (56, 1), (57, 1), (58, 1), (59, 1), (60, 1), (61, 1), (62, 1), (63, 1), (64, 1), (65, 1), (66, 1), (67, 1), (68, 2), (69, 1), (70, 2), (71, 1), (72, 1)]]\n"
     ]
    }
   ],
   "source": [
    "# Create Dictionary\n",
    "id2word = corpora.Dictionary(data_lemmatized)\n",
    "\n",
    "# Create Corpus\n",
    "texts = data_lemmatized\n",
    "\n",
    "# Term Document Frequency\n",
    "corpus = [id2word.doc2bow(text) for text in texts]\n",
    "\n",
    "# View\n",
    "print(corpus[:1])  #term document matrix"
   ]
  },
  {
   "cell_type": "raw",
   "metadata": {
    "id": "LjFNNXzAJME9"
   },
   "source": [
    "Gensim creates a unique id for each word in the document. The produced corpus shown above is a mapping of (word_id, word_frequency).\n",
    "For example, (0, 1) above implies, word id 0 occurs once in the first document. Likewise, word id 1 occurs twice and so on.\n",
    "This is used as the input by the LDA model."
   ]
  },
  {
   "cell_type": "code",
   "execution_count": 97,
   "metadata": {
    "id": "RLtyx0RpJME-"
   },
   "outputs": [
    {
     "data": {
      "text/plain": [
       "'attentioni'"
      ]
     },
     "execution_count": 97,
     "metadata": {},
     "output_type": "execute_result"
    }
   ],
   "source": [
    "id2word[2] #word id mapping"
   ]
  },
  {
   "cell_type": "markdown",
   "metadata": {},
   "source": [
    "## Term-frequency"
   ]
  },
  {
   "cell_type": "code",
   "execution_count": 98,
   "metadata": {
    "id": "02ezXeDuJME_",
    "scrolled": true
   },
   "outputs": [
    {
     "data": {
      "text/plain": [
       "[(0, 2),\n",
       " (1, 1),\n",
       " (2, 1),\n",
       " (3, 1),\n",
       " (4, 1),\n",
       " (5, 1),\n",
       " (6, 1),\n",
       " (7, 1),\n",
       " (8, 1),\n",
       " (9, 2)]"
      ]
     },
     "execution_count": 98,
     "metadata": {},
     "output_type": "execute_result"
    }
   ],
   "source": [
    "corpus[:1][0][:10] ##here word id 9 appeared 2 times in 1st document"
   ]
  },
  {
   "cell_type": "code",
   "execution_count": 99,
   "metadata": {
    "id": "U6ZzD5UiJME_",
    "scrolled": true
   },
   "outputs": [
    {
     "data": {
      "text/plain": [
       "[[('able', 2),\n",
       "  ('appetite', 1),\n",
       "  ('attentioni', 1),\n",
       "  ('back', 1),\n",
       "  ('bad', 1),\n",
       "  ('be', 1),\n",
       "  ('body', 1),\n",
       "  ('boyfriend', 1),\n",
       "  ('broken', 1),\n",
       "  ('change', 2),\n",
       "  ('chest', 1),\n",
       "  ('contraction', 1),\n",
       "  ('control', 2),\n",
       "  ('couple', 1),\n",
       "  ('covid', 1),\n",
       "  ('crying', 1),\n",
       "  ('day', 2),\n",
       "  ('deal', 1),\n",
       "  ('discomfort', 1),\n",
       "  ('emotion', 1),\n",
       "  ('evening', 1),\n",
       "  ('everyday', 1),\n",
       "  ('face', 1),\n",
       "  ('feb', 1),\n",
       "  ('feel', 1),\n",
       "  ('first', 1),\n",
       "  ('get', 1),\n",
       "  ('go', 1),\n",
       "  ('grip', 1),\n",
       "  ('hand', 1),\n",
       "  ('happen', 1),\n",
       "  ('hit', 1),\n",
       "  ('hour', 1),\n",
       "  ('hungry', 1),\n",
       "  ('ibuprofen', 1),\n",
       "  ('insertion', 1),\n",
       "  ('instant', 1),\n",
       "  ('job', 1),\n",
       "  ('keep', 1),\n",
       "  ('lifemy', 1),\n",
       "  ('likewhat', 1),\n",
       "  ('long', 1),\n",
       "  ('look', 1),\n",
       "  ('manage', 1),\n",
       "  ('map', 1),\n",
       "  ('mean', 1),\n",
       "  ('mentally', 1),\n",
       "  ('mess', 2),\n",
       "  ('mirena', 1),\n",
       "  ('next', 1),\n",
       "  ('notice', 2),\n",
       "  ('pay', 1),\n",
       "  ('period', 3),\n",
       "  ('pleasant', 1),\n",
       "  ('pm', 1),\n",
       "  ('pretty', 1),\n",
       "  ('really', 1),\n",
       "  ('rest', 1),\n",
       "  ('salt', 1),\n",
       "  ('say', 1),\n",
       "  ('severe', 1),\n",
       "  ('show', 1),\n",
       "  ('skin', 1),\n",
       "  ('slowly', 1),\n",
       "  ('start', 1),\n",
       "  ('sugar', 1),\n",
       "  ('table', 1),\n",
       "  ('thing', 1),\n",
       "  ('think', 2),\n",
       "  ('uncomfortable', 1),\n",
       "  ('want', 2),\n",
       "  ('week', 1),\n",
       "  ('wrong', 1)]]"
      ]
     },
     "execution_count": 99,
     "metadata": {},
     "output_type": "execute_result"
    }
   ],
   "source": [
    "# Human readable format of corpus \n",
    "[[(id2word[id], freq) for id, freq in cp] for cp in corpus[:1]]"
   ]
  },
  {
   "cell_type": "markdown",
   "metadata": {},
   "source": [
    "## Latent Dirichlet Allocation(LDA) model building"
   ]
  },
  {
   "cell_type": "markdown",
   "metadata": {
    "id": "rJ0KiNu8JMFA"
   },
   "source": [
    "`alpha` and `eta` are hyperparameters that affect sparsity of the topics. According to the gensim docs, both defaults to 1.0/num_topics prior.\n",
    "`chunksize` is the number of documents to be used in each training chunk.  `update_every` determines how often the model parameters should be updated and `passes` is the total number of training passes."
   ]
  },
  {
   "cell_type": "code",
   "execution_count": 103,
   "metadata": {
    "id": "VAPlP5krJMFA"
   },
   "outputs": [],
   "source": [
    "# Build LDA model\n",
    "lda_model = gensim.models.ldamodel.LdaModel(corpus=corpus,\n",
    "                                           id2word=id2word,\n",
    "                                           num_topics=20, \n",
    "                                           random_state=100,\n",
    "                                           update_every=1,\n",
    "                                           chunksize=350, #Number of documents to load into memory at a time\n",
    "                                           passes=40, #Number of passes through the entire corpus\n",
    "                                           alpha='auto',\n",
    "                                           per_word_topics=True)\n"
   ]
  },
  {
   "cell_type": "markdown",
   "metadata": {},
   "source": [
    "### Output"
   ]
  },
  {
   "cell_type": "code",
   "execution_count": 104,
   "metadata": {
    "id": "_xrMa9_nJMFB"
   },
   "outputs": [
    {
     "name": "stdout",
     "output_type": "stream",
     "text": [
      "[(0,\n",
      "  '0.048*\"breastfeed\" + 0.032*\"crampy\" + 0.027*\"obviously\" + 0.018*\"i\" + '\n",
      "  '0.017*\"goes_away\" + 0.017*\"deliver\" + 0.016*\"site\" + 0.016*\"burn\" + '\n",
      "  '0.013*\"patient\" + 0.012*\"date\"'),\n",
      " (1,\n",
      "  '0.058*\"weight\" + 0.047*\"lose\" + 0.041*\"gain\" + 0.023*\"remove\" + '\n",
      "  '0.022*\"acne\" + 0.022*\"depression\" + 0.020*\"hair\" + 0.019*\"bloated\" + '\n",
      "  '0.017*\"anxiety\" + 0.017*\"mood_swing\"'),\n",
      " (2,\n",
      "  '0.054*\"copper\" + 0.027*\"scream\" + 0.026*\"enjoy\" + 0.022*\"case\" + '\n",
      "  '0.020*\"abnormal\" + 0.019*\"unpleasant\" + 0.013*\"hormone\" + '\n",
      "  '0.013*\"contraception\" + 0.012*\"absolute\" + 0.012*\"research\"'),\n",
      " (3,\n",
      "  '0.021*\"cycle\" + 0.019*\"heavy\" + 0.019*\"acne\" + 0.016*\"iud\" + 0.014*\"find\" + '\n",
      "  '0.014*\"mirena\" + 0.012*\"back\" + 0.012*\"remove\" + 0.011*\"anxiety\" + '\n",
      "  '0.010*\"become\"'),\n",
      " (4,\n",
      "  '0.024*\"drink\" + 0.022*\"tiny\" + 0.017*\"february\" + 0.015*\"fill\" + '\n",
      "  '0.013*\"milk_supply\" + 0.013*\"yay\" + 0.012*\"achy\" + 0.012*\"overnight\" + '\n",
      "  '0.011*\"constipate\" + 0.010*\"working\"'),\n",
      " (5,\n",
      "  '0.039*\"mirena\" + 0.028*\"period\" + 0.023*\"get\" + 0.018*\"cramp\" + '\n",
      "  '0.016*\"take\" + 0.015*\"pain\" + 0.014*\"week\" + 0.014*\"go\" + 0.014*\"feel\" + '\n",
      "  '0.013*\"do\"'),\n",
      " (6,\n",
      "  '0.023*\"progesterone\" + 0.022*\"food\" + 0.020*\"touch\" + 0.020*\"instant\" + '\n",
      "  '0.017*\"ache\" + 0.016*\"pantyliner\" + 0.015*\"fit\" + 0.015*\"day\" + '\n",
      "  '0.014*\"sugar\" + 0.014*\"menopause\"'),\n",
      " (7,\n",
      "  '0.028*\"badly\" + 0.021*\"listen\" + 0.014*\"unpredictable\" + 0.014*\"episode\" + '\n",
      "  '0.011*\"emotionally\" + 0.011*\"improve\" + 0.011*\"therefore\" + 0.010*\"true\" + '\n",
      "  '0.010*\"pm\" + 0.010*\"hip\"'),\n",
      " (8,\n",
      "  '0.058*\"migraine\" + 0.029*\"speak\" + 0.019*\"non_stop\" + 0.018*\"fear\" + '\n",
      "  '0.018*\"certain\" + 0.015*\"hot\" + 0.014*\"future\" + 0.014*\"afternoon\" + '\n",
      "  '0.013*\"angry\" + 0.013*\"patient\"'),\n",
      " (9,\n",
      "  '0.016*\"thursday\" + 0.016*\"coil\" + 0.016*\"dizziness\" + 0.015*\"link\" + '\n",
      "  '0.015*\"stretch\" + 0.015*\"pregnancy_scare\" + 0.012*\"tender_breast\" + '\n",
      "  '0.012*\"insist\" + 0.012*\"guy\" + 0.012*\"mid\"'),\n",
      " (10,\n",
      "  '0.052*\"dr\" + 0.023*\"nauseous\" + 0.016*\"abdoman\" + 0.016*\"august\" + '\n",
      "  '0.015*\"family\" + 0.015*\"skyla\" + 0.015*\"huge\" + 0.014*\"clot\" + 0.013*\"turn\" '\n",
      "  '+ 0.012*\"clinic\"'),\n",
      " (11,\n",
      "  '0.026*\"hrt\" + 0.016*\"current\" + 0.016*\"frame\" + 0.012*\"girlfriend\" + '\n",
      "  '0.012*\"permanently\" + 0.011*\"frequently\" + 0.010*\"s\" + 0.009*\"oestrogen\" + '\n",
      "  '0.008*\"cant_wait\" + 0.007*\"waste\"'),\n",
      " (12,\n",
      "  '0.037*\"nonstop\" + 0.017*\"prevent_pregnancy\" + 0.017*\"appear\" + '\n",
      "  '0.015*\"whenever\" + 0.010*\"constantly\" + 0.009*\"constant\" + 0.009*\"ect\" + '\n",
      "  '0.009*\"breeze\" + 0.009*\"appetite\" + 0.008*\"perspective\"'),\n",
      " (13,\n",
      "  '0.048*\"coil\" + 0.035*\"unable\" + 0.022*\"otherwise\" + 0.021*\"guarantee\" + '\n",
      "  '0.021*\"shock\" + 0.019*\"gush\" + 0.017*\"situation\" + 0.013*\"perfectly\" + '\n",
      "  '0.010*\"funny\" + 0.009*\"miss\"'),\n",
      " (14,\n",
      "  '0.020*\"pad\" + 0.016*\"heavy\" + 0.016*\"fast\" + 0.012*\"write\" + 0.011*\"super\" '\n",
      "  '+ 0.011*\"cycle\" + 0.010*\"bleed\" + 0.009*\"drug\" + 0.009*\"clamp\" + '\n",
      "  '0.009*\"stomach\"'),\n",
      " (15,\n",
      "  '0.027*\"middle\" + 0.012*\"yearly\" + 0.008*\"perfectly_fine\" + 0.004*\"pap\" + '\n",
      "  '0.004*\"smar\" + 0.004*\"greati\" + 0.004*\"uncomfy\" + 0.004*\"thatbut\" + '\n",
      "  '0.004*\"cytotec\" + 0.004*\"iuf\"'),\n",
      " (16,\n",
      "  '0.023*\"fail\" + 0.020*\"long_term\" + 0.017*\"natural\" + 0.017*\"knock\" + '\n",
      "  '0.016*\"exhaust\" + 0.015*\"ride\" + 0.013*\"panic_attack\" + 0.012*\"hopeful\" + '\n",
      "  '0.011*\"mirror\" + 0.011*\"ongoing\"'),\n",
      " (17,\n",
      "  '0.026*\"pain\" + 0.025*\"feel\" + 0.025*\"review\" + 0.023*\"insertion\" + '\n",
      "  '0.019*\"procedure\" + 0.019*\"cramp\" + 0.018*\"read\" + 0.016*\"bad\" + '\n",
      "  '0.014*\"cervix\" + 0.012*\"do\"'),\n",
      " (18,\n",
      "  '0.026*\"okay\" + 0.013*\"naproxen\" + 0.008*\"god\" + 0.007*\"consume\" + '\n",
      "  '0.004*\"horror\" + 0.004*\"pang\" + 0.004*\"tracking\" + 0.004*\"unwanted\" + '\n",
      "  '0.004*\"insertedand\" + 0.004*\"zillion\"'),\n",
      " (19,\n",
      "  '0.041*\"pap\" + 0.030*\"odor\" + 0.026*\"night_sweat\" + 0.019*\"red\" + '\n",
      "  '0.014*\"lady\" + 0.014*\"create\" + 0.013*\"bright\" + 0.012*\"foul\" + '\n",
      "  '0.010*\"event\" + 0.010*\"rush\"')]\n"
     ]
    }
   ],
   "source": [
    "# Print the Keyword in the 10 topics\n",
    "pprint(lda_model.print_topics())\n",
    "doc_lda = lda_model[corpus]\n",
    "\n",
    "#weight_gain, hair_loss, panic_attack, ectopic_pregnancy"
   ]
  },
  {
   "cell_type": "markdown",
   "metadata": {},
   "source": [
    "## Model Evaluation"
   ]
  },
  {
   "cell_type": "code",
   "execution_count": 105,
   "metadata": {
    "id": "wuud9M0VJMFC",
    "scrolled": true
   },
   "outputs": [
    {
     "name": "stdout",
     "output_type": "stream",
     "text": [
      "\n",
      "Perplexity:  -7.722136925675051\n",
      "\n",
      "Coherence Score:  0.4903921312248126\n"
     ]
    }
   ],
   "source": [
    "# Perplexity Score\n",
    "print('\\nPerplexity: ', lda_model.log_perplexity(corpus))  # a measure of how good the model is. lower the better.\n",
    "\n",
    "# Coherence Score\n",
    "coherence_model_lda = CoherenceModel(model=lda_model, texts=data_lemmatized, dictionary=id2word, coherence='c_v')\n",
    "coherence_lda = coherence_model_lda.get_coherence()\n",
    "print('\\nCoherence Score: ', coherence_lda)"
   ]
  },
  {
   "cell_type": "code",
   "execution_count": 106,
   "metadata": {
    "id": "VwiiQ6bEJMFD"
   },
   "outputs": [
    {
     "data": {
      "text/html": [
       "\n",
       "<link rel=\"stylesheet\" type=\"text/css\" href=\"https://cdn.jsdelivr.net/gh/bmabey/pyLDAvis@3.2.2/pyLDAvis/js/ldavis.v1.0.0.css\">\n",
       "\n",
       "\n",
       "<div id=\"ldavis_el1657228937243920161545972136\"></div>\n",
       "<script type=\"text/javascript\">\n",
       "\n",
       "var ldavis_el1657228937243920161545972136_data = {\"mdsDat\": {\"x\": [0.4066184650534231, 0.35113833146577367, 0.1965313018927448, 0.1796639399302707, 0.09725131510844869, -0.04425913010183587, -0.08200481397602331, -0.08279734912112695, -0.07821409063449934, -0.07741517326120123, -0.09014434524825927, -0.09060887903920177, -0.08680314012930507, -0.0918037012424126, -0.08498592781322026, -0.08894798981148914, -0.0840579773165429, -0.08785030585899467, -0.08193911623529887, -0.0793714136612494], \"y\": [-0.09313477887699596, -0.20132534170809172, 0.16141497900864935, 0.2964207039784966, 0.050550385953829026, 0.006349292655767624, 0.004089183751611757, -0.013378420522368942, -0.006764385825723076, -0.009996573641354051, -0.02436040143495199, -0.01994059789097923, -0.018471604249487947, -0.018062172331034524, -0.0065230697355461295, -0.02735682478234398, -0.02017315143248419, -0.01925246165871197, -0.02068259644574439, -0.019402164812535413], \"topics\": [1, 2, 3, 4, 5, 6, 7, 8, 9, 10, 11, 12, 13, 14, 15, 16, 17, 18, 19, 20], \"cluster\": [1, 1, 1, 1, 1, 1, 1, 1, 1, 1, 1, 1, 1, 1, 1, 1, 1, 1, 1, 1], \"Freq\": [66.47965476384185, 15.712611732585296, 5.161777550187834, 4.172488876325093, 2.5388294621180196, 1.1693988037632788, 0.7063085100864216, 0.5459333702962913, 0.5409214861780405, 0.44773587328506237, 0.41432712754634676, 0.39194730870121725, 0.3768621139420674, 0.3121203624637657, 0.3054074402907365, 0.2126335843896354, 0.20587925735551368, 0.18168568300938023, 0.07592225054839256, 0.04755444308576261]}, \"tinfo\": {\"Term\": [\"day\", \"remove\", \"feel\", \"heavy\", \"ever\", \"weight\", \"pain\", \"bleed\", \"insertion\", \"iud\", \"review\", \"s\", \"mirena\", \"lose\", \"body\", \"migraine\", \"back\", \"hormone\", \"gain\", \"bad\", \"procedure\", \"acne\", \"cramp\", \"spot\", \"read\", \"start\", \"also\", \"period\", \"well\", \"bleeding\", \"pill\", \"month\", \"love\", \"great\", \"birth_control\", \"decide\", \"next\", \"keep\", \"sex\", \"couple\", \"worry\", \"completely\", \"first\", \"string\", \"fine\", \"device\", \"wait\", \"think\", \"sure\", \"husband\", \"second\", \"half\", \"awful\", \"immediately\", \"soon\", \"headache\", \"side\", \"low\", \"check\", \"regular\", \"week\", \"recommend\", \"stop\", \"get\", \"mirena\", \"side_effect\", \"tell\", \"worth\", \"period\", \"work\", \"well\", \"year\", \"painful\", \"bleed\", \"take\", \"go\", \"try\", \"never\", \"really\", \"day\", \"experience\", \"spot\", \"ve\", \"cramp\", \"insert\", \"do\", \"start\", \"bad\", \"pain\", \"doctor\", \"feel\", \"m\", \"insertion\", \"remove\", \"say\", \"quick\", \"review\", \"nearly\", \"honestly\", \"nervous\", \"yet\", \"pinch\", \"share\", \"morning\", \"pap_smear\", \"nurse\", \"open\", \"min\", \"process\", \"else\", \"perfect\", \"ill\", \"hold\", \"update\", \"basically\", \"stand\", \"difference\", \"instead\", \"young\", \"type\", \"cervix\", \"explain\", \"active\", \"gynecologist\", \"age\", \"read\", \"procedure\", \"ask\", \"post\", \"suffer\", \"hand\", \"today\", \"guess\", \"night\", \"slight\", \"horror_storie\", \"birth\", \"discomfort\", \"control\", \"ibuprofen\", \"many\", \"minute\", \"insertion\", \"feel\", \"pain\", \"be\", \"little\", \"cramp\", \"bad\", \"still\", \"m\", \"do\", \"say\", \"good\", \"hour\", \"doctor\", \"insert\", \"far\", \"take\", \"face\", \"bear\", \"normally\", \"clear\", \"childbirth\", \"concerned\", \"drop\", \"hardly\", \"tube\", \"real\", \"moody\", \"liner\", \"mother\", \"manageable\", \"online\", \"alternative\", \"preventing_pregnancy\", \"minor\", \"floor\", \"march\", \"ectopic_pregnancy\", \"everyones_body\", \"shortly\", \"excited\", \"sort\", \"deep\", \"scar\", \"ensure\", \"receive\", \"common\", \"blood_pressure\", \"decrease\", \"opt\", \"sound\", \"miss\", \"cycle\", \"surgery\", \"december\", \"endometriosis\", \"acne\", \"third\", \"yrs\", \"stick\", \"increase\", \"find\", \"become\", \"anxiety\", \"heavy\", \"wonderful\", \"iud\", \"irregular\", \"back\", \"remove\", \"measure\", \"skin\", \"mirena\", \"life\", \"bleeding\", \"product\", \"period\", \"extreme\", \"uterus\", \"weight\", \"lose\", \"gain\", \"hair\", \"bloated\", \"pound\", \"diet\", \"exercise\", \"struggle\", \"smell\", \"lbs\", \"loose\", \"force\", \"shoot\", \"boy\", \"physically\", \"swollen\", \"weight_gain\", \"properly\", \"loss\", \"uti\", \"clean\", \"drain\", \"gained_lb\", \"ovarian_cyst\", \"miserable\", \"nowhere\", \"horrific\", \"joke\", \"energy\", \"constantly\", \"depression\", \"instantly\", \"depressed\", \"anxiety\", \"matter\", \"mood_swing\", \"tired\", \"acne\", \"libido\", \"eat\", \"sex_drive\", \"extreme\", \"remove\", \"body\", \"skin\", \"back\", \"change\", \"feel\", \"pregnant\", \"always\", \"fast\", \"gyn\", \"eventually\", \"note\", \"mildly\", \"set\", \"clamp\", \"offer\", \"system\", \"physician\", \"endo\", \"shake\", \"hubby\", \"lessen\", \"trim\", \"swear\", \"pale\", \"anesthetic\", \"soak\", \"hesitant\", \"bladder\", \"merina\", \"sense\", \"background\", \"endure\", \"contain\", \"dryness\", \"oct\", \"soften\", \"intermittent\", \"write\", \"frequent\", \"term\", \"pad\", \"success\", \"treatment\", \"worried\", \"occur\", \"stomach\", \"minimal\", \"drug\", \"cut\", \"anxious\", \"super\", \"rarely\", \"clot\", \"november\", \"cycle\", \"heavy\", \"dizziness\", \"highly_recommend\", \"discharge\", \"often\", \"bleed\", \"see\", \"spot\", \"slight\", \"also\", \"abdoman\", \"august\", \"family\", \"skyla\", \"clinic\", \"monday\", \"spend\", \"fourth\", \"orgasm\", \"couch\", \"dislodge\", \"vagina\", \"flooding\", \"number\", \"curl\", \"nope\", \"women\", \"facial\", \"waiting\", \"needless\", \"honest\", \"aura\", \"xray\", \"sharp_pain\", \"sheet\", \"pid\", \"fluctuate\", \"ibprofen\", \"apprehensive\", \"unlucky\", \"nauseous\", \"attack\", \"dr\", \"twinge\", \"mistake\", \"ability\", \"fairly\", \"huge\", \"clot\", \"turn\", \"area\", \"fast_forward\", \"double\", \"omg\", \"cry\", \"clothe\", \"ever\", \"hear\", \"manage\", \"early\", \"speak\", \"non_stop\", \"fear\", \"certain\", \"instal\", \"thus_far\", \"insertation\", \"midol\", \"pleased\", \"forum\", \"pinche\", \"awake\", \"satisfied\", \"progestin\", \"bottle\", \"fan\", \"underwear\", \"nothing_compare\", \"asleep\", \"attribute\", \"future\", \"clearly\", \"flash\", \"moderately\", \"fix\", \"decade\", \"charm\", \"reluctant\", \"incertion\", \"tug\", \"afternoon\", \"adjustment\", \"angry\", \"progressively\", \"patient\", \"worse\", \"migraine\", \"hot\", \"manage\", \"worried\", \"mistake\", \"dr\", \"sad\", \"anemia\", \"increase\", \"badly\", \"unpredictable\", \"episode\", \"therefore\", \"fog\", \"suicidal\", \"edge\", \"information\", \"bonus\", \"screw\", \"observe\", \"cheap\", \"impossible\", \"preinsertion\", \"causing\", \"shedding\", \"bummer\", \"devil\", \"listen\", \"emotionally\", \"flood\", \"buttock\", \"duty\", \"pantiliner\", \"candidate\", \"efficient\", \"challenge\", \"illness\", \"thigh\", \"partum\", \"reccomend\", \"true\", \"quit\", \"certainly\", \"enjoyable\", \"hip\", \"prone\", \"beginning\", \"improve\", \"chronic\", \"warn\", \"pm\", \"convenient\", \"reason\", \"straight\", \"copper\", \"scream\", \"enjoy\", \"abnormal\", \"unpleasant\", \"absolute\", \"car\", \"numbness\", \"womb\", \"mainly\", \"gut\", \"oral_contraceptive\", \"trigger\", \"golf\", \"synthetic_hormone\", \"palpitation\", \"vanish\", \"plenty\", \"locally\", \"appreciate\", \"distract\", \"confirm\", \"video\", \"market\", \"internal\", \"mental_health\", \"blee\", \"emit\", \"encounter\", \"external\", \"assume\", \"case\", \"toll\", \"contraception\", \"word\", \"heart\", \"research\", \"sensitive\", \"hormone\", \"re\", \"coil\", \"advice\", \"progesterone\", \"food\", \"instant\", \"pantyliner\", \"sugar\", \"fitting\", \"toe\", \"chill\", \"cup\", \"hungry\", \"length\", \"atleast\", \"ovulate\", \"sister\", \"shoe\", \"crying\", \"behold\", \"load\", \"thicken\", \"preiud\", \"upset\", \"touch\", \"menopause\", \"labour\", \"duration\", \"belt\", \"notch\", \"daya\", \"avery\", \"beast\", \"ache\", \"bend\", \"looking_forward\", \"fairly\", \"internal\", \"clothe\", \"fit\", \"stomach\", \"pad\", \"cycle\", \"day\", \"drink\", \"tiny\", \"february\", \"fill\", \"milk_supply\", \"yay\", \"achy\", \"constipate\", \"working\", \"rash\", \"confidence\", \"medium\", \"cytotec\", \"shed\", \"vertigo\", \"comparable\", \"pile\", \"heel\", \"urge\", \"temper\", \"heath\", \"plague\", \"motion\", \"kilo\", \"strictly\", \"fluid\", \"counteract\", \"prescribed\", \"metabolism\", \"participate\", \"overnight\", \"everyone\", \"release\", \"excessive\", \"physical\", \"self\", \"mental\", \"way\", \"uterine\", \"fail\", \"long_term\", \"knock\", \"exhaust\", \"ride\", \"mirror\", \"ongoing\", \"lost\", \"picture\", \"destroy\", \"discourage\", \"left\", \"recognize\", \"bath\", \"natural\", \"sinus\", \"unbearably\", \"dramatic\", \"evidence\", \"fault\", \"lessened\", \"firm\", \"rhythm\", \"public\", \"warm\", \"successful\", \"simply\", \"hopeful\", \"drs\", \"connect\", \"panic_attack\", \"coil\", \"infection\", \"research\", \"physical\", \"complete\", \"suffer\", \"quit\", \"release\", \"link\", \"breastfeed\", \"crampy\", \"goes_away\", \"site\", \"burn\", \"date\", \"expierence\", \"transfusion\", \"potential\", \"delivery\", \"contribute\", \"btw\", \"solely\", \"gentle\", \"reference\", \"obviously\", \"exclusively\", \"strain\", \"web\", \"rat\", \"view\", \"deliver\", \"defense\", \"gosh\", \"host\", \"bayer\", \"message\", \"official\", \"policy\", \"smart\", \"embarrassed\", \"patient\", \"i\", \"solution\", \"market\", \"contraction\", \"everyone\", \"treatment\", \"implant\", \"major\", \"d\", \"warn\", \"angry\", \"ease\", \"thursday\", \"stretch\", \"pregnancy_scare\", \"tender_breast\", \"guy\", \"mid\", \"allow\", \"painfully\", \"adapt\", \"dream\", \"going\", \"wound\", \"expire\", \"request\", \"insist\", \"link\", \"abrasion\", \"teenager\", \"tricky\", \"contact\", \"raise\", \"upside\", \"significantly\", \"ae\", \"evenin\", \"operate\", \"dangerously\", \"feetankle\", \"tubaligation\", \"decreasedi\", \"ib\", \"dizziness\", \"coil\", \"current\", \"coil_fitte\", \"confirm\", \"condition\", \"slow\", \"swell\", \"turn\", \"afternoon\", \"happen\", \"nonstop\", \"whenever\", \"appear\", \"perspective\", \"forever\", \"anaesthetic\", \"wife\", \"penetration\", \"horror\", \"consist\", \"recomend\", \"sneeze\", \"athlete\", \"ect\", \"reverse\", \"mucus\", \"alesse\", \"downfall\", \"sweaty\", \"outer\", \"adn\", \"compete\", \"competitive\", \"recurrence\", \"struggling\", \"tremendous\", \"admittedly\", \"ad\", \"ance\", \"donnot\", \"prevent_pregnancy\", \"adenomyosis\", \"appetite\", \"breeze\", \"sensation\", \"grumpy\", \"severely\", \"worsen\", \"fat\", \"constantly\", \"thankfully\", \"maintenance\", \"constant\", \"miserable\", \"hate\", \"stomach\", \"sexual\", \"pap\", \"odor\", \"night_sweat\", \"red\", \"create\", \"bright\", \"foul\", \"event\", \"rush\", \"bout\", \"havoc\", \"wreak\", \"ignore\", \"proactive\", \"smear\", \"padspanty\", \"breakwhen\", \"presume\", \"vary\", \"crane\", \"ram\", \"anywho\", \"military\", \"ofc\", \"rogain\", \"thinexcessive\", \"cerelle\", \"mirenaid\", \"miraculously\", \"overwhelming\", \"natural\", \"honest\", \"lady\", \"sharp_pain\", \"strong\", \"brown\", \"dizziness\", \"breast_tenderness\", \"vanish\", \"hrt\", \"frame\", \"girlfriend\", \"permanently\", \"frequently\", \"oestrogen\", \"nature\", \"available\", \"jan\", \"current\", \"undesirable\", \"male\", \"black\", \"coincidental\", \"discontent\", \"hahaha\", \"herbal\", \"jean\", \"meno\", \"more\", \"national\", \"oestrogel\", \"shortage\", \"tearful\", \"coronavirus\", \"lockdown\", \"moot\", \"reopen\", \"deleted\", \"eggshell\", \"waste\", \"summer\", \"ablation\", \"cant_wait\", \"purpose\", \"brown\", \"add\", \"lack\", \"s\", \"write\", \"hate\", \"libido\", \"contraception\", \"cloud\", \"otherwise\", \"guarantee\", \"shock\", \"unable\", \"gush\", \"situation\", \"perfectly\", \"funny\", \"coil\", \"potencially\", \"traumatise\", \"unfortunatly\", \"viable\", \"medieval\", \"slew\", \"excrutiatingso\", \"blackhead\", \"unavailable\", \"occasion\", \"iron\", \"vomit\", \"threaten\", \"vanish\", \"gyne\", \"miss\", \"solution\", \"june\", \"settle\", \"anesthesia\", \"strongly\", \"serious\", \"energy\", \"okay\", \"naproxen\", \"god\", \"consume\", \"fortune\", \"insertedand\", \"pang\", \"tracking\", \"unwanted\", \"zillion\", \"cranky\", \"keeping\", \"weightwa\", \"chickene\", \"hunger\", \"embolism\", \"pulmonary\", \"pelvi\", \"successful\", \"horror\", \"stabbing_pain\", \"impossible\", \"unusual\", \"virtually\", \"spend\", \"discomforte\", \"hype\", \"reputation\", \"surround\", \"ativan\", \"concern\", \"middle\", \"yearly\", \"perfectly_fine\", \"greati\", \"smar\", \"thatbut\", \"uncomfy\", \"iuf\", \"cytotec\", \"pap\", \"damper\", \"myselfpart\", \"thisblong\", \"tunnel\", \"pee\", \"itit\", \"description\", \"scoot\", \"tramadol\", \"cystsnot\", \"halfi\", \"party\", \"peeing\", \"ruptere\", \"section\", \"wipe\", \"cook\", \"curse\", \"fore\", \"fruit\", \"forward\", \"discuss\", \"hell\", \"imho\", \"magician\", \"exam\", \"weep\", \"truly\", \"blind\", \"stitch\", \"collapse\"], \"Freq\": [382.0, 391.0, 721.0, 271.0, 177.0, 128.0, 764.0, 422.0, 585.0, 265.0, 208.0, 83.0, 1472.0, 103.0, 181.0, 70.0, 208.0, 92.0, 90.0, 585.0, 174.0, 122.0, 787.0, 348.0, 155.0, 252.0, 267.0, 1069.0, 271.0, 192.0, 287.94306853703335, 332.8379333854745, 174.98831525961438, 151.54023048975537, 143.0860396922035, 138.97698388881201, 114.71439626916082, 99.70395238148515, 173.39038387873683, 96.63023787569603, 82.99934059013245, 82.53176019513438, 409.2780896566915, 79.68532295995051, 72.4042412132078, 70.8641192630776, 69.6091992873424, 247.40508006549655, 66.66834931356507, 66.07929583327774, 165.52790607523548, 65.44027972291279, 63.925427270427335, 59.960927979059235, 59.967889647439364, 59.97634163158153, 57.07338767048256, 54.44054726591154, 52.796774266221, 51.00116196836606, 512.5584869830973, 234.04035646854857, 249.4366027614512, 800.1369304195443, 1395.1833573740987, 227.21849782123226, 209.23578793883974, 107.37422062062721, 998.5397530585337, 226.64313713162045, 258.0563421154205, 235.35115916846584, 425.1942009030947, 390.14381854862387, 562.7678672417006, 488.5573880262683, 223.81031858301344, 310.9076652320476, 184.2353540425708, 346.17795561620085, 386.1247415885891, 316.7928151370845, 353.2209079587783, 627.8798781582111, 393.74310402351074, 456.6428605812115, 233.2755527675943, 451.96231396891625, 543.3858578980075, 321.571508511167, 479.17627022746086, 335.05246026997656, 392.1079394499484, 306.1363163975216, 285.6726836297155, 47.913524316530186, 205.63273101299822, 42.289397792707874, 41.03698632171181, 39.06132035248443, 37.778417794550485, 33.854891360957126, 32.547896407293614, 37.92322126639587, 31.568059840616336, 30.592625293255725, 27.078266749753602, 26.860736547632783, 63.17548486546674, 24.07861168765246, 22.790661013844325, 37.3220284196145, 20.45871366069266, 20.419315393201128, 20.19975932807914, 19.583468839450425, 19.330932658784896, 19.27749735975884, 19.130903499862463, 19.2701256315663, 115.09870777091382, 18.50179616807745, 18.241520451239346, 18.241407578949175, 26.34142476307448, 146.5644975323395, 158.2174172009863, 45.71552718070179, 33.81105409874353, 44.82114661412766, 35.25402124058355, 96.49071434637735, 24.339058658999793, 48.529063620607076, 44.757825259341814, 32.557513904845756, 50.18562794907765, 51.09027600190939, 38.83929666557043, 50.32834133748091, 57.72274907604696, 75.9830102196026, 189.74347298106733, 210.33995700228334, 214.01070399596512, 83.35510427404625, 84.9567698558665, 155.35422862984964, 132.9868017287406, 83.49075341394399, 96.23540501030676, 102.69830109098041, 69.76721104285264, 61.25633288428352, 55.679963015647296, 64.88016003458566, 62.61627661848098, 51.24061021597315, 58.38514984128443, 28.387417666343506, 15.317805652410286, 14.361846879684657, 23.26233474322667, 13.447564606016734, 12.496756099841328, 12.352016732044666, 12.33247436015947, 12.095550591302423, 11.944043507306578, 21.29305335504724, 11.537169892606519, 11.38872125885599, 11.387942581515103, 19.02457574721747, 10.839779305858627, 10.187220203946163, 10.082766200647466, 9.972034191201404, 10.170033043328472, 9.909767494181565, 9.062517959878551, 8.66628115437196, 7.914336484266328, 7.603214610168642, 9.624281877365885, 7.362138534801703, 7.353237447267106, 7.352364152318297, 7.316670938345438, 14.556100664600804, 16.9763640947849, 16.23000761732021, 12.436989737041687, 13.282011921709525, 58.85372226933168, 24.24897647186234, 13.28435946127909, 19.065845646284366, 52.032585480159696, 21.15824244300094, 12.864708633660374, 18.16991279547201, 17.70272557018594, 39.02660764340408, 28.39070115306172, 29.613574919123533, 52.954728686983216, 14.270893786143601, 43.254777016988584, 18.365472047654233, 32.864536195305625, 31.85047581823328, 14.03405440596389, 15.845700302109936, 37.75465291115637, 22.84564902686167, 21.295802380142316, 15.057484483453315, 19.938429684417088, 15.095698489507546, 15.479711722963465, 128.29938497724555, 103.2262019013614, 89.9732533122386, 45.115590273595274, 43.00211496369181, 37.87668556169652, 27.14273203983382, 20.236888252128526, 16.00604627485064, 14.947463713368847, 9.580045621855797, 8.67744913231967, 8.426765610205766, 16.716150281489732, 8.327665189831333, 6.3270278774139435, 5.937065798233035, 36.27996598695982, 5.838362265313808, 14.030855236254004, 5.7069863162741585, 9.56710957136268, 5.3193264944017695, 5.078780656153458, 4.929418160397087, 12.517808632412233, 4.7916150117735885, 4.790197999531173, 4.788866772858504, 15.878446958001932, 27.17433213633243, 48.340532364825634, 9.738676576608418, 19.512719546295575, 38.70345174182236, 8.66265887324676, 38.65164966042934, 20.17806829099371, 49.00162283786896, 17.42460162395988, 20.47920044626472, 27.26820428797728, 18.644590251697487, 51.53565828598365, 27.756429603056798, 14.365124393351463, 26.91433984634011, 19.375138096524008, 25.62526799593072, 18.413700974631436, 17.083389003518477, 20.99303033532175, 10.871759822702773, 10.54049908516575, 9.70968357895182, 9.030924171537082, 8.884272750915114, 12.788042114730143, 7.785819392567384, 7.0986114807736795, 7.060628428892153, 7.059145506953371, 6.917449737254898, 6.783620120062911, 6.781579372950379, 6.780044882055286, 6.686664193302062, 5.813110600100949, 5.58807247921789, 5.452564984276677, 5.359264793406474, 4.947033247785437, 7.752575024659023, 4.581996416089318, 4.581580405545423, 4.580522927496202, 4.487246948879877, 4.48704947751059, 4.447610231503003, 4.220294272086325, 4.219284589655149, 16.876876740500773, 10.278588531630973, 7.536142001692994, 27.654436431156753, 6.754591199888077, 7.707266665422561, 11.34793876081796, 9.487725130984034, 12.305652261828095, 12.222768371242902, 12.818284163157696, 9.393083518360047, 7.309558698789752, 14.900368196399851, 9.04054744189639, 10.524411457466009, 8.370250374434264, 14.641636680354702, 21.2646981127243, 7.8002863714816115, 9.550927918060239, 10.015178076135214, 8.756462237148098, 12.88296295438586, 9.883840748868328, 10.101611420249876, 8.655085215718191, 8.401806802358022, 10.149491912062185, 10.107686729387137, 9.390475254220052, 9.274757280374475, 7.571160167279132, 6.858290846271548, 7.411706649496404, 5.5850385778200105, 5.550955419533484, 4.275513245448469, 4.164001280835442, 6.742432672118219, 3.526967580838998, 3.327580148951626, 3.327331901712487, 3.1300990357115963, 3.1296981323522406, 3.1284450196841953, 3.011842683153564, 3.011734636222177, 7.488280929153756, 2.892256455362292, 2.815055619370917, 6.0631384281165905, 2.5756838707889242, 2.575133208009924, 2.572065312432655, 2.3777977988087358, 2.3771206950497077, 2.3762512503726074, 14.275673870211552, 5.210668416376009, 32.40635333637497, 3.3237061016047846, 6.969136569752697, 3.966393871450413, 5.71260405701072, 9.10201254168084, 8.740075019097794, 8.141281242710681, 4.356805670999746, 4.666504385112479, 4.7264362509655795, 3.563000218611411, 6.39888688081569, 3.7291039815705096, 7.032142124584214, 4.7335945774225205, 3.9625800754754983, 4.258655896461672, 10.96546430100812, 7.277197561262775, 6.6880509281785905, 6.686446907349108, 4.688890554755952, 4.585387471593849, 4.2064683433496235, 4.205747163827468, 3.9310627957860187, 3.8928990672154486, 3.379310423165068, 3.174003105254287, 2.8945150727392046, 2.241286512823249, 2.2396483750585845, 2.2393901361030526, 2.0684362974582537, 2.0680116728342184, 2.066283606327587, 2.0662557879035153, 5.415597020411458, 1.9676819895199724, 1.896598742712918, 1.894838483816166, 4.425245377187563, 1.793131526072417, 1.4126061025363639, 1.4110264884374348, 1.4093660434459205, 1.2412617562027115, 5.329975410292159, 2.2363955439872782, 4.825552149659455, 2.0662862307072163, 4.7285099392276235, 4.3084996744155655, 21.725667123269652, 5.732314502349048, 4.495469227145314, 4.081164363647547, 3.1103132607391464, 3.616039613337162, 2.5540446806933015, 2.429649961053487, 2.326550682437026, 7.996359295476392, 4.075716469089579, 4.0436361096151465, 3.1548179599546957, 2.328813615017039, 2.2399124077317145, 1.9868864564232547, 1.838330877855266, 1.8373219092768813, 1.8371085126254014, 1.8363398519365477, 1.7383542761722568, 1.837382087673528, 1.255300663500786, 1.255227638030698, 1.2549893586264473, 1.2547873214925367, 1.2536164797887899, 6.019067033499201, 3.2177261568591957, 1.1030119958554203, 1.1026413915947229, 1.1015965188268781, 1.1006507713730604, 1.09983971534185, 1.012441953730054, 1.0124002345494572, 1.2559830459490542, 2.18654079629132, 1.668646596608437, 2.706449687554524, 2.9406613026565305, 1.8370207468289437, 2.461666959495497, 1.802140401506039, 2.863332468662547, 2.8334874999669246, 2.063634332232981, 3.186643000748523, 2.2155024272635795, 2.5513606283636294, 2.930085862264245, 2.0188936551952463, 2.364674800589109, 2.122836216065803, 15.50800630803376, 7.794505376898924, 7.46200222030755, 5.817153400958254, 5.327124151237329, 3.533597995520945, 3.4077669056793014, 3.196599713371317, 3.135197059313684, 3.134116021010238, 2.5579065263698593, 2.4041991729091476, 2.3144357442625325, 2.314085492139924, 2.2259437549393426, 1.5845127325816253, 2.7412708820531093, 1.2468695523959932, 1.2468016190271474, 1.2461200074939758, 1.2445564680836008, 2.5574882068875393, 1.0950556908521305, 2.3575837507761865, 1.673657927374485, 2.0441248498996156, 1.2440050956717665, 0.5182677911427882, 0.5182677911427882, 0.5182677911427882, 3.147427477541486, 6.418805081153697, 1.4847968644128202, 3.8257471231275995, 2.094940617686569, 2.369142338804004, 3.5049327936853807, 2.168062246838111, 3.8415199918594296, 2.2507096885958577, 1.923006888754514, 1.768962548266885, 5.492447368082963, 5.321382433746362, 4.78686845240331, 3.8035235699420245, 3.434664874596226, 3.128262907268711, 2.8168825018844346, 2.36549938599695, 2.364685099501389, 2.3646385181437024, 2.2229253845494372, 1.8306394826190766, 1.6887459017177728, 1.6880445195606046, 1.6060857297908289, 2.364179359046505, 1.1529786600369594, 1.013622654049635, 0.9310204870038105, 0.9308829610906402, 2.360233474418465, 4.869569438472226, 3.285614511718341, 0.9304651706753885, 1.9172554099855703, 0.47931462885235404, 0.47931462885235404, 0.4792812455460119, 0.47912525345175877, 0.47912525345175877, 4.092569323395481, 1.4558569694714656, 1.9841968136691372, 2.8499654693774734, 1.013211850838036, 1.5501560481563998, 3.5776652063745664, 2.7997436676795804, 2.702791226134417, 3.0508668723923402, 3.514060580613289, 5.303813098611023, 4.924968719382446, 3.854343211659354, 3.197748357311223, 2.8156683901993342, 2.815615637164632, 2.734342095043339, 2.4332836049686404, 2.2950716803724442, 2.2198047999417785, 2.2147618561419176, 2.0227268518244204, 2.022058920404494, 1.5587407167042642, 1.5584285090553067, 1.5006081040507715, 1.3423190312940334, 1.1205303917132126, 1.119678029936555, 1.119620555813144, 1.1191834445781308, 1.1185799662823155, 1.1180631097010696, 0.9848222862504706, 0.9828555422738194, 0.9827609152349177, 0.9822153215919663, 0.981934314181432, 0.904139085482499, 0.9041116826415155, 2.727189029855389, 1.6917859228705392, 1.775646416339506, 1.4222941713880544, 1.558753751014395, 1.6373980572543618, 1.1229931579013732, 1.1949348523956238, 1.1220928668110854, 4.698817700430012, 4.199091721082937, 3.465374617127464, 3.3335526407853058, 3.2019935806190025, 2.337204025017679, 2.2087090839466414, 2.205768655844005, 2.2048721388691734, 2.1312253179581524, 2.0731748244065566, 1.9189688561235985, 1.7067871525812928, 1.7045016847897037, 3.465881031740927, 1.4977241319787247, 1.4428500891381488, 1.365458169051565, 1.0765639720839133, 1.0765077577316904, 1.0744613222979131, 0.9449360760355271, 0.9442132507293087, 0.9441296573661584, 0.9439519850612048, 0.9449664647958825, 2.2049733052854363, 2.582238017366745, 1.0759018272097147, 0.8683341666294937, 2.7462266421781867, 2.132306497623706, 2.0310977506911283, 1.6940293101987116, 1.0765611565118676, 1.35302800100189, 1.154726679290184, 1.0771236883888629, 1.0766483421565936, 1.0765639720839133, 9.700878760943107, 6.407199813883147, 3.447789963464962, 3.1136823657136916, 3.112690781196377, 2.425503106785821, 2.272355856014105, 1.9389030289090827, 1.8886621243520794, 1.7375927015022605, 1.5312315663088347, 1.4032246517830647, 1.046917677928334, 1.0450875127558663, 1.0443046632207318, 5.4607561968561535, 0.9190849581596068, 0.9190783301704589, 0.9189341947444813, 0.9189158977603546, 0.9187864185920704, 3.3122432911995996, 0.43442459398019706, 0.43442459398019706, 0.43442459398019706, 0.43439784864370573, 0.43439784864370573, 0.43439784864370573, 0.43439784864370573, 0.43439784864370573, 1.362567819533971, 2.7046637409811365, 3.6058587295589164, 1.2506385396418873, 1.139075946248016, 2.375460295087577, 0.8163248011139884, 1.400608556460788, 1.9284403279552529, 2.065230261621631, 2.0164667451808977, 1.2864421902033374, 1.1493687466349554, 0.9598578268947692, 2.691546999516814, 2.4846683186999936, 2.484593323270453, 2.047405224631787, 1.9324083153824028, 1.9321378679468015, 1.8168596871792022, 1.4961942295492556, 1.494658137596561, 1.264705373296851, 1.2639629185443984, 1.1976597685470056, 0.9434199276777429, 0.9433735387522538, 1.932930036164403, 2.4862263680774195, 0.8284220906498492, 0.8282417923594483, 0.8261586976603618, 0.7609166943335315, 0.7608170354586058, 1.264516724999862, 1.3800360508651286, 0.39172992828209924, 0.39172992828209924, 0.39172992828209924, 0.39166158193187867, 0.39166158193187867, 0.39166158193187867, 0.39165423701867624, 0.823181224477846, 2.6036798801909526, 2.607529851747042, 0.8289025252881642, 1.0338941819309655, 0.7610566342587568, 1.227836460411526, 1.2013764492571897, 1.117520193743989, 1.215201431461193, 0.9684096418387033, 0.8783492541157188, 6.002596220996631, 2.4256908818091154, 2.741773526730753, 1.3483413999706957, 1.348163163793342, 1.3474527912528707, 1.2824841915669134, 1.1038611297434133, 1.347504083327678, 0.9214179431271927, 0.9210504255764356, 0.920650226349695, 0.9198424139974954, 1.4607429132248213, 0.8088915283752696, 0.7428280168918424, 0.7422913414070603, 1.2811148898648332, 1.3321707790414339, 0.38255176475178876, 0.3824702118658858, 0.3824702118658858, 0.3824702118658858, 0.3824702118658858, 0.38245126103293714, 0.38245126103293714, 0.38244717582343923, 0.3824320454178914, 0.3824320454178914, 0.3824320454178914, 2.744909151976489, 1.1831439252499392, 1.402080666571207, 1.405233389175212, 0.8576173350975017, 0.4481468388794545, 1.0838409553826405, 0.76315322022846, 0.7431575571246746, 1.598876707194171, 1.0889624463565313, 0.6545093431921422, 1.5273446888856133, 0.8957883978656387, 1.0130550930236746, 0.9436326315086254, 0.7976378353368917, 4.619224247054906, 3.391133545377999, 2.91589711745933, 2.132083793757102, 1.5307514682832084, 1.4395665372347985, 1.3856122102438748, 1.0931472092877454, 1.0928888046141854, 1.0393729122956454, 0.7474802360812415, 0.7474802360812415, 0.7472684453775347, 0.6547522509528033, 1.0024912019515029, 0.31017738775525444, 0.3100491861703695, 0.3100491861703695, 0.3100491861703695, 0.3100263005546618, 0.3100263005546618, 0.30989204178725355, 0.30989204178725355, 0.30989204178725355, 0.30989204178725355, 0.30989204178725355, 0.3096942089389266, 0.3096942089389266, 0.30987774156938325, 0.3099987008708164, 0.6561198574242649, 0.8907263875618507, 1.630026899021292, 0.6562811891639948, 0.9726648978105269, 0.5385185526397482, 0.5073577195110034, 0.3100627226565303, 0.3100491861703695, 2.8133111917646296, 1.7526452225452456, 1.3611442239069107, 1.308082488934397, 1.1628601415649107, 0.931800429765461, 0.7337626679951252, 0.7332547784354555, 0.7325248943730002, 1.7536445802931406, 0.64362713708474, 0.6434758768744798, 0.3046374514872474, 0.3046374514872474, 0.3046374514872474, 0.3046374514872474, 0.3046374514872474, 0.3046374514872474, 0.3046374514872474, 0.3046374514872474, 0.3046374514872474, 0.3046374514872474, 0.3046374514872474, 0.3046374514872474, 0.30463737499017546, 0.30463737499017546, 0.30463737499017546, 0.30463737499017546, 0.3045765598179789, 0.3045765598179789, 0.7531260658283834, 0.5917976679451711, 0.6125305163603962, 0.8546372213175332, 0.6981737312217624, 0.5655312763356536, 0.7451846497994887, 0.5915212075271603, 1.1476267186498903, 0.6389028309155342, 0.5744918373550532, 0.3367054575301781, 0.3146437529791649, 0.3046374514872474, 2.156753701154187, 2.0749117590508326, 1.9931828697417333, 3.3843207256758077, 1.8632666670444875, 1.6006308043809976, 1.2422859402704463, 0.93239679992421, 4.592912702779542, 0.2781222052624878, 0.2781222052624878, 0.2781222052624878, 0.2781222052624878, 0.2780507371744, 0.2780507371744, 0.2779862223732199, 0.2760514759167633, 0.2758588316150882, 0.27795744161608377, 0.8954823622944056, 0.27778354193574906, 0.2752700524825885, 0.2780507371744, 0.24684285535905678, 0.905138745113239, 0.2778577328319788, 0.3125791172725935, 0.5166572554220769, 0.37180208457253866, 0.20368474862934735, 0.25537348077522665, 0.2613992352135942, 1.0563715951799086, 0.5404299401924433, 0.34080089426173904, 0.2993491222061408, 0.14157674478872856, 0.14157674478872856, 0.14157674478872856, 0.14157674478872856, 0.14157674478872856, 0.14157674478872856, 0.14156675848997402, 0.14156675848997402, 0.14156675848997402, 0.14105552957812195, 0.14156889303782458, 0.1390085640125136, 0.1390085640125136, 0.13816416697338155, 0.14157674478872856, 0.14157674478872856, 0.14156645758455016, 0.14156675848997402, 0.12268006283260452, 0.13594193340166635, 0.14157561639338906, 0.00814876042539046, 0.00814876042539046, 0.00814876042539046, 0.00814876042539046, 0.00814876042539046, 0.13063059534525898, 0.675703162406855, 0.3157189077066882, 0.19918689944884235, 0.0942380714739296, 0.0942380714739296, 0.0942380714739296, 0.0942380714739296, 0.09393197749896309, 0.09404373684425825, 0.09786249035742277, 0.005425488833975007, 0.005425488833975007, 0.005425488833975007, 0.005425488833975007, 0.005425541474246342, 0.005425488833975007, 0.00542545791241702, 0.00542545791241702, 0.005425474845651156, 0.0054254380342726, 0.0054254380342726, 0.0054254380342726, 0.0054254380342726, 0.0054254380342726, 0.005425473373196013, 0.005425488833975007, 0.005425439138613957, 0.005425439138613957, 0.005425439138613957, 0.005425439138613957, 0.005425473373196013, 0.00542545791241702, 0.005425488833975007, 0.005425439138613957, 0.005425439138613957, 0.005439699498552657, 0.005425439138613957, 0.005425439138613957, 0.005425439138613957, 0.005425439138613957, 0.005425439138613957], \"Total\": [382.0, 391.0, 721.0, 271.0, 177.0, 128.0, 764.0, 422.0, 585.0, 265.0, 208.0, 83.0, 1472.0, 103.0, 181.0, 70.0, 208.0, 92.0, 90.0, 585.0, 174.0, 122.0, 787.0, 348.0, 155.0, 252.0, 267.0, 1069.0, 271.0, 192.0, 288.48670641021755, 333.5067418954853, 175.57051483981869, 152.08506921255642, 143.62531639339173, 139.51837246083895, 115.27861239878838, 100.2428943380615, 174.3336253187329, 97.17605665156862, 83.53819560987792, 83.0706172213288, 411.96414962210014, 80.22462194849571, 72.94312139364297, 71.40297437167744, 70.15213522061353, 249.35402349231668, 67.20926063942703, 66.61822712118202, 166.88601975674374, 65.97913532059411, 64.47957353520901, 60.49978547807852, 60.506893959671615, 60.51949322737746, 57.61227232639228, 54.97940208105373, 53.33563217800908, 51.54237424276825, 518.9240632756602, 238.30156477967523, 254.43431042866433, 831.0317385869064, 1472.4566048382944, 234.33036453612362, 215.54517371260997, 109.27290970711901, 1069.8761403517922, 237.26740322073152, 271.8863057764111, 248.94568201502125, 461.48001641674995, 422.1263584895573, 621.6600843141265, 537.6398542442679, 236.64283438517833, 335.29058162065286, 193.4404009717365, 382.1787316365128, 431.05203172880056, 348.0410916996901, 402.41514170909295, 787.373330041164, 461.5146780711364, 560.0534789324092, 252.25640897868726, 585.448152989039, 764.2109727349931, 391.3461062997395, 721.2308532947394, 433.9585629066783, 585.6536934797525, 391.63756399434226, 355.93708211148373, 48.455085614072374, 208.17175513355502, 42.83011167943005, 41.57771179014501, 39.60203104615034, 38.31980067948018, 34.39562689186808, 33.08860989277299, 38.571341272258955, 32.108769646108264, 31.139506706679636, 27.618976555245524, 27.413195861106534, 64.49800582389966, 24.62460291151699, 23.33137167014818, 38.2539259752994, 20.999423474259277, 20.9600252543681, 20.74046913357106, 20.12653520693142, 19.871642613056505, 19.81820716525076, 19.671613308271635, 19.822868825528985, 118.46127991089764, 19.042505973569373, 18.782230260768618, 18.7821173884615, 27.135612218354954, 155.81342293146542, 174.30506219592186, 48.4644133125502, 35.692398354754594, 49.063143714591654, 38.97244685133614, 121.58307573506306, 25.807808736661848, 57.857210279730886, 54.478418685714594, 37.16520293508274, 64.45061802226527, 70.45813563590193, 48.551003433818636, 70.39359776605384, 88.8598295321111, 136.4972873893768, 585.6536934797525, 721.2308532947394, 764.2109727349931, 165.62544982062192, 208.60406577715978, 787.373330041164, 585.448152989039, 265.34409755806706, 433.9585629066783, 560.0534789324092, 355.93708211148373, 220.90113944155556, 178.29771432004583, 391.3461062997395, 461.5146780711364, 141.87261777531307, 621.6600843141265, 28.943152660981738, 15.864190053604698, 14.903804461218725, 24.160462529969895, 13.993768836426822, 13.038713677574469, 12.893974309777807, 12.886839419762401, 12.643130632871188, 12.48600108503972, 22.276148286775033, 12.079127473073388, 11.93067883658913, 11.929900159248245, 19.972052536897216, 11.381736883591769, 10.729177781679304, 10.625111213748255, 10.513991768934545, 10.72574363940924, 10.470427515515517, 9.604475541632098, 9.208238732105102, 8.456294082062573, 8.145172187901785, 10.323955405192745, 7.904096112534843, 7.895195028801171, 7.894321730051437, 7.8586285191125995, 15.63717892205316, 18.34220745398494, 17.868842264669688, 13.574057143085465, 14.713100379703556, 77.03196768961473, 30.523201916275006, 15.284117461162118, 25.996956443657215, 122.83943977264668, 32.84881208782093, 15.490010779249452, 26.80645619194582, 25.729521264852238, 97.17668642195115, 65.934578007232, 77.29409531692895, 271.8297163391772, 19.098803756866598, 265.5842898042139, 34.70327214392343, 208.30304722982675, 391.63756399434226, 20.822811240033094, 33.354707923628176, 1472.4566048382944, 169.33082392589762, 192.00226259607115, 34.06598767268688, 1069.8761403517922, 36.02233909129528, 103.91418832691353, 128.84383842508223, 103.77913777575878, 90.5305457771257, 45.65998390596798, 43.5565245482413, 38.62159609095533, 27.687132869278336, 20.781281880480822, 16.550441201739872, 15.491857337700742, 10.124439256014092, 9.22184289890139, 8.971159238338586, 17.801055974312906, 8.872058817964152, 6.8714273635540755, 6.481459424658533, 39.62029483267229, 6.3827558896457, 15.34410382727417, 6.25137994060605, 10.530808057004393, 5.863720118733661, 5.623193600945824, 5.473811784728978, 13.935977400183436, 5.33600863610548, 5.334591623863065, 5.333260397190395, 17.69441326119461, 31.61212295079228, 63.74910442086657, 12.13939889257765, 31.033140413150935, 77.29409531692895, 11.190317375807995, 85.41641488372575, 35.25630721419136, 122.83943977264668, 30.685778866762064, 39.45365898763285, 65.33692053331184, 36.02233909129528, 391.63756399434226, 181.21429479003632, 33.354707923628176, 208.30304722982675, 108.96799050518537, 721.2308532947394, 127.40287628006288, 90.21946074388912, 21.53945531048852, 11.41818479406862, 11.086924056531599, 10.256108555312263, 9.57734914290293, 9.430697740747863, 13.595509351108294, 8.332244367734157, 7.645036452139524, 7.607054817367137, 7.6055704783192155, 7.463874708620743, 7.330045091428755, 7.3280043443162235, 7.326469857458479, 7.233089166780911, 6.359535578220927, 6.134497450583734, 5.998989957375459, 5.9056897676895685, 5.4934582191512815, 8.666557993748402, 5.1284213874551625, 5.1280053769112675, 5.126947902662972, 5.033671924046647, 5.03347445387103, 4.994035202868847, 4.76671924345217, 4.765709562753931, 19.144680922097592, 11.790431746040815, 9.051916368685278, 40.868175078796725, 8.082702635635979, 9.629294257069006, 15.941747646743865, 13.038201414550034, 20.36957750869639, 21.276838571294086, 23.245596850248763, 14.450989297887125, 9.774999769719468, 51.199906037189585, 16.054937537698198, 23.091870651635094, 13.793223955121528, 77.03196768961473, 271.8297163391772, 11.417347514742312, 26.464671470839956, 40.95243980065612, 27.397261676055013, 422.1263584895573, 126.94013422614182, 348.0410916996901, 54.478418685714594, 267.36928535391877, 10.701985815611938, 10.660180632936889, 9.942969157769804, 9.827251183924227, 8.123654070828884, 7.410784749821298, 8.097627553067367, 6.13753248136976, 6.103449323083233, 4.828007153018624, 4.716495184385192, 7.655454862538436, 4.079461484388749, 3.8800740525013757, 3.8798258052622367, 3.682592939261346, 3.6821920374956796, 3.680938927271293, 3.564336586703314, 3.5642285397719267, 8.91364606734096, 3.4447503616457706, 3.3675495229206667, 7.254058361151804, 3.128177774338674, 3.127627116554269, 3.1277717320227483, 2.9302917023584856, 2.9296145985994575, 2.928745156035363, 18.120175310108753, 6.568135699624217, 43.58269662415113, 4.236625451151044, 10.598163277132775, 5.754776291212355, 9.693409875579075, 21.5405312209112, 23.091870651635094, 21.137287475350707, 7.10075720771337, 8.18135301562558, 8.563149784228953, 5.127511054683851, 45.235518120876485, 6.3857151061752955, 177.01694566335354, 32.86322963077535, 10.14993691724359, 33.02200685767001, 11.52299831941441, 7.834731579669064, 7.245584950385806, 7.243980929775802, 5.246424573162241, 5.142921493801064, 4.764002361755913, 4.763281182233757, 4.488596816285915, 4.4504330976666235, 3.9368444415713566, 3.7315371276979237, 3.452049091145493, 2.7988205312295373, 2.797182393464873, 2.7969241574265897, 2.625970315864542, 2.625545691240507, 2.6238176285348014, 2.6237898063098037, 6.930044306080189, 2.525216007926261, 2.4541327611192068, 2.4523725022224547, 5.796188900179529, 2.3506655444787055, 1.9701401209426537, 1.968560508937332, 1.9669000676055524, 1.7987957746090013, 7.7891991617776775, 3.3203007330001593, 7.988538307223743, 3.045060545699847, 7.965703076762223, 7.167510903845035, 70.43505775454142, 11.85014908111644, 10.14993691724359, 15.941747646743865, 10.598163277132775, 43.58269662415113, 8.232408477799849, 9.232743761797387, 25.729521264852238, 8.557658924905683, 4.637016098518868, 4.6049357417781644, 3.7161175893839853, 2.8901132444463284, 2.801212037161004, 2.548186096944318, 2.3996305072845554, 2.3986215387061707, 2.398408142054691, 2.3976394883204337, 2.3155806243714814, 2.5320998568045243, 1.8166002929300766, 1.8165272674599886, 1.816288988055738, 1.8160869509218274, 1.8149161130190061, 8.976086506415566, 4.845472700114709, 1.664311625284711, 1.6639410210240135, 1.6628961482561688, 1.6619504046032767, 1.6611393485720662, 1.5737415831593446, 1.5736998639787478, 2.23844646396299, 3.9679585666404935, 3.062217019843125, 5.064134636604795, 6.06755551823574, 3.4497202581361925, 5.184915882972241, 3.509456175432196, 7.537599227748862, 8.086412919186873, 5.527874986998808, 13.292932296249731, 7.518678458403819, 17.646351559676216, 29.488085447796337, 9.603077174288506, 46.05948616208757, 40.54631526832516, 16.06949275644168, 8.355991825306843, 8.023488668715467, 6.378639849366172, 5.888610603446172, 4.095084446662592, 3.969253354087219, 3.7580861645129633, 3.6966835077216014, 3.6956024694181555, 3.1193929747777767, 2.965685621317065, 2.8759221954041787, 2.875571945073936, 2.78743020334726, 2.1459991809895427, 3.8569942160490283, 1.8083560008039115, 1.8082880712359914, 1.8076064608964892, 1.8060429220253822, 3.857485020231975, 1.6565421430609746, 4.033140206835843, 3.220768680936987, 3.97156147126954, 2.578300906161599, 1.0797542395507063, 1.0797542395507063, 1.0797542395507063, 6.895816298177591, 16.69179351004467, 3.4516552980196282, 16.776052036299486, 6.330033360460758, 10.324074470415681, 37.683546278647604, 9.22746058114505, 92.05575156772856, 15.57094053817827, 12.884200315987298, 15.345777807065556, 6.05617429771462, 5.885109363378019, 5.3505953820349665, 4.367250499573681, 3.998391804227883, 3.6919898369003685, 3.380609431516092, 2.9292263156286076, 2.9284120291330464, 2.928365454846729, 2.7866523141810946, 2.3943664122507338, 2.25247283134943, 2.251771449192262, 2.169812664233378, 3.3373249440620816, 1.7167055946632126, 1.577349583681293, 1.4947474166354686, 1.4946098907222982, 3.87869929675176, 8.594496797757593, 6.536208492376497, 1.8545106446643354, 4.0849196535777565, 1.0430415584840118, 1.0430415584840118, 1.0430081751776696, 1.0428521830834165, 1.0428521830834165, 10.428951884796241, 3.798256447925702, 5.662374075407432, 9.693409875579075, 3.220768680936987, 6.3857151061752955, 27.81898777557161, 20.36957750869639, 40.868175078796725, 77.03196768961473, 382.1787316365128, 5.868341352991882, 5.489496976950682, 4.418871466040213, 3.762276611692082, 3.380196649591049, 3.380143891545491, 3.298870349424198, 2.9978118593494996, 2.8595999347533034, 2.7843330543226372, 2.7792901190892194, 2.587255106205279, 2.6752055151570815, 2.123268971085123, 2.1229567634361657, 2.0651363624520354, 1.9068472877878988, 1.6850586460940724, 1.6842062843174148, 1.6841488182226205, 1.683711706519107, 1.6831082298281523, 1.68259137232589, 1.5493505406313304, 1.5473837983876166, 1.547289176864047, 1.5467435868875732, 1.5464625725996397, 1.4686673398633587, 1.4686399370223753, 4.624802600627779, 3.0476330435700345, 3.3910992101669803, 2.642981131671652, 3.1741193594335657, 8.5416465027768, 5.272664611027488, 72.24224474323636, 11.38349487039771, 5.264408369234217, 4.764682393688068, 4.0309652859316705, 3.899143309589511, 3.7675842494232077, 2.9027946938218845, 2.7742997548638524, 2.7713593286855582, 2.770462807673379, 2.696815986762358, 2.6387654932107623, 2.484559524927804, 2.2723778241192267, 2.270092353593909, 4.669736394489942, 2.0633148007829303, 2.008440757942355, 1.9310488378557713, 1.6421546408881196, 1.6420984265358967, 1.6400519911021194, 1.5105267448397335, 1.5098039216271224, 1.5097203261703647, 1.509542653865411, 1.6439852596005502, 3.843966821115288, 5.66291197076334, 2.370759773470052, 1.9253218869794688, 10.144183158435283, 12.884200315987298, 23.87663911496446, 37.683546278647604, 3.1741193594335657, 13.509375455775364, 49.063143714591654, 3.4497202581361925, 3.3910992101669803, 4.1058347396433, 10.267187297661941, 6.973508350601978, 4.014098500183794, 3.679990902432523, 3.6789993229098035, 2.9918116435046525, 2.8386643927329365, 2.50521157222614, 2.4549706610709108, 2.303901238221092, 2.097540103027666, 1.9695331885018967, 1.613226214647166, 1.6113960521754098, 1.6106132039769119, 8.525190633669682, 1.4853934948784389, 1.4853868668892911, 1.4852427314633134, 1.4852244344791867, 1.4850949553109025, 7.01542433722741, 1.0007331306990288, 1.0007331306990288, 1.0007331306990288, 1.0007063853625375, 1.0007063853625375, 1.0007063853625375, 1.0007063853625375, 1.0007063853625375, 3.4003045804721035, 7.965703076762223, 14.813458395477221, 4.541041945878889, 4.033140206835843, 18.028111838296667, 3.0476330435700345, 9.629294257069006, 24.020818143675946, 30.823030720298405, 35.25703898900611, 17.646351559676216, 7.988538307223743, 9.4777301002412, 3.2603153993023866, 3.053436524692864, 3.0533615292633227, 2.6161734306246567, 2.501176521375273, 2.500906073939672, 2.385627898166667, 2.064962435542126, 2.0634263435894313, 1.8334735792897219, 1.8327311266502748, 1.7664279745398765, 1.5121881336706138, 1.5121417447451249, 3.136748421909999, 4.1058347396433, 1.39719029664272, 1.3970099983523192, 1.3949269113815566, 1.3296849003264024, 1.3295852414514768, 2.324172663692724, 3.0152665796337628, 0.9604981342749699, 0.9604981342749699, 0.9604981342749699, 0.9604297879247494, 0.9604297879247494, 0.9604297879247494, 0.9604224430115469, 2.170821597257767, 11.417347514742312, 12.884200315987298, 3.1337821412483695, 5.739408364278397, 3.857485020231975, 10.857634956844034, 14.625880601610906, 12.124785346086762, 21.137287475350707, 7.7891991617776775, 56.51858655545938, 6.57189171972607, 2.994986380538553, 3.802122350175225, 1.917636898700134, 1.9174586625227803, 1.9167482899823092, 1.851779690296352, 1.6731566284728518, 2.0502277080575775, 1.49071344477388, 1.4903459243058739, 1.4899457300737284, 1.4891379127269337, 2.4685614112507945, 1.378187027104708, 1.3121285751460288, 1.3115868401364987, 2.2889300010228197, 3.2368620707237263, 0.951847263481227, 0.951765710595324, 0.951765710595324, 0.951765710595324, 0.951765710595324, 0.9517467597623753, 0.9517467597623753, 0.9517426745528774, 0.9517275441473296, 0.9517275441473296, 0.9517275441473296, 6.89895374948939, 4.2945492206242015, 6.242289035612962, 7.874281923904028, 4.237141744928432, 1.3042582503081241, 7.7682973579300345, 4.658504660153008, 4.718324209531812, 31.61212295079228, 12.595572223850244, 3.99836354391607, 58.41808128881373, 13.935977400183436, 32.48139286165638, 20.36957750869639, 12.755417945758746, 5.285122325566406, 3.9645928572136517, 3.4893564292949826, 2.7055431055927546, 2.1042107801188608, 2.0130258490704516, 1.9590715220795278, 1.6666065211233985, 1.6663481164498384, 1.6128322241312985, 1.3209395479168944, 1.3209395479168944, 1.3207277572131875, 1.2282115652045462, 2.4520553751374967, 0.8836366995909072, 0.8835084980060223, 0.8835084980060223, 0.8835084980060223, 0.8834856123903146, 0.8834856123903146, 0.8833513536229064, 0.8833513536229064, 0.8833513536229064, 0.8833513536229064, 0.8833513536229064, 0.8831535207745794, 0.8831535207745794, 1.616379719862998, 1.6180602470367544, 4.669736394489942, 8.91364606734096, 25.06839256971241, 7.254058361151804, 26.179261023841548, 4.816285018272419, 11.417347514742312, 1.7604071007288122, 3.8569942160490283, 3.387092496753933, 2.326426530268278, 1.9349255288962144, 1.8818637939237006, 1.7366414465542144, 1.5055817347547646, 1.307543972984429, 1.3070360834247592, 1.306306199362304, 3.1337821412483695, 1.2174084461113917, 1.2172571818637834, 0.8784187564765511, 0.8784187564765511, 0.8784187564765511, 0.8784187564765511, 0.8784187564765511, 0.8784187564765511, 0.8784187564765511, 0.8784187564765511, 0.8784187564765511, 0.8784187564765511, 0.8784187564765511, 0.8784187564765511, 0.8784186799794791, 0.8784186799794791, 0.8784186799794791, 0.8784186799794791, 0.8783578648072825, 0.8783578648072825, 4.478729897476358, 4.095452574877709, 4.766550591298857, 11.882612778385148, 7.966303038366436, 4.816285018272419, 12.290822073456303, 6.708688619161775, 83.86445216220316, 19.144680922097592, 32.48139286165638, 30.685778866762064, 16.776052036299486, 1.4312612417209747, 2.7320603021919845, 2.65021836008863, 2.568489470779531, 4.411354410470214, 2.438573268082285, 2.175937405418795, 1.817592541308244, 1.507703400962008, 12.884200315987298, 0.8534288063002857, 0.8534288063002857, 0.8534288063002857, 0.8534288063002857, 0.853357338212198, 0.853357338212198, 0.8532928234110179, 0.8513580769545612, 0.8511654399755966, 2.229371715439972, 7.313293606269324, 2.3224738304621786, 2.51336873155962, 3.8569942160490283, 3.8141771894535874, 14.713100379703556, 4.541041945878889, 6.547559210021177, 11.458903826123837, 12.17679742264552, 6.748854024360765, 11.953715690787643, 17.69441326119461, 1.6395374517067511, 1.1235957967192858, 0.9239667507885814, 0.8825149787329831, 0.7247426013155709, 0.7247426013155709, 0.7247426013155709, 0.7247426013155709, 0.7247426013155709, 0.7247426013155709, 0.7247326150168164, 0.7247326150168164, 0.7247326150168164, 0.7242213861049643, 1.4583420803719862, 1.5886261049599422, 1.5886261049599422, 1.5938137260536056, 1.6439852596005502, 2.0502277080575775, 2.307061374705502, 2.5320998568045243, 3.556929194489657, 4.157621488109404, 8.097627553067367, 0.5913154400673487, 0.5913154400673487, 0.5913154400673487, 0.5913154400673487, 0.5913168183897357, 16.605241124971442, 1.2615922339222738, 0.9016079792221071, 0.7850759721396731, 0.6801271429893485, 0.6801271429893485, 0.6801271429893485, 0.6801271429893485, 0.6798210517481108, 2.6752055151570815, 5.285122325566406, 0.5913155688871268, 0.5913155688871268, 0.5913155688871268, 0.5913155688871268, 0.5913214007240538, 0.5913168080806908, 0.591315674547756, 0.591315674547756, 0.5913189651135224, 0.5913153219158913, 0.5913153219158913, 0.5913153219158913, 0.5913153219158913, 0.5913153219158913, 0.5913192537872234, 0.5913212668009633, 0.5913167185633204, 0.5913167185633204, 0.5913167185633204, 0.5913167185633204, 0.591322661167188, 0.5913205450962536, 0.5913331823336783, 0.5913167185633204, 0.5913167185633204, 10.155139045485734, 0.5913186515506157, 0.5913227473651903, 0.5913190558393182, 0.591318064379676, 0.5913182361097307], \"Category\": [\"Default\", \"Default\", \"Default\", \"Default\", \"Default\", \"Default\", \"Default\", \"Default\", \"Default\", \"Default\", \"Default\", \"Default\", \"Default\", \"Default\", \"Default\", \"Default\", \"Default\", \"Default\", \"Default\", \"Default\", \"Default\", \"Default\", \"Default\", \"Default\", \"Default\", \"Default\", \"Default\", \"Default\", \"Default\", \"Default\", \"Topic1\", \"Topic1\", \"Topic1\", \"Topic1\", \"Topic1\", \"Topic1\", \"Topic1\", \"Topic1\", \"Topic1\", \"Topic1\", \"Topic1\", \"Topic1\", \"Topic1\", \"Topic1\", \"Topic1\", \"Topic1\", \"Topic1\", \"Topic1\", \"Topic1\", \"Topic1\", \"Topic1\", \"Topic1\", \"Topic1\", \"Topic1\", \"Topic1\", \"Topic1\", \"Topic1\", \"Topic1\", \"Topic1\", \"Topic1\", \"Topic1\", \"Topic1\", \"Topic1\", \"Topic1\", \"Topic1\", \"Topic1\", \"Topic1\", \"Topic1\", \"Topic1\", \"Topic1\", \"Topic1\", \"Topic1\", \"Topic1\", \"Topic1\", \"Topic1\", \"Topic1\", \"Topic1\", \"Topic1\", \"Topic1\", \"Topic1\", \"Topic1\", \"Topic1\", \"Topic1\", \"Topic1\", \"Topic1\", \"Topic1\", \"Topic1\", \"Topic1\", \"Topic1\", \"Topic1\", \"Topic1\", \"Topic1\", \"Topic1\", \"Topic1\", \"Topic1\", \"Topic2\", \"Topic2\", \"Topic2\", \"Topic2\", \"Topic2\", \"Topic2\", \"Topic2\", \"Topic2\", \"Topic2\", \"Topic2\", \"Topic2\", \"Topic2\", \"Topic2\", \"Topic2\", \"Topic2\", \"Topic2\", \"Topic2\", \"Topic2\", \"Topic2\", \"Topic2\", \"Topic2\", \"Topic2\", \"Topic2\", \"Topic2\", \"Topic2\", \"Topic2\", \"Topic2\", \"Topic2\", \"Topic2\", \"Topic2\", \"Topic2\", \"Topic2\", \"Topic2\", \"Topic2\", \"Topic2\", \"Topic2\", \"Topic2\", \"Topic2\", \"Topic2\", \"Topic2\", \"Topic2\", \"Topic2\", \"Topic2\", \"Topic2\", \"Topic2\", \"Topic2\", \"Topic2\", \"Topic2\", \"Topic2\", \"Topic2\", \"Topic2\", \"Topic2\", \"Topic2\", \"Topic2\", \"Topic2\", \"Topic2\", \"Topic2\", \"Topic2\", \"Topic2\", \"Topic2\", \"Topic2\", \"Topic2\", \"Topic2\", \"Topic2\", \"Topic3\", \"Topic3\", \"Topic3\", \"Topic3\", \"Topic3\", \"Topic3\", \"Topic3\", \"Topic3\", \"Topic3\", \"Topic3\", \"Topic3\", \"Topic3\", \"Topic3\", \"Topic3\", \"Topic3\", \"Topic3\", \"Topic3\", \"Topic3\", \"Topic3\", \"Topic3\", \"Topic3\", \"Topic3\", \"Topic3\", \"Topic3\", \"Topic3\", \"Topic3\", \"Topic3\", \"Topic3\", \"Topic3\", \"Topic3\", \"Topic3\", \"Topic3\", \"Topic3\", \"Topic3\", \"Topic3\", \"Topic3\", \"Topic3\", \"Topic3\", \"Topic3\", \"Topic3\", \"Topic3\", \"Topic3\", \"Topic3\", \"Topic3\", \"Topic3\", \"Topic3\", \"Topic3\", \"Topic3\", \"Topic3\", \"Topic3\", \"Topic3\", \"Topic3\", \"Topic3\", \"Topic3\", \"Topic3\", \"Topic3\", \"Topic3\", \"Topic3\", \"Topic3\", \"Topic3\", \"Topic3\", \"Topic3\", \"Topic4\", \"Topic4\", \"Topic4\", \"Topic4\", \"Topic4\", \"Topic4\", \"Topic4\", \"Topic4\", \"Topic4\", \"Topic4\", \"Topic4\", \"Topic4\", \"Topic4\", \"Topic4\", \"Topic4\", \"Topic4\", \"Topic4\", \"Topic4\", \"Topic4\", \"Topic4\", \"Topic4\", \"Topic4\", \"Topic4\", \"Topic4\", \"Topic4\", \"Topic4\", \"Topic4\", \"Topic4\", \"Topic4\", \"Topic4\", \"Topic4\", \"Topic4\", \"Topic4\", \"Topic4\", \"Topic4\", \"Topic4\", \"Topic4\", \"Topic4\", \"Topic4\", \"Topic4\", \"Topic4\", \"Topic4\", \"Topic4\", \"Topic4\", \"Topic4\", \"Topic4\", \"Topic4\", \"Topic4\", \"Topic4\", \"Topic4\", \"Topic4\", \"Topic5\", \"Topic5\", \"Topic5\", \"Topic5\", \"Topic5\", \"Topic5\", \"Topic5\", \"Topic5\", \"Topic5\", \"Topic5\", \"Topic5\", \"Topic5\", \"Topic5\", \"Topic5\", \"Topic5\", \"Topic5\", \"Topic5\", \"Topic5\", \"Topic5\", \"Topic5\", \"Topic5\", \"Topic5\", \"Topic5\", \"Topic5\", \"Topic5\", \"Topic5\", \"Topic5\", \"Topic5\", \"Topic5\", \"Topic5\", \"Topic5\", \"Topic5\", \"Topic5\", \"Topic5\", \"Topic5\", \"Topic5\", \"Topic5\", \"Topic5\", \"Topic5\", \"Topic5\", \"Topic5\", \"Topic5\", \"Topic5\", \"Topic5\", \"Topic5\", \"Topic5\", \"Topic5\", \"Topic5\", \"Topic5\", \"Topic5\", \"Topic5\", \"Topic5\", \"Topic5\", \"Topic5\", \"Topic5\", \"Topic5\", \"Topic5\", \"Topic5\", \"Topic6\", \"Topic6\", \"Topic6\", \"Topic6\", \"Topic6\", \"Topic6\", \"Topic6\", \"Topic6\", \"Topic6\", \"Topic6\", \"Topic6\", \"Topic6\", \"Topic6\", \"Topic6\", \"Topic6\", \"Topic6\", \"Topic6\", \"Topic6\", \"Topic6\", \"Topic6\", \"Topic6\", \"Topic6\", \"Topic6\", \"Topic6\", \"Topic6\", \"Topic6\", \"Topic6\", \"Topic6\", \"Topic6\", \"Topic6\", \"Topic6\", \"Topic6\", \"Topic6\", \"Topic6\", \"Topic6\", \"Topic6\", \"Topic6\", \"Topic6\", \"Topic6\", \"Topic6\", \"Topic6\", \"Topic6\", \"Topic6\", \"Topic6\", \"Topic6\", \"Topic6\", \"Topic6\", \"Topic6\", \"Topic6\", \"Topic6\", \"Topic7\", \"Topic7\", \"Topic7\", \"Topic7\", \"Topic7\", \"Topic7\", \"Topic7\", \"Topic7\", \"Topic7\", \"Topic7\", \"Topic7\", \"Topic7\", \"Topic7\", \"Topic7\", \"Topic7\", \"Topic7\", \"Topic7\", \"Topic7\", \"Topic7\", \"Topic7\", \"Topic7\", \"Topic7\", \"Topic7\", \"Topic7\", \"Topic7\", \"Topic7\", \"Topic7\", \"Topic7\", \"Topic7\", \"Topic7\", \"Topic7\", \"Topic7\", \"Topic7\", \"Topic7\", \"Topic7\", \"Topic7\", \"Topic7\", \"Topic7\", \"Topic7\", \"Topic7\", \"Topic7\", \"Topic7\", \"Topic7\", \"Topic7\", \"Topic7\", \"Topic8\", \"Topic8\", \"Topic8\", \"Topic8\", \"Topic8\", \"Topic8\", \"Topic8\", \"Topic8\", \"Topic8\", \"Topic8\", \"Topic8\", \"Topic8\", \"Topic8\", \"Topic8\", \"Topic8\", \"Topic8\", \"Topic8\", \"Topic8\", \"Topic8\", \"Topic8\", \"Topic8\", \"Topic8\", \"Topic8\", \"Topic8\", \"Topic8\", \"Topic8\", \"Topic8\", \"Topic8\", \"Topic8\", \"Topic8\", \"Topic8\", \"Topic8\", \"Topic8\", \"Topic8\", \"Topic8\", \"Topic8\", \"Topic8\", \"Topic8\", \"Topic8\", \"Topic8\", \"Topic8\", \"Topic8\", \"Topic8\", \"Topic8\", \"Topic8\", \"Topic9\", \"Topic9\", \"Topic9\", \"Topic9\", \"Topic9\", \"Topic9\", \"Topic9\", \"Topic9\", \"Topic9\", \"Topic9\", \"Topic9\", \"Topic9\", \"Topic9\", \"Topic9\", \"Topic9\", \"Topic9\", \"Topic9\", \"Topic9\", \"Topic9\", \"Topic9\", \"Topic9\", \"Topic9\", \"Topic9\", \"Topic9\", \"Topic9\", \"Topic9\", \"Topic9\", \"Topic9\", \"Topic9\", \"Topic9\", \"Topic9\", \"Topic9\", \"Topic9\", \"Topic9\", \"Topic9\", \"Topic9\", \"Topic9\", \"Topic9\", \"Topic9\", \"Topic9\", \"Topic9\", \"Topic9\", \"Topic10\", \"Topic10\", \"Topic10\", \"Topic10\", \"Topic10\", \"Topic10\", \"Topic10\", \"Topic10\", \"Topic10\", \"Topic10\", \"Topic10\", \"Topic10\", \"Topic10\", \"Topic10\", \"Topic10\", \"Topic10\", \"Topic10\", \"Topic10\", \"Topic10\", \"Topic10\", \"Topic10\", \"Topic10\", \"Topic10\", \"Topic10\", \"Topic10\", \"Topic10\", \"Topic10\", \"Topic10\", \"Topic10\", \"Topic10\", \"Topic10\", \"Topic10\", \"Topic10\", \"Topic10\", \"Topic10\", \"Topic10\", \"Topic10\", \"Topic10\", \"Topic10\", \"Topic10\", \"Topic10\", \"Topic11\", \"Topic11\", \"Topic11\", \"Topic11\", \"Topic11\", \"Topic11\", \"Topic11\", \"Topic11\", \"Topic11\", \"Topic11\", \"Topic11\", \"Topic11\", \"Topic11\", \"Topic11\", \"Topic11\", \"Topic11\", \"Topic11\", \"Topic11\", \"Topic11\", \"Topic11\", \"Topic11\", \"Topic11\", \"Topic11\", \"Topic11\", \"Topic11\", \"Topic11\", \"Topic11\", \"Topic11\", \"Topic11\", \"Topic11\", \"Topic11\", \"Topic11\", \"Topic11\", \"Topic11\", \"Topic11\", \"Topic11\", \"Topic11\", \"Topic11\", \"Topic11\", \"Topic12\", \"Topic12\", \"Topic12\", \"Topic12\", \"Topic12\", \"Topic12\", \"Topic12\", \"Topic12\", \"Topic12\", \"Topic12\", \"Topic12\", \"Topic12\", \"Topic12\", \"Topic12\", \"Topic12\", \"Topic12\", \"Topic12\", \"Topic12\", \"Topic12\", \"Topic12\", \"Topic12\", \"Topic12\", \"Topic12\", \"Topic12\", \"Topic12\", \"Topic12\", \"Topic12\", \"Topic12\", \"Topic12\", \"Topic12\", \"Topic12\", \"Topic12\", \"Topic12\", \"Topic12\", \"Topic12\", \"Topic12\", \"Topic12\", \"Topic12\", \"Topic12\", \"Topic12\", \"Topic13\", \"Topic13\", \"Topic13\", \"Topic13\", \"Topic13\", \"Topic13\", \"Topic13\", \"Topic13\", \"Topic13\", \"Topic13\", \"Topic13\", \"Topic13\", \"Topic13\", \"Topic13\", \"Topic13\", \"Topic13\", \"Topic13\", \"Topic13\", \"Topic13\", \"Topic13\", \"Topic13\", \"Topic13\", \"Topic13\", \"Topic13\", \"Topic13\", \"Topic13\", \"Topic13\", \"Topic13\", \"Topic13\", \"Topic13\", \"Topic13\", \"Topic13\", \"Topic13\", \"Topic13\", \"Topic13\", \"Topic13\", \"Topic13\", \"Topic13\", \"Topic13\", \"Topic13\", \"Topic13\", \"Topic13\", \"Topic13\", \"Topic13\", \"Topic14\", \"Topic14\", \"Topic14\", \"Topic14\", \"Topic14\", \"Topic14\", \"Topic14\", \"Topic14\", \"Topic14\", \"Topic14\", \"Topic14\", \"Topic14\", \"Topic14\", \"Topic14\", \"Topic14\", \"Topic14\", \"Topic14\", \"Topic14\", \"Topic14\", \"Topic14\", \"Topic14\", \"Topic14\", \"Topic14\", \"Topic14\", \"Topic14\", \"Topic14\", \"Topic14\", \"Topic14\", \"Topic14\", \"Topic14\", \"Topic14\", \"Topic14\", \"Topic14\", \"Topic14\", \"Topic14\", \"Topic14\", \"Topic14\", \"Topic14\", \"Topic14\", \"Topic14\", \"Topic14\", \"Topic14\", \"Topic15\", \"Topic15\", \"Topic15\", \"Topic15\", \"Topic15\", \"Topic15\", \"Topic15\", \"Topic15\", \"Topic15\", \"Topic15\", \"Topic15\", \"Topic15\", \"Topic15\", \"Topic15\", \"Topic15\", \"Topic15\", \"Topic15\", \"Topic15\", \"Topic15\", \"Topic15\", \"Topic15\", \"Topic15\", \"Topic15\", \"Topic15\", \"Topic15\", \"Topic15\", \"Topic15\", \"Topic15\", \"Topic15\", \"Topic15\", \"Topic15\", \"Topic15\", \"Topic15\", \"Topic15\", \"Topic15\", \"Topic15\", \"Topic15\", \"Topic15\", \"Topic15\", \"Topic15\", \"Topic15\", \"Topic15\", \"Topic15\", \"Topic15\", \"Topic15\", \"Topic15\", \"Topic15\", \"Topic16\", \"Topic16\", \"Topic16\", \"Topic16\", \"Topic16\", \"Topic16\", \"Topic16\", \"Topic16\", \"Topic16\", \"Topic16\", \"Topic16\", \"Topic16\", \"Topic16\", \"Topic16\", \"Topic16\", \"Topic16\", \"Topic16\", \"Topic16\", \"Topic16\", \"Topic16\", \"Topic16\", \"Topic16\", \"Topic16\", \"Topic16\", \"Topic16\", \"Topic16\", \"Topic16\", \"Topic16\", \"Topic16\", \"Topic16\", \"Topic16\", \"Topic16\", \"Topic16\", \"Topic16\", \"Topic16\", \"Topic16\", \"Topic16\", \"Topic16\", \"Topic16\", \"Topic17\", \"Topic17\", \"Topic17\", \"Topic17\", \"Topic17\", \"Topic17\", \"Topic17\", \"Topic17\", \"Topic17\", \"Topic17\", \"Topic17\", \"Topic17\", \"Topic17\", \"Topic17\", \"Topic17\", \"Topic17\", \"Topic17\", \"Topic17\", \"Topic17\", \"Topic17\", \"Topic17\", \"Topic17\", \"Topic17\", \"Topic17\", \"Topic17\", \"Topic17\", \"Topic17\", \"Topic17\", \"Topic17\", \"Topic17\", \"Topic17\", \"Topic17\", \"Topic17\", \"Topic17\", \"Topic17\", \"Topic17\", \"Topic17\", \"Topic17\", \"Topic17\", \"Topic17\", \"Topic17\", \"Topic17\", \"Topic17\", \"Topic17\", \"Topic18\", \"Topic18\", \"Topic18\", \"Topic18\", \"Topic18\", \"Topic18\", \"Topic18\", \"Topic18\", \"Topic18\", \"Topic18\", \"Topic18\", \"Topic18\", \"Topic18\", \"Topic18\", \"Topic18\", \"Topic18\", \"Topic18\", \"Topic18\", \"Topic18\", \"Topic18\", \"Topic18\", \"Topic18\", \"Topic18\", \"Topic18\", \"Topic18\", \"Topic18\", \"Topic18\", \"Topic18\", \"Topic18\", \"Topic18\", \"Topic18\", \"Topic18\", \"Topic19\", \"Topic19\", \"Topic19\", \"Topic19\", \"Topic19\", \"Topic19\", \"Topic19\", \"Topic19\", \"Topic19\", \"Topic19\", \"Topic19\", \"Topic19\", \"Topic19\", \"Topic19\", \"Topic19\", \"Topic19\", \"Topic19\", \"Topic19\", \"Topic19\", \"Topic19\", \"Topic19\", \"Topic19\", \"Topic19\", \"Topic19\", \"Topic19\", \"Topic19\", \"Topic19\", \"Topic19\", \"Topic19\", \"Topic19\", \"Topic19\", \"Topic20\", \"Topic20\", \"Topic20\", \"Topic20\", \"Topic20\", \"Topic20\", \"Topic20\", \"Topic20\", \"Topic20\", \"Topic20\", \"Topic20\", \"Topic20\", \"Topic20\", \"Topic20\", \"Topic20\", \"Topic20\", \"Topic20\", \"Topic20\", \"Topic20\", \"Topic20\", \"Topic20\", \"Topic20\", \"Topic20\", \"Topic20\", \"Topic20\", \"Topic20\", \"Topic20\", \"Topic20\", \"Topic20\", \"Topic20\", \"Topic20\", \"Topic20\", \"Topic20\", \"Topic20\", \"Topic20\", \"Topic20\", \"Topic20\", \"Topic20\", \"Topic20\", \"Topic20\", \"Topic20\"], \"logprob\": [30.0, 29.0, 28.0, 27.0, 26.0, 25.0, 24.0, 23.0, 22.0, 21.0, 20.0, 19.0, 18.0, 17.0, 16.0, 15.0, 14.0, 13.0, 12.0, 11.0, 10.0, 9.0, 8.0, 7.0, 6.0, 5.0, 4.0, 3.0, 2.0, 1.0, -4.8107, -4.6658, -5.3087, -5.4526, -5.51, -5.5391, -5.731, -5.8712, -5.3179, -5.9026, -6.0546, -6.0603, -4.4591, -6.0954, -6.1912, -6.2127, -6.2305, -4.9624, -6.2737, -6.2826, -5.3643, -6.2923, -6.3157, -6.3798, -6.3796, -6.3795, -6.4291, -6.4763, -6.507, -6.5416, -4.234, -5.018, -4.9542, -3.7887, -3.2327, -5.0475, -5.13, -5.7971, -3.5672, -5.0501, -4.9203, -5.0124, -4.4209, -4.5069, -4.1406, -4.282, -5.0626, -4.7339, -5.2572, -4.6265, -4.5173, -4.7152, -4.6064, -4.0311, -4.4977, -4.3495, -5.0212, -4.3598, -4.1756, -4.7002, -4.3014, -4.6592, -4.5019, -4.7494, -4.8186, -5.1616, -3.7049, -5.2865, -5.3165, -5.3659, -5.3993, -5.5089, -5.5483, -5.3954, -5.5789, -5.6103, -5.7323, -5.7403, -4.8851, -5.8497, -5.9047, -5.4114, -6.0126, -6.0145, -6.0253, -6.0563, -6.0693, -6.0721, -6.0797, -6.0725, -4.2852, -6.1131, -6.1273, -6.1273, -5.7599, -4.0435, -3.967, -5.2086, -5.5102, -5.2283, -5.4684, -4.4616, -5.8389, -5.1489, -5.2297, -5.548, -5.1153, -5.0974, -5.3716, -5.1124, -4.9754, -4.7005, -3.7853, -3.6823, -3.665, -4.6079, -4.5889, -3.9853, -4.1408, -4.6063, -4.4642, -4.3992, -4.7858, -4.9159, -5.0114, -4.8585, -4.894, -5.0945, -4.964, -4.5719, -5.1888, -5.2533, -4.771, -5.319, -5.3924, -5.404, -5.4056, -5.425, -5.4376, -4.8594, -5.4723, -5.4852, -5.4853, -4.9721, -5.5346, -5.5967, -5.607, -5.618, -5.5984, -5.6243, -5.7137, -5.7584, -5.8492, -5.8893, -5.6535, -5.9215, -5.9227, -5.9228, -5.9277, -5.2398, -5.086, -5.131, -5.3972, -5.3314, -3.8428, -4.7295, -5.3312, -4.9699, -3.966, -4.8658, -5.3633, -5.0181, -5.0441, -4.2536, -4.5718, -4.5296, -3.9484, -5.2596, -4.1507, -5.0074, -4.4254, -4.4568, -5.2763, -5.1549, -4.2867, -4.7891, -4.8593, -5.206, -4.9252, -5.2034, -5.1783, -2.8507, -3.0681, -3.2055, -3.8958, -3.9438, -4.0707, -4.404, -4.6976, -4.9321, -5.0005, -5.4454, -5.5443, -5.5736, -4.8887, -5.5855, -5.8602, -5.9238, -4.1138, -5.9406, -5.0638, -5.9634, -5.4467, -6.0337, -6.08, -6.1098, -5.1779, -6.1382, -6.1385, -6.1388, -4.9401, -4.4028, -3.8268, -5.429, -4.734, -4.0491, -5.546, -4.0505, -4.7005, -3.8132, -4.8472, -4.6857, -4.3993, -4.7795, -3.7628, -4.3816, -5.0403, -4.4124, -4.7411, -4.4615, -4.792, -4.867, -4.1641, -4.8221, -4.853, -4.9351, -5.0076, -5.024, -4.6597, -5.1559, -5.2484, -5.2537, -5.2539, -5.2742, -5.2937, -5.294, -5.2943, -5.3081, -5.4481, -5.4876, -5.5122, -5.5294, -5.6095, -5.1602, -5.6861, -5.6862, -5.6864, -5.707, -5.7071, -5.7159, -5.7683, -5.7686, -4.3823, -4.8782, -5.1885, -3.8885, -5.298, -5.1661, -4.7792, -4.9583, -4.6982, -4.705, -4.6574, -4.9683, -5.2191, -4.5069, -5.0065, -4.8546, -5.0836, -4.5244, -4.1512, -5.1541, -4.9516, -4.9042, -5.0385, -4.6523, -4.9174, -4.8956, -5.0501, -5.0798, -4.1156, -4.1197, -4.1933, -4.2057, -4.4087, -4.5076, -4.43, -4.7129, -4.7191, -4.9801, -5.0066, -4.5246, -5.1726, -5.2308, -5.2309, -5.292, -5.2921, -5.2925, -5.3305, -5.3305, -4.4197, -5.371, -5.3981, -4.6308, -5.4869, -5.4871, -5.4883, -5.5669, -5.5671, -5.5675, -3.7745, -4.7823, -2.9547, -5.232, -4.4915, -5.0552, -4.6904, -4.2245, -4.2651, -4.3361, -4.9613, -4.8926, -4.8799, -5.1624, -4.5769, -5.1169, -4.4825, -4.8784, -5.0561, -4.9841, -3.5341, -3.9441, -4.0285, -4.0288, -4.3837, -4.406, -4.4922, -4.4924, -4.5599, -4.5697, -4.7112, -4.7739, -4.866, -5.1218, -5.1225, -5.1226, -5.2021, -5.2023, -5.2031, -5.2031, -4.2396, -5.252, -5.2888, -5.2897, -4.4415, -5.3449, -5.5834, -5.5845, -5.5857, -5.7127, -4.2555, -5.124, -4.3549, -5.2031, -4.3752, -4.4683, -2.8504, -4.1827, -4.4258, -4.5225, -4.7941, -4.6435, -4.9912, -5.0411, -5.0845, -3.5923, -4.2662, -4.2741, -4.5224, -4.8259, -4.8649, -4.9847, -5.0624, -5.063, -5.0631, -5.0635, -5.1184, -5.0629, -5.4439, -5.444, -5.4442, -5.4443, -5.4453, -3.8764, -4.5026, -5.5732, -5.5736, -5.5745, -5.5754, -5.5761, -5.6589, -5.659, -5.4434, -4.889, -5.1593, -4.6757, -4.5927, -5.0631, -4.7705, -5.0823, -4.6193, -4.6298, -4.9468, -4.5123, -4.8758, -4.7347, -4.5963, -4.9687, -4.8107, -4.9185, -2.9207, -3.6086, -3.6522, -3.9013, -3.9893, -4.3998, -4.436, -4.5, -4.5194, -4.5197, -4.7229, -4.7849, -4.8229, -4.8231, -4.8619, -5.2018, -4.6536, -5.4414, -5.4415, -5.442, -5.4433, -4.723, -5.5713, -4.8044, -5.1471, -4.9471, -5.4437, -6.3193, -6.3193, -6.3193, -4.5155, -3.8028, -5.2668, -4.3203, -4.9225, -4.7995, -4.4079, -4.8882, -4.3162, -4.8508, -5.0082, -5.0917, -3.7696, -3.8013, -3.9071, -4.1371, -4.2391, -4.3325, -4.4374, -4.612, -4.6124, -4.6124, -4.6742, -4.8683, -4.949, -4.9494, -4.9992, -4.6126, -5.3306, -5.4595, -5.5445, -5.5446, -4.6142, -3.89, -4.2834, -5.5451, -4.8221, -6.2084, -6.2084, -6.2085, -6.2088, -6.2088, -4.0638, -5.0974, -4.7878, -4.4257, -5.4599, -5.0346, -4.1983, -4.4435, -4.4787, -4.3576, -4.2162, -3.727, -3.8011, -4.0462, -4.233, -4.3603, -4.3603, -4.3896, -4.5062, -4.5647, -4.598, -4.6003, -4.691, -4.6913, -4.9516, -4.9518, -4.9896, -5.1011, -5.2816, -5.2824, -5.2825, -5.2829, -5.2834, -5.2839, -5.4107, -5.4127, -5.4128, -5.4134, -5.4137, -5.4962, -5.4963, -4.3922, -4.8697, -4.8213, -5.0432, -4.9516, -4.9023, -5.2795, -5.2174, -5.2803, -3.7926, -3.9051, -4.0971, -4.1359, -4.1761, -4.491, -4.5475, -4.5488, -4.5493, -4.5832, -4.6108, -4.6881, -4.8053, -4.8066, -4.097, -4.936, -4.9733, -5.0284, -5.2661, -5.2662, -5.2681, -5.3966, -5.3973, -5.3974, -5.3976, -5.3965, -4.5492, -4.3913, -5.2668, -5.4811, -4.3297, -4.5827, -4.6313, -4.8128, -5.2661, -5.0376, -5.1961, -5.2656, -5.2661, -5.2661, -3.0285, -3.4433, -4.0629, -4.1649, -4.1652, -4.4146, -4.4799, -4.6386, -4.6648, -4.7482, -4.8746, -4.9619, -5.2548, -5.2566, -5.2573, -3.6031, -5.3851, -5.3851, -5.3852, -5.3852, -5.3854, -4.103, -6.1344, -6.1344, -6.1344, -6.1345, -6.1345, -6.1345, -6.1345, -6.1345, -4.9913, -4.3057, -4.0181, -5.077, -5.1705, -4.4355, -5.5036, -4.9638, -4.644, -4.5754, -4.5993, -5.0488, -5.1615, -5.3416, -4.1221, -4.202, -4.2021, -4.3956, -4.4534, -4.4536, -4.5151, -4.7093, -4.7103, -4.8773, -4.8779, -4.9318, -5.1704, -5.1705, -4.4531, -4.2014, -5.3004, -5.3006, -5.3032, -5.3854, -5.3855, -4.8775, -4.7901, -6.0494, -6.0494, -6.0494, -6.0495, -6.0495, -6.0495, -6.0496, -5.3068, -4.1553, -4.1538, -5.2998, -5.0789, -5.3852, -4.9069, -4.9287, -5.0011, -4.9173, -5.1443, -5.2419, -3.2982, -4.2043, -4.0818, -4.7916, -4.7917, -4.7922, -4.8416, -4.9916, -4.7922, -5.1723, -5.1727, -5.1731, -5.174, -4.7115, -5.3025, -5.3877, -5.3885, -4.8427, -4.8036, -6.0513, -6.0515, -6.0515, -6.0515, -6.0515, -6.0516, -6.0516, -6.0516, -6.0516, -6.0516, -6.0516, -4.0807, -4.9223, -4.7525, -4.7502, -5.244, -5.8931, -5.0099, -5.3607, -5.3873, -4.6211, -5.0052, -5.5143, -4.6669, -5.2005, -5.0775, -5.1485, -5.3165, -3.1981, -3.5072, -3.6582, -3.9713, -4.3026, -4.364, -4.4022, -4.6393, -4.6395, -4.6897, -5.0194, -5.0194, -5.0197, -5.1519, -4.7259, -5.899, -5.8994, -5.8994, -5.8994, -5.8995, -5.8995, -5.8999, -5.8999, -5.8999, -5.8999, -5.8999, -5.9005, -5.9005, -5.8999, -5.8996, -5.1498, -4.8441, -4.2398, -5.1495, -4.7561, -5.3473, -5.4069, -5.8993, -5.8994, -3.6617, -4.135, -4.3878, -4.4275, -4.5452, -4.7667, -5.0057, -5.0063, -5.0073, -4.1344, -5.1367, -5.137, -5.8847, -5.8847, -5.8847, -5.8847, -5.8847, -5.8847, -5.8847, -5.8847, -5.8847, -5.8847, -5.8847, -5.8847, -5.8847, -5.8847, -5.8847, -5.8847, -5.8849, -5.8849, -4.9796, -5.2207, -5.1862, -4.8532, -5.0554, -5.2661, -4.9902, -5.2211, -4.5584, -5.1441, -5.2504, -5.7846, -5.8524, -5.8847, -3.8025, -3.8412, -3.8813, -3.3519, -3.9487, -4.1007, -4.3541, -4.6411, -3.0466, -5.8508, -5.8508, -5.8508, -5.8508, -5.851, -5.851, -5.8513, -5.8582, -5.8589, -5.8514, -4.6815, -5.852, -5.8611, -5.851, -5.9701, -4.6707, -5.8517, -5.734, -5.2314, -5.5605, -6.1623, -5.9361, -5.9128, -3.6437, -4.3139, -4.775, -4.9046, -5.6534, -5.6534, -5.6534, -5.6534, -5.6534, -5.6534, -5.6535, -5.6535, -5.6535, -5.6571, -5.6535, -5.6717, -5.6717, -5.6778, -5.6534, -5.6534, -5.6535, -5.6535, -5.7967, -5.694, -5.6534, -8.5084, -8.5084, -8.5084, -8.5084, -8.5084, -5.7339, -3.6227, -4.3836, -4.8442, -5.5926, -5.5926, -5.5926, -5.5926, -5.5959, -5.5947, -5.5549, -8.4473, -8.4473, -8.4473, -8.4473, -8.4473, -8.4473, -8.4473, -8.4473, -8.4473, -8.4473, -8.4473, -8.4473, -8.4473, -8.4473, -8.4473, -8.4473, -8.4473, -8.4473, -8.4473, -8.4473, -8.4473, -8.4473, -8.4473, -8.4473, -8.4473, -8.4447, -8.4473, -8.4473, -8.4473, -8.4473, -8.4473], \"loglift\": [30.0, 29.0, 28.0, 27.0, 26.0, 25.0, 24.0, 23.0, 22.0, 21.0, 20.0, 19.0, 18.0, 17.0, 16.0, 15.0, 14.0, 13.0, 12.0, 11.0, 10.0, 9.0, 8.0, 7.0, 6.0, 5.0, 4.0, 3.0, 2.0, 1.0, 0.4064, 0.4063, 0.405, 0.4047, 0.4045, 0.4044, 0.4034, 0.4029, 0.4028, 0.4026, 0.4018, 0.4018, 0.4017, 0.4015, 0.4009, 0.4007, 0.4005, 0.4004, 0.4002, 0.4002, 0.4001, 0.4001, 0.3996, 0.3993, 0.3993, 0.3993, 0.3989, 0.3984, 0.3981, 0.3977, 0.3959, 0.3902, 0.3884, 0.3704, 0.3544, 0.3775, 0.3786, 0.3907, 0.3393, 0.3625, 0.3561, 0.3521, 0.3264, 0.3295, 0.3087, 0.3125, 0.3525, 0.3328, 0.3595, 0.3093, 0.2982, 0.3142, 0.2779, 0.1819, 0.2495, 0.2041, 0.33, 0.1495, 0.0673, 0.2119, -0.0006, 0.1496, 0.0071, 0.162, 0.1884, 1.8395, 1.8384, 1.838, 1.8376, 1.837, 1.8365, 1.8349, 1.8342, 1.8338, 1.8337, 1.833, 1.8309, 1.8303, 1.83, 1.8283, 1.8273, 1.826, 1.8246, 1.8246, 1.8243, 1.8234, 1.8231, 1.823, 1.8228, 1.8224, 1.8219, 1.8219, 1.8215, 1.8215, 1.821, 1.7895, 1.7539, 1.7923, 1.7966, 1.7603, 1.7504, 1.6196, 1.7921, 1.6749, 1.6542, 1.7183, 1.6005, 1.5293, 1.6275, 1.5152, 1.4193, 1.2649, 0.7237, 0.6185, 0.5779, 1.1641, 0.9524, 0.2277, 0.3686, 0.6944, 0.3446, 0.1545, 0.2211, 0.5681, 0.6869, 0.0537, -0.1468, 0.8323, -0.5146, 2.9445, 2.9288, 2.9268, 2.926, 2.9241, 2.9214, 2.9209, 2.9199, 2.9196, 2.9195, 2.9188, 2.918, 2.9174, 2.9174, 2.9153, 2.9151, 2.9121, 2.9115, 2.911, 2.9107, 2.9089, 2.9058, 2.9032, 2.8977, 2.895, 2.8937, 2.8929, 2.8928, 2.8928, 2.8924, 2.8922, 2.8865, 2.8677, 2.8764, 2.8616, 2.6947, 2.7338, 2.8237, 2.6538, 2.1049, 2.524, 2.7782, 2.575, 2.59, 2.0516, 2.1213, 2.0045, 1.3282, 2.6725, 1.1491, 2.3275, 1.1173, 0.4546, 2.5693, 2.2196, -0.6997, 0.9608, 0.7649, 2.1475, -1.0188, 2.0942, 1.0599, 3.1724, 3.1713, 3.1705, 3.1647, 3.1638, 3.1572, 3.1568, 3.1501, 3.1432, 3.1409, 3.1214, 3.1158, 3.1141, 3.1138, 3.1133, 3.0941, 3.0889, 3.0886, 3.0875, 3.0872, 3.0855, 3.0807, 3.0792, 3.0748, 3.0719, 3.0693, 3.069, 3.069, 3.069, 3.0684, 3.0254, 2.9, 2.9563, 2.7127, 2.485, 2.9206, 2.3837, 2.6186, 2.2576, 2.6107, 2.5209, 2.3028, 2.5181, 1.1486, 1.3004, 2.3343, 1.1303, 1.4496, -0.1607, 1.2424, 1.5125, 3.6478, 3.6244, 3.6229, 3.6187, 3.6147, 3.6138, 3.6122, 3.6056, 3.5993, 3.5989, 3.5989, 3.5974, 3.596, 3.596, 3.596, 3.5949, 3.5836, 3.5802, 3.578, 3.5764, 3.5687, 3.562, 3.5608, 3.5608, 3.5608, 3.5586, 3.5586, 3.5576, 3.5517, 3.5517, 3.5474, 3.5362, 3.4902, 3.2829, 3.494, 3.4508, 3.3336, 3.3556, 3.1695, 3.1191, 3.0782, 3.2427, 3.3828, 2.4391, 3.0992, 2.8877, 3.174, 2.0131, 1.1253, 3.2925, 2.6543, 2.2652, 2.5328, 0.1841, 1.1207, 0.1338, 1.8338, 0.2133, 4.3957, 4.3955, 4.3915, 4.3908, 4.3782, 4.3712, 4.3602, 4.3543, 4.3538, 4.3272, 4.3241, 4.3217, 4.3032, 4.2951, 4.2951, 4.2861, 4.2861, 4.286, 4.2803, 4.2802, 4.2744, 4.2739, 4.2695, 4.2693, 4.2543, 4.2543, 4.2531, 4.2398, 4.2397, 4.2396, 4.2102, 4.2172, 4.1524, 4.206, 4.0295, 4.0765, 3.9199, 3.5872, 3.4771, 3.4946, 3.9602, 3.8872, 3.8544, 4.0847, 2.4929, 3.9108, 1.2229, 2.511, 3.5081, 2.4005, 4.9033, 4.8791, 4.8728, 4.8728, 4.8405, 4.8381, 4.8284, 4.8284, 4.8202, 4.819, 4.8002, 4.791, 4.7767, 4.7307, 4.7306, 4.7306, 4.7142, 4.7142, 4.714, 4.714, 4.7063, 4.7034, 4.6952, 4.695, 4.683, 4.6821, 4.6202, 4.6199, 4.6196, 4.5819, 4.5735, 4.5577, 4.4488, 4.5651, 4.4313, 4.4439, 3.7767, 4.2267, 4.1385, 3.5903, 3.7269, 2.4636, 3.7825, 3.6179, 2.5496, 5.1426, 5.0814, 5.0804, 5.0467, 4.9945, 4.9868, 4.9616, 4.944, 4.9438, 4.9438, 4.9437, 4.9237, 4.8897, 4.8408, 4.8408, 4.8408, 4.8407, 4.8404, 4.8108, 4.8011, 4.7991, 4.7989, 4.7986, 4.7983, 4.7981, 4.7693, 4.7693, 4.6326, 4.6145, 4.6033, 4.5839, 4.4861, 4.5803, 4.4655, 4.5439, 4.2425, 4.1618, 4.2251, 3.7822, 3.9885, 3.2765, 2.9015, 3.6509, 2.2411, 2.2607, 5.1841, 5.1501, 5.1471, 5.1275, 5.1194, 5.0722, 5.0671, 5.0578, 5.0549, 5.0549, 5.0212, 5.0098, 5.0024, 5.0024, 4.9947, 4.9163, 4.8782, 4.8479, 4.8479, 4.8477, 4.8473, 4.8087, 4.8057, 4.6827, 4.565, 4.5555, 4.4909, 4.4857, 4.4857, 4.4857, 4.4353, 4.264, 4.3761, 3.7415, 4.1139, 3.7477, 2.8446, 3.7713, 2.0431, 3.2855, 3.3175, 3.0592, 5.311, 5.308, 5.2974, 5.2705, 5.2567, 5.243, 5.2263, 5.195, 5.1949, 5.1949, 5.1827, 5.1403, 5.1207, 5.1206, 5.1079, 5.064, 5.0107, 4.9665, 4.9353, 4.9352, 4.912, 4.8406, 4.7209, 4.719, 4.6523, 4.6312, 4.6312, 4.6311, 4.631, 4.631, 4.4733, 4.4498, 4.3601, 4.1846, 4.2522, 3.993, 3.3577, 3.4242, 2.6927, 2.1799, 0.7196, 5.3851, 5.3778, 5.3496, 5.3237, 5.3035, 5.3035, 5.2986, 5.2776, 5.2664, 5.2597, 5.2592, 5.2401, 5.2064, 5.1772, 5.1771, 5.1669, 5.1352, 5.0783, 5.078, 5.078, 5.0779, 5.0777, 5.0775, 5.0331, 5.0324, 5.0324, 5.0322, 5.0321, 5.0011, 5.0011, 4.9581, 4.8977, 4.8393, 4.8666, 4.7751, 3.8344, 3.9397, 1.3843, 3.1693, 5.4281, 5.4154, 5.3906, 5.3851, 5.3791, 5.3251, 5.3138, 5.3135, 5.3135, 5.3064, 5.3006, 5.2835, 5.2556, 5.2553, 5.2437, 5.2214, 5.2111, 5.1952, 5.1196, 5.1195, 5.1189, 5.0727, 5.0724, 5.0724, 5.0723, 4.9881, 4.986, 4.7565, 4.7517, 4.7455, 4.2351, 3.743, 3.0775, 2.4397, 4.4605, 3.2408, 1.7926, 4.3778, 4.3945, 4.2032, 5.5243, 5.4964, 5.429, 5.4139, 5.4139, 5.3712, 5.3585, 5.3248, 5.3188, 5.2989, 5.2664, 5.242, 5.1487, 5.148, 5.1478, 5.1356, 5.101, 5.101, 5.1009, 5.1009, 5.1009, 4.8306, 4.7466, 4.7466, 4.7466, 4.7465, 4.7465, 4.7465, 4.7465, 4.7465, 4.6666, 4.5009, 4.1681, 4.2915, 4.3167, 3.5543, 4.2637, 3.6531, 3.0588, 2.878, 2.7197, 2.9624, 3.6423, 3.2911, 5.5778, 5.5634, 5.5634, 5.5244, 5.5115, 5.5115, 5.4972, 5.4473, 5.4471, 5.3982, 5.398, 5.3809, 5.2977, 5.2977, 5.2854, 5.2679, 5.2468, 5.2468, 5.2457, 5.2114, 5.2113, 5.1609, 4.988, 4.8727, 4.8727, 4.8727, 4.8726, 4.8726, 4.8726, 4.8725, 4.7999, 4.2913, 4.1719, 4.4396, 4.0555, 4.1465, 3.5899, 3.2702, 3.3854, 2.9134, 3.6847, 1.6053, 5.7007, 5.5805, 5.4643, 5.4391, 5.439, 5.4389, 5.4239, 5.3754, 5.3716, 5.3102, 5.31, 5.3099, 5.3095, 5.2666, 5.2584, 5.2223, 5.222, 5.2109, 4.9035, 4.8797, 4.8796, 4.8796, 4.8796, 4.8796, 4.8796, 4.8796, 4.8796, 4.8796, 4.8796, 4.8796, 4.8697, 4.5021, 4.2979, 4.0679, 4.1938, 4.723, 3.8217, 3.9823, 3.943, 2.807, 3.3432, 3.9815, 2.1472, 3.0468, 2.3236, 2.7192, 3.0192, 6.0187, 5.9971, 5.9738, 5.9152, 5.8352, 5.8181, 5.807, 5.7316, 5.7315, 5.714, 5.584, 5.584, 5.5838, 5.5243, 5.2589, 5.1065, 5.1062, 5.1062, 5.1062, 5.1061, 5.1061, 5.1059, 5.1059, 5.1059, 5.1059, 5.1059, 5.1054, 5.1054, 4.5016, 4.5009, 4.1908, 3.8501, 3.4203, 3.7506, 2.8607, 3.9624, 3.0397, 4.4168, 3.6324, 6.0, 5.9024, 5.8339, 5.8219, 5.7846, 5.7058, 5.6079, 5.6076, 5.6072, 5.6051, 5.5483, 5.5482, 5.1266, 5.1266, 5.1266, 5.1266, 5.1266, 5.1266, 5.1266, 5.1266, 5.1266, 5.1266, 5.1266, 5.1266, 5.1266, 5.1266, 5.1266, 5.1266, 5.1265, 5.1265, 4.4028, 4.2512, 4.1339, 3.5535, 3.7511, 4.0436, 3.3827, 3.7572, 1.8941, 2.7856, 2.1507, 1.6733, 2.2094, 4.6384, 6.0742, 6.0659, 6.0571, 6.0456, 6.0416, 6.0036, 5.9301, 5.8301, 5.2792, 5.1894, 5.1894, 5.1894, 5.1894, 5.1893, 5.1893, 5.1891, 5.1844, 5.1839, 4.2286, 4.2106, 4.1871, 4.099, 3.6808, 3.5729, 3.5222, 3.5168, 3.2687, 3.2115, 2.8217, 2.8101, 2.4646, 2.0957, 6.7436, 6.4513, 6.1858, 6.1021, 5.5502, 5.5502, 5.5502, 5.5502, 5.5502, 5.5502, 5.5502, 5.5502, 5.5502, 5.5473, 4.8509, 4.7471, 4.7471, 4.7378, 4.7312, 4.5104, 4.3923, 4.2992, 3.8161, 3.7627, 3.1367, 2.8987, 2.8987, 2.8987, 2.8987, 2.8987, 2.3381, 7.0267, 6.6017, 6.2795, 5.6746, 5.6746, 5.6746, 5.6746, 5.6718, 4.303, 3.662, 2.9598, 2.9598, 2.9598, 2.9598, 2.9598, 2.9598, 2.9598, 2.9598, 2.9598, 2.9598, 2.9598, 2.9598, 2.9598, 2.9598, 2.9598, 2.9598, 2.9598, 2.9598, 2.9598, 2.9598, 2.9598, 2.9598, 2.9598, 2.9598, 2.9598, 0.119, 2.9598, 2.9598, 2.9598, 2.9598, 2.9598]}, \"token.table\": {\"Topic\": [6, 2, 6, 4, 17, 9, 14, 9, 1, 10, 11, 1, 3, 4, 2, 14, 2, 17, 5, 15, 7, 11, 1, 9, 7, 12, 14, 2, 15, 14, 1, 2, 3, 4, 5, 3, 1, 2, 4, 15, 4, 5, 7, 2, 4, 5, 5, 5, 7, 13, 3, 4, 5, 9, 5, 7, 9, 8, 15, 2, 15, 9, 6, 4, 6, 1, 2, 7, 4, 9, 15, 10, 5, 6, 7, 6, 6, 17, 7, 1, 1, 2, 3, 4, 5, 1, 2, 8, 2, 12, 1, 2, 3, 1, 2, 3, 4, 5, 3, 8, 10, 3, 10, 1, 2, 3, 1, 5, 4, 9, 1, 2, 3, 5, 1, 2, 3, 5, 4, 3, 14, 1, 4, 8, 7, 16, 4, 11, 13, 3, 10, 15, 16, 1, 16, 17, 13, 8, 13, 8, 8, 2, 17, 9, 2, 5, 9, 8, 7, 4, 8, 9, 1, 2, 8, 1, 3, 4, 5, 7, 8, 1, 3, 10, 2, 5, 8, 5, 4, 3, 7, 6, 4, 5, 6, 6, 8, 10, 7, 7, 9, 10, 12, 14, 18, 5, 14, 3, 11, 3, 7, 9, 12, 1, 2, 5, 3, 3, 11, 14, 11, 9, 14, 8, 12, 15, 1, 2, 3, 4, 15, 1, 4, 15, 11, 14, 5, 3, 5, 8, 9, 2, 13, 13, 1, 2, 3, 5, 1, 8, 9, 6, 11, 1, 1, 2, 3, 13, 16, 1, 2, 6, 10, 10, 6, 14, 17, 4, 5, 6, 3, 5, 10, 11, 1, 2, 13, 13, 1, 2, 3, 5, 10, 7, 3, 4, 1, 3, 10, 3, 3, 13, 13, 1, 4, 1, 4, 5, 12, 1, 8, 4, 2, 1, 4, 5, 1, 2, 12, 6, 9, 5, 14, 16, 1, 2, 1, 2, 3, 5, 6, 15, 3, 4, 6, 7, 4, 12, 14, 11, 3, 9, 12, 4, 5, 9, 5, 5, 10, 8, 2, 3, 4, 6, 3, 5, 13, 1, 4, 10, 15, 3, 8, 8, 2, 1, 13, 1, 9, 8, 9, 9, 5, 3, 5, 5, 4, 11, 9, 2, 8, 3, 8, 16, 5, 1, 4, 6, 11, 13, 3, 12, 2, 11, 3, 13, 4, 12, 1, 2, 3, 13, 14, 2, 9, 2, 3, 4, 3, 6, 12, 6, 7, 10, 6, 7, 1, 2, 3, 5, 2, 6, 6, 15, 12, 7, 11, 1, 2, 4, 5, 11, 1, 2, 3, 4, 6, 1, 12, 1, 5, 1, 10, 10, 5, 7, 7, 8, 6, 3, 6, 11, 8, 10, 4, 15, 7, 16, 6, 17, 5, 12, 17, 18, 7, 11, 4, 4, 13, 1, 2, 4, 17, 1, 2, 3, 13, 14, 9, 1, 2, 1, 18, 2, 4, 18, 9, 14, 5, 2, 2, 4, 1, 2, 3, 1, 2, 14, 3, 2, 4, 15, 17, 16, 1, 1, 6, 5, 9, 11, 1, 2, 3, 5, 11, 5, 1, 5, 1, 8, 2, 6, 16, 2, 4, 12, 1, 2, 3, 9, 4, 15, 1, 2, 1, 7, 1, 2, 5, 17, 5, 2, 4, 6, 5, 10, 1, 2, 13, 4, 14, 6, 1, 2, 16, 2, 8, 1, 1, 13, 8, 1, 8, 7, 2, 3, 7, 1, 4, 12, 8, 1, 2, 3, 5, 7, 1, 2, 3, 5, 6, 14, 7, 10, 4, 6, 2, 5, 9, 10, 5, 6, 18, 2, 3, 5, 8, 1, 2, 3, 17, 4, 1, 5, 1, 11, 12, 10, 5, 17, 1, 2, 16, 4, 12, 10, 5, 12, 1, 3, 4, 1, 3, 4, 3, 12, 14, 3, 8, 1, 2, 5, 10, 9, 12, 6, 10, 4, 4, 4, 6, 12, 1, 1, 1, 2, 4, 9, 1, 15, 1, 3, 13, 17, 6, 7, 10, 3, 1, 2, 3, 9, 13, 4, 5, 3, 5, 11, 7, 10, 14, 6, 8, 11, 12, 2, 8, 9, 5, 11, 14, 20, 7, 1, 5, 7, 5, 11, 2, 2, 5, 3, 1, 2, 5, 1, 2, 3, 4, 5, 12, 4, 15, 3, 18, 6, 7, 7, 6, 1, 1, 2, 3, 4, 3, 2, 3, 11, 15, 19, 12, 16, 17, 4, 6, 2, 6, 2, 1, 2, 1, 1, 2, 16, 7, 15, 6, 3, 5, 7, 2, 5, 4, 6, 9, 2, 8, 4, 13, 7, 2, 5, 5, 16, 17, 5, 2, 3, 5, 7, 19, 4, 6, 12, 3, 2, 3, 5, 9, 6, 18, 4, 5, 11, 5, 10, 3, 5, 10, 1, 2, 3, 5, 1, 2, 3, 14, 5, 9, 3, 12, 8, 10, 16, 2, 11, 3, 8, 7, 13, 1, 15, 2, 18, 1, 2, 3, 5, 17, 15, 11, 12, 4, 5, 12, 6, 11, 1, 2, 7, 11, 7, 9, 2, 8, 2, 6, 13, 4, 14, 1, 3, 4, 8, 10, 11, 1, 15, 3, 16, 1, 2, 1, 2, 1, 2, 3, 4, 10, 7, 7, 3, 8, 13, 4, 12, 1, 1, 17, 2, 8, 12, 14, 1, 5, 11, 13, 1, 9, 1, 2, 3, 1, 2, 2, 3, 4, 8, 4, 8, 9, 3, 12, 15, 1, 2, 3, 16, 13, 1, 11, 12, 7, 1, 2, 3, 4, 14, 2, 3, 9, 12, 15, 1, 2, 12, 12, 16, 1, 17, 4, 7, 7, 1, 2, 3, 9, 8, 1, 2, 1, 2, 3, 4, 5, 5, 11, 3, 5, 15, 5, 2, 9, 2, 6, 5, 2, 3, 5, 11, 18, 1, 5, 15, 1, 1, 2, 4, 3, 4, 15, 5, 2, 6, 16, 11, 8, 6, 18, 10, 4, 13, 3, 1, 1, 3, 9, 14, 8, 12, 12, 10, 13, 18, 1, 3, 4, 6, 2, 3, 5, 2, 14, 11, 16, 4, 15, 5, 5, 13, 5, 9, 13, 1, 3, 3, 6, 7, 6, 1, 2, 3, 5, 6, 2, 1, 3, 4, 2, 3, 4, 1, 2, 3, 4, 5, 10, 15, 1, 2, 3, 5, 2, 3, 5, 8, 13, 14, 11, 1, 1, 16, 1, 4, 5, 7, 12, 2, 3, 7, 9, 12, 10, 8, 5, 17, 1, 3, 5, 1, 1, 3, 5, 8, 15, 3, 4, 10, 14, 4, 9, 5, 1, 2, 14, 1, 2, 11, 14, 5, 8, 2, 15, 8, 10, 2, 8, 1, 2, 1, 3, 7, 2, 14, 7, 11, 1, 4, 1, 2, 10, 2, 7, 9, 2, 10, 13, 5, 13, 14, 9, 5, 5, 8, 1, 2, 4, 3, 7, 3, 6, 11, 14, 6, 2, 18, 12, 7, 17, 6, 9, 8, 1, 2, 6, 10, 8, 14, 11, 3, 4, 11, 1, 2, 3, 5, 4, 6, 9, 1, 2, 3, 4, 11, 9, 13, 2, 3, 5, 1, 6, 12, 3, 8, 13, 5, 8, 17, 1, 2, 11, 13, 1, 2, 4, 4, 1, 4, 1, 2, 4, 15, 15, 9, 6, 3, 5, 4, 9, 1, 2, 11, 5, 7, 1, 4, 7, 3, 15, 1, 3, 14, 16, 5, 8, 17, 6, 11, 1, 3, 4, 2, 2, 3, 5, 7], \"Freq\": [0.9344060226105058, 0.17376870088364993, 0.6950748035345997, 0.8391812744633061, 0.20979531861582654, 0.9406394061574433, 0.715722119172227, 0.9767808337285733, 0.5753214768156184, 0.38354765121041223, 0.9094022141620799, 0.1709548662780224, 0.42331681173605545, 0.39889468798205224, 0.9583526423695007, 0.48463081956220977, 0.8949767504775772, 0.08136152277068884, 0.6985599293152257, 0.2328533097717419, 0.6023550758888153, 0.30117753794440766, 0.8471385526000836, 0.13032900809232056, 0.6419145147212905, 0.12838290294425808, 0.12838290294425808, 0.9581504847129704, 0.762435219231026, 0.8383537103741038, 0.8303122765434215, 0.07106276240686941, 0.01496058155934093, 0.05236203545769325, 0.02992116311868186, 0.9664605773709203, 0.775885816904989, 0.033252249295928106, 0.18842941267692592, 0.5217169125577932, 0.4332406598947244, 0.2166203299473622, 0.2166203299473622, 0.2463701986550929, 0.6569871964135812, 0.08212339955169765, 0.9780752291989402, 0.12517934590058066, 0.6258967295029033, 0.12517934590058066, 0.38812796601074134, 0.5045663558139638, 0.09056319206917299, 0.012937598867024712, 0.7161125488395682, 0.10230179269136688, 0.10230179269136688, 0.2630109996207549, 0.7890329988622649, 0.6407905781324046, 0.16019764453310115, 0.553217761516545, 0.6826836543469327, 0.28166010208424697, 0.5633202041684939, 0.041267393192235054, 0.9491500434214062, 0.7622480992007226, 0.43504639193953476, 0.43504639193953476, 0.671529474505678, 0.8352940426189722, 0.1522502039745027, 0.7612510198725134, 0.7622561819511278, 0.9380704084040451, 0.8708903940913484, 0.7650898186221085, 0.8039582341904161, 0.9925623959819284, 0.6576956113793379, 0.052807676826078224, 0.15842303047823467, 0.12961884311855565, 0.975037979194092, 0.7720581193950107, 0.2271763935387974, 0.9348351073816804, 0.9642983421058438, 0.8810214248921148, 0.49509299500051973, 0.5011307144517456, 0.9455257374826813, 0.2729978797775225, 0.04549964662958708, 0.4246633685428127, 0.16683203764181928, 0.09099929325917416, 0.5427040240699725, 0.361802682713315, 0.582511062530895, 0.5265573895338839, 0.26327869476694193, 0.1241260401449727, 0.7757877509060793, 0.09309453010872952, 0.9956461965822309, 0.9101734828107023, 0.3878523246104477, 0.3878523246104477, 0.9238939766649231, 0.009475835658101776, 0.03553438371788166, 0.03079646588883077, 0.7604077057526692, 0.08854062327257108, 0.10937371110141132, 0.036457903700470445, 0.987222934933091, 0.9592523098169233, 0.06395015398779488, 0.8443042541278172, 0.1545131968338489, 0.8338122407917719, 0.7150052154885037, 0.6200272942454499, 0.9017072772107408, 0.568050424010445, 0.9739765828833389, 0.6349785349723707, 0.12699570699447413, 0.12699570699447413, 0.4967646095859955, 0.6228867246473896, 0.20762890821579655, 0.20762890821579655, 0.507734526048093, 0.5506344283198611, 0.8154391280581244, 0.6009828397550927, 0.6019964555409582, 0.925722331035591, 0.08415657554869009, 0.7558096529441338, 0.35945807719160694, 0.17972903859580347, 0.35945807719160694, 0.5505009574660988, 0.9663194958489002, 0.1928671597709223, 0.3857343195418446, 0.1928671597709223, 0.02532473059768131, 0.9707813395777836, 0.6354451842371797, 0.780045585918694, 0.03670802757264442, 0.174363130970061, 0.009177006893161106, 0.5075781104957802, 0.8637142576466585, 0.9937071679043965, 0.9289849040638739, 0.6827741473334412, 0.13300209678235067, 0.5320083871294027, 0.26600419356470134, 0.9561980845491641, 0.949594745803829, 0.951968530050681, 0.7920114531676936, 0.9847785159546721, 0.12991584983556, 0.47635811606372, 0.38974754950668, 0.6263981298087988, 0.1565995324521997, 0.3131990649043994, 0.6986844685304143, 0.07761444059195158, 0.15522888118390316, 0.07761444059195158, 0.15522888118390316, 0.23284332177585476, 0.3880722029597579, 0.6969359463765759, 0.17423398659414396, 0.8907406658777203, 0.9684590501449039, 0.7402266694516156, 0.07402266694516156, 0.07402266694516156, 0.07402266694516156, 0.999149913366592, 0.7828853494003302, 0.18066584986161466, 0.9203361847448976, 0.7368087094286824, 0.0921010886785853, 0.0921010886785853, 0.7196082144369316, 0.7777087880485382, 0.25923626268284605, 0.5193936695795033, 0.5193936695795033, 0.6708197363522711, 0.8558993876023504, 0.01711798775204701, 0.01711798775204701, 0.08558993876023505, 0.03423597550409402, 0.06326686768595764, 0.8541027137604281, 0.06326686768595764, 0.6671532750670963, 0.7520578745795538, 0.7946485310040504, 0.5364790226285712, 0.059608780292063464, 0.059608780292063464, 0.23843512116825386, 0.832033888770086, 0.11093785183601147, 0.9534978602378696, 0.06179068995122608, 0.803278969365939, 0.10298448325204346, 0.020596896650408692, 0.7289330152153684, 0.20826657577581953, 0.9956754853749928, 0.8284991867708963, 0.6465195708438299, 0.9981882712919719, 0.7975886101795804, 0.1968570614296735, 0.005080182230443187, 0.8603990557324074, 0.9504751229755727, 0.2873847927476355, 0.5526630629762221, 0.13263913511429332, 0.5992823694194027, 0.6829640023682385, 0.7732305909020651, 0.31910322891866416, 0.6382064578373283, 0.2767976584540713, 0.6227947315216604, 0.06919941461351782, 0.76591578495994, 0.19472435210845931, 0.03894487042169186, 0.7476061142474749, 0.8792570473563153, 0.056726261119762277, 0.056726261119762277, 0.6684912816427074, 0.9053355703976691, 0.06279784303336433, 0.015699460758341083, 0.005233153586113694, 0.010466307172227388, 0.8508228678884768, 0.850556143201189, 0.1308547912617214, 0.9962845577131109, 0.9268241046039778, 0.05451906497670458, 0.9686209991734561, 0.4276291576662689, 0.4276291576662689, 0.8680927666605437, 0.35445977601862433, 0.6444723200338625, 0.20392443341909594, 0.7529517541628158, 0.031372989756783994, 0.7416153010873704, 0.9943563363399986, 0.5509896533656087, 0.9751822309474023, 0.9561363582251726, 0.6593013781700845, 0.07325570868556494, 0.2441856956185498, 0.2554708528340353, 0.7238340830297667, 0.7579301780115619, 0.8480873707329802, 0.5536966966867833, 0.7006881405396689, 0.2627580527023758, 0.08758601756745861, 0.815993502747536, 0.18391100827789106, 0.822801082766808, 0.16609338627280285, 0.010221131462941714, 0.35033837730191325, 0.5838972955031888, 0.43688535671826795, 0.06883465761358064, 0.09177954348477418, 0.7342363478781935, 0.09177954348477418, 0.8527009984712245, 0.5178532931929344, 0.5454128225765843, 0.852029508721545, 0.9306672800565544, 0.4218057059979182, 0.4218057059979182, 0.34415119781767994, 0.5592456964537299, 0.08603779945441999, 0.7946797061667357, 0.48960571311318446, 0.48960571311318446, 0.601360464421468, 0.7570708863260157, 0.09084850635912188, 0.030282835453040627, 0.12113134181216251, 0.7385734691708362, 0.10551049559583374, 0.10551049559583374, 0.43088525719069104, 0.5069238319890483, 0.025346191599452415, 0.40509423644166515, 0.9550708397705425, 0.7848720320695255, 0.6354283388715337, 0.9746350057395297, 0.588182603254417, 0.2940913016272085, 0.6294747372448695, 0.9261366738565504, 0.6191346408636209, 0.20637821362120698, 0.9261366738565504, 0.9203780334367445, 0.730854784527504, 0.23079624774552757, 0.975239088620925, 0.9042402120837424, 0.0565150132552339, 0.872438447790651, 0.28494443298664307, 0.5698888659732861, 0.8866152101961311, 0.8686331849780443, 0.6000216531769819, 0.9921597680214659, 0.9434125042333319, 0.011298353344111759, 0.03954423670439116, 0.6562469862372852, 0.3281234931186426, 0.9370631390530483, 0.6089560478050802, 0.9847230998225772, 0.3783606277081186, 0.9460408924246779, 0.673222283151198, 0.962404538614403, 0.7693997788236796, 0.8954835416315927, 0.092796221930735, 0.0092796221930735, 0.7045566940283812, 0.6612933786040547, 0.9977678371938877, 0.9261366738565504, 0.055521103028073365, 0.41640827271055025, 0.527450478766697, 0.9674136168913899, 0.8150094471205808, 0.9497743429671132, 0.6189772306147908, 0.1031628717691318, 0.3094886153073954, 0.9051622163553698, 0.7150712309053713, 0.6343718852254849, 0.3594774016277748, 0.007048576502505388, 0.9749550161453787, 0.3666875141887038, 0.6111458569811731, 0.6358189617278721, 0.2119396539092907, 0.6089768943446093, 0.9661055729706504, 0.9052084974049796, 0.6641424140576125, 0.29116890804195955, 0.03604948385281404, 0.008319111658341701, 0.7973895355479329, 0.4939456341573438, 0.010290534044944663, 0.40133082775284185, 0.07203373831461264, 0.010290534044944663, 0.9870704546827199, 0.6620207178828202, 0.9928048359916289, 0.0048547913740421954, 0.8627201030324642, 0.14378668383874402, 0.8125699507663509, 0.17252715831415127, 0.6901086332566051, 0.8149518362192844, 0.6008490145761806, 0.9805215750429729, 0.9511135465738878, 0.9591492784736827, 0.6462916014359643, 0.6920144059556216, 0.8496018835459718, 0.8917465165272843, 0.5215236289288816, 0.8987889295756885, 0.5104458865996447, 0.9775915676556931, 0.8596875826417629, 0.8481453618827797, 0.08481453618827796, 0.575824101160413, 0.6632604259975391, 0.7214961087064288, 0.14429922174128576, 0.9941395937407488, 0.8891744362418889, 0.6205798994294323, 0.962658780470078, 0.026473116462927146, 0.00962658780470078, 0.516815755989562, 0.9095307874587564, 0.08555913338057831, 0.005579943481342064, 0.7473658157274016, 0.5456337732571407, 0.6955138101921413, 0.7197789943589996, 0.2761416267666602, 0.9994406471786029, 0.7546547975515175, 0.9299510952243797, 0.03874796230101582, 0.8201516953283168, 0.9617255742565484, 0.7996236902544964, 0.9633755450966379, 0.7865392327066417, 0.9583584016495402, 0.985545682466136, 0.9851599249393543, 0.8980703760662144, 0.07697746080567552, 0.9377446116419289, 0.03538658911856336, 0.01769329455928168, 0.9311825505948027, 0.6773108559014582, 0.24629485669143936, 0.03078685708642992, 0.03078685708642992, 0.7570369148058197, 0.9914161008350537, 0.852016077378436, 0.15214572810329213, 0.678026879800118, 0.1937219656571766, 0.5939259055621776, 0.6106764272706391, 0.11404198340596272, 0.19497500388761368, 0.0772542468233941, 0.5934511551381177, 0.8466411539859986, 0.6045795814102423, 0.37786223838140137, 0.5306729475977483, 0.3980047106983112, 0.9524070993908784, 0.7853127605826263, 0.11218753722608948, 0.9861052529042269, 0.5297627820260131, 0.5297627820260131, 0.7821347256833501, 0.07604087610810348, 0.09776684071041876, 0.043451929204630556, 0.9372788682893088, 0.4877507001148755, 0.10762755707232075, 0.8879273458466461, 0.5063227440371342, 0.5063227440371342, 0.6505972353172126, 0.31408142394624056, 0.0336515811370972, 0.8857154042516086, 0.9549736615106655, 0.27854466254645094, 0.27854466254645094, 0.41781699381967635, 0.6857101728456778, 0.6829748645920563, 0.9907198502887591, 0.7425679882665664, 0.27002472300602415, 0.4606550815890277, 0.4606550815890277, 0.6825259063424547, 0.2841167469017285, 0.7102918672543213, 0.757158312557963, 0.9672209859947691, 0.44673840366482576, 0.9917390537151638, 0.9158722183570598, 0.0832611107597327, 0.7898582651175428, 0.7522794652930904, 0.22568383958792712, 0.5084142384607121, 0.19432930556816227, 0.6995855000453842, 0.07773172222726492, 0.41881941389869204, 0.46070135528856127, 0.08376388277973841, 0.8334616491699878, 0.8537106590990592, 0.13650703432294603, 0.002166778322586445, 0.0065003349677593344, 0.8396301463053185, 0.6693375357557655, 0.3244238055959068, 0.0017074937136626672, 0.0034149874273253344, 0.3188014674734704, 0.6376029349469408, 0.9530299979108037, 0.9344754448800002, 0.8237640173529732, 0.16475280347059465, 0.9587143701532495, 0.8393293689698843, 0.6209697740286519, 0.31048488701432597, 0.546949188060903, 0.2734745940304515, 0.13673729701522574, 0.4034201715025138, 0.5186830776460892, 0.028815726535893843, 0.028815726535893843, 0.7831788550193821, 0.05271396139553534, 0.16190716714342995, 0.7655173040502812, 0.9375128209817095, 0.6109146739563525, 0.30545733697817623, 0.9975769420898567, 0.6454317301186853, 0.7442386096626021, 0.5392258075612173, 0.8943625707805883, 0.14906042846343137, 0.2792360930416172, 0.6382539269522679, 0.07978174086903349, 0.987709022409298, 0.8049716579272198, 0.7177070457703418, 0.9552396083702336, 0.6097367677520987, 0.26070708632608197, 0.16294192895380125, 0.5540025584429242, 0.8563119025715882, 0.13582878454583813, 0.005905599328079918, 0.9934492393387041, 0.24355583295758182, 0.48711166591516364, 0.2228142519092837, 0.6684427557278511, 0.5848399912316469, 0.40747048569418015, 0.009587540839863063, 0.6339748717377873, 0.5530092333775588, 0.8395103113901007, 0.529813106666595, 0.35320873777773, 0.9759437564342136, 0.9924923468005457, 0.9124025852272308, 0.06517161323051648, 0.7216675150344326, 0.9967505088178434, 0.9821860179634213, 0.7719631057770853, 0.2212192780734334, 0.004608734959863196, 0.8117756238192814, 0.7503069610978259, 0.250102320365942, 0.6813087327642482, 0.22710291092141607, 0.06488654597754745, 0.8215190798618797, 0.39409111924670726, 0.39409111924670726, 0.09852277981167681, 0.9220529805920151, 0.3376103708274497, 0.6527133835997362, 0.9323362869924782, 0.49589151317134067, 0.24794575658567033, 0.8042667332614556, 0.1787259407247679, 0.6723395721459631, 0.28814553091969847, 0.7730200223407406, 0.3059877912910365, 0.4589816869365548, 0.15299389564551824, 0.18965742632454852, 0.37931485264909703, 0.18965742632454852, 0.18965742632454852, 0.25179013524883004, 0.25179013524883004, 0.5035802704976601, 0.923088497852409, 0.6808893837681701, 0.7997101613853912, 0.7926491405951455, 0.8397572696147629, 0.6246889177451271, 0.056789901613193375, 0.31234445887256357, 0.9397172292365721, 0.8875223281352441, 0.9849271181951912, 0.37599570881706557, 0.5639935632255983, 0.9411666192312982, 0.4395691749451545, 0.5567876215971957, 0.6186665099242636, 0.947396341200289, 0.02241152635097458, 0.025807212161728304, 0.0033956858107537244, 0.0006791371621507449, 0.688991200189482, 0.932837333664798, 0.07175671797421523, 0.8835663228352097, 0.06796664021809305, 0.6604918056984095, 0.2830679167278898, 0.8155367906741355, 0.944569331900889, 0.9984805647627835, 0.3160984927399975, 0.22243968007629455, 0.01170735158296287, 0.456586711735552, 0.9427123454940969, 0.9851874149714915, 0.9219928011359324, 0.5943213643236942, 0.7621204346446829, 0.8899997694187135, 0.6424345501685815, 0.21414485005619385, 0.7647926346350943, 0.16556131210973338, 0.7726194565120891, 0.9806185030372283, 0.8416968683472718, 0.9847979755015909, 0.9275536416703313, 0.06859721465729138, 0.9975831388581902, 0.15555537428241628, 0.8469125933153775, 0.8597573967547202, 0.8934575395237314, 0.9129791323235759, 0.8146433910780646, 0.9393574665065877, 0.9750286813043132, 0.7617464082504877, 0.362496832957132, 0.5799949327314112, 0.9370299677118368, 0.7731811195886799, 0.7982786633070162, 0.9955199448728033, 0.834153762374433, 0.3518982893064815, 0.5864971488441358, 0.44855687056325977, 0.23009308604882708, 0.6902792581464813, 0.800955507422571, 0.756698129680944, 0.6641950927777986, 0.9601254652323037, 0.5474999719811371, 0.07299999626415161, 0.32849998318868223, 0.03649999813207581, 0.6099281226903384, 0.19502639571815752, 0.7801055828726301, 0.7209026337163589, 0.9513293621123114, 0.977588722232071, 0.8954133548783535, 0.055963334679897093, 0.6743803138215969, 0.9830506787871592, 0.7320482635011246, 0.9134402490690612, 0.21622544492261317, 0.6486763347678395, 0.6180239591395665, 0.8879130403547746, 0.2446891739285959, 0.6851296870000685, 0.07340675217857877, 0.7105367750173579, 0.28002738462930865, 0.002617078361021576, 0.00654269590255394, 0.9209499542363588, 0.06934211420132584, 0.00866776427516573, 0.4842703105819281, 0.9434651204008977, 0.9319668048884245, 0.690050632039232, 0.29573598515967087, 0.6017026724926304, 0.9159080754333805, 0.9460518966255242, 0.9966124629717337, 0.6809020882459937, 0.3265607870115062, 0.6531215740230124, 0.6276909836855635, 0.37661459021133814, 0.6274258927836379, 0.5976726762949471, 0.9857971629429675, 0.5501783140462452, 0.93375294795481, 0.04206094360156802, 0.01869375271180801, 0.005608125813542402, 0.5313880862307214, 0.5214751555301465, 0.6300960277552096, 0.3150480138776048, 0.8731810266705125, 0.9201984431634155, 0.721901046446312, 0.95919362769342, 0.524425844903439, 0.9983128983089936, 0.9884977560341656, 0.7620316333359051, 0.5941388570728463, 0.8911470920014144, 0.5529884599909787, 0.8817120408182687, 0.10173600470980024, 0.9525837872273677, 0.02801717021256964, 0.8146736870279163, 0.9839054789581599, 0.6550157853343149, 0.7456660538115844, 0.10203851262684839, 0.14128409440640546, 0.5504788278917729, 0.6690709102137222, 0.6466370526633416, 0.5797980600023663, 0.4348485450017748, 0.9320378693953214, 0.8141919750067328, 0.08605602046795259, 0.9064567489291006, 0.015504355324261067, 0.9767743854284472, 0.2935479251645978, 0.1467739625822989, 0.44032188774689673, 0.11741917006583913, 0.8256037151848187, 0.7145867259739548, 0.6568013903120404, 0.4946569065882204, 0.3709926799411653, 0.1236642266470551, 0.9400328171305097, 0.662374336932094, 0.6294747372448695, 0.8787011950571509, 0.12552874215102156, 0.9906080939017017, 0.5797571543034494, 0.2898785771517247, 0.7521142449718557, 0.4360029419960978, 0.56057521113784, 0.7183048726498537, 0.6732989148206836, 0.8348885520515218, 0.12844439262331106, 0.05776139071123964, 0.9434360482835807, 0.9610763220562244, 0.9511973666084582, 0.04652595814932676, 0.6513316256813468, 0.06513316256813469, 0.2171105418937823, 0.04342210837875646, 0.19746710381113433, 0.592401311433403, 0.19746710381113433, 0.8867132908142054, 0.8801353273086089, 0.6709851610227662, 0.9819490703569139, 0.008392727097067641, 0.008392727097067641, 0.7392231141561584, 0.6208815360080303, 0.989477119540252, 0.5897792650842316, 0.2948896325421158, 0.5079854012411434, 0.7813346525779652, 0.005106762435150099, 0.08170819896240158, 0.13277582331390259, 0.6613136655178794, 0.6103459539059451, 0.2388310254414568, 0.10614712241842524, 0.05307356120921262, 0.7255909251306751, 0.00960745130249239, 0.9895674841567161, 0.6623376623120011, 0.7962662017337184, 0.6001147000006842, 0.9777682663615676, 0.011924003248311799, 0.6073556740391816, 0.36441340442350895, 0.8690490548628063, 0.803512795866606, 0.19666397101630217, 0.8856167612763378, 0.9573968198211144, 0.8338864286403819, 0.9946908689054049, 0.005992113668104849, 0.685362438998299, 0.1260436669422159, 0.05514410428721945, 0.05514410428721945, 0.07877729183888493, 0.7024406826072073, 0.23414689420240242, 0.23600815365616015, 0.4720163073123203, 0.23600815365616015, 0.9749588854439108, 0.7586052455540655, 0.21674435587259014, 0.8365599666810454, 0.08365599666810454, 0.954330235939286, 0.4363419115710767, 0.261805146942646, 0.17453676462843068, 0.08726838231421534, 0.08726838231421534, 0.514913347892987, 0.2574566739464935, 0.12872833697324676, 0.9923501543876309, 0.4591584628587536, 0.12244225676233429, 0.41324261657287825, 0.8623786415134729, 0.07839805831940663, 0.07839805831940663, 0.9378506838968009, 0.9973220424472306, 0.8271232048713923, 0.13785386747856537, 0.941943779726539, 0.550573177823678, 0.9590247794130652, 0.7786677822716572, 0.921738559723369, 0.9549995250018405, 0.05617644264716709, 0.9773856067198753, 0.989372536411625, 0.9687178204556004, 0.029872355696868736, 0.3316456351668452, 0.3316456351668452, 0.26014792700782474, 0.5202958540156495, 0.4846570187062814, 0.8881896076608595, 0.8152194066612937, 0.9191440870584542, 0.08994232558921096, 0.4796924031424584, 0.41973085274965116, 0.91582069406372, 0.8260151650069821, 0.018355892555710716, 0.16520303300139644, 0.8888353702660591, 0.06837195155892763, 0.4078211324831626, 0.4078211324831626, 0.9682505895207436, 0.6711653852993129, 0.8334736406505814, 0.8391515832392734, 0.6198758679474553, 0.44042755469701195, 0.22021377734850597, 0.22021377734850597, 0.991622542052655, 0.9821769037470549, 0.8840393018466642, 0.07366994182055535, 0.9546126533288439, 0.8644507238849745, 0.9108119919171092, 0.04309835923897993, 0.014366119746326643, 0.028732239492653286, 0.8669036818560153, 0.9937130158951631, 0.923663350887096, 0.01189266117022012, 0.06342752624117397, 0.14921778437844488, 0.6714800297030019, 0.14921778437844488, 0.655752291463436, 0.3128013804107195, 0.03014953064199706, 0.1472784596891717, 0.5891138387566868, 0.1472784596891717, 0.04909281989639057, 0.9786415974342896, 0.0039302875398967456, 0.007860575079793491, 0.007860575079793491, 0.5672525320190472, 0.24663153566045531, 0.12331576783022766, 0.04932630713209106, 0.6732252871564752, 0.6549996974969617, 0.6462520811204086, 0.997200087167255, 0.9549543807685179, 0.03819817523074071, 0.8890398248861674, 0.9667415995120416, 0.8660469542869942, 0.12372099346957059, 0.6082779600122306, 0.9171854184838292, 0.040763796377059076, 0.020381898188529538, 0.020381898188529538, 0.020381898188529538, 0.7503016579885473, 0.7139766549150548, 0.732519775324118, 0.2441732584413727, 0.6835950045411682, 0.019531285844033377, 0.2929692876605007, 0.9968864314614366, 0.19657177567602413, 0.7862871027040965, 0.9677746034361903, 0.30894118382264313, 0.30894118382264313, 0.5773298083383578, 0.16495137381095937, 0.08247568690547968, 0.08247568690547968, 0.9257174359794903, 0.7175067550026252, 0.9156267656566889, 0.9056396159344124, 0.0932985749985718, 0.7158144903611526, 0.9696343295473795, 0.027836392235809936, 0.5937717553104112, 0.7644753121441438, 0.883790754814711, 0.11047384435183888, 0.8733227680732948, 0.07939297891575407, 0.8072941525236571, 0.6690093515939322, 0.25201876058062234, 0.5040375211612447, 0.9905595126986623, 0.004010362399589726, 0.30442501157317686, 0.6392925243036714, 0.03044250115731769, 0.795744760761363, 0.9201563752518893, 0.972210057265441, 0.9108302675079368, 0.4254557889137693, 0.567274385218359, 0.20562072351645821, 0.7895835783031995, 0.8874139591613808, 0.28971606770054514, 0.28971606770054514, 0.28971606770054514, 0.34906057569103244, 0.5817676261517207, 0.7983357661975004, 0.8307981651019838, 0.10384977063774797, 0.7168834380072179, 0.6954291055564952, 0.9554396777970598, 0.4944330531436667, 0.4944330531436667, 0.9465741930533174, 0.042257776475594526, 0.008451555295118904, 0.9491320107696193, 0.5559274788809012, 0.473097601178085, 0.378478080942468, 0.0473097601178085, 0.0473097601178085, 0.7081107439377096, 0.9584889133469294, 0.6800632460814285, 0.4978986788858531, 0.7616232323408975, 0.8214170052739235, 0.6828863193776123, 0.8490967287043681, 0.8626237034798434, 0.8434241549276709, 0.9541973235853792, 0.25781838794192063, 0.5156367758838413, 0.43026063236247103, 0.43026063236247103, 0.5937514954738967, 0.6149253880021679, 0.2635394520009291, 0.0878464840003097, 0.4234262972980765, 0.3753096726051133, 0.14434987407888972, 0.04811662469296324, 0.9597880879110862, 0.914380677006422, 0.7778077518283386, 0.8772035726607542, 0.10685482613147997, 0.007454987869638137, 0.0049699919130920915, 0.942082304475598, 0.6036671051134204, 0.6733576169145705, 0.24052213575958067, 0.48104427151916135, 0.8611507151415327, 0.9978313529568972, 0.8416713537075706, 0.662452298011818, 0.7366961921866262, 0.1700068135815291, 0.05666893786050971, 0.6698327580974281, 0.22327758603247602, 0.22327758603247602, 0.8582236089196926, 0.12458084645608442, 0.013842316272898269, 0.6732906203249114, 0.988583949570068, 0.009635321145907096, 0.001927064229181419, 0.993450688559136, 0.07571877020778993, 0.9086252424934791, 0.9489260566590261, 0.0036780079715466128, 0.04413609565855935, 0.6677826693957666, 0.5400210431295764, 0.8115382325085784, 0.8147320860647861, 0.7330302032642529, 0.2094372009326437, 0.4739311515700499, 0.3159541010466999, 0.9567264483811976, 0.042146539576264214, 0.6993985332331248, 0.6900121770681004, 0.25091351893385466, 0.9935574906071555, 0.2790368967457159, 0.5580737934914318, 0.6439834708465153, 0.21466115694883844, 0.9791996963088928, 0.009151399030924231, 0.5661142228346346, 0.7570369148058197, 0.8879751022843054, 0.05223382954613561, 0.05223382954613561, 0.8908554958378483, 0.8875361807832153, 0.9439810246872257, 0.008033881061167878, 0.04418634583642333, 0.9916544273767209, 0.9658587581126744, 0.8392505457397685, 0.0645577342876745, 0.0645577342876745], \"Term\": [\"abdoman\", \"ability\", \"ability\", \"ablation\", \"ablation\", \"abnormal\", \"abrasion\", \"absolute\", \"ache\", \"ache\", \"achy\", \"acne\", \"acne\", \"acne\", \"active\", \"adapt\", \"add\", \"add\", \"adenomyosis\", \"adenomyosis\", \"adjustment\", \"adjustment\", \"advice\", \"advice\", \"afternoon\", \"afternoon\", \"afternoon\", \"age\", \"alesse\", \"allow\", \"also\", \"also\", \"also\", \"also\", \"also\", \"alternative\", \"always\", \"always\", \"always\", \"anaesthetic\", \"anemia\", \"anemia\", \"anemia\", \"anesthesia\", \"anesthesia\", \"anesthesia\", \"anesthetic\", \"angry\", \"angry\", \"angry\", \"anxiety\", \"anxiety\", \"anxiety\", \"anxiety\", \"anxious\", \"anxious\", \"anxious\", \"appear\", \"appear\", \"appetite\", \"appetite\", \"appreciate\", \"apprehensive\", \"area\", \"area\", \"ask\", \"ask\", \"asleep\", \"assume\", \"assume\", \"athlete\", \"atleast\", \"attack\", \"attack\", \"attribute\", \"august\", \"aura\", \"available\", \"awake\", \"awful\", \"back\", \"back\", \"back\", \"back\", \"background\", \"bad\", \"bad\", \"badly\", \"basically\", \"bath\", \"be\", \"be\", \"bear\", \"become\", \"become\", \"become\", \"become\", \"become\", \"beginning\", \"beginning\", \"behold\", \"bend\", \"bend\", \"birth\", \"birth\", \"birth\", \"birth_control\", \"bladder\", \"blee\", \"blee\", \"bleed\", \"bleed\", \"bleed\", \"bleed\", \"bleeding\", \"bleeding\", \"bleeding\", \"bleeding\", \"bloated\", \"blood_pressure\", \"blood_pressure\", \"body\", \"body\", \"bonus\", \"bottle\", \"bout\", \"boy\", \"breast_tenderness\", \"breastfeed\", \"breeze\", \"breeze\", \"breeze\", \"bright\", \"brown\", \"brown\", \"brown\", \"btw\", \"bummer\", \"burn\", \"buttock\", \"candidate\", \"cant_wait\", \"cant_wait\", \"car\", \"case\", \"case\", \"case\", \"causing\", \"certain\", \"certainly\", \"certainly\", \"certainly\", \"cervix\", \"cervix\", \"challenge\", \"change\", \"change\", \"change\", \"change\", \"charm\", \"cheap\", \"check\", \"childbirth\", \"chill\", \"chronic\", \"chronic\", \"chronic\", \"clamp\", \"clean\", \"clear\", \"clearly\", \"clinic\", \"clot\", \"clot\", \"clot\", \"clothe\", \"clothe\", \"clothe\", \"cloud\", \"coil\", \"coil\", \"coil\", \"coil\", \"coil\", \"coil\", \"coil_fitte\", \"coil_fitte\", \"common\", \"comparable\", \"complete\", \"complete\", \"complete\", \"complete\", \"completely\", \"concern\", \"concern\", \"concerned\", \"condition\", \"condition\", \"condition\", \"confidence\", \"confirm\", \"confirm\", \"connect\", \"connect\", \"consist\", \"constant\", \"constant\", \"constant\", \"constant\", \"constant\", \"constantly\", \"constantly\", \"constantly\", \"constipate\", \"contact\", \"contain\", \"contraception\", \"contraception\", \"contraception\", \"contraception\", \"contraction\", \"contraction\", \"contribute\", \"control\", \"control\", \"control\", \"control\", \"convenient\", \"convenient\", \"copper\", \"couch\", \"counteract\", \"couple\", \"cramp\", \"cramp\", \"cramp\", \"crampy\", \"create\", \"cry\", \"cry\", \"cry\", \"crying\", \"cup\", \"curl\", \"current\", \"current\", \"cut\", \"cut\", \"cut\", \"cycle\", \"cycle\", \"cycle\", \"cytotec\", \"d\", \"d\", \"d\", \"date\", \"day\", \"day\", \"day\", \"day\", \"day\", \"decade\", \"december\", \"december\", \"decide\", \"decrease\", \"decrease\", \"deep\", \"deliver\", \"deliver\", \"delivery\", \"depressed\", \"depressed\", \"depression\", \"depression\", \"depression\", \"destroy\", \"device\", \"devil\", \"diet\", \"difference\", \"discharge\", \"discharge\", \"discharge\", \"discomfort\", \"discomfort\", \"discourage\", \"dislodge\", \"distract\", \"dizziness\", \"dizziness\", \"dizziness\", \"do\", \"do\", \"doctor\", \"doctor\", \"doctor\", \"double\", \"double\", \"downfall\", \"dr\", \"dr\", \"dr\", \"dr\", \"drain\", \"dramatic\", \"dream\", \"drink\", \"drop\", \"drs\", \"drs\", \"drug\", \"drug\", \"drug\", \"dryness\", \"duration\", \"duration\", \"duty\", \"early\", \"early\", \"early\", \"early\", \"ease\", \"ease\", \"ease\", \"eat\", \"eat\", \"eat\", \"ect\", \"ectopic_pregnancy\", \"edge\", \"efficient\", \"else\", \"embarrassed\", \"embarrassed\", \"embolism\", \"emit\", \"emotionally\", \"emotionally\", \"encounter\", \"endo\", \"endometriosis\", \"endometriosis\", \"endure\", \"energy\", \"energy\", \"enjoy\", \"enjoyable\", \"enjoyable\", \"ensure\", \"episode\", \"event\", \"eventually\", \"ever\", \"ever\", \"ever\", \"everyone\", \"everyone\", \"everyones_body\", \"evidence\", \"exam\", \"excessive\", \"excited\", \"exclusively\", \"exercise\", \"exhaust\", \"experience\", \"experience\", \"experience\", \"expierence\", \"expire\", \"explain\", \"external\", \"extreme\", \"extreme\", \"extreme\", \"face\", \"facial\", \"fail\", \"fairly\", \"fairly\", \"fairly\", \"family\", \"fan\", \"far\", \"far\", \"far\", \"fast\", \"fast_forward\", \"fast_forward\", \"fat\", \"fat\", \"fault\", \"fear\", \"february\", \"feel\", \"feel\", \"feel\", \"feel\", \"fill\", \"find\", \"find\", \"find\", \"find\", \"find\", \"fine\", \"firm\", \"first\", \"first\", \"fit\", \"fit\", \"fitting\", \"fix\", \"fix\", \"flash\", \"flood\", \"flooding\", \"floor\", \"fluctuate\", \"fluid\", \"fog\", \"food\", \"force\", \"forever\", \"forum\", \"foul\", \"fourth\", \"frame\", \"frequent\", \"frequent\", \"frequently\", \"funny\", \"future\", \"future\", \"gain\", \"gained_lb\", \"gentle\", \"get\", \"get\", \"get\", \"girlfriend\", \"go\", \"go\", \"go\", \"goes_away\", \"going\", \"golf\", \"good\", \"good\", \"great\", \"guarantee\", \"guess\", \"guess\", \"gush\", \"gut\", \"guy\", \"gyn\", \"gyne\", \"gynecologist\", \"hair\", \"half\", \"hand\", \"hand\", \"happen\", \"happen\", \"happen\", \"hardly\", \"hate\", \"hate\", \"hate\", \"hate\", \"havoc\", \"headache\", \"hear\", \"hear\", \"heart\", \"heart\", \"heath\", \"heavy\", \"heavy\", \"heavy\", \"heavy\", \"heel\", \"hesitant\", \"highly_recommend\", \"highly_recommend\", \"hip\", \"hip\", \"hold\", \"honest\", \"honest\", \"honestly\", \"hopeful\", \"hopeful\", \"hormone\", \"hormone\", \"hormone\", \"hormone\", \"horrific\", \"horror\", \"horror_storie\", \"horror_storie\", \"hot\", \"hot\", \"hour\", \"hour\", \"hour\", \"hrt\", \"hubby\", \"huge\", \"huge\", \"huge\", \"hunger\", \"hungry\", \"husband\", \"i\", \"i\", \"ib\", \"ib\", \"ibprofen\", \"ibuprofen\", \"ibuprofen\", \"ignore\", \"ill\", \"illness\", \"immediately\", \"implant\", \"implant\", \"impossible\", \"improve\", \"improve\", \"incertion\", \"increase\", \"increase\", \"increase\", \"infection\", \"infection\", \"infection\", \"information\", \"insert\", \"insert\", \"insert\", \"insert\", \"insertation\", \"insertion\", \"insertion\", \"insertion\", \"insertion\", \"insist\", \"insist\", \"instal\", \"instant\", \"instantly\", \"instantly\", \"instead\", \"intermittent\", \"internal\", \"internal\", \"iron\", \"iron\", \"iron\", \"irregular\", \"irregular\", \"irregular\", \"irregular\", \"iud\", \"iud\", \"iud\", \"jan\", \"joke\", \"june\", \"june\", \"keep\", \"kilo\", \"knock\", \"labour\", \"lack\", \"lack\", \"lady\", \"lady\", \"lady\", \"lbs\", \"left\", \"length\", \"lessen\", \"lessened\", \"libido\", \"libido\", \"libido\", \"life\", \"life\", \"life\", \"liner\", \"link\", \"link\", \"listen\", \"listen\", \"little\", \"little\", \"little\", \"load\", \"locally\", \"long_term\", \"looking_forward\", \"looking_forward\", \"loose\", \"lose\", \"loss\", \"loss\", \"lost\", \"love\", \"low\", \"m\", \"m\", \"m\", \"mainly\", \"maintenance\", \"maintenance\", \"major\", \"major\", \"major\", \"male\", \"manage\", \"manage\", \"manage\", \"manageable\", \"many\", \"many\", \"march\", \"market\", \"market\", \"matter\", \"matter\", \"measure\", \"measure\", \"medium\", \"menopause\", \"menopause\", \"menopause\", \"mental\", \"mental\", \"mental\", \"mental\", \"mental_health\", \"mental_health\", \"mental_health\", \"merina\", \"metabolism\", \"mid\", \"middle\", \"midol\", \"migraine\", \"migraine\", \"migraine\", \"mildly\", \"milk_supply\", \"min\", \"minimal\", \"minimal\", \"minor\", \"minute\", \"minute\", \"miraculously\", \"mirena\", \"mirena\", \"mirena\", \"mirena\", \"mirena\", \"mirror\", \"miserable\", \"miserable\", \"miss\", \"miss\", \"mistake\", \"mistake\", \"moderately\", \"monday\", \"month\", \"mood_swing\", \"mood_swing\", \"mood_swing\", \"mood_swing\", \"moody\", \"morning\", \"mother\", \"motion\", \"mucus\", \"naproxen\", \"natural\", \"natural\", \"nature\", \"nauseous\", \"nauseous\", \"nearly\", \"needless\", \"nervous\", \"never\", \"never\", \"next\", \"night\", \"night\", \"night_sweat\", \"non_stop\", \"nonstop\", \"nope\", \"normally\", \"note\", \"nothing_compare\", \"november\", \"november\", \"nowhere\", \"number\", \"numbness\", \"nurse\", \"observe\", \"obviously\", \"obviously\", \"occasion\", \"occur\", \"occur\", \"oct\", \"odor\", \"oestrogen\", \"offer\", \"often\", \"often\", \"often\", \"often\", \"okay\", \"omg\", \"omg\", \"ongoing\", \"online\", \"open\", \"opt\", \"opt\", \"oral_contraceptive\", \"orgasm\", \"otherwise\", \"ovarian_cyst\", \"overnight\", \"overnight\", \"overwhelming\", \"ovulate\", \"pad\", \"pad\", \"pad\", \"pain\", \"pain\", \"pain\", \"pain\", \"painful\", \"painful\", \"painful\", \"painfully\", \"pale\", \"palpitation\", \"panic_attack\", \"panic_attack\", \"pantiliner\", \"pantyliner\", \"pap\", \"pap_smear\", \"participate\", \"partum\", \"partum\", \"patient\", \"patient\", \"pelvi\", \"penetration\", \"perfect\", \"perfectly\", \"period\", \"period\", \"period\", \"period\", \"permanently\", \"perspective\", \"physical\", \"physical\", \"physically\", \"physician\", \"picture\", \"pid\", \"pile\", \"pill\", \"pinch\", \"pinche\", \"plague\", \"pleased\", \"plenty\", \"pm\", \"pm\", \"post\", \"post\", \"potential\", \"pound\", \"pregnancy_scare\", \"pregnant\", \"pregnant\", \"pregnant\", \"preinsertion\", \"preiud\", \"prescribed\", \"prevent_pregnancy\", \"prevent_pregnancy\", \"preventing_pregnancy\", \"proactive\", \"procedure\", \"procedure\", \"process\", \"process\", \"product\", \"product\", \"product\", \"product\", \"progesterone\", \"progestin\", \"progressively\", \"prone\", \"prone\", \"prone\", \"properly\", \"public\", \"pulmonary\", \"purpose\", \"purpose\", \"quick\", \"quit\", \"quit\", \"raise\", \"rarely\", \"rarely\", \"rash\", \"rat\", \"re\", \"re\", \"read\", \"read\", \"real\", \"really\", \"really\", \"reason\", \"reason\", \"reason\", \"reason\", \"reccomend\", \"reccomend\", \"reccomend\", \"receive\", \"recognize\", \"recomend\", \"recommend\", \"recommend\", \"recommend\", \"red\", \"reference\", \"regular\", \"release\", \"release\", \"reluctant\", \"remove\", \"remove\", \"remove\", \"remove\", \"request\", \"research\", \"research\", \"research\", \"research\", \"reverse\", \"review\", \"review\", \"rhythm\", \"ride\", \"rush\", \"s\", \"s\", \"sad\", \"sad\", \"satisfied\", \"say\", \"say\", \"scar\", \"scream\", \"screw\", \"second\", \"second\", \"see\", \"see\", \"see\", \"see\", \"see\", \"self\", \"self\", \"sensation\", \"sensation\", \"sensation\", \"sense\", \"sensitive\", \"sensitive\", \"serious\", \"serious\", \"set\", \"settle\", \"settle\", \"settle\", \"settle\", \"settle\", \"severely\", \"severely\", \"severely\", \"sex\", \"sex_drive\", \"sex_drive\", \"sex_drive\", \"sexual\", \"sexual\", \"sexual\", \"shake\", \"share\", \"sharp_pain\", \"sharp_pain\", \"shed\", \"shedding\", \"sheet\", \"shock\", \"shoe\", \"shoot\", \"shoot\", \"shortly\", \"side\", \"side_effect\", \"side_effect\", \"significantly\", \"significantly\", \"simply\", \"simply\", \"sinus\", \"sister\", \"site\", \"situation\", \"skin\", \"skin\", \"skin\", \"skyla\", \"slight\", \"slight\", \"slight\", \"slow\", \"slow\", \"smear\", \"smear\", \"smell\", \"sneeze\", \"soak\", \"soften\", \"solely\", \"solution\", \"solution\", \"solution\", \"soon\", \"sort\", \"sound\", \"sound\", \"speak\", \"spend\", \"spot\", \"spot\", \"spot\", \"spot\", \"stabbing_pain\", \"stand\", \"start\", \"start\", \"start\", \"stick\", \"stick\", \"stick\", \"still\", \"still\", \"still\", \"stomach\", \"stomach\", \"stomach\", \"stomach\", \"stop\", \"stop\", \"stop\", \"stop\", \"straight\", \"straight\", \"straight\", \"straight\", \"strain\", \"stretch\", \"strictly\", \"string\", \"strong\", \"strong\", \"strongly\", \"struggle\", \"success\", \"success\", \"successful\", \"suffer\", \"suffer\", \"suffer\", \"suffer\", \"suffer\", \"sugar\", \"suicidal\", \"summer\", \"summer\", \"super\", \"super\", \"super\", \"sure\", \"surgery\", \"surgery\", \"swear\", \"sweaty\", \"sweaty\", \"swell\", \"swell\", \"swell\", \"swell\", \"swollen\", \"synthetic_hormone\", \"system\", \"take\", \"take\", \"teenager\", \"tell\", \"tell\", \"temper\", \"tender_breast\", \"term\", \"term\", \"thankfully\", \"thankfully\", \"therefore\", \"thicken\", \"thigh\", \"thigh\", \"think\", \"think\", \"third\", \"third\", \"third\", \"threaten\", \"thursday\", \"thus_far\", \"tiny\", \"tired\", \"tired\", \"today\", \"today\", \"toe\", \"toll\", \"toll\", \"toll\", \"touch\", \"touch\", \"transfusion\", \"treatment\", \"treatment\", \"tricky\", \"trigger\", \"trim\", \"true\", \"true\", \"try\", \"try\", \"try\", \"tube\", \"tug\", \"turn\", \"turn\", \"turn\", \"turn\", \"twinge\", \"type\", \"unable\", \"unbearably\", \"underwear\", \"undesirable\", \"unlucky\", \"unpleasant\", \"unpredictable\", \"unusual\", \"update\", \"upset\", \"upset\", \"upside\", \"upside\", \"urge\", \"uterine\", \"uterine\", \"uterine\", \"uterus\", \"uterus\", \"uterus\", \"uterus\", \"uti\", \"vagina\", \"vanish\", \"ve\", \"ve\", \"ve\", \"ve\", \"vertigo\", \"video\", \"view\", \"virtually\", \"virtually\", \"vomit\", \"wait\", \"waiting\", \"warm\", \"warn\", \"warn\", \"warn\", \"waste\", \"waste\", \"waste\", \"way\", \"way\", \"way\", \"web\", \"week\", \"week\", \"week\", \"weight\", \"weight_gain\", \"weight_gain\", \"well\", \"well\", \"well\", \"whenever\", \"wife\", \"womb\", \"women\", \"wonderful\", \"wonderful\", \"word\", \"word\", \"work\", \"work\", \"working\", \"worried\", \"worried\", \"worry\", \"worse\", \"worse\", \"worsen\", \"worsen\", \"worth\", \"worth\", \"wound\", \"wreak\", \"write\", \"write\", \"write\", \"xray\", \"yay\", \"year\", \"year\", \"year\", \"yet\", \"young\", \"yrs\", \"yrs\", \"yrs\"]}, \"R\": 30, \"lambda.step\": 0.01, \"plot.opts\": {\"xlab\": \"PC1\", \"ylab\": \"PC2\"}, \"topic.order\": [6, 18, 4, 2, 15, 11, 9, 8, 3, 7, 5, 17, 1, 10, 13, 20, 12, 14, 19, 16]};\n",
       "\n",
       "function LDAvis_load_lib(url, callback){\n",
       "  var s = document.createElement('script');\n",
       "  s.src = url;\n",
       "  s.async = true;\n",
       "  s.onreadystatechange = s.onload = callback;\n",
       "  s.onerror = function(){console.warn(\"failed to load library \" + url);};\n",
       "  document.getElementsByTagName(\"head\")[0].appendChild(s);\n",
       "}\n",
       "\n",
       "if(typeof(LDAvis) !== \"undefined\"){\n",
       "   // already loaded: just create the visualization\n",
       "   !function(LDAvis){\n",
       "       new LDAvis(\"#\" + \"ldavis_el1657228937243920161545972136\", ldavis_el1657228937243920161545972136_data);\n",
       "   }(LDAvis);\n",
       "}else if(typeof define === \"function\" && define.amd){\n",
       "   // require.js is available: use it to load d3/LDAvis\n",
       "   require.config({paths: {d3: \"https://d3js.org/d3.v5\"}});\n",
       "   require([\"d3\"], function(d3){\n",
       "      window.d3 = d3;\n",
       "      LDAvis_load_lib(\"https://cdn.jsdelivr.net/gh/bmabey/pyLDAvis@3.2.2/pyLDAvis/js/ldavis.v3.0.0.js\", function(){\n",
       "        new LDAvis(\"#\" + \"ldavis_el1657228937243920161545972136\", ldavis_el1657228937243920161545972136_data);\n",
       "      });\n",
       "    });\n",
       "}else{\n",
       "    // require.js not available: dynamically load d3 & LDAvis\n",
       "    LDAvis_load_lib(\"https://d3js.org/d3.v5.js\", function(){\n",
       "         LDAvis_load_lib(\"https://cdn.jsdelivr.net/gh/bmabey/pyLDAvis@3.2.2/pyLDAvis/js/ldavis.v3.0.0.js\", function(){\n",
       "                 new LDAvis(\"#\" + \"ldavis_el1657228937243920161545972136\", ldavis_el1657228937243920161545972136_data);\n",
       "            })\n",
       "         });\n",
       "}\n",
       "</script>"
      ],
      "text/plain": [
       "PreparedData(topic_coordinates=              x         y  topics  cluster       Freq\n",
       "topic                                                \n",
       "5      0.406618 -0.093135       1        1  66.479655\n",
       "17     0.351138 -0.201325       2        1  15.712612\n",
       "3      0.196531  0.161415       3        1   5.161778\n",
       "1      0.179664  0.296421       4        1   4.172489\n",
       "14     0.097251  0.050550       5        1   2.538829\n",
       "10    -0.044259  0.006349       6        1   1.169399\n",
       "8     -0.082005  0.004089       7        1   0.706309\n",
       "7     -0.082797 -0.013378       8        1   0.545933\n",
       "2     -0.078214 -0.006764       9        1   0.540921\n",
       "6     -0.077415 -0.009997      10        1   0.447736\n",
       "4     -0.090144 -0.024360      11        1   0.414327\n",
       "16    -0.090609 -0.019941      12        1   0.391947\n",
       "0     -0.086803 -0.018472      13        1   0.376862\n",
       "9     -0.091804 -0.018062      14        1   0.312120\n",
       "12    -0.084986 -0.006523      15        1   0.305407\n",
       "19    -0.088948 -0.027357      16        1   0.212634\n",
       "11    -0.084058 -0.020173      17        1   0.205879\n",
       "13    -0.087850 -0.019252      18        1   0.181686\n",
       "18    -0.081939 -0.020683      19        1   0.075922\n",
       "15    -0.079371 -0.019402      20        1   0.047554, topic_info=          Term        Freq       Total Category  logprob  loglift\n",
       "16         day  382.000000  382.000000  Default  30.0000  30.0000\n",
       "171     remove  391.000000  391.000000  Default  29.0000  29.0000\n",
       "24        feel  721.000000  721.000000  Default  28.0000  28.0000\n",
       "439      heavy  271.000000  271.000000  Default  27.0000  27.0000\n",
       "344       ever  177.000000  177.000000  Default  26.0000  26.0000\n",
       "...        ...         ...         ...      ...      ...      ...\n",
       "2668      weep    0.005425    0.591319  Topic20  -8.4473   2.9598\n",
       "2893     truly    0.005425    0.591323  Topic20  -8.4473   2.9598\n",
       "2931     blind    0.005425    0.591319  Topic20  -8.4473   2.9598\n",
       "3181    stitch    0.005425    0.591318  Topic20  -8.4473   2.9598\n",
       "3238  collapse    0.005425    0.591318  Topic20  -8.4473   2.9598\n",
       "\n",
       "[952 rows x 6 columns], token_table=      Topic      Freq      Term\n",
       "term                           \n",
       "877       6  0.934406   abdoman\n",
       "1465      2  0.173769   ability\n",
       "1465      6  0.695075   ability\n",
       "641       4  0.839181  ablation\n",
       "641      17  0.209795  ablation\n",
       "...     ...       ...       ...\n",
       "991       2  0.991654       yet\n",
       "838       2  0.965859     young\n",
       "1145      3  0.839251       yrs\n",
       "1145      5  0.064558       yrs\n",
       "1145      7  0.064558       yrs\n",
       "\n",
       "[1176 rows x 3 columns], R=30, lambda_step=0.01, plot_opts={'xlab': 'PC1', 'ylab': 'PC2'}, topic_order=[6, 18, 4, 2, 15, 11, 9, 8, 3, 7, 5, 17, 1, 10, 13, 20, 12, 14, 19, 16])"
      ]
     },
     "execution_count": 106,
     "metadata": {},
     "output_type": "execute_result"
    }
   ],
   "source": [
    "# Visualize the topics\n",
    "pyLDAvis.enable_notebook()\n",
    "vis = pyLDAvis.gensim.prepare(lda_model, corpus, id2word)\n",
    "vis"
   ]
  },
  {
   "cell_type": "code",
   "execution_count": null,
   "metadata": {},
   "outputs": [],
   "source": []
  }
 ],
 "metadata": {
  "colab": {
   "collapsed_sections": [],
   "name": "Topic Modeling with Gensim.ipynb",
   "provenance": [],
   "toc_visible": true
  },
  "kernelspec": {
   "display_name": "Python 3",
   "language": "python",
   "name": "python3"
  },
  "language_info": {
   "codemirror_mode": {
    "name": "ipython",
    "version": 3
   },
   "file_extension": ".py",
   "mimetype": "text/x-python",
   "name": "python",
   "nbconvert_exporter": "python",
   "pygments_lexer": "ipython3",
   "version": "3.8.5"
  }
 },
 "nbformat": 4,
 "nbformat_minor": 4
}
