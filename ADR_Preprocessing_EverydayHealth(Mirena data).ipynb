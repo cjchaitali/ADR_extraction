{
 "cells": [
  {
   "cell_type": "markdown",
   "metadata": {},
   "source": [
    "# Adverse drug reaction identification and extraction from natural language text using Topic modeling "
   ]
  },
  {
   "cell_type": "code",
   "execution_count": 8,
   "metadata": {
    "executionInfo": {
     "elapsed": 1352,
     "status": "ok",
     "timestamp": 1614687345805,
     "user": {
      "displayName": "chaitali joshi",
      "photoUrl": "https://lh3.googleusercontent.com/a-/AOh14GjPKMtsyfnvMh3uz_yajU5q4iCjKFXOCoXEAgX6-HA=s64",
      "userId": "15556029333470667203"
     },
     "user_tz": -330
    },
    "id": "8DnyTVrCiP4p"
   },
   "outputs": [],
   "source": [
    "import numpy as np\n",
    "import matplotlib.pyplot as plt\n",
    "import pandas as pd\n",
    "import re\n",
    "import string\n",
    "import math\n",
    "\n",
    "import gensim\n",
    "from gensim.utils import simple_preprocess\n",
    "from gensim.parsing.preprocessing import STOPWORDS\n",
    "from nltk.stem import WordNetLemmatizer, SnowballStemmer\n",
    "from nltk.stem.porter import *\n"
   ]
  },
  {
   "cell_type": "code",
   "execution_count": 9,
   "metadata": {
    "colab": {
     "base_uri": "https://localhost:8080/",
     "height": 196
    },
    "executionInfo": {
     "elapsed": 1780,
     "status": "ok",
     "timestamp": 1614687387181,
     "user": {
      "displayName": "chaitali joshi",
      "photoUrl": "https://lh3.googleusercontent.com/a-/AOh14GjPKMtsyfnvMh3uz_yajU5q4iCjKFXOCoXEAgX6-HA=s64",
      "userId": "15556029333470667203"
     },
     "user_tz": -330
    },
    "id": "FaFIohHsjM85",
    "outputId": "1af0cea1-7381-4f0a-f2d1-4a8c51184eb2",
    "scrolled": true
   },
   "outputs": [
    {
     "data": {
      "text/html": [
       "<div>\n",
       "<style scoped>\n",
       "    .dataframe tbody tr th:only-of-type {\n",
       "        vertical-align: middle;\n",
       "    }\n",
       "\n",
       "    .dataframe tbody tr th {\n",
       "        vertical-align: top;\n",
       "    }\n",
       "\n",
       "    .dataframe thead th {\n",
       "        text-align: right;\n",
       "    }\n",
       "</style>\n",
       "<table border=\"1\" class=\"dataframe\">\n",
       "  <thead>\n",
       "    <tr style=\"text-align: right;\">\n",
       "      <th></th>\n",
       "      <th>Title</th>\n",
       "      <th>Time</th>\n",
       "      <th>reporttype</th>\n",
       "      <th>Reviews</th>\n",
       "      <th>Unnamed: 4</th>\n",
       "    </tr>\n",
       "  </thead>\n",
       "  <tbody>\n",
       "    <tr>\n",
       "      <th>0</th>\n",
       "      <td>Rated  for Birth Control Report</td>\n",
       "      <td>Posted 6 months ago (8/19/2020)</td>\n",
       "      <td>Report</td>\n",
       "      <td>I got the Mirena in Feb 2020. The insertion wa...</td>\n",
       "      <td>NaN</td>\n",
       "    </tr>\n",
       "    <tr>\n",
       "      <th>1</th>\n",
       "      <td>Rated  for Birth Control Report</td>\n",
       "      <td>Posted 6 months ago (8/19/2020)</td>\n",
       "      <td>Report</td>\n",
       "      <td>This is 2nd time I have had the Mirena. Total ...</td>\n",
       "      <td>NaN</td>\n",
       "    </tr>\n",
       "    <tr>\n",
       "      <th>2</th>\n",
       "      <td>Rated  for Birth Control Report</td>\n",
       "      <td>Posted 6 months ago (8/19/2020)</td>\n",
       "      <td>Report</td>\n",
       "      <td>The biggest joke known to mankind. Doctor gave...</td>\n",
       "      <td>NaN</td>\n",
       "    </tr>\n",
       "    <tr>\n",
       "      <th>3</th>\n",
       "      <td>Rated  for Birth Control Report</td>\n",
       "      <td>Posted 6 months ago (8/14/2020)</td>\n",
       "      <td>Report</td>\n",
       "      <td>I’ve had mirena for exactly one month now and ...</td>\n",
       "      <td>NaN</td>\n",
       "    </tr>\n",
       "    <tr>\n",
       "      <th>4</th>\n",
       "      <td>Rated  for Endometriosis Report</td>\n",
       "      <td>Posted 7 months ago (8/6/2020)</td>\n",
       "      <td>Report</td>\n",
       "      <td>I have a history of gushing, painful periods w...</td>\n",
       "      <td>NaN</td>\n",
       "    </tr>\n",
       "  </tbody>\n",
       "</table>\n",
       "</div>"
      ],
      "text/plain": [
       "                             Title                             Time  \\\n",
       "0  Rated  for Birth Control Report  Posted 6 months ago (8/19/2020)   \n",
       "1  Rated  for Birth Control Report  Posted 6 months ago (8/19/2020)   \n",
       "2  Rated  for Birth Control Report  Posted 6 months ago (8/19/2020)   \n",
       "3  Rated  for Birth Control Report  Posted 6 months ago (8/14/2020)   \n",
       "4  Rated  for Endometriosis Report   Posted 7 months ago (8/6/2020)   \n",
       "\n",
       "  reporttype                                            Reviews Unnamed: 4  \n",
       "0     Report  I got the Mirena in Feb 2020. The insertion wa...        NaN  \n",
       "1     Report  This is 2nd time I have had the Mirena. Total ...        NaN  \n",
       "2     Report  The biggest joke known to mankind. Doctor gave...        NaN  \n",
       "3     Report  I’ve had mirena for exactly one month now and ...        NaN  \n",
       "4     Report  I have a history of gushing, painful periods w...        NaN  "
      ]
     },
     "execution_count": 9,
     "metadata": {},
     "output_type": "execute_result"
    }
   ],
   "source": [
    "dataset = pd.read_csv('Mirena_IUD.csv',encoding='cp1252')\n",
    "dataset.head()"
   ]
  },
  {
   "cell_type": "raw",
   "metadata": {},
   "source": [
    "data = pd.read_csv('Mirena_IUD.csv', encoding='cp1252',error_bad_lines=False);\n",
    "data_text = data[['Reviews']]\n",
    "data_text['index'] = data_text.index\n",
    "dataset = data_text"
   ]
  },
  {
   "cell_type": "code",
   "execution_count": 10,
   "metadata": {
    "colab": {
     "base_uri": "https://localhost:8080/"
    },
    "executionInfo": {
     "elapsed": 1337,
     "status": "ok",
     "timestamp": 1614687390963,
     "user": {
      "displayName": "chaitali joshi",
      "photoUrl": "https://lh3.googleusercontent.com/a-/AOh14GjPKMtsyfnvMh3uz_yajU5q4iCjKFXOCoXEAgX6-HA=s64",
      "userId": "15556029333470667203"
     },
     "user_tz": -330
    },
    "id": "nrD7kleLNaIC",
    "outputId": "afebaf4d-f2c5-4b56-ff52-e67fcb0d9cd4",
    "scrolled": false
   },
   "outputs": [
    {
     "data": {
      "text/plain": [
       "Title         False\n",
       "Time          False\n",
       "reporttype    False\n",
       "Reviews       False\n",
       "Unnamed: 4     True\n",
       "dtype: bool"
      ]
     },
     "execution_count": 10,
     "metadata": {},
     "output_type": "execute_result"
    }
   ],
   "source": [
    "dataset.isnull().any()"
   ]
  },
  {
   "cell_type": "code",
   "execution_count": 11,
   "metadata": {
    "colab": {
     "base_uri": "https://localhost:8080/"
    },
    "executionInfo": {
     "elapsed": 1361,
     "status": "ok",
     "timestamp": 1614687393802,
     "user": {
      "displayName": "chaitali joshi",
      "photoUrl": "https://lh3.googleusercontent.com/a-/AOh14GjPKMtsyfnvMh3uz_yajU5q4iCjKFXOCoXEAgX6-HA=s64",
      "userId": "15556029333470667203"
     },
     "user_tz": -330
    },
    "id": "qPq43hsPNfFH",
    "outputId": "ec9fb3fe-fab8-4af4-8fa4-959e2be2e458",
    "scrolled": true
   },
   "outputs": [
    {
     "data": {
      "text/plain": [
       "Title           0\n",
       "Time            0\n",
       "reporttype      0\n",
       "Reviews         0\n",
       "Unnamed: 4    979\n",
       "dtype: int64"
      ]
     },
     "execution_count": 11,
     "metadata": {},
     "output_type": "execute_result"
    }
   ],
   "source": [
    "dataset.isnull().sum()"
   ]
  },
  {
   "cell_type": "code",
   "execution_count": 12,
   "metadata": {
    "colab": {
     "base_uri": "https://localhost:8080/"
    },
    "executionInfo": {
     "elapsed": 1568,
     "status": "ok",
     "timestamp": 1614687397220,
     "user": {
      "displayName": "chaitali joshi",
      "photoUrl": "https://lh3.googleusercontent.com/a-/AOh14GjPKMtsyfnvMh3uz_yajU5q4iCjKFXOCoXEAgX6-HA=s64",
      "userId": "15556029333470667203"
     },
     "user_tz": -330
    },
    "id": "ZP-C0qh5ma3Y",
    "outputId": "01ed3d57-9553-423a-f936-59efc5172bf2"
   },
   "outputs": [
    {
     "data": {
      "text/plain": [
       "Index(['Title', 'Time', 'reporttype', 'Reviews', 'Unnamed: 4'], dtype='object')"
      ]
     },
     "execution_count": 12,
     "metadata": {},
     "output_type": "execute_result"
    }
   ],
   "source": [
    "dataset.columns"
   ]
  },
  {
   "cell_type": "code",
   "execution_count": 14,
   "metadata": {
    "colab": {
     "base_uri": "https://localhost:8080/"
    },
    "executionInfo": {
     "elapsed": 1419,
     "status": "ok",
     "timestamp": 1614687399567,
     "user": {
      "displayName": "chaitali joshi",
      "photoUrl": "https://lh3.googleusercontent.com/a-/AOh14GjPKMtsyfnvMh3uz_yajU5q4iCjKFXOCoXEAgX6-HA=s64",
      "userId": "15556029333470667203"
     },
     "user_tz": -330
    },
    "id": "jWK1ldsYmhFq",
    "outputId": "847985ae-2258-433f-e940-6c889385a7ad"
   },
   "outputs": [
    {
     "data": {
      "text/plain": [
       "1028"
      ]
     },
     "execution_count": 14,
     "metadata": {},
     "output_type": "execute_result"
    }
   ],
   "source": [
    "dataset[\"Unnamed: 4\"].isnull().count()"
   ]
  },
  {
   "cell_type": "markdown",
   "metadata": {},
   "source": [
    "## drop unwanted columns"
   ]
  },
  {
   "cell_type": "code",
   "execution_count": 15,
   "metadata": {
    "colab": {
     "base_uri": "https://localhost:8080/",
     "height": 404
    },
    "executionInfo": {
     "elapsed": 1200,
     "status": "ok",
     "timestamp": 1614687401757,
     "user": {
      "displayName": "chaitali joshi",
      "photoUrl": "https://lh3.googleusercontent.com/a-/AOh14GjPKMtsyfnvMh3uz_yajU5q4iCjKFXOCoXEAgX6-HA=s64",
      "userId": "15556029333470667203"
     },
     "user_tz": -330
    },
    "id": "3HDJfUxMm0j9",
    "outputId": "2a5f3545-18c7-48b1-c0e4-9728ca05677a",
    "scrolled": true
   },
   "outputs": [
    {
     "data": {
      "text/html": [
       "<div>\n",
       "<style scoped>\n",
       "    .dataframe tbody tr th:only-of-type {\n",
       "        vertical-align: middle;\n",
       "    }\n",
       "\n",
       "    .dataframe tbody tr th {\n",
       "        vertical-align: top;\n",
       "    }\n",
       "\n",
       "    .dataframe thead th {\n",
       "        text-align: right;\n",
       "    }\n",
       "</style>\n",
       "<table border=\"1\" class=\"dataframe\">\n",
       "  <thead>\n",
       "    <tr style=\"text-align: right;\">\n",
       "      <th></th>\n",
       "      <th>Reviews</th>\n",
       "    </tr>\n",
       "  </thead>\n",
       "  <tbody>\n",
       "    <tr>\n",
       "      <th>0</th>\n",
       "      <td>I got the Mirena in Feb 2020. The insertion wa...</td>\n",
       "    </tr>\n",
       "    <tr>\n",
       "      <th>1</th>\n",
       "      <td>This is 2nd time I have had the Mirena. Total ...</td>\n",
       "    </tr>\n",
       "    <tr>\n",
       "      <th>2</th>\n",
       "      <td>The biggest joke known to mankind. Doctor gave...</td>\n",
       "    </tr>\n",
       "    <tr>\n",
       "      <th>3</th>\n",
       "      <td>I’ve had mirena for exactly one month now and ...</td>\n",
       "    </tr>\n",
       "    <tr>\n",
       "      <th>4</th>\n",
       "      <td>I have a history of gushing, painful periods w...</td>\n",
       "    </tr>\n",
       "    <tr>\n",
       "      <th>...</th>\n",
       "      <td>...</td>\n",
       "    </tr>\n",
       "    <tr>\n",
       "      <th>1023</th>\n",
       "      <td>I got the Mirena inserted in July of 2020. It ...</td>\n",
       "    </tr>\n",
       "    <tr>\n",
       "      <th>1024</th>\n",
       "      <td>This has given me some severe cramp episodes, ...</td>\n",
       "    </tr>\n",
       "    <tr>\n",
       "      <th>1025</th>\n",
       "      <td>I had the Mirena placed in October 2019 for bi...</td>\n",
       "    </tr>\n",
       "    <tr>\n",
       "      <th>1026</th>\n",
       "      <td>This is an update to having the Mirena REMOVED...</td>\n",
       "    </tr>\n",
       "    <tr>\n",
       "      <th>1027</th>\n",
       "      <td>I’ve had the Mirena for 4 years and 10 months,...</td>\n",
       "    </tr>\n",
       "  </tbody>\n",
       "</table>\n",
       "<p>1028 rows × 1 columns</p>\n",
       "</div>"
      ],
      "text/plain": [
       "                                                Reviews\n",
       "0     I got the Mirena in Feb 2020. The insertion wa...\n",
       "1     This is 2nd time I have had the Mirena. Total ...\n",
       "2     The biggest joke known to mankind. Doctor gave...\n",
       "3     I’ve had mirena for exactly one month now and ...\n",
       "4     I have a history of gushing, painful periods w...\n",
       "...                                                 ...\n",
       "1023  I got the Mirena inserted in July of 2020. It ...\n",
       "1024  This has given me some severe cramp episodes, ...\n",
       "1025  I had the Mirena placed in October 2019 for bi...\n",
       "1026  This is an update to having the Mirena REMOVED...\n",
       "1027  I’ve had the Mirena for 4 years and 10 months,...\n",
       "\n",
       "[1028 rows x 1 columns]"
      ]
     },
     "execution_count": 15,
     "metadata": {},
     "output_type": "execute_result"
    }
   ],
   "source": [
    "dataset.drop(columns = ['Title','Time','reporttype','Unnamed: 4'],inplace = True)\n",
    "dataset"
   ]
  },
  {
   "cell_type": "markdown",
   "metadata": {},
   "source": [
    "## convert to lower case"
   ]
  },
  {
   "cell_type": "code",
   "execution_count": 16,
   "metadata": {
    "colab": {
     "base_uri": "https://localhost:8080/",
     "height": 196
    },
    "executionInfo": {
     "elapsed": 1624,
     "status": "ok",
     "timestamp": 1614687409293,
     "user": {
      "displayName": "chaitali joshi",
      "photoUrl": "https://lh3.googleusercontent.com/a-/AOh14GjPKMtsyfnvMh3uz_yajU5q4iCjKFXOCoXEAgX6-HA=s64",
      "userId": "15556029333470667203"
     },
     "user_tz": -330
    },
    "id": "aUCzMac_6sRr",
    "outputId": "a3961bc8-b859-485b-b5df-1d2a7b5cf7dc"
   },
   "outputs": [
    {
     "data": {
      "text/html": [
       "<div>\n",
       "<style scoped>\n",
       "    .dataframe tbody tr th:only-of-type {\n",
       "        vertical-align: middle;\n",
       "    }\n",
       "\n",
       "    .dataframe tbody tr th {\n",
       "        vertical-align: top;\n",
       "    }\n",
       "\n",
       "    .dataframe thead th {\n",
       "        text-align: right;\n",
       "    }\n",
       "</style>\n",
       "<table border=\"1\" class=\"dataframe\">\n",
       "  <thead>\n",
       "    <tr style=\"text-align: right;\">\n",
       "      <th></th>\n",
       "      <th>Reviews</th>\n",
       "    </tr>\n",
       "  </thead>\n",
       "  <tbody>\n",
       "    <tr>\n",
       "      <th>0</th>\n",
       "      <td>i got the mirena in feb 2020. the insertion wa...</td>\n",
       "    </tr>\n",
       "    <tr>\n",
       "      <th>1</th>\n",
       "      <td>this is 2nd time i have had the mirena. total ...</td>\n",
       "    </tr>\n",
       "    <tr>\n",
       "      <th>2</th>\n",
       "      <td>the biggest joke known to mankind. doctor gave...</td>\n",
       "    </tr>\n",
       "    <tr>\n",
       "      <th>3</th>\n",
       "      <td>i’ve had mirena for exactly one month now and ...</td>\n",
       "    </tr>\n",
       "    <tr>\n",
       "      <th>4</th>\n",
       "      <td>i have a history of gushing, painful periods w...</td>\n",
       "    </tr>\n",
       "  </tbody>\n",
       "</table>\n",
       "</div>"
      ],
      "text/plain": [
       "                                             Reviews\n",
       "0  i got the mirena in feb 2020. the insertion wa...\n",
       "1  this is 2nd time i have had the mirena. total ...\n",
       "2  the biggest joke known to mankind. doctor gave...\n",
       "3  i’ve had mirena for exactly one month now and ...\n",
       "4  i have a history of gushing, painful periods w..."
      ]
     },
     "execution_count": 16,
     "metadata": {},
     "output_type": "execute_result"
    }
   ],
   "source": [
    "dataset[\"Reviews\"]=dataset[\"Reviews\"].str.lower()\n",
    "dataset.head()"
   ]
  },
  {
   "cell_type": "markdown",
   "metadata": {},
   "source": [
    "## removal of digits & words containing digits"
   ]
  },
  {
   "cell_type": "code",
   "execution_count": 17,
   "metadata": {},
   "outputs": [],
   "source": [
    "dataset['Reviews']=dataset['Reviews'].apply(lambda x: re.sub('\\w*\\d\\w*','', x))"
   ]
  },
  {
   "cell_type": "code",
   "execution_count": 18,
   "metadata": {
    "scrolled": true
   },
   "outputs": [
    {
     "data": {
      "text/html": [
       "<div>\n",
       "<style scoped>\n",
       "    .dataframe tbody tr th:only-of-type {\n",
       "        vertical-align: middle;\n",
       "    }\n",
       "\n",
       "    .dataframe tbody tr th {\n",
       "        vertical-align: top;\n",
       "    }\n",
       "\n",
       "    .dataframe thead th {\n",
       "        text-align: right;\n",
       "    }\n",
       "</style>\n",
       "<table border=\"1\" class=\"dataframe\">\n",
       "  <thead>\n",
       "    <tr style=\"text-align: right;\">\n",
       "      <th></th>\n",
       "      <th>Reviews</th>\n",
       "    </tr>\n",
       "  </thead>\n",
       "  <tbody>\n",
       "    <tr>\n",
       "      <th>0</th>\n",
       "      <td>i got the mirena in feb . the insertion wasn't...</td>\n",
       "    </tr>\n",
       "    <tr>\n",
       "      <th>1</th>\n",
       "      <td>this is  time i have had the mirena. total of ...</td>\n",
       "    </tr>\n",
       "    <tr>\n",
       "      <th>2</th>\n",
       "      <td>the biggest joke known to mankind. doctor gave...</td>\n",
       "    </tr>\n",
       "    <tr>\n",
       "      <th>3</th>\n",
       "      <td>i’ve had mirena for exactly one month now and ...</td>\n",
       "    </tr>\n",
       "    <tr>\n",
       "      <th>4</th>\n",
       "      <td>i have a history of gushing, painful periods w...</td>\n",
       "    </tr>\n",
       "  </tbody>\n",
       "</table>\n",
       "</div>"
      ],
      "text/plain": [
       "                                             Reviews\n",
       "0  i got the mirena in feb . the insertion wasn't...\n",
       "1  this is  time i have had the mirena. total of ...\n",
       "2  the biggest joke known to mankind. doctor gave...\n",
       "3  i’ve had mirena for exactly one month now and ...\n",
       "4  i have a history of gushing, painful periods w..."
      ]
     },
     "execution_count": 18,
     "metadata": {},
     "output_type": "execute_result"
    }
   ],
   "source": [
    "dataset.head()"
   ]
  },
  {
   "cell_type": "code",
   "execution_count": 12,
   "metadata": {},
   "outputs": [],
   "source": [
    "#dataset.to_csv('Mirena_reviews.csv')"
   ]
  },
  {
   "cell_type": "markdown",
   "metadata": {},
   "source": [
    "## conversion of contraction words"
   ]
  },
  {
   "cell_type": "code",
   "execution_count": 19,
   "metadata": {
    "scrolled": true
   },
   "outputs": [
    {
     "data": {
      "text/html": [
       "<div>\n",
       "<style scoped>\n",
       "    .dataframe tbody tr th:only-of-type {\n",
       "        vertical-align: middle;\n",
       "    }\n",
       "\n",
       "    .dataframe tbody tr th {\n",
       "        vertical-align: top;\n",
       "    }\n",
       "\n",
       "    .dataframe thead th {\n",
       "        text-align: right;\n",
       "    }\n",
       "</style>\n",
       "<table border=\"1\" class=\"dataframe\">\n",
       "  <thead>\n",
       "    <tr style=\"text-align: right;\">\n",
       "      <th></th>\n",
       "      <th>Reviews</th>\n",
       "    </tr>\n",
       "  </thead>\n",
       "  <tbody>\n",
       "    <tr>\n",
       "      <th>0</th>\n",
       "      <td>i got the mirena in feb . the insertion was no...</td>\n",
       "    </tr>\n",
       "    <tr>\n",
       "      <th>1</th>\n",
       "      <td>this is time i have had the mirena. total of y...</td>\n",
       "    </tr>\n",
       "    <tr>\n",
       "      <th>2</th>\n",
       "      <td>the biggest joke known to mankind. doctor gave...</td>\n",
       "    </tr>\n",
       "    <tr>\n",
       "      <th>3</th>\n",
       "      <td>i have had mirena for exactly one month now an...</td>\n",
       "    </tr>\n",
       "    <tr>\n",
       "      <th>4</th>\n",
       "      <td>i have a history of gushing, painful periods w...</td>\n",
       "    </tr>\n",
       "    <tr>\n",
       "      <th>...</th>\n",
       "      <td>...</td>\n",
       "    </tr>\n",
       "    <tr>\n",
       "      <th>94</th>\n",
       "      <td>i had a severe heavy bleeding no pills were he...</td>\n",
       "    </tr>\n",
       "    <tr>\n",
       "      <th>95</th>\n",
       "      <td>i got my mirena about months ago. while gettin...</td>\n",
       "    </tr>\n",
       "    <tr>\n",
       "      <th>96</th>\n",
       "      <td>i am with adult children and about to get my t...</td>\n",
       "    </tr>\n",
       "    <tr>\n",
       "      <th>97</th>\n",
       "      <td>i am am no kids and got mirena as a form of bi...</td>\n",
       "    </tr>\n",
       "    <tr>\n",
       "      <th>98</th>\n",
       "      <td>i am on my second mirena iud (changed this yea...</td>\n",
       "    </tr>\n",
       "  </tbody>\n",
       "</table>\n",
       "<p>99 rows × 1 columns</p>\n",
       "</div>"
      ],
      "text/plain": [
       "                                              Reviews\n",
       "0   i got the mirena in feb . the insertion was no...\n",
       "1   this is time i have had the mirena. total of y...\n",
       "2   the biggest joke known to mankind. doctor gave...\n",
       "3   i have had mirena for exactly one month now an...\n",
       "4   i have a history of gushing, painful periods w...\n",
       "..                                                ...\n",
       "94  i had a severe heavy bleeding no pills were he...\n",
       "95  i got my mirena about months ago. while gettin...\n",
       "96  i am with adult children and about to get my t...\n",
       "97  i am am no kids and got mirena as a form of bi...\n",
       "98  i am on my second mirena iud (changed this yea...\n",
       "\n",
       "[99 rows x 1 columns]"
      ]
     },
     "execution_count": 19,
     "metadata": {},
     "output_type": "execute_result"
    }
   ],
   "source": [
    "#contraction words which are frequently used in our dataset are - i'hv, i'll, i'm, it's, don't, didn't, doesn't, wasn't, \n",
    "#couldn't, hasn't, won't, hadn't, Couldn't,didn’t, haven't\n",
    "\n",
    "pattern = r'i[\\’\\']ve'\n",
    "replacement = 'i have'\n",
    "dataset.loc[:,\"Reviews\"] = dataset.Reviews.apply(lambda x:' '.join(re.sub(pattern,replacement,word) for word in x.split()))\n",
    "\n",
    "pattern = r'i[\\’\\']ll'\n",
    "replacement = 'i will'\n",
    "dataset.loc[:,\"Reviews\"] = dataset.Reviews.apply(lambda x:' '.join(re.sub(pattern,replacement,word) for word in x.split()))\n",
    "\n",
    "pattern = r'i[\\’\\']m'\n",
    "replacement = 'i am'\n",
    "dataset.loc[:,\"Reviews\"] = dataset.Reviews.apply(lambda x:' '.join(re.sub(pattern,replacement,word) for word in x.split()))\n",
    "\n",
    "pattern = r'won[\\’\\']t'\n",
    "replacement = 'will not'\n",
    "dataset.loc[:,\"Reviews\"] = dataset.Reviews.apply(lambda x:' '.join(re.sub(pattern,replacement,word) for word in x.split()))\n",
    "\n",
    "pattern = r'can[\\’\\']t'\n",
    "replacement = 'can not'\n",
    "dataset.loc[:,\"Reviews\"] = dataset.Reviews.apply(lambda x:' '.join(re.sub(pattern,replacement,word) for word in x.split()))\n",
    "\n",
    "pattern = r'it[\\’\\']s'\n",
    "replacement = 'it is'\n",
    "dataset.loc[:,\"Reviews\"] = dataset.Reviews.apply(lambda x:' '.join(re.sub(pattern,replacement,word) for word in x.split()))\n",
    "\n",
    "pattern = r'wasn[\\’\\']t'\n",
    "replacement = 'was not'\n",
    "dataset.loc[:,\"Reviews\"] = dataset.Reviews.apply(lambda x:' '.join(re.sub(pattern,replacement,word) for word in x.split()))\n",
    "\n",
    "pattern = r'don[\\’\\']t'\n",
    "replacement = 'do not'\n",
    "dataset.loc[:,\"Reviews\"] = dataset.Reviews.apply(lambda x:' '.join(re.sub(pattern,replacement,word) for word in x.split()))\n",
    "\n",
    "\n",
    "\n",
    "dataset.head(99)"
   ]
  },
  {
   "cell_type": "markdown",
   "metadata": {},
   "source": [
    "## Stop word removal"
   ]
  },
  {
   "cell_type": "code",
   "execution_count": 20,
   "metadata": {},
   "outputs": [
    {
     "data": {
      "text/plain": [
       "\"i, me, my, myself, we, our, ours, ourselves, you, you're, you've, you'll, you'd, your, yours, yourself, yourselves, he, him, his, himself, she, she's, her, hers, herself, it, it's, its, itself, they, them, their, theirs, themselves, what, which, who, whom, this, that, that'll, these, those, am, is, are, was, were, be, been, being, have, has, had, having, do, does, did, doing, a, an, the, and, but, if, or, because, as, until, while, of, at, by, for, with, about, against, between, into, through, during, before, after, above, below, to, from, up, down, in, out, on, off, over, under, again, further, then, once, here, there, when, where, why, how, all, any, both, each, few, more, most, other, some, such, no, nor, not, only, own, same, so, than, too, very, s, t, can, will, just, don, don't, should, should've, now, d, ll, m, o, re, ve, y, ain, aren, aren't, couldn, couldn't, didn, didn't, doesn, doesn't, hadn, hadn't, hasn, hasn't, haven, haven't, isn, isn't, ma, mightn, mightn't, mustn, mustn't, needn, needn't, shan, shan't, shouldn, shouldn't, wasn, wasn't, weren, weren't, won, won't, wouldn, wouldn't\""
      ]
     },
     "execution_count": 20,
     "metadata": {},
     "output_type": "execute_result"
    }
   ],
   "source": [
    "from nltk.corpus import stopwords\n",
    "\", \".join(stopwords.words('english'))"
   ]
  },
  {
   "cell_type": "code",
   "execution_count": 22,
   "metadata": {},
   "outputs": [
    {
     "data": {
      "text/html": [
       "<div>\n",
       "<style scoped>\n",
       "    .dataframe tbody tr th:only-of-type {\n",
       "        vertical-align: middle;\n",
       "    }\n",
       "\n",
       "    .dataframe tbody tr th {\n",
       "        vertical-align: top;\n",
       "    }\n",
       "\n",
       "    .dataframe thead th {\n",
       "        text-align: right;\n",
       "    }\n",
       "</style>\n",
       "<table border=\"1\" class=\"dataframe\">\n",
       "  <thead>\n",
       "    <tr style=\"text-align: right;\">\n",
       "      <th></th>\n",
       "      <th>Reviews</th>\n",
       "    </tr>\n",
       "  </thead>\n",
       "  <tbody>\n",
       "    <tr>\n",
       "      <th>0</th>\n",
       "      <td>got mirena feb . insertion pleasant means. lik...</td>\n",
       "    </tr>\n",
       "    <tr>\n",
       "      <th>1</th>\n",
       "      <td>time mirena. total years total. never issues s...</td>\n",
       "    </tr>\n",
       "    <tr>\n",
       "      <th>2</th>\n",
       "      <td>biggest joke known mankind. doctor gave big st...</td>\n",
       "    </tr>\n",
       "    <tr>\n",
       "      <th>3</th>\n",
       "      <td>mirena exactly one month complete nightmare. d...</td>\n",
       "    </tr>\n",
       "    <tr>\n",
       "      <th>4</th>\n",
       "      <td>history gushing, painful periods included vomi...</td>\n",
       "    </tr>\n",
       "    <tr>\n",
       "      <th>...</th>\n",
       "      <td>...</td>\n",
       "    </tr>\n",
       "    <tr>\n",
       "      <th>94</th>\n",
       "      <td>severe heavy bleeding pills helping doctor sai...</td>\n",
       "    </tr>\n",
       "    <tr>\n",
       "      <th>95</th>\n",
       "      <td>got mirena months ago. getting iud unbearable ...</td>\n",
       "    </tr>\n",
       "    <tr>\n",
       "      <th>96</th>\n",
       "      <td>adult children get third mirena iud, clearly f...</td>\n",
       "    </tr>\n",
       "    <tr>\n",
       "      <th>97</th>\n",
       "      <td>kids got mirena form birth control. fine first...</td>\n",
       "    </tr>\n",
       "    <tr>\n",
       "      <th>98</th>\n",
       "      <td>second mirena iud (changed year years). experi...</td>\n",
       "    </tr>\n",
       "  </tbody>\n",
       "</table>\n",
       "<p>99 rows × 1 columns</p>\n",
       "</div>"
      ],
      "text/plain": [
       "                                              Reviews\n",
       "0   got mirena feb . insertion pleasant means. lik...\n",
       "1   time mirena. total years total. never issues s...\n",
       "2   biggest joke known mankind. doctor gave big st...\n",
       "3   mirena exactly one month complete nightmare. d...\n",
       "4   history gushing, painful periods included vomi...\n",
       "..                                                ...\n",
       "94  severe heavy bleeding pills helping doctor sai...\n",
       "95  got mirena months ago. getting iud unbearable ...\n",
       "96  adult children get third mirena iud, clearly f...\n",
       "97  kids got mirena form birth control. fine first...\n",
       "98  second mirena iud (changed year years). experi...\n",
       "\n",
       "[99 rows x 1 columns]"
      ]
     },
     "execution_count": 22,
     "metadata": {},
     "output_type": "execute_result"
    }
   ],
   "source": [
    "STOPWORDS = set(stopwords.words('english'))\n",
    "def remove_stopwords(text):\n",
    "    return \" \".join([word for word in str(text).split() if word not in STOPWORDS])\n",
    "\n",
    "dataset[\"Reviews\"] = dataset[\"Reviews\"].apply(lambda text: remove_stopwords(text))\n",
    "dataset.head(99)"
   ]
  },
  {
   "cell_type": "markdown",
   "metadata": {},
   "source": [
    "## removal of special characters"
   ]
  },
  {
   "cell_type": "code",
   "execution_count": 23,
   "metadata": {
    "colab": {
     "base_uri": "https://localhost:8080/",
     "height": 404
    },
    "executionInfo": {
     "elapsed": 2939,
     "status": "ok",
     "timestamp": 1614687414692,
     "user": {
      "displayName": "chaitali joshi",
      "photoUrl": "https://lh3.googleusercontent.com/a-/AOh14GjPKMtsyfnvMh3uz_yajU5q4iCjKFXOCoXEAgX6-HA=s64",
      "userId": "15556029333470667203"
     },
     "user_tz": -330
    },
    "id": "RqREnu8PymWS",
    "outputId": "626909b7-4718-4052-f503-23c5ee41fd00"
   },
   "outputs": [
    {
     "data": {
      "text/html": [
       "<div>\n",
       "<style scoped>\n",
       "    .dataframe tbody tr th:only-of-type {\n",
       "        vertical-align: middle;\n",
       "    }\n",
       "\n",
       "    .dataframe tbody tr th {\n",
       "        vertical-align: top;\n",
       "    }\n",
       "\n",
       "    .dataframe thead th {\n",
       "        text-align: right;\n",
       "    }\n",
       "</style>\n",
       "<table border=\"1\" class=\"dataframe\">\n",
       "  <thead>\n",
       "    <tr style=\"text-align: right;\">\n",
       "      <th></th>\n",
       "      <th>Reviews</th>\n",
       "    </tr>\n",
       "  </thead>\n",
       "  <tbody>\n",
       "    <tr>\n",
       "      <th>0</th>\n",
       "      <td>got mirena feb  insertion pleasant means like ...</td>\n",
       "    </tr>\n",
       "    <tr>\n",
       "      <th>1</th>\n",
       "      <td>time mirena total years total never issues sur...</td>\n",
       "    </tr>\n",
       "    <tr>\n",
       "      <th>2</th>\n",
       "      <td>biggest joke known mankind doctor gave big sto...</td>\n",
       "    </tr>\n",
       "    <tr>\n",
       "      <th>3</th>\n",
       "      <td>mirena exactly one month complete nightmare do...</td>\n",
       "    </tr>\n",
       "    <tr>\n",
       "      <th>4</th>\n",
       "      <td>history gushing painful periods included vomit...</td>\n",
       "    </tr>\n",
       "    <tr>\n",
       "      <th>...</th>\n",
       "      <td>...</td>\n",
       "    </tr>\n",
       "    <tr>\n",
       "      <th>113</th>\n",
       "      <td>twice years first one half years second little...</td>\n",
       "    </tr>\n",
       "    <tr>\n",
       "      <th>114</th>\n",
       "      <td>woah big difference one day taking out got rig...</td>\n",
       "    </tr>\n",
       "    <tr>\n",
       "      <th>115</th>\n",
       "      <td>reason girlfriend use mirena device even liste...</td>\n",
       "    </tr>\n",
       "    <tr>\n",
       "      <th>116</th>\n",
       "      <td>mirena little years worst decision ever madeal...</td>\n",
       "    </tr>\n",
       "    <tr>\n",
       "      <th>117</th>\n",
       "      <td>recommend worst experience life put march remo...</td>\n",
       "    </tr>\n",
       "  </tbody>\n",
       "</table>\n",
       "<p>118 rows × 1 columns</p>\n",
       "</div>"
      ],
      "text/plain": [
       "                                               Reviews\n",
       "0    got mirena feb  insertion pleasant means like ...\n",
       "1    time mirena total years total never issues sur...\n",
       "2    biggest joke known mankind doctor gave big sto...\n",
       "3    mirena exactly one month complete nightmare do...\n",
       "4    history gushing painful periods included vomit...\n",
       "..                                                 ...\n",
       "113  twice years first one half years second little...\n",
       "114  woah big difference one day taking out got rig...\n",
       "115  reason girlfriend use mirena device even liste...\n",
       "116  mirena little years worst decision ever madeal...\n",
       "117  recommend worst experience life put march remo...\n",
       "\n",
       "[118 rows x 1 columns]"
      ]
     },
     "execution_count": 23,
     "metadata": {},
     "output_type": "execute_result"
    }
   ],
   "source": [
    "#the string.punctuation in python contains the following punctuation symbols\n",
    "#     !\"#$%&\\'()*+,-./:;<=>?@[\\\\]^_{|}~`\n",
    "\n",
    "\n",
    "#import spacy\n",
    "import string\n",
    "dataset[\"Reviews\"] = dataset[\"Reviews\"].astype(str)\n",
    "PUNCT_TO_REMOVE = string.punctuation\n",
    "def remove_punctuation(Reviews):\n",
    "    return Reviews.translate(str.maketrans('', '', PUNCT_TO_REMOVE))\n",
    "\n",
    "dataset[\"Reviews\"]= dataset[\"Reviews\"].apply(lambda Reviews: remove_punctuation(Reviews))\n",
    "dataset.head(118)\n"
   ]
  },
  {
   "cell_type": "code",
   "execution_count": 16,
   "metadata": {
    "executionInfo": {
     "elapsed": 1275,
     "status": "ok",
     "timestamp": 1614687420370,
     "user": {
      "displayName": "chaitali joshi",
      "photoUrl": "https://lh3.googleusercontent.com/a-/AOh14GjPKMtsyfnvMh3uz_yajU5q4iCjKFXOCoXEAgX6-HA=s64",
      "userId": "15556029333470667203"
     },
     "user_tz": -330
    },
    "id": "L9hSSmmlyqE4"
   },
   "outputs": [],
   "source": [
    "#dataset.to_csv('Mirena_reviews.csv')"
   ]
  },
  {
   "cell_type": "code",
   "execution_count": 24,
   "metadata": {
    "scrolled": true
   },
   "outputs": [
    {
     "data": {
      "text/html": [
       "<div>\n",
       "<style scoped>\n",
       "    .dataframe tbody tr th:only-of-type {\n",
       "        vertical-align: middle;\n",
       "    }\n",
       "\n",
       "    .dataframe tbody tr th {\n",
       "        vertical-align: top;\n",
       "    }\n",
       "\n",
       "    .dataframe thead th {\n",
       "        text-align: right;\n",
       "    }\n",
       "</style>\n",
       "<table border=\"1\" class=\"dataframe\">\n",
       "  <thead>\n",
       "    <tr style=\"text-align: right;\">\n",
       "      <th></th>\n",
       "      <th>Reviews</th>\n",
       "    </tr>\n",
       "  </thead>\n",
       "  <tbody>\n",
       "    <tr>\n",
       "      <th>0</th>\n",
       "      <td>got mirena feb  insertion pleasant means like ...</td>\n",
       "    </tr>\n",
       "    <tr>\n",
       "      <th>1</th>\n",
       "      <td>time mirena total years total never issues sur...</td>\n",
       "    </tr>\n",
       "    <tr>\n",
       "      <th>2</th>\n",
       "      <td>biggest joke known mankind doctor gave big sto...</td>\n",
       "    </tr>\n",
       "    <tr>\n",
       "      <th>3</th>\n",
       "      <td>mirena exactly one month complete nightmare do...</td>\n",
       "    </tr>\n",
       "    <tr>\n",
       "      <th>4</th>\n",
       "      <td>history gushing painful periods included vomit...</td>\n",
       "    </tr>\n",
       "  </tbody>\n",
       "</table>\n",
       "</div>"
      ],
      "text/plain": [
       "                                             Reviews\n",
       "0  got mirena feb  insertion pleasant means like ...\n",
       "1  time mirena total years total never issues sur...\n",
       "2  biggest joke known mankind doctor gave big sto...\n",
       "3  mirena exactly one month complete nightmare do...\n",
       "4  history gushing painful periods included vomit..."
      ]
     },
     "execution_count": 24,
     "metadata": {},
     "output_type": "execute_result"
    }
   ],
   "source": [
    "#removing white spaces\n",
    "\n",
    "dataset[\"Reviews\"] = dataset[\"Reviews\"].str.strip('Reviews')\n",
    "dataset.head()"
   ]
  },
  {
   "cell_type": "code",
   "execution_count": 25,
   "metadata": {
    "executionInfo": {
     "elapsed": 1820,
     "status": "aborted",
     "timestamp": 1614687346330,
     "user": {
      "displayName": "chaitali joshi",
      "photoUrl": "https://lh3.googleusercontent.com/a-/AOh14GjPKMtsyfnvMh3uz_yajU5q4iCjKFXOCoXEAgX6-HA=s64",
      "userId": "15556029333470667203"
     },
     "user_tz": -330
    },
    "id": "e9vmXqwByPKE"
   },
   "outputs": [
    {
     "data": {
      "text/plain": [
       "[('mirena', 1400),\n",
       " ('pain', 698),\n",
       " ('period', 611),\n",
       " ('months', 607),\n",
       " ('insertion', 535),\n",
       " ('get', 528),\n",
       " ('would', 509),\n",
       " ('years', 509),\n",
       " ('got', 484),\n",
       " ('like', 467)]"
      ]
     },
     "execution_count": 25,
     "metadata": {},
     "output_type": "execute_result"
    }
   ],
   "source": [
    "#frequently used words\n",
    "\n",
    "from collections import Counter\n",
    "cnt = Counter()\n",
    "for text in dataset[\"Reviews\"].values:\n",
    "    for word in text.split():\n",
    "        cnt[word] += 1\n",
    "        \n",
    "cnt.most_common(10)"
   ]
  },
  {
   "cell_type": "code",
   "execution_count": 26,
   "metadata": {},
   "outputs": [
    {
     "name": "stdout",
     "output_type": "stream",
     "text": [
      "{'tall', 'upped', 'painl', 'blur', 'episodes', 'rails', 'truthfully', 'psychiatrist', 'glow', 'medicated'}\n"
     ]
    }
   ],
   "source": [
    "#rarely used words\n",
    "\n",
    "n_rare_words = 10\n",
    "RAREWORDS = set([w for (w, wc) in cnt.most_common()[:-n_rare_words-1:-1]])\n",
    "print(RAREWORDS)"
   ]
  },
  {
   "cell_type": "markdown",
   "metadata": {},
   "source": [
    "## stemming & lemmatization"
   ]
  },
  {
   "cell_type": "code",
   "execution_count": 29,
   "metadata": {},
   "outputs": [
    {
     "name": "stderr",
     "output_type": "stream",
     "text": [
      "[nltk_data] Downloading package wordnet to\n",
      "[nltk_data]     C:\\Users\\HP\\AppData\\Roaming\\nltk_data...\n",
      "[nltk_data]   Package wordnet is already up-to-date!\n"
     ]
    }
   ],
   "source": [
    "import nltk\n",
    "keywords = nltk.download('wordnet')\n",
    "\n",
    "stemmer = SnowballStemmer('english')"
   ]
  },
  {
   "cell_type": "code",
   "execution_count": 30,
   "metadata": {},
   "outputs": [],
   "source": [
    "def lemmatize_stemming(text):\n",
    "    return stemmer.stem(WordNetLemmatizer().lemmatize(text, pos='v'))\n",
    "\n",
    "def preprocess(text):\n",
    "    result = []\n",
    "    for token in gensim.utils.simple_preprocess(text):\n",
    "        if token not in gensim.parsing.preprocessing.STOPWORDS and len(token) > 3:\n",
    "            result.append(lemmatize_stemming(token))\n",
    "    return result"
   ]
  },
  {
   "cell_type": "code",
   "execution_count": 31,
   "metadata": {},
   "outputs": [],
   "source": [
    "processed_docs = dataset['Reviews'].map(preprocess)"
   ]
  },
  {
   "cell_type": "markdown",
   "metadata": {},
   "source": [
    "### tokenization"
   ]
  },
  {
   "cell_type": "code",
   "execution_count": 32,
   "metadata": {},
   "outputs": [
    {
     "data": {
      "text/plain": [
       "0    [mirena, insert, pleasant, mean, like, instant...\n",
       "1    [time, mirena, total, year, total, issu, surf,...\n",
       "2    [biggest, joke, know, mankind, doctor, give, s...\n",
       "3    [mirena, exact, month, complet, nightmar, doct...\n",
       "4    [histori, gush, pain, period, includ, vomit, l...\n",
       "5    [mirena, insert, decemb, gyna, recommend, help...\n",
       "6    [birth, control, devic, ruin, life, total, mon...\n",
       "7    [mirena, month, stand, anymor, constant, cramp...\n",
       "8    [facial, hair, huge, acn, pimpl, destroy, sugg...\n",
       "9    [recommend, mirena, eas, endometriosi, pain, b...\n",
       "Name: Reviews, dtype: object"
      ]
     },
     "execution_count": 32,
     "metadata": {},
     "output_type": "execute_result"
    }
   ],
   "source": [
    "processed_docs[:10]"
   ]
  },
  {
   "cell_type": "code",
   "execution_count": null,
   "metadata": {},
   "outputs": [],
   "source": []
  }
 ],
 "metadata": {
  "colab": {
   "authorship_tag": "ABX9TyNX7xNSMX8+EfKdKdoQfdI+",
   "collapsed_sections": [],
   "name": "Preprocessing_2.ipynb",
   "provenance": []
  },
  "kernelspec": {
   "display_name": "Python 3",
   "language": "python",
   "name": "python3"
  },
  "language_info": {
   "codemirror_mode": {
    "name": "ipython",
    "version": 3
   },
   "file_extension": ".py",
   "mimetype": "text/x-python",
   "name": "python",
   "nbconvert_exporter": "python",
   "pygments_lexer": "ipython3",
   "version": "3.8.5"
  }
 },
 "nbformat": 4,
 "nbformat_minor": 1
}
